{
 "cells": [
  {
   "cell_type": "markdown",
   "id": "8dfb8390-91ed-4ff3-b660-03e3ad25f820",
   "metadata": {},
   "source": [
    "## Task statement\n",
    "Prepare a prototype of a machine learning model for Zyfra. The company develops efficiency solutions for heavy industry.\n",
    "\n",
    "The model should predict the amount of gold recovered from gold ore. You have the data on extraction and purification.\n",
    "\n",
    "The model will help to optimize the production and eliminate unprofitable parameters.\n",
    "\n",
    "You need to:\n",
    "\n",
    "* Prepare the data\n",
    "* Perform data analysis\n",
    "* Develop and train a model"
   ]
  },
  {
   "cell_type": "code",
   "execution_count": 1,
   "id": "3582c53f-a0ae-43f4-b868-8ab06fc3dc20",
   "metadata": {},
   "outputs": [],
   "source": [
    "import pandas as pd\n",
    "import numpy as np\n",
    "from sklearn.linear_model import LinearRegression\n",
    "import matplotlib.pyplot as plt\n",
    "from sklearn.preprocessing import StandardScaler\n",
    "from sklearn.model_selection import train_test_split, cross_val_score\n",
    "from sklearn.metrics import make_scorer, mean_absolute_error\n",
    "import seaborn as sns\n",
    "from sklearn.ensemble import RandomForestRegressor\n",
    "from sklearn.linear_model import LogisticRegression\n",
    "from scipy.stats import anderson_ksamp\n",
    "from sklearn.tree import DecisionTreeRegressor"
   ]
  },
  {
   "cell_type": "markdown",
   "id": "1d87e386-c7e4-4c90-9b0d-4c3c9c0ecf10",
   "metadata": {},
   "source": [
    "## Data description\n",
    "## Technological process\n",
    "\n",
    "* Rougher feed — raw material\n",
    "* Rougher additions (or reagent additions) — flotation reagents: Xanthate, Sulphate, Depressant\n",
    "* Xanthate — promoter or flotation activator;\n",
    "* Sulphate — sodium sulphide for this particular process;\n",
    "* Depressant — sodium silicate.\n",
    "* Rougher process — flotation\n",
    "* Rougher tails — product residues\n",
    "* Float banks — flotation unit\n",
    "* Cleaner process — purification\n",
    "* Rougher Au — rougher gold concentrate\n",
    "* Final Au — final gold concentrate\n",
    "\n",
    "## Parameters of stages\n",
    "\n",
    "* air amount — volume of air\n",
    "* fluid levels\n",
    "* feed size — feed particle size\n",
    "* feed rate"
   ]
  },
  {
   "cell_type": "code",
   "execution_count": 2,
   "id": "3a16d46d-3f7b-422f-b3c9-b24beaed1f93",
   "metadata": {},
   "outputs": [],
   "source": [
    "try:\n",
    "    full = pd.read_csv('/datasets/gold_recovery_full.csv')\n",
    "\n",
    "except FileNotFoundError:\n",
    "    full = pd.read_csv('/datasets/gold_recovery_full.csv')\n",
    "\n",
    "try:\n",
    "    test = pd.read_csv('/datasets/gold_recovery_test.csv')\n",
    "\n",
    "except FileNotFoundError:\n",
    "    test = pd.read_csv('/datasets/gold_recovery_test.csv')\n",
    "\n",
    "try:\n",
    "    train = pd.read_csv('/datasets/gold_recovery_train.csv')\n",
    "\n",
    "except FileNotFoundError:\n",
    "    train = pd.read_csv('/datasets/gold_recovery_train.csv')"
   ]
  },
  {
   "cell_type": "code",
   "execution_count": 3,
   "id": "e1b39b86-75a8-45c7-b57c-c98f3bb3bd05",
   "metadata": {},
   "outputs": [
    {
     "name": "stdout",
     "output_type": "stream",
     "text": [
      "<class 'pandas.core.frame.DataFrame'>\n",
      "RangeIndex: 22716 entries, 0 to 22715\n",
      "Data columns (total 87 columns):\n",
      " #   Column                                              Non-Null Count  Dtype         \n",
      "---  ------                                              --------------  -----         \n",
      " 0   date                                                22716 non-null  datetime64[ns]\n",
      " 1   final.output.concentrate_ag                         22627 non-null  float64       \n",
      " 2   final.output.concentrate_pb                         22629 non-null  float64       \n",
      " 3   final.output.concentrate_sol                        22331 non-null  float64       \n",
      " 4   final.output.concentrate_au                         22630 non-null  float64       \n",
      " 5   final.output.recovery                               20753 non-null  float64       \n",
      " 6   final.output.tail_ag                                22633 non-null  float64       \n",
      " 7   final.output.tail_pb                                22516 non-null  float64       \n",
      " 8   final.output.tail_sol                               22445 non-null  float64       \n",
      " 9   final.output.tail_au                                22635 non-null  float64       \n",
      " 10  primary_cleaner.input.sulfate                       21107 non-null  float64       \n",
      " 11  primary_cleaner.input.depressant                    21170 non-null  float64       \n",
      " 12  primary_cleaner.input.feed_size                     22716 non-null  float64       \n",
      " 13  primary_cleaner.input.xanthate                      21565 non-null  float64       \n",
      " 14  primary_cleaner.output.concentrate_ag               22618 non-null  float64       \n",
      " 15  primary_cleaner.output.concentrate_pb               22268 non-null  float64       \n",
      " 16  primary_cleaner.output.concentrate_sol              21918 non-null  float64       \n",
      " 17  primary_cleaner.output.concentrate_au               22618 non-null  float64       \n",
      " 18  primary_cleaner.output.tail_ag                      22614 non-null  float64       \n",
      " 19  primary_cleaner.output.tail_pb                      22594 non-null  float64       \n",
      " 20  primary_cleaner.output.tail_sol                     22365 non-null  float64       \n",
      " 21  primary_cleaner.output.tail_au                      22617 non-null  float64       \n",
      " 22  primary_cleaner.state.floatbank8_a_air              22660 non-null  float64       \n",
      " 23  primary_cleaner.state.floatbank8_a_level            22667 non-null  float64       \n",
      " 24  primary_cleaner.state.floatbank8_b_air              22660 non-null  float64       \n",
      " 25  primary_cleaner.state.floatbank8_b_level            22673 non-null  float64       \n",
      " 26  primary_cleaner.state.floatbank8_c_air              22662 non-null  float64       \n",
      " 27  primary_cleaner.state.floatbank8_c_level            22673 non-null  float64       \n",
      " 28  primary_cleaner.state.floatbank8_d_air              22661 non-null  float64       \n",
      " 29  primary_cleaner.state.floatbank8_d_level            22673 non-null  float64       \n",
      " 30  rougher.calculation.sulfate_to_au_concentrate       22672 non-null  float64       \n",
      " 31  rougher.calculation.floatbank10_sulfate_to_au_feed  22672 non-null  float64       \n",
      " 32  rougher.calculation.floatbank11_sulfate_to_au_feed  22672 non-null  float64       \n",
      " 33  rougher.calculation.au_pb_ratio                     21089 non-null  float64       \n",
      " 34  rougher.input.feed_ag                               22618 non-null  float64       \n",
      " 35  rougher.input.feed_pb                               22472 non-null  float64       \n",
      " 36  rougher.input.feed_rate                             22163 non-null  float64       \n",
      " 37  rougher.input.feed_size                             22277 non-null  float64       \n",
      " 38  rougher.input.feed_sol                              22357 non-null  float64       \n",
      " 39  rougher.input.feed_au                               22617 non-null  float64       \n",
      " 40  rougher.input.floatbank10_sulfate                   21415 non-null  float64       \n",
      " 41  rougher.input.floatbank10_xanthate                  22247 non-null  float64       \n",
      " 42  rougher.input.floatbank11_sulfate                   22038 non-null  float64       \n",
      " 43  rougher.input.floatbank11_xanthate                  20459 non-null  float64       \n",
      " 44  rougher.output.concentrate_ag                       22618 non-null  float64       \n",
      " 45  rougher.output.concentrate_pb                       22618 non-null  float64       \n",
      " 46  rougher.output.concentrate_sol                      22526 non-null  float64       \n",
      " 47  rougher.output.concentrate_au                       22618 non-null  float64       \n",
      " 48  rougher.output.recovery                             19597 non-null  float64       \n",
      " 49  rougher.output.tail_ag                              19979 non-null  float64       \n",
      " 50  rougher.output.tail_pb                              22618 non-null  float64       \n",
      " 51  rougher.output.tail_sol                             19980 non-null  float64       \n",
      " 52  rougher.output.tail_au                              19980 non-null  float64       \n",
      " 53  rougher.state.floatbank10_a_air                     22646 non-null  float64       \n",
      " 54  rougher.state.floatbank10_a_level                   22647 non-null  float64       \n",
      " 55  rougher.state.floatbank10_b_air                     22646 non-null  float64       \n",
      " 56  rougher.state.floatbank10_b_level                   22647 non-null  float64       \n",
      " 57  rougher.state.floatbank10_c_air                     22646 non-null  float64       \n",
      " 58  rougher.state.floatbank10_c_level                   22654 non-null  float64       \n",
      " 59  rougher.state.floatbank10_d_air                     22641 non-null  float64       \n",
      " 60  rougher.state.floatbank10_d_level                   22649 non-null  float64       \n",
      " 61  rougher.state.floatbank10_e_air                     22096 non-null  float64       \n",
      " 62  rougher.state.floatbank10_e_level                   22649 non-null  float64       \n",
      " 63  rougher.state.floatbank10_f_air                     22641 non-null  float64       \n",
      " 64  rougher.state.floatbank10_f_level                   22642 non-null  float64       \n",
      " 65  secondary_cleaner.output.tail_ag                    22616 non-null  float64       \n",
      " 66  secondary_cleaner.output.tail_pb                    22600 non-null  float64       \n",
      " 67  secondary_cleaner.output.tail_sol                   20501 non-null  float64       \n",
      " 68  secondary_cleaner.output.tail_au                    22618 non-null  float64       \n",
      " 69  secondary_cleaner.state.floatbank2_a_air            22333 non-null  float64       \n",
      " 70  secondary_cleaner.state.floatbank2_a_level          22591 non-null  float64       \n",
      " 71  secondary_cleaner.state.floatbank2_b_air            22538 non-null  float64       \n",
      " 72  secondary_cleaner.state.floatbank2_b_level          22588 non-null  float64       \n",
      " 73  secondary_cleaner.state.floatbank3_a_air            22585 non-null  float64       \n",
      " 74  secondary_cleaner.state.floatbank3_a_level          22587 non-null  float64       \n",
      " 75  secondary_cleaner.state.floatbank3_b_air            22592 non-null  float64       \n",
      " 76  secondary_cleaner.state.floatbank3_b_level          22590 non-null  float64       \n",
      " 77  secondary_cleaner.state.floatbank4_a_air            22571 non-null  float64       \n",
      " 78  secondary_cleaner.state.floatbank4_a_level          22587 non-null  float64       \n",
      " 79  secondary_cleaner.state.floatbank4_b_air            22608 non-null  float64       \n",
      " 80  secondary_cleaner.state.floatbank4_b_level          22607 non-null  float64       \n",
      " 81  secondary_cleaner.state.floatbank5_a_air            22615 non-null  float64       \n",
      " 82  secondary_cleaner.state.floatbank5_a_level          22615 non-null  float64       \n",
      " 83  secondary_cleaner.state.floatbank5_b_air            22615 non-null  float64       \n",
      " 84  secondary_cleaner.state.floatbank5_b_level          22616 non-null  float64       \n",
      " 85  secondary_cleaner.state.floatbank6_a_air            22597 non-null  float64       \n",
      " 86  secondary_cleaner.state.floatbank6_a_level          22615 non-null  float64       \n",
      "dtypes: datetime64[ns](1), float64(86)\n",
      "memory usage: 15.1 MB\n"
     ]
    }
   ],
   "source": [
    "full['date'] = pd.to_datetime(full['date'])\n",
    "full.info()"
   ]
  },
  {
   "cell_type": "code",
   "execution_count": 4,
   "id": "c857dbcb-1000-48c3-bc39-a480016e4607",
   "metadata": {},
   "outputs": [
    {
     "name": "stdout",
     "output_type": "stream",
     "text": [
      "<class 'pandas.core.frame.DataFrame'>\n",
      "RangeIndex: 5856 entries, 0 to 5855\n",
      "Data columns (total 53 columns):\n",
      " #   Column                                      Non-Null Count  Dtype  \n",
      "---  ------                                      --------------  -----  \n",
      " 0   date                                        5856 non-null   object \n",
      " 1   primary_cleaner.input.sulfate               5554 non-null   float64\n",
      " 2   primary_cleaner.input.depressant            5572 non-null   float64\n",
      " 3   primary_cleaner.input.feed_size             5856 non-null   float64\n",
      " 4   primary_cleaner.input.xanthate              5690 non-null   float64\n",
      " 5   primary_cleaner.state.floatbank8_a_air      5840 non-null   float64\n",
      " 6   primary_cleaner.state.floatbank8_a_level    5840 non-null   float64\n",
      " 7   primary_cleaner.state.floatbank8_b_air      5840 non-null   float64\n",
      " 8   primary_cleaner.state.floatbank8_b_level    5840 non-null   float64\n",
      " 9   primary_cleaner.state.floatbank8_c_air      5840 non-null   float64\n",
      " 10  primary_cleaner.state.floatbank8_c_level    5840 non-null   float64\n",
      " 11  primary_cleaner.state.floatbank8_d_air      5840 non-null   float64\n",
      " 12  primary_cleaner.state.floatbank8_d_level    5840 non-null   float64\n",
      " 13  rougher.input.feed_ag                       5840 non-null   float64\n",
      " 14  rougher.input.feed_pb                       5840 non-null   float64\n",
      " 15  rougher.input.feed_rate                     5816 non-null   float64\n",
      " 16  rougher.input.feed_size                     5834 non-null   float64\n",
      " 17  rougher.input.feed_sol                      5789 non-null   float64\n",
      " 18  rougher.input.feed_au                       5840 non-null   float64\n",
      " 19  rougher.input.floatbank10_sulfate           5599 non-null   float64\n",
      " 20  rougher.input.floatbank10_xanthate          5733 non-null   float64\n",
      " 21  rougher.input.floatbank11_sulfate           5801 non-null   float64\n",
      " 22  rougher.input.floatbank11_xanthate          5503 non-null   float64\n",
      " 23  rougher.state.floatbank10_a_air             5839 non-null   float64\n",
      " 24  rougher.state.floatbank10_a_level           5840 non-null   float64\n",
      " 25  rougher.state.floatbank10_b_air             5839 non-null   float64\n",
      " 26  rougher.state.floatbank10_b_level           5840 non-null   float64\n",
      " 27  rougher.state.floatbank10_c_air             5839 non-null   float64\n",
      " 28  rougher.state.floatbank10_c_level           5840 non-null   float64\n",
      " 29  rougher.state.floatbank10_d_air             5839 non-null   float64\n",
      " 30  rougher.state.floatbank10_d_level           5840 non-null   float64\n",
      " 31  rougher.state.floatbank10_e_air             5839 non-null   float64\n",
      " 32  rougher.state.floatbank10_e_level           5840 non-null   float64\n",
      " 33  rougher.state.floatbank10_f_air             5839 non-null   float64\n",
      " 34  rougher.state.floatbank10_f_level           5840 non-null   float64\n",
      " 35  secondary_cleaner.state.floatbank2_a_air    5836 non-null   float64\n",
      " 36  secondary_cleaner.state.floatbank2_a_level  5840 non-null   float64\n",
      " 37  secondary_cleaner.state.floatbank2_b_air    5833 non-null   float64\n",
      " 38  secondary_cleaner.state.floatbank2_b_level  5840 non-null   float64\n",
      " 39  secondary_cleaner.state.floatbank3_a_air    5822 non-null   float64\n",
      " 40  secondary_cleaner.state.floatbank3_a_level  5840 non-null   float64\n",
      " 41  secondary_cleaner.state.floatbank3_b_air    5840 non-null   float64\n",
      " 42  secondary_cleaner.state.floatbank3_b_level  5840 non-null   float64\n",
      " 43  secondary_cleaner.state.floatbank4_a_air    5840 non-null   float64\n",
      " 44  secondary_cleaner.state.floatbank4_a_level  5840 non-null   float64\n",
      " 45  secondary_cleaner.state.floatbank4_b_air    5840 non-null   float64\n",
      " 46  secondary_cleaner.state.floatbank4_b_level  5840 non-null   float64\n",
      " 47  secondary_cleaner.state.floatbank5_a_air    5840 non-null   float64\n",
      " 48  secondary_cleaner.state.floatbank5_a_level  5840 non-null   float64\n",
      " 49  secondary_cleaner.state.floatbank5_b_air    5840 non-null   float64\n",
      " 50  secondary_cleaner.state.floatbank5_b_level  5840 non-null   float64\n",
      " 51  secondary_cleaner.state.floatbank6_a_air    5840 non-null   float64\n",
      " 52  secondary_cleaner.state.floatbank6_a_level  5840 non-null   float64\n",
      "dtypes: float64(52), object(1)\n",
      "memory usage: 2.4+ MB\n"
     ]
    }
   ],
   "source": [
    "test.info()"
   ]
  },
  {
   "cell_type": "code",
   "execution_count": 5,
   "id": "e73da30d-901e-49f1-b595-e1327928cd6a",
   "metadata": {},
   "outputs": [
    {
     "name": "stdout",
     "output_type": "stream",
     "text": [
      "<class 'pandas.core.frame.DataFrame'>\n",
      "RangeIndex: 16860 entries, 0 to 16859\n",
      "Data columns (total 87 columns):\n",
      " #   Column                                              Non-Null Count  Dtype  \n",
      "---  ------                                              --------------  -----  \n",
      " 0   date                                                16860 non-null  object \n",
      " 1   final.output.concentrate_ag                         16788 non-null  float64\n",
      " 2   final.output.concentrate_pb                         16788 non-null  float64\n",
      " 3   final.output.concentrate_sol                        16490 non-null  float64\n",
      " 4   final.output.concentrate_au                         16789 non-null  float64\n",
      " 5   final.output.recovery                               15339 non-null  float64\n",
      " 6   final.output.tail_ag                                16794 non-null  float64\n",
      " 7   final.output.tail_pb                                16677 non-null  float64\n",
      " 8   final.output.tail_sol                               16715 non-null  float64\n",
      " 9   final.output.tail_au                                16794 non-null  float64\n",
      " 10  primary_cleaner.input.sulfate                       15553 non-null  float64\n",
      " 11  primary_cleaner.input.depressant                    15598 non-null  float64\n",
      " 12  primary_cleaner.input.feed_size                     16860 non-null  float64\n",
      " 13  primary_cleaner.input.xanthate                      15875 non-null  float64\n",
      " 14  primary_cleaner.output.concentrate_ag               16778 non-null  float64\n",
      " 15  primary_cleaner.output.concentrate_pb               16502 non-null  float64\n",
      " 16  primary_cleaner.output.concentrate_sol              16224 non-null  float64\n",
      " 17  primary_cleaner.output.concentrate_au               16778 non-null  float64\n",
      " 18  primary_cleaner.output.tail_ag                      16777 non-null  float64\n",
      " 19  primary_cleaner.output.tail_pb                      16761 non-null  float64\n",
      " 20  primary_cleaner.output.tail_sol                     16579 non-null  float64\n",
      " 21  primary_cleaner.output.tail_au                      16777 non-null  float64\n",
      " 22  primary_cleaner.state.floatbank8_a_air              16820 non-null  float64\n",
      " 23  primary_cleaner.state.floatbank8_a_level            16827 non-null  float64\n",
      " 24  primary_cleaner.state.floatbank8_b_air              16820 non-null  float64\n",
      " 25  primary_cleaner.state.floatbank8_b_level            16833 non-null  float64\n",
      " 26  primary_cleaner.state.floatbank8_c_air              16822 non-null  float64\n",
      " 27  primary_cleaner.state.floatbank8_c_level            16833 non-null  float64\n",
      " 28  primary_cleaner.state.floatbank8_d_air              16821 non-null  float64\n",
      " 29  primary_cleaner.state.floatbank8_d_level            16833 non-null  float64\n",
      " 30  rougher.calculation.sulfate_to_au_concentrate       16833 non-null  float64\n",
      " 31  rougher.calculation.floatbank10_sulfate_to_au_feed  16833 non-null  float64\n",
      " 32  rougher.calculation.floatbank11_sulfate_to_au_feed  16833 non-null  float64\n",
      " 33  rougher.calculation.au_pb_ratio                     15618 non-null  float64\n",
      " 34  rougher.input.feed_ag                               16778 non-null  float64\n",
      " 35  rougher.input.feed_pb                               16632 non-null  float64\n",
      " 36  rougher.input.feed_rate                             16347 non-null  float64\n",
      " 37  rougher.input.feed_size                             16443 non-null  float64\n",
      " 38  rougher.input.feed_sol                              16568 non-null  float64\n",
      " 39  rougher.input.feed_au                               16777 non-null  float64\n",
      " 40  rougher.input.floatbank10_sulfate                   15816 non-null  float64\n",
      " 41  rougher.input.floatbank10_xanthate                  16514 non-null  float64\n",
      " 42  rougher.input.floatbank11_sulfate                   16237 non-null  float64\n",
      " 43  rougher.input.floatbank11_xanthate                  14956 non-null  float64\n",
      " 44  rougher.output.concentrate_ag                       16778 non-null  float64\n",
      " 45  rougher.output.concentrate_pb                       16778 non-null  float64\n",
      " 46  rougher.output.concentrate_sol                      16698 non-null  float64\n",
      " 47  rougher.output.concentrate_au                       16778 non-null  float64\n",
      " 48  rougher.output.recovery                             14287 non-null  float64\n",
      " 49  rougher.output.tail_ag                              14610 non-null  float64\n",
      " 50  rougher.output.tail_pb                              16778 non-null  float64\n",
      " 51  rougher.output.tail_sol                             14611 non-null  float64\n",
      " 52  rougher.output.tail_au                              14611 non-null  float64\n",
      " 53  rougher.state.floatbank10_a_air                     16807 non-null  float64\n",
      " 54  rougher.state.floatbank10_a_level                   16807 non-null  float64\n",
      " 55  rougher.state.floatbank10_b_air                     16807 non-null  float64\n",
      " 56  rougher.state.floatbank10_b_level                   16807 non-null  float64\n",
      " 57  rougher.state.floatbank10_c_air                     16807 non-null  float64\n",
      " 58  rougher.state.floatbank10_c_level                   16814 non-null  float64\n",
      " 59  rougher.state.floatbank10_d_air                     16802 non-null  float64\n",
      " 60  rougher.state.floatbank10_d_level                   16809 non-null  float64\n",
      " 61  rougher.state.floatbank10_e_air                     16257 non-null  float64\n",
      " 62  rougher.state.floatbank10_e_level                   16809 non-null  float64\n",
      " 63  rougher.state.floatbank10_f_air                     16802 non-null  float64\n",
      " 64  rougher.state.floatbank10_f_level                   16802 non-null  float64\n",
      " 65  secondary_cleaner.output.tail_ag                    16776 non-null  float64\n",
      " 66  secondary_cleaner.output.tail_pb                    16764 non-null  float64\n",
      " 67  secondary_cleaner.output.tail_sol                   14874 non-null  float64\n",
      " 68  secondary_cleaner.output.tail_au                    16778 non-null  float64\n",
      " 69  secondary_cleaner.state.floatbank2_a_air            16497 non-null  float64\n",
      " 70  secondary_cleaner.state.floatbank2_a_level          16751 non-null  float64\n",
      " 71  secondary_cleaner.state.floatbank2_b_air            16705 non-null  float64\n",
      " 72  secondary_cleaner.state.floatbank2_b_level          16748 non-null  float64\n",
      " 73  secondary_cleaner.state.floatbank3_a_air            16763 non-null  float64\n",
      " 74  secondary_cleaner.state.floatbank3_a_level          16747 non-null  float64\n",
      " 75  secondary_cleaner.state.floatbank3_b_air            16752 non-null  float64\n",
      " 76  secondary_cleaner.state.floatbank3_b_level          16750 non-null  float64\n",
      " 77  secondary_cleaner.state.floatbank4_a_air            16731 non-null  float64\n",
      " 78  secondary_cleaner.state.floatbank4_a_level          16747 non-null  float64\n",
      " 79  secondary_cleaner.state.floatbank4_b_air            16768 non-null  float64\n",
      " 80  secondary_cleaner.state.floatbank4_b_level          16767 non-null  float64\n",
      " 81  secondary_cleaner.state.floatbank5_a_air            16775 non-null  float64\n",
      " 82  secondary_cleaner.state.floatbank5_a_level          16775 non-null  float64\n",
      " 83  secondary_cleaner.state.floatbank5_b_air            16775 non-null  float64\n",
      " 84  secondary_cleaner.state.floatbank5_b_level          16776 non-null  float64\n",
      " 85  secondary_cleaner.state.floatbank6_a_air            16757 non-null  float64\n",
      " 86  secondary_cleaner.state.floatbank6_a_level          16775 non-null  float64\n",
      "dtypes: float64(86), object(1)\n",
      "memory usage: 11.2+ MB\n"
     ]
    }
   ],
   "source": [
    "train.info()"
   ]
  },
  {
   "cell_type": "markdown",
   "id": "dc366f2c-ee53-4666-9a86-b1dcb36e07d5",
   "metadata": {},
   "source": [
    "## Check that recovery is calculated correctly \n",
    "* Using the training set, calculate recovery for the rougher.output.recovery feature. Find the MAE between your calculations and the feature values. Provide findings."
   ]
  },
  {
   "cell_type": "code",
   "execution_count": 6,
   "id": "357f180c-c9e8-4b1f-97b0-a82d221491cb",
   "metadata": {},
   "outputs": [
    {
     "data": {
      "text/plain": [
       "9.303415616264301e-15"
      ]
     },
     "execution_count": 6,
     "metadata": {},
     "output_type": "execute_result"
    }
   ],
   "source": [
    "train_clean = train.dropna(subset=['rougher.output.concentrate_au', 'rougher.input.feed_au', 'rougher.output.tail_au', 'rougher.output.recovery'])\n",
    "train_clean = train_clean[['rougher.output.concentrate_au', 'rougher.input.feed_au', 'rougher.output.tail_au', 'rougher.output.recovery']]\n",
    "train_clean.reset_index(drop=True, inplace=True)\n",
    "C = train_clean['rougher.output.concentrate_au']\n",
    "F = train_clean['rougher.input.feed_au']\n",
    "T = train_clean['rougher.output.tail_au']\n",
    "\n",
    "pred = ((C * (F - T)) / (F * (C - T))) * 100\n",
    "actual = train_clean['rougher.output.recovery']\n",
    "mean_absolute_error(actual, pred)"
   ]
  },
  {
   "cell_type": "markdown",
   "id": "0f731a0f-1e61-4288-9d7d-6cbe3b10f611",
   "metadata": {},
   "source": [
    "Mean absolute error of 9.303415616264301e-15 is very low value signifying predicted values are extremely close to actual values "
   ]
  },
  {
   "cell_type": "markdown",
   "id": "226c1041-a8b9-4f14-8da3-5c5ab41eaa38",
   "metadata": {},
   "source": [
    "## Test and Train dataframes differ. Neet to find intersection (same columns) between the two. "
   ]
  },
  {
   "cell_type": "code",
   "execution_count": 7,
   "id": "20e5d40d-88b7-4970-ba24-c5fcccaf56c6",
   "metadata": {},
   "outputs": [
    {
     "data": {
      "text/plain": [
       "['date',\n",
       " 'primary_cleaner.input.depressant',\n",
       " 'primary_cleaner.input.feed_size',\n",
       " 'primary_cleaner.input.sulfate',\n",
       " 'primary_cleaner.input.xanthate',\n",
       " 'primary_cleaner.state.floatbank8_a_air',\n",
       " 'primary_cleaner.state.floatbank8_a_level',\n",
       " 'primary_cleaner.state.floatbank8_b_air',\n",
       " 'primary_cleaner.state.floatbank8_b_level',\n",
       " 'primary_cleaner.state.floatbank8_c_air',\n",
       " 'primary_cleaner.state.floatbank8_c_level',\n",
       " 'primary_cleaner.state.floatbank8_d_air',\n",
       " 'primary_cleaner.state.floatbank8_d_level',\n",
       " 'rougher.input.feed_ag',\n",
       " 'rougher.input.feed_au',\n",
       " 'rougher.input.feed_pb',\n",
       " 'rougher.input.feed_rate',\n",
       " 'rougher.input.feed_size',\n",
       " 'rougher.input.feed_sol',\n",
       " 'rougher.input.floatbank10_sulfate',\n",
       " 'rougher.input.floatbank10_xanthate',\n",
       " 'rougher.input.floatbank11_sulfate',\n",
       " 'rougher.input.floatbank11_xanthate',\n",
       " 'rougher.state.floatbank10_a_air',\n",
       " 'rougher.state.floatbank10_a_level',\n",
       " 'rougher.state.floatbank10_b_air',\n",
       " 'rougher.state.floatbank10_b_level',\n",
       " 'rougher.state.floatbank10_c_air',\n",
       " 'rougher.state.floatbank10_c_level',\n",
       " 'rougher.state.floatbank10_d_air',\n",
       " 'rougher.state.floatbank10_d_level',\n",
       " 'rougher.state.floatbank10_e_air',\n",
       " 'rougher.state.floatbank10_e_level',\n",
       " 'rougher.state.floatbank10_f_air',\n",
       " 'rougher.state.floatbank10_f_level',\n",
       " 'secondary_cleaner.state.floatbank2_a_air',\n",
       " 'secondary_cleaner.state.floatbank2_a_level',\n",
       " 'secondary_cleaner.state.floatbank2_b_air',\n",
       " 'secondary_cleaner.state.floatbank2_b_level',\n",
       " 'secondary_cleaner.state.floatbank3_a_air',\n",
       " 'secondary_cleaner.state.floatbank3_a_level',\n",
       " 'secondary_cleaner.state.floatbank3_b_air',\n",
       " 'secondary_cleaner.state.floatbank3_b_level',\n",
       " 'secondary_cleaner.state.floatbank4_a_air',\n",
       " 'secondary_cleaner.state.floatbank4_a_level',\n",
       " 'secondary_cleaner.state.floatbank4_b_air',\n",
       " 'secondary_cleaner.state.floatbank4_b_level',\n",
       " 'secondary_cleaner.state.floatbank5_a_air',\n",
       " 'secondary_cleaner.state.floatbank5_a_level',\n",
       " 'secondary_cleaner.state.floatbank5_b_air',\n",
       " 'secondary_cleaner.state.floatbank5_b_level',\n",
       " 'secondary_cleaner.state.floatbank6_a_air',\n",
       " 'secondary_cleaner.state.floatbank6_a_level']"
      ]
     },
     "execution_count": 7,
     "metadata": {},
     "output_type": "execute_result"
    }
   ],
   "source": [
    "train_test_columns = list(set(train.columns).intersection(set(test.columns)))\n",
    "train_test_columns.sort()\n",
    "train_test_columns"
   ]
  },
  {
   "cell_type": "markdown",
   "id": "a87b4502-cec3-4770-9516-1a6a2b2c5569",
   "metadata": {},
   "source": [
    "## Find rows present in train that are not in test"
   ]
  },
  {
   "cell_type": "code",
   "execution_count": 8,
   "id": "a2bfc663-4424-426e-b420-331002f3487e",
   "metadata": {},
   "outputs": [
    {
     "data": {
      "text/plain": [
       "['final.output.concentrate_ag',\n",
       " 'final.output.concentrate_au',\n",
       " 'final.output.concentrate_pb',\n",
       " 'final.output.concentrate_sol',\n",
       " 'final.output.recovery',\n",
       " 'final.output.tail_ag',\n",
       " 'final.output.tail_au',\n",
       " 'final.output.tail_pb',\n",
       " 'final.output.tail_sol',\n",
       " 'primary_cleaner.output.concentrate_ag',\n",
       " 'primary_cleaner.output.concentrate_au',\n",
       " 'primary_cleaner.output.concentrate_pb',\n",
       " 'primary_cleaner.output.concentrate_sol',\n",
       " 'primary_cleaner.output.tail_ag',\n",
       " 'primary_cleaner.output.tail_au',\n",
       " 'primary_cleaner.output.tail_pb',\n",
       " 'primary_cleaner.output.tail_sol',\n",
       " 'rougher.calculation.au_pb_ratio',\n",
       " 'rougher.calculation.floatbank10_sulfate_to_au_feed',\n",
       " 'rougher.calculation.floatbank11_sulfate_to_au_feed',\n",
       " 'rougher.calculation.sulfate_to_au_concentrate',\n",
       " 'rougher.output.concentrate_ag',\n",
       " 'rougher.output.concentrate_au',\n",
       " 'rougher.output.concentrate_pb',\n",
       " 'rougher.output.concentrate_sol',\n",
       " 'rougher.output.recovery',\n",
       " 'rougher.output.tail_ag',\n",
       " 'rougher.output.tail_au',\n",
       " 'rougher.output.tail_pb',\n",
       " 'rougher.output.tail_sol',\n",
       " 'secondary_cleaner.output.tail_ag',\n",
       " 'secondary_cleaner.output.tail_au',\n",
       " 'secondary_cleaner.output.tail_pb',\n",
       " 'secondary_cleaner.output.tail_sol']"
      ]
     },
     "execution_count": 8,
     "metadata": {},
     "output_type": "execute_result"
    }
   ],
   "source": [
    "train_not_test_columns = list(set(train.columns)-set(test.columns))\n",
    "train_not_test_columns.sort()\n",
    "train_not_test_columns"
   ]
  },
  {
   "cell_type": "markdown",
   "id": "b03e26ea-7684-49e5-b592-d24e646f0493",
   "metadata": {},
   "source": [
    "## What are their types?"
   ]
  },
  {
   "cell_type": "code",
   "execution_count": 9,
   "id": "6fb2b117-9e6e-44be-8b1d-d26129a8e9ed",
   "metadata": {},
   "outputs": [
    {
     "name": "stdout",
     "output_type": "stream",
     "text": [
      "<class 'pandas.core.frame.DataFrame'>\n",
      "RangeIndex: 16860 entries, 0 to 16859\n",
      "Data columns (total 34 columns):\n",
      " #   Column                                              Non-Null Count  Dtype  \n",
      "---  ------                                              --------------  -----  \n",
      " 0   final.output.concentrate_ag                         16788 non-null  float64\n",
      " 1   final.output.concentrate_au                         16789 non-null  float64\n",
      " 2   final.output.concentrate_pb                         16788 non-null  float64\n",
      " 3   final.output.concentrate_sol                        16490 non-null  float64\n",
      " 4   final.output.recovery                               15339 non-null  float64\n",
      " 5   final.output.tail_ag                                16794 non-null  float64\n",
      " 6   final.output.tail_au                                16794 non-null  float64\n",
      " 7   final.output.tail_pb                                16677 non-null  float64\n",
      " 8   final.output.tail_sol                               16715 non-null  float64\n",
      " 9   primary_cleaner.output.concentrate_ag               16778 non-null  float64\n",
      " 10  primary_cleaner.output.concentrate_au               16778 non-null  float64\n",
      " 11  primary_cleaner.output.concentrate_pb               16502 non-null  float64\n",
      " 12  primary_cleaner.output.concentrate_sol              16224 non-null  float64\n",
      " 13  primary_cleaner.output.tail_ag                      16777 non-null  float64\n",
      " 14  primary_cleaner.output.tail_au                      16777 non-null  float64\n",
      " 15  primary_cleaner.output.tail_pb                      16761 non-null  float64\n",
      " 16  primary_cleaner.output.tail_sol                     16579 non-null  float64\n",
      " 17  rougher.calculation.au_pb_ratio                     15618 non-null  float64\n",
      " 18  rougher.calculation.floatbank10_sulfate_to_au_feed  16833 non-null  float64\n",
      " 19  rougher.calculation.floatbank11_sulfate_to_au_feed  16833 non-null  float64\n",
      " 20  rougher.calculation.sulfate_to_au_concentrate       16833 non-null  float64\n",
      " 21  rougher.output.concentrate_ag                       16778 non-null  float64\n",
      " 22  rougher.output.concentrate_au                       16778 non-null  float64\n",
      " 23  rougher.output.concentrate_pb                       16778 non-null  float64\n",
      " 24  rougher.output.concentrate_sol                      16698 non-null  float64\n",
      " 25  rougher.output.recovery                             14287 non-null  float64\n",
      " 26  rougher.output.tail_ag                              14610 non-null  float64\n",
      " 27  rougher.output.tail_au                              14611 non-null  float64\n",
      " 28  rougher.output.tail_pb                              16778 non-null  float64\n",
      " 29  rougher.output.tail_sol                             14611 non-null  float64\n",
      " 30  secondary_cleaner.output.tail_ag                    16776 non-null  float64\n",
      " 31  secondary_cleaner.output.tail_au                    16778 non-null  float64\n",
      " 32  secondary_cleaner.output.tail_pb                    16764 non-null  float64\n",
      " 33  secondary_cleaner.output.tail_sol                   14874 non-null  float64\n",
      "dtypes: float64(34)\n",
      "memory usage: 4.4 MB\n"
     ]
    }
   ],
   "source": [
    "train[train_not_test_columns].info()"
   ]
  },
  {
   "cell_type": "markdown",
   "id": "c1b035a3-b997-4b66-a5c3-a88caa643793",
   "metadata": {},
   "source": [
    "## Data is indexed with the date and time of acquisition (date feature). Parameters that are next to each other in terms of time are often similar.\n",
    "\n",
    "Some parameters are not available because they were measured and/or calculated much later. That's why, some of the features that are present in the training set may be absent from the test set. The test set also doesn't contain targets."
   ]
  },
  {
   "cell_type": "code",
   "execution_count": 10,
   "id": "6d497968-6829-4540-828b-7b052a0489bf",
   "metadata": {},
   "outputs": [
    {
     "data": {
      "text/plain": [
       "date                                          0.000000\n",
       "primary_cleaner.input.depressant              0.074852\n",
       "primary_cleaner.input.feed_size               0.000000\n",
       "primary_cleaner.input.sulfate                 0.077521\n",
       "primary_cleaner.input.xanthate                0.058422\n",
       "primary_cleaner.state.floatbank8_a_air        0.002372\n",
       "primary_cleaner.state.floatbank8_a_level      0.001957\n",
       "primary_cleaner.state.floatbank8_b_air        0.002372\n",
       "primary_cleaner.state.floatbank8_b_level      0.001601\n",
       "primary_cleaner.state.floatbank8_c_air        0.002254\n",
       "primary_cleaner.state.floatbank8_c_level      0.001601\n",
       "primary_cleaner.state.floatbank8_d_air        0.002313\n",
       "primary_cleaner.state.floatbank8_d_level      0.001601\n",
       "rougher.input.feed_ag                         0.004864\n",
       "rougher.input.feed_au                         0.004923\n",
       "rougher.input.feed_pb                         0.013523\n",
       "rougher.input.feed_rate                       0.030427\n",
       "rougher.input.feed_size                       0.024733\n",
       "rougher.input.feed_sol                        0.017319\n",
       "rougher.input.floatbank10_sulfate             0.061922\n",
       "rougher.input.floatbank10_xanthate            0.020522\n",
       "rougher.input.floatbank11_sulfate             0.036951\n",
       "rougher.input.floatbank11_xanthate            0.112930\n",
       "rougher.state.floatbank10_a_air               0.003144\n",
       "rougher.state.floatbank10_a_level             0.003144\n",
       "rougher.state.floatbank10_b_air               0.003144\n",
       "rougher.state.floatbank10_b_level             0.003144\n",
       "rougher.state.floatbank10_c_air               0.003144\n",
       "rougher.state.floatbank10_c_level             0.002728\n",
       "rougher.state.floatbank10_d_air               0.003440\n",
       "rougher.state.floatbank10_d_level             0.003025\n",
       "rougher.state.floatbank10_e_air               0.035765\n",
       "rougher.state.floatbank10_e_level             0.003025\n",
       "rougher.state.floatbank10_f_air               0.003440\n",
       "rougher.state.floatbank10_f_level             0.003440\n",
       "secondary_cleaner.state.floatbank2_a_air      0.021530\n",
       "secondary_cleaner.state.floatbank2_a_level    0.006465\n",
       "secondary_cleaner.state.floatbank2_b_air      0.009193\n",
       "secondary_cleaner.state.floatbank2_b_level    0.006643\n",
       "secondary_cleaner.state.floatbank3_a_air      0.005753\n",
       "secondary_cleaner.state.floatbank3_a_level    0.006702\n",
       "secondary_cleaner.state.floatbank3_b_air      0.006406\n",
       "secondary_cleaner.state.floatbank3_b_level    0.006524\n",
       "secondary_cleaner.state.floatbank4_a_air      0.007651\n",
       "secondary_cleaner.state.floatbank4_a_level    0.006702\n",
       "secondary_cleaner.state.floatbank4_b_air      0.005457\n",
       "secondary_cleaner.state.floatbank4_b_level    0.005516\n",
       "secondary_cleaner.state.floatbank5_a_air      0.005042\n",
       "secondary_cleaner.state.floatbank5_a_level    0.005042\n",
       "secondary_cleaner.state.floatbank5_b_air      0.005042\n",
       "secondary_cleaner.state.floatbank5_b_level    0.004982\n",
       "secondary_cleaner.state.floatbank6_a_air      0.006109\n",
       "secondary_cleaner.state.floatbank6_a_level    0.005042\n",
       "dtype: float64"
      ]
     },
     "execution_count": 10,
     "metadata": {},
     "output_type": "execute_result"
    }
   ],
   "source": [
    "#Find perecentage of missing values\n",
    "train[train_test_columns].isnull().sum()/train.shape[0]"
   ]
  },
  {
   "cell_type": "code",
   "execution_count": 11,
   "id": "887b3e69-a2bd-4a6b-9421-4d08e8a9e9b9",
   "metadata": {},
   "outputs": [],
   "source": [
    "#Convert date to datetime object and sort by time. This will allow ffill to forward fill if missing value is present. \n",
    "train['date'] = pd.to_datetime(train.date)\n",
    "train.sort_values('date', inplace=True)\n",
    "train[train_test_columns] = train[train_test_columns].fillna(method='ffill')"
   ]
  },
  {
   "cell_type": "code",
   "execution_count": 12,
   "id": "42e89ea1-40d4-4b9d-8330-92c832373dd5",
   "metadata": {},
   "outputs": [
    {
     "data": {
      "text/plain": [
       "date                                          0.0\n",
       "primary_cleaner.input.depressant              0.0\n",
       "primary_cleaner.input.feed_size               0.0\n",
       "primary_cleaner.input.sulfate                 0.0\n",
       "primary_cleaner.input.xanthate                0.0\n",
       "primary_cleaner.state.floatbank8_a_air        0.0\n",
       "primary_cleaner.state.floatbank8_a_level      0.0\n",
       "primary_cleaner.state.floatbank8_b_air        0.0\n",
       "primary_cleaner.state.floatbank8_b_level      0.0\n",
       "primary_cleaner.state.floatbank8_c_air        0.0\n",
       "primary_cleaner.state.floatbank8_c_level      0.0\n",
       "primary_cleaner.state.floatbank8_d_air        0.0\n",
       "primary_cleaner.state.floatbank8_d_level      0.0\n",
       "rougher.input.feed_ag                         0.0\n",
       "rougher.input.feed_au                         0.0\n",
       "rougher.input.feed_pb                         0.0\n",
       "rougher.input.feed_rate                       0.0\n",
       "rougher.input.feed_size                       0.0\n",
       "rougher.input.feed_sol                        0.0\n",
       "rougher.input.floatbank10_sulfate             0.0\n",
       "rougher.input.floatbank10_xanthate            0.0\n",
       "rougher.input.floatbank11_sulfate             0.0\n",
       "rougher.input.floatbank11_xanthate            0.0\n",
       "rougher.state.floatbank10_a_air               0.0\n",
       "rougher.state.floatbank10_a_level             0.0\n",
       "rougher.state.floatbank10_b_air               0.0\n",
       "rougher.state.floatbank10_b_level             0.0\n",
       "rougher.state.floatbank10_c_air               0.0\n",
       "rougher.state.floatbank10_c_level             0.0\n",
       "rougher.state.floatbank10_d_air               0.0\n",
       "rougher.state.floatbank10_d_level             0.0\n",
       "rougher.state.floatbank10_e_air               0.0\n",
       "rougher.state.floatbank10_e_level             0.0\n",
       "rougher.state.floatbank10_f_air               0.0\n",
       "rougher.state.floatbank10_f_level             0.0\n",
       "secondary_cleaner.state.floatbank2_a_air      0.0\n",
       "secondary_cleaner.state.floatbank2_a_level    0.0\n",
       "secondary_cleaner.state.floatbank2_b_air      0.0\n",
       "secondary_cleaner.state.floatbank2_b_level    0.0\n",
       "secondary_cleaner.state.floatbank3_a_air      0.0\n",
       "secondary_cleaner.state.floatbank3_a_level    0.0\n",
       "secondary_cleaner.state.floatbank3_b_air      0.0\n",
       "secondary_cleaner.state.floatbank3_b_level    0.0\n",
       "secondary_cleaner.state.floatbank4_a_air      0.0\n",
       "secondary_cleaner.state.floatbank4_a_level    0.0\n",
       "secondary_cleaner.state.floatbank4_b_air      0.0\n",
       "secondary_cleaner.state.floatbank4_b_level    0.0\n",
       "secondary_cleaner.state.floatbank5_a_air      0.0\n",
       "secondary_cleaner.state.floatbank5_a_level    0.0\n",
       "secondary_cleaner.state.floatbank5_b_air      0.0\n",
       "secondary_cleaner.state.floatbank5_b_level    0.0\n",
       "secondary_cleaner.state.floatbank6_a_air      0.0\n",
       "secondary_cleaner.state.floatbank6_a_level    0.0\n",
       "dtype: float64"
      ]
     },
     "execution_count": 12,
     "metadata": {},
     "output_type": "execute_result"
    }
   ],
   "source": [
    "train[train_test_columns].isnull().sum()/train.shape[0]"
   ]
  },
  {
   "cell_type": "markdown",
   "id": "c5354e10-03d5-46e0-94c7-17babd2f4d25",
   "metadata": {},
   "source": [
    "* Missing values in train[train_test_columns] are taken care of"
   ]
  },
  {
   "cell_type": "code",
   "execution_count": 13,
   "id": "0dec3631-03ed-45e5-a405-43069d7c6e25",
   "metadata": {},
   "outputs": [],
   "source": [
    "#Extract targets provided in full but not in the test set \n",
    "test['date'] = pd.to_datetime(test.date)\n",
    "test = test.merge(full[['date', 'final.output.recovery', 'rougher.output.recovery']], how='left', on='date') \n",
    "\n",
    "for col in ['final.output.recovery', 'rougher.output.recovery']:\n",
    "    test[test[col]<0.001] = np.nan"
   ]
  },
  {
   "cell_type": "code",
   "execution_count": 14,
   "id": "e5a4c314-28a5-463b-9589-0c53ddf1459f",
   "metadata": {},
   "outputs": [
    {
     "data": {
      "text/html": [
       "<div>\n",
       "<style scoped>\n",
       "    .dataframe tbody tr th:only-of-type {\n",
       "        vertical-align: middle;\n",
       "    }\n",
       "\n",
       "    .dataframe tbody tr th {\n",
       "        vertical-align: top;\n",
       "    }\n",
       "\n",
       "    .dataframe thead th {\n",
       "        text-align: right;\n",
       "    }\n",
       "</style>\n",
       "<table border=\"1\" class=\"dataframe\">\n",
       "  <thead>\n",
       "    <tr style=\"text-align: right;\">\n",
       "      <th></th>\n",
       "      <th>date</th>\n",
       "      <th>primary_cleaner.input.sulfate</th>\n",
       "      <th>primary_cleaner.input.depressant</th>\n",
       "      <th>primary_cleaner.input.feed_size</th>\n",
       "      <th>primary_cleaner.input.xanthate</th>\n",
       "      <th>primary_cleaner.state.floatbank8_a_air</th>\n",
       "      <th>primary_cleaner.state.floatbank8_a_level</th>\n",
       "      <th>primary_cleaner.state.floatbank8_b_air</th>\n",
       "      <th>primary_cleaner.state.floatbank8_b_level</th>\n",
       "      <th>primary_cleaner.state.floatbank8_c_air</th>\n",
       "      <th>...</th>\n",
       "      <th>secondary_cleaner.state.floatbank4_b_air</th>\n",
       "      <th>secondary_cleaner.state.floatbank4_b_level</th>\n",
       "      <th>secondary_cleaner.state.floatbank5_a_air</th>\n",
       "      <th>secondary_cleaner.state.floatbank5_a_level</th>\n",
       "      <th>secondary_cleaner.state.floatbank5_b_air</th>\n",
       "      <th>secondary_cleaner.state.floatbank5_b_level</th>\n",
       "      <th>secondary_cleaner.state.floatbank6_a_air</th>\n",
       "      <th>secondary_cleaner.state.floatbank6_a_level</th>\n",
       "      <th>final.output.recovery</th>\n",
       "      <th>rougher.output.recovery</th>\n",
       "    </tr>\n",
       "  </thead>\n",
       "  <tbody>\n",
       "    <tr>\n",
       "      <th>0</th>\n",
       "      <td>2016-09-01 00:59:59</td>\n",
       "      <td>210.800909</td>\n",
       "      <td>14.993118</td>\n",
       "      <td>8.080000</td>\n",
       "      <td>1.005021</td>\n",
       "      <td>1398.981301</td>\n",
       "      <td>-500.225577</td>\n",
       "      <td>1399.144926</td>\n",
       "      <td>-499.919735</td>\n",
       "      <td>1400.102998</td>\n",
       "      <td>...</td>\n",
       "      <td>8.016656</td>\n",
       "      <td>-501.289139</td>\n",
       "      <td>7.946562</td>\n",
       "      <td>-432.317850</td>\n",
       "      <td>4.872511</td>\n",
       "      <td>-500.037437</td>\n",
       "      <td>26.705889</td>\n",
       "      <td>-499.709414</td>\n",
       "      <td>70.273583</td>\n",
       "      <td>89.993421</td>\n",
       "    </tr>\n",
       "    <tr>\n",
       "      <th>1</th>\n",
       "      <td>2016-09-01 01:59:59</td>\n",
       "      <td>215.392455</td>\n",
       "      <td>14.987471</td>\n",
       "      <td>8.080000</td>\n",
       "      <td>0.990469</td>\n",
       "      <td>1398.777912</td>\n",
       "      <td>-500.057435</td>\n",
       "      <td>1398.055362</td>\n",
       "      <td>-499.778182</td>\n",
       "      <td>1396.151033</td>\n",
       "      <td>...</td>\n",
       "      <td>8.130979</td>\n",
       "      <td>-499.634209</td>\n",
       "      <td>7.958270</td>\n",
       "      <td>-525.839648</td>\n",
       "      <td>4.878850</td>\n",
       "      <td>-500.162375</td>\n",
       "      <td>25.019940</td>\n",
       "      <td>-499.819438</td>\n",
       "      <td>68.910432</td>\n",
       "      <td>88.089657</td>\n",
       "    </tr>\n",
       "    <tr>\n",
       "      <th>2</th>\n",
       "      <td>2016-09-01 02:59:59</td>\n",
       "      <td>215.259946</td>\n",
       "      <td>12.884934</td>\n",
       "      <td>7.786667</td>\n",
       "      <td>0.996043</td>\n",
       "      <td>1398.493666</td>\n",
       "      <td>-500.868360</td>\n",
       "      <td>1398.860436</td>\n",
       "      <td>-499.764529</td>\n",
       "      <td>1398.075709</td>\n",
       "      <td>...</td>\n",
       "      <td>8.096893</td>\n",
       "      <td>-500.827423</td>\n",
       "      <td>8.071056</td>\n",
       "      <td>-500.801673</td>\n",
       "      <td>4.905125</td>\n",
       "      <td>-499.828510</td>\n",
       "      <td>24.994862</td>\n",
       "      <td>-500.622559</td>\n",
       "      <td>68.143213</td>\n",
       "      <td>88.412756</td>\n",
       "    </tr>\n",
       "    <tr>\n",
       "      <th>3</th>\n",
       "      <td>2016-09-01 03:59:59</td>\n",
       "      <td>215.336236</td>\n",
       "      <td>12.006805</td>\n",
       "      <td>7.640000</td>\n",
       "      <td>0.863514</td>\n",
       "      <td>1399.618111</td>\n",
       "      <td>-498.863574</td>\n",
       "      <td>1397.440120</td>\n",
       "      <td>-499.211024</td>\n",
       "      <td>1400.129303</td>\n",
       "      <td>...</td>\n",
       "      <td>8.074946</td>\n",
       "      <td>-499.474407</td>\n",
       "      <td>7.897085</td>\n",
       "      <td>-500.868509</td>\n",
       "      <td>4.931400</td>\n",
       "      <td>-499.963623</td>\n",
       "      <td>24.948919</td>\n",
       "      <td>-498.709987</td>\n",
       "      <td>67.776393</td>\n",
       "      <td>87.360133</td>\n",
       "    </tr>\n",
       "    <tr>\n",
       "      <th>4</th>\n",
       "      <td>2016-09-01 04:59:59</td>\n",
       "      <td>199.099327</td>\n",
       "      <td>10.682530</td>\n",
       "      <td>7.530000</td>\n",
       "      <td>0.805575</td>\n",
       "      <td>1401.268123</td>\n",
       "      <td>-500.808305</td>\n",
       "      <td>1398.128818</td>\n",
       "      <td>-499.504543</td>\n",
       "      <td>1402.172226</td>\n",
       "      <td>...</td>\n",
       "      <td>8.054678</td>\n",
       "      <td>-500.397500</td>\n",
       "      <td>8.107890</td>\n",
       "      <td>-509.526725</td>\n",
       "      <td>4.957674</td>\n",
       "      <td>-500.360026</td>\n",
       "      <td>25.003331</td>\n",
       "      <td>-500.856333</td>\n",
       "      <td>61.467078</td>\n",
       "      <td>83.236367</td>\n",
       "    </tr>\n",
       "    <tr>\n",
       "      <th>...</th>\n",
       "      <td>...</td>\n",
       "      <td>...</td>\n",
       "      <td>...</td>\n",
       "      <td>...</td>\n",
       "      <td>...</td>\n",
       "      <td>...</td>\n",
       "      <td>...</td>\n",
       "      <td>...</td>\n",
       "      <td>...</td>\n",
       "      <td>...</td>\n",
       "      <td>...</td>\n",
       "      <td>...</td>\n",
       "      <td>...</td>\n",
       "      <td>...</td>\n",
       "      <td>...</td>\n",
       "      <td>...</td>\n",
       "      <td>...</td>\n",
       "      <td>...</td>\n",
       "      <td>...</td>\n",
       "      <td>...</td>\n",
       "      <td>...</td>\n",
       "    </tr>\n",
       "    <tr>\n",
       "      <th>5735</th>\n",
       "      <td>2017-12-31 23:59:59</td>\n",
       "      <td>181.556856</td>\n",
       "      <td>14.995850</td>\n",
       "      <td>8.070000</td>\n",
       "      <td>1.623454</td>\n",
       "      <td>1498.096303</td>\n",
       "      <td>-499.796922</td>\n",
       "      <td>1501.743791</td>\n",
       "      <td>-505.146931</td>\n",
       "      <td>1499.535978</td>\n",
       "      <td>...</td>\n",
       "      <td>14.914199</td>\n",
       "      <td>-499.948518</td>\n",
       "      <td>10.986607</td>\n",
       "      <td>-500.658027</td>\n",
       "      <td>8.989497</td>\n",
       "      <td>-500.337588</td>\n",
       "      <td>8.988632</td>\n",
       "      <td>-500.764937</td>\n",
       "      <td>NaN</td>\n",
       "      <td>NaN</td>\n",
       "    </tr>\n",
       "    <tr>\n",
       "      <th>5736</th>\n",
       "      <td>2017-12-31 23:59:59</td>\n",
       "      <td>181.556856</td>\n",
       "      <td>14.995850</td>\n",
       "      <td>8.070000</td>\n",
       "      <td>1.623454</td>\n",
       "      <td>1498.096303</td>\n",
       "      <td>-499.796922</td>\n",
       "      <td>1501.743791</td>\n",
       "      <td>-505.146931</td>\n",
       "      <td>1499.535978</td>\n",
       "      <td>...</td>\n",
       "      <td>14.914199</td>\n",
       "      <td>-499.948518</td>\n",
       "      <td>10.986607</td>\n",
       "      <td>-500.658027</td>\n",
       "      <td>8.989497</td>\n",
       "      <td>-500.337588</td>\n",
       "      <td>8.988632</td>\n",
       "      <td>-500.764937</td>\n",
       "      <td>NaN</td>\n",
       "      <td>NaN</td>\n",
       "    </tr>\n",
       "    <tr>\n",
       "      <th>5737</th>\n",
       "      <td>2017-12-31 23:59:59</td>\n",
       "      <td>181.556856</td>\n",
       "      <td>14.995850</td>\n",
       "      <td>8.070000</td>\n",
       "      <td>1.623454</td>\n",
       "      <td>1498.096303</td>\n",
       "      <td>-499.796922</td>\n",
       "      <td>1501.743791</td>\n",
       "      <td>-505.146931</td>\n",
       "      <td>1499.535978</td>\n",
       "      <td>...</td>\n",
       "      <td>14.914199</td>\n",
       "      <td>-499.948518</td>\n",
       "      <td>10.986607</td>\n",
       "      <td>-500.658027</td>\n",
       "      <td>8.989497</td>\n",
       "      <td>-500.337588</td>\n",
       "      <td>8.988632</td>\n",
       "      <td>-500.764937</td>\n",
       "      <td>NaN</td>\n",
       "      <td>NaN</td>\n",
       "    </tr>\n",
       "    <tr>\n",
       "      <th>5738</th>\n",
       "      <td>2017-12-31 23:59:59</td>\n",
       "      <td>181.556856</td>\n",
       "      <td>14.995850</td>\n",
       "      <td>8.070000</td>\n",
       "      <td>1.623454</td>\n",
       "      <td>1498.096303</td>\n",
       "      <td>-499.796922</td>\n",
       "      <td>1501.743791</td>\n",
       "      <td>-505.146931</td>\n",
       "      <td>1499.535978</td>\n",
       "      <td>...</td>\n",
       "      <td>14.914199</td>\n",
       "      <td>-499.948518</td>\n",
       "      <td>10.986607</td>\n",
       "      <td>-500.658027</td>\n",
       "      <td>8.989497</td>\n",
       "      <td>-500.337588</td>\n",
       "      <td>8.988632</td>\n",
       "      <td>-500.764937</td>\n",
       "      <td>NaN</td>\n",
       "      <td>NaN</td>\n",
       "    </tr>\n",
       "    <tr>\n",
       "      <th>5751</th>\n",
       "      <td>2017-12-31 23:59:59</td>\n",
       "      <td>181.556856</td>\n",
       "      <td>14.995850</td>\n",
       "      <td>8.070000</td>\n",
       "      <td>1.623454</td>\n",
       "      <td>1498.096303</td>\n",
       "      <td>-499.796922</td>\n",
       "      <td>1501.743791</td>\n",
       "      <td>-505.146931</td>\n",
       "      <td>1499.535978</td>\n",
       "      <td>...</td>\n",
       "      <td>14.914199</td>\n",
       "      <td>-499.948518</td>\n",
       "      <td>10.986607</td>\n",
       "      <td>-500.658027</td>\n",
       "      <td>8.989497</td>\n",
       "      <td>-500.337588</td>\n",
       "      <td>8.988632</td>\n",
       "      <td>-500.764937</td>\n",
       "      <td>NaN</td>\n",
       "      <td>NaN</td>\n",
       "    </tr>\n",
       "  </tbody>\n",
       "</table>\n",
       "<p>5856 rows × 55 columns</p>\n",
       "</div>"
      ],
      "text/plain": [
       "                    date  primary_cleaner.input.sulfate  \\\n",
       "0    2016-09-01 00:59:59                     210.800909   \n",
       "1    2016-09-01 01:59:59                     215.392455   \n",
       "2    2016-09-01 02:59:59                     215.259946   \n",
       "3    2016-09-01 03:59:59                     215.336236   \n",
       "4    2016-09-01 04:59:59                     199.099327   \n",
       "...                  ...                            ...   \n",
       "5735 2017-12-31 23:59:59                     181.556856   \n",
       "5736 2017-12-31 23:59:59                     181.556856   \n",
       "5737 2017-12-31 23:59:59                     181.556856   \n",
       "5738 2017-12-31 23:59:59                     181.556856   \n",
       "5751 2017-12-31 23:59:59                     181.556856   \n",
       "\n",
       "      primary_cleaner.input.depressant  primary_cleaner.input.feed_size  \\\n",
       "0                            14.993118                         8.080000   \n",
       "1                            14.987471                         8.080000   \n",
       "2                            12.884934                         7.786667   \n",
       "3                            12.006805                         7.640000   \n",
       "4                            10.682530                         7.530000   \n",
       "...                                ...                              ...   \n",
       "5735                         14.995850                         8.070000   \n",
       "5736                         14.995850                         8.070000   \n",
       "5737                         14.995850                         8.070000   \n",
       "5738                         14.995850                         8.070000   \n",
       "5751                         14.995850                         8.070000   \n",
       "\n",
       "      primary_cleaner.input.xanthate  primary_cleaner.state.floatbank8_a_air  \\\n",
       "0                           1.005021                             1398.981301   \n",
       "1                           0.990469                             1398.777912   \n",
       "2                           0.996043                             1398.493666   \n",
       "3                           0.863514                             1399.618111   \n",
       "4                           0.805575                             1401.268123   \n",
       "...                              ...                                     ...   \n",
       "5735                        1.623454                             1498.096303   \n",
       "5736                        1.623454                             1498.096303   \n",
       "5737                        1.623454                             1498.096303   \n",
       "5738                        1.623454                             1498.096303   \n",
       "5751                        1.623454                             1498.096303   \n",
       "\n",
       "      primary_cleaner.state.floatbank8_a_level  \\\n",
       "0                                  -500.225577   \n",
       "1                                  -500.057435   \n",
       "2                                  -500.868360   \n",
       "3                                  -498.863574   \n",
       "4                                  -500.808305   \n",
       "...                                        ...   \n",
       "5735                               -499.796922   \n",
       "5736                               -499.796922   \n",
       "5737                               -499.796922   \n",
       "5738                               -499.796922   \n",
       "5751                               -499.796922   \n",
       "\n",
       "      primary_cleaner.state.floatbank8_b_air  \\\n",
       "0                                1399.144926   \n",
       "1                                1398.055362   \n",
       "2                                1398.860436   \n",
       "3                                1397.440120   \n",
       "4                                1398.128818   \n",
       "...                                      ...   \n",
       "5735                             1501.743791   \n",
       "5736                             1501.743791   \n",
       "5737                             1501.743791   \n",
       "5738                             1501.743791   \n",
       "5751                             1501.743791   \n",
       "\n",
       "      primary_cleaner.state.floatbank8_b_level  \\\n",
       "0                                  -499.919735   \n",
       "1                                  -499.778182   \n",
       "2                                  -499.764529   \n",
       "3                                  -499.211024   \n",
       "4                                  -499.504543   \n",
       "...                                        ...   \n",
       "5735                               -505.146931   \n",
       "5736                               -505.146931   \n",
       "5737                               -505.146931   \n",
       "5738                               -505.146931   \n",
       "5751                               -505.146931   \n",
       "\n",
       "      primary_cleaner.state.floatbank8_c_air  ...  \\\n",
       "0                                1400.102998  ...   \n",
       "1                                1396.151033  ...   \n",
       "2                                1398.075709  ...   \n",
       "3                                1400.129303  ...   \n",
       "4                                1402.172226  ...   \n",
       "...                                      ...  ...   \n",
       "5735                             1499.535978  ...   \n",
       "5736                             1499.535978  ...   \n",
       "5737                             1499.535978  ...   \n",
       "5738                             1499.535978  ...   \n",
       "5751                             1499.535978  ...   \n",
       "\n",
       "      secondary_cleaner.state.floatbank4_b_air  \\\n",
       "0                                     8.016656   \n",
       "1                                     8.130979   \n",
       "2                                     8.096893   \n",
       "3                                     8.074946   \n",
       "4                                     8.054678   \n",
       "...                                        ...   \n",
       "5735                                 14.914199   \n",
       "5736                                 14.914199   \n",
       "5737                                 14.914199   \n",
       "5738                                 14.914199   \n",
       "5751                                 14.914199   \n",
       "\n",
       "      secondary_cleaner.state.floatbank4_b_level  \\\n",
       "0                                    -501.289139   \n",
       "1                                    -499.634209   \n",
       "2                                    -500.827423   \n",
       "3                                    -499.474407   \n",
       "4                                    -500.397500   \n",
       "...                                          ...   \n",
       "5735                                 -499.948518   \n",
       "5736                                 -499.948518   \n",
       "5737                                 -499.948518   \n",
       "5738                                 -499.948518   \n",
       "5751                                 -499.948518   \n",
       "\n",
       "      secondary_cleaner.state.floatbank5_a_air  \\\n",
       "0                                     7.946562   \n",
       "1                                     7.958270   \n",
       "2                                     8.071056   \n",
       "3                                     7.897085   \n",
       "4                                     8.107890   \n",
       "...                                        ...   \n",
       "5735                                 10.986607   \n",
       "5736                                 10.986607   \n",
       "5737                                 10.986607   \n",
       "5738                                 10.986607   \n",
       "5751                                 10.986607   \n",
       "\n",
       "      secondary_cleaner.state.floatbank5_a_level  \\\n",
       "0                                    -432.317850   \n",
       "1                                    -525.839648   \n",
       "2                                    -500.801673   \n",
       "3                                    -500.868509   \n",
       "4                                    -509.526725   \n",
       "...                                          ...   \n",
       "5735                                 -500.658027   \n",
       "5736                                 -500.658027   \n",
       "5737                                 -500.658027   \n",
       "5738                                 -500.658027   \n",
       "5751                                 -500.658027   \n",
       "\n",
       "      secondary_cleaner.state.floatbank5_b_air  \\\n",
       "0                                     4.872511   \n",
       "1                                     4.878850   \n",
       "2                                     4.905125   \n",
       "3                                     4.931400   \n",
       "4                                     4.957674   \n",
       "...                                        ...   \n",
       "5735                                  8.989497   \n",
       "5736                                  8.989497   \n",
       "5737                                  8.989497   \n",
       "5738                                  8.989497   \n",
       "5751                                  8.989497   \n",
       "\n",
       "      secondary_cleaner.state.floatbank5_b_level  \\\n",
       "0                                    -500.037437   \n",
       "1                                    -500.162375   \n",
       "2                                    -499.828510   \n",
       "3                                    -499.963623   \n",
       "4                                    -500.360026   \n",
       "...                                          ...   \n",
       "5735                                 -500.337588   \n",
       "5736                                 -500.337588   \n",
       "5737                                 -500.337588   \n",
       "5738                                 -500.337588   \n",
       "5751                                 -500.337588   \n",
       "\n",
       "      secondary_cleaner.state.floatbank6_a_air  \\\n",
       "0                                    26.705889   \n",
       "1                                    25.019940   \n",
       "2                                    24.994862   \n",
       "3                                    24.948919   \n",
       "4                                    25.003331   \n",
       "...                                        ...   \n",
       "5735                                  8.988632   \n",
       "5736                                  8.988632   \n",
       "5737                                  8.988632   \n",
       "5738                                  8.988632   \n",
       "5751                                  8.988632   \n",
       "\n",
       "      secondary_cleaner.state.floatbank6_a_level  final.output.recovery  \\\n",
       "0                                    -499.709414              70.273583   \n",
       "1                                    -499.819438              68.910432   \n",
       "2                                    -500.622559              68.143213   \n",
       "3                                    -498.709987              67.776393   \n",
       "4                                    -500.856333              61.467078   \n",
       "...                                          ...                    ...   \n",
       "5735                                 -500.764937                    NaN   \n",
       "5736                                 -500.764937                    NaN   \n",
       "5737                                 -500.764937                    NaN   \n",
       "5738                                 -500.764937                    NaN   \n",
       "5751                                 -500.764937                    NaN   \n",
       "\n",
       "      rougher.output.recovery  \n",
       "0                   89.993421  \n",
       "1                   88.089657  \n",
       "2                   88.412756  \n",
       "3                   87.360133  \n",
       "4                   83.236367  \n",
       "...                       ...  \n",
       "5735                      NaN  \n",
       "5736                      NaN  \n",
       "5737                      NaN  \n",
       "5738                      NaN  \n",
       "5751                      NaN  \n",
       "\n",
       "[5856 rows x 55 columns]"
      ]
     },
     "execution_count": 14,
     "metadata": {},
     "output_type": "execute_result"
    }
   ],
   "source": [
    "test.sort_values('date', inplace=True)\n",
    "test.loc[:, train_test_columns] = test.loc[:, train_test_columns].fillna(method='ffill')\n",
    "test"
   ]
  },
  {
   "cell_type": "code",
   "execution_count": 15,
   "id": "53af1785-c1f1-4459-bab1-c6eb29c061f3",
   "metadata": {},
   "outputs": [
    {
     "data": {
      "text/plain": [
       "date                                            0\n",
       "primary_cleaner.input.sulfate                   0\n",
       "primary_cleaner.input.depressant                0\n",
       "primary_cleaner.input.feed_size                 0\n",
       "primary_cleaner.input.xanthate                  0\n",
       "primary_cleaner.state.floatbank8_a_air          0\n",
       "primary_cleaner.state.floatbank8_a_level        0\n",
       "primary_cleaner.state.floatbank8_b_air          0\n",
       "primary_cleaner.state.floatbank8_b_level        0\n",
       "primary_cleaner.state.floatbank8_c_air          0\n",
       "primary_cleaner.state.floatbank8_c_level        0\n",
       "primary_cleaner.state.floatbank8_d_air          0\n",
       "primary_cleaner.state.floatbank8_d_level        0\n",
       "rougher.input.feed_ag                           0\n",
       "rougher.input.feed_pb                           0\n",
       "rougher.input.feed_rate                         0\n",
       "rougher.input.feed_size                         0\n",
       "rougher.input.feed_sol                          0\n",
       "rougher.input.feed_au                           0\n",
       "rougher.input.floatbank10_sulfate               0\n",
       "rougher.input.floatbank10_xanthate              0\n",
       "rougher.input.floatbank11_sulfate               0\n",
       "rougher.input.floatbank11_xanthate              0\n",
       "rougher.state.floatbank10_a_air                 0\n",
       "rougher.state.floatbank10_a_level               0\n",
       "rougher.state.floatbank10_b_air                 0\n",
       "rougher.state.floatbank10_b_level               0\n",
       "rougher.state.floatbank10_c_air                 0\n",
       "rougher.state.floatbank10_c_level               0\n",
       "rougher.state.floatbank10_d_air                 0\n",
       "rougher.state.floatbank10_d_level               0\n",
       "rougher.state.floatbank10_e_air                 0\n",
       "rougher.state.floatbank10_e_level               0\n",
       "rougher.state.floatbank10_f_air                 0\n",
       "rougher.state.floatbank10_f_level               0\n",
       "secondary_cleaner.state.floatbank2_a_air        0\n",
       "secondary_cleaner.state.floatbank2_a_level      0\n",
       "secondary_cleaner.state.floatbank2_b_air        0\n",
       "secondary_cleaner.state.floatbank2_b_level      0\n",
       "secondary_cleaner.state.floatbank3_a_air        0\n",
       "secondary_cleaner.state.floatbank3_a_level      0\n",
       "secondary_cleaner.state.floatbank3_b_air        0\n",
       "secondary_cleaner.state.floatbank3_b_level      0\n",
       "secondary_cleaner.state.floatbank4_a_air        0\n",
       "secondary_cleaner.state.floatbank4_a_level      0\n",
       "secondary_cleaner.state.floatbank4_b_air        0\n",
       "secondary_cleaner.state.floatbank4_b_level      0\n",
       "secondary_cleaner.state.floatbank5_a_air        0\n",
       "secondary_cleaner.state.floatbank5_a_level      0\n",
       "secondary_cleaner.state.floatbank5_b_air        0\n",
       "secondary_cleaner.state.floatbank5_b_level      0\n",
       "secondary_cleaner.state.floatbank6_a_air        0\n",
       "secondary_cleaner.state.floatbank6_a_level      0\n",
       "final.output.recovery                         600\n",
       "rougher.output.recovery                       684\n",
       "dtype: int64"
      ]
     },
     "execution_count": 15,
     "metadata": {},
     "output_type": "execute_result"
    }
   ],
   "source": [
    "test.isnull().sum()"
   ]
  },
  {
   "cell_type": "code",
   "execution_count": 16,
   "id": "84391419-411c-4f05-80af-e46b772d048f",
   "metadata": {},
   "outputs": [
    {
     "data": {
      "text/plain": [
       "date                                          0\n",
       "primary_cleaner.input.sulfate                 0\n",
       "primary_cleaner.input.depressant              0\n",
       "primary_cleaner.input.feed_size               0\n",
       "primary_cleaner.input.xanthate                0\n",
       "primary_cleaner.state.floatbank8_a_air        0\n",
       "primary_cleaner.state.floatbank8_a_level      0\n",
       "primary_cleaner.state.floatbank8_b_air        0\n",
       "primary_cleaner.state.floatbank8_b_level      0\n",
       "primary_cleaner.state.floatbank8_c_air        0\n",
       "primary_cleaner.state.floatbank8_c_level      0\n",
       "primary_cleaner.state.floatbank8_d_air        0\n",
       "primary_cleaner.state.floatbank8_d_level      0\n",
       "rougher.input.feed_ag                         0\n",
       "rougher.input.feed_pb                         0\n",
       "rougher.input.feed_rate                       0\n",
       "rougher.input.feed_size                       0\n",
       "rougher.input.feed_sol                        0\n",
       "rougher.input.feed_au                         0\n",
       "rougher.input.floatbank10_sulfate             0\n",
       "rougher.input.floatbank10_xanthate            0\n",
       "rougher.input.floatbank11_sulfate             0\n",
       "rougher.input.floatbank11_xanthate            0\n",
       "rougher.state.floatbank10_a_air               0\n",
       "rougher.state.floatbank10_a_level             0\n",
       "rougher.state.floatbank10_b_air               0\n",
       "rougher.state.floatbank10_b_level             0\n",
       "rougher.state.floatbank10_c_air               0\n",
       "rougher.state.floatbank10_c_level             0\n",
       "rougher.state.floatbank10_d_air               0\n",
       "rougher.state.floatbank10_d_level             0\n",
       "rougher.state.floatbank10_e_air               0\n",
       "rougher.state.floatbank10_e_level             0\n",
       "rougher.state.floatbank10_f_air               0\n",
       "rougher.state.floatbank10_f_level             0\n",
       "secondary_cleaner.state.floatbank2_a_air      0\n",
       "secondary_cleaner.state.floatbank2_a_level    0\n",
       "secondary_cleaner.state.floatbank2_b_air      0\n",
       "secondary_cleaner.state.floatbank2_b_level    0\n",
       "secondary_cleaner.state.floatbank3_a_air      0\n",
       "secondary_cleaner.state.floatbank3_a_level    0\n",
       "secondary_cleaner.state.floatbank3_b_air      0\n",
       "secondary_cleaner.state.floatbank3_b_level    0\n",
       "secondary_cleaner.state.floatbank4_a_air      0\n",
       "secondary_cleaner.state.floatbank4_a_level    0\n",
       "secondary_cleaner.state.floatbank4_b_air      0\n",
       "secondary_cleaner.state.floatbank4_b_level    0\n",
       "secondary_cleaner.state.floatbank5_a_air      0\n",
       "secondary_cleaner.state.floatbank5_a_level    0\n",
       "secondary_cleaner.state.floatbank5_b_air      0\n",
       "secondary_cleaner.state.floatbank5_b_level    0\n",
       "secondary_cleaner.state.floatbank6_a_air      0\n",
       "secondary_cleaner.state.floatbank6_a_level    0\n",
       "final.output.recovery                         0\n",
       "rougher.output.recovery                       0\n",
       "dtype: int64"
      ]
     },
     "execution_count": 16,
     "metadata": {},
     "output_type": "execute_result"
    }
   ],
   "source": [
    "#We are still seeing values that are infinite so replace with nan and forward fill\n",
    "train.replace([np.inf, -np.inf], np.nan, inplace=True)\n",
    "train.fillna(method='ffill', inplace=True)\n",
    "\n",
    "test.replace([np.inf, -np.inf], np.nan, inplace=True)\n",
    "test.fillna(method='ffill', inplace=True)\n",
    "\n",
    "test.isnull().sum()"
   ]
  },
  {
   "cell_type": "code",
   "execution_count": 17,
   "id": "03aba1d2-b92a-4a3d-a51c-aace56987620",
   "metadata": {},
   "outputs": [
    {
     "data": {
      "text/plain": [
       "date                                          0\n",
       "final.output.concentrate_ag                   0\n",
       "final.output.concentrate_pb                   0\n",
       "final.output.concentrate_sol                  0\n",
       "final.output.concentrate_au                   0\n",
       "                                             ..\n",
       "secondary_cleaner.state.floatbank5_a_level    0\n",
       "secondary_cleaner.state.floatbank5_b_air      0\n",
       "secondary_cleaner.state.floatbank5_b_level    0\n",
       "secondary_cleaner.state.floatbank6_a_air      0\n",
       "secondary_cleaner.state.floatbank6_a_level    0\n",
       "Length: 87, dtype: int64"
      ]
     },
     "execution_count": 17,
     "metadata": {},
     "output_type": "execute_result"
    }
   ],
   "source": [
    "train.isnull().sum()"
   ]
  },
  {
   "cell_type": "markdown",
   "id": "dcf06aef-ca20-4e67-9e8d-c3996ef931f4",
   "metadata": {},
   "source": [
    "## Analyze the data"
   ]
  },
  {
   "cell_type": "markdown",
   "id": "5c993e3b-e9f2-45bc-a82c-9e08e10c360a",
   "metadata": {},
   "source": [
    "* Take note of how the concentrations of metals (Au, Ag, Pb) change depending on the purification stage."
   ]
  },
  {
   "cell_type": "code",
   "execution_count": 18,
   "id": "ec9fed51-276d-40a2-ae40-bd48c2bb3384",
   "metadata": {},
   "outputs": [
    {
     "data": {
      "image/png": "[encoded data removed]",
      "text/plain": [
       "<Figure size 1200x600 with 1 Axes>"
      ]
     },
     "metadata": {},
     "output_type": "display_data"
    },
    {
     "name": "stdout",
     "output_type": "stream",
     "text": [
      "                                           au         ag        pb\n",
      "rougher.output.tail                  1.808516   5.561737  0.594851\n",
      "rougher.output.concentrate          17.337662  10.541930  6.861249\n",
      "primary_cleaner.output.tail          3.580920  14.866588  3.153825\n",
      "primary_cleaner.output.concentrate  29.041786   7.390585  8.493673\n",
      "secondary_cleaner.output.tail        3.921555  12.969447  5.303361\n",
      "final.output.tail                    2.677798   8.725974  2.338107\n",
      "final.output.concentrate            39.321631   4.699066  9.080638\n"
     ]
    }
   ],
   "source": [
    "metals = ['au', 'ag', 'pb']\n",
    "stages = ['rougher.output.tail', 'rougher.output.concentrate', 'primary_cleaner.output.tail', 'primary_cleaner.output.concentrate', 'secondary_cleaner.output.tail', 'final.output.tail', 'final.output.concentrate'] \n",
    "\n",
    "# Initialize a dictionary to store mean concentrations\n",
    "mean_concentrations = {metal: [] for metal in metals}\n",
    "\n",
    "# Calculate mean concentrations for each metal at each stage\n",
    "for metal in metals:\n",
    "    for stage in stages:\n",
    "        column_name = f'{stage}_{metal}'\n",
    "        if column_name in train.columns:\n",
    "            mean_concentration = train[column_name].mean()\n",
    "            mean_concentrations[metal].append(mean_concentration)\n",
    "        else:\n",
    "            mean_concentrations[metal].append(None)  # If the column does not exist, append None\n",
    "\n",
    "# Convert to DataFrame for easier plotting\n",
    "mean_concentrations_df = pd.DataFrame(mean_concentrations, index=stages)\n",
    "\n",
    "# Plot the changes in concentration\n",
    "plt.figure(figsize=(12, 6))\n",
    "\n",
    "# Plot for each metal\n",
    "for metal in metals:\n",
    "    plt.plot(mean_concentrations_df.index, mean_concentrations_df[metal], marker='o', label=metal.upper())\n",
    "\n",
    "plt.title('Changes in Metal Concentrations Across Purification Stages')\n",
    "plt.xlabel('Purification Stage')\n",
    "plt.ylabel('Mean Concentration')\n",
    "plt.legend()\n",
    "plt.grid(True)\n",
    "plt.xticks(rotation=45)\n",
    "plt.show()\n",
    "\n",
    "# Display the mean concentrations for each stage\n",
    "print(mean_concentrations_df)"
   ]
  },
  {
   "cell_type": "markdown",
   "id": "d1ba8310-60e6-4296-b783-42ca6346cc70",
   "metadata": {},
   "source": [
    "* After flotation, we see levels of gold increasing\n",
    "* Roucher output concentrate begins the purification process and increases a substantial amount after the first stage of cleaner process indicated in the primary_cleaner.output.concentrate. \n",
    "* Au then enters its second stage of cleaner process and displays the effectiveness of its cleaning process through its value in the final.output.concentrate."
   ]
  },
  {
   "cell_type": "code",
   "execution_count": 19,
   "id": "d7f095f3-b14a-423e-9309-d9f5b9387767",
   "metadata": {},
   "outputs": [
    {
     "data": {
      "image/png": "[encoded data removed]",
      "text/plain": [
       "<Figure size 600x1600 with 7 Axes>"
      ]
     },
     "metadata": {},
     "output_type": "display_data"
    }
   ],
   "source": [
    "plt.figure(figsize=(6, 16))\n",
    "\n",
    "colors = ['blue', 'orange', 'green']\n",
    "\n",
    "for i, stage in enumerate(stages):\n",
    "    plt.subplot(len(stages), 1, i + 1)\n",
    "    for j, metal in enumerate(metals):\n",
    "        column_name = f'{stage}_{metal}'\n",
    "        if column_name in train.columns:\n",
    "            train[column_name].plot(kind='hist', bins=20, alpha=0.5, color=colors[j], label=metal.upper(), edgecolor='black')\n",
    "    \n",
    "    plt.title(f'Concentrations at {stage}')\n",
    "    plt.xlabel('Concentration')\n",
    "    plt.ylabel('Frequency')\n",
    "    plt.legend()\n",
    "\n",
    "plt.tight_layout()\n",
    "plt.show()"
   ]
  },
  {
   "cell_type": "markdown",
   "id": "b96a02bc-3a3c-4bad-9af5-cb2339c8bb51",
   "metadata": {},
   "source": [
    "* In many stages, outliers are present for all three metals"
   ]
  },
  {
   "cell_type": "markdown",
   "id": "aebd44a5-c66f-4076-b109-7d5c93323dc1",
   "metadata": {},
   "source": [
    "## Compare the feed particle size distributions in training & test\n",
    "* If the distributions vary significantly, the model evaluation will be incorrect."
   ]
  },
  {
   "cell_type": "code",
   "execution_count": 20,
   "id": "7e42f19c-bbbf-4aa2-b80d-8dca94cf1342",
   "metadata": {},
   "outputs": [
    {
     "data": {
      "image/png": "[encoded data removed]",
      "text/plain": [
       "<Figure size 640x480 with 1 Axes>"
      ]
     },
     "metadata": {},
     "output_type": "display_data"
    }
   ],
   "source": [
    "# Sample data for feed particle sizes in training and test sets\n",
    "# Replace these with your actual data\n",
    "feed_particle_size_training = train['rougher.input.feed_size']\n",
    "feed_particle_size_test = test['rougher.input.feed_size']\n",
    "\n",
    "sns.kdeplot(feed_particle_size_training, label='Training Set', shade=True)\n",
    "sns.kdeplot(feed_particle_size_test, label='Test Set', shade=True)\n",
    "plt.xlabel('Feed Particle Size')\n",
    "plt.ylabel('Density')\n",
    "plt.title('Kernel Density Estimate')\n",
    "plt.legend(loc='upper right')\n",
    "plt.show()"
   ]
  },
  {
   "cell_type": "markdown",
   "id": "3604e235-abf2-40b4-801a-d993f78a5a8f",
   "metadata": {},
   "source": [
    "* Distributions do not vary significantly"
   ]
  },
  {
   "cell_type": "markdown",
   "id": "2214ba73-a797-4b84-86e0-12775c1c466e",
   "metadata": {},
   "source": [
    "## Consider the total concentrations of all substances at different stages: \n",
    "* raw feed\n",
    "* rougher concentrate\n",
    "* final concentrate\n",
    "* Do you notice any abnormal values in the total distribution? If you do, is it worth removing such values from both samples? Describe the findings and eliminate anomalies. "
   ]
  },
  {
   "cell_type": "code",
   "execution_count": 21,
   "id": "a4808fd4-271d-4b8b-b0a2-50f595a90282",
   "metadata": {},
   "outputs": [
    {
     "data": {
      "text/plain": [
       "(16860, 87)"
      ]
     },
     "execution_count": 21,
     "metadata": {},
     "output_type": "execute_result"
    }
   ],
   "source": [
    "train.shape"
   ]
  },
  {
   "cell_type": "code",
   "execution_count": 22,
   "id": "57f01c6b-4642-4725-9461-335c6816ec39",
   "metadata": {},
   "outputs": [
    {
     "data": {
      "image/png": "[encoded data removed]",
      "text/plain": [
       "<Figure size 640x480 with 1 Axes>"
      ]
     },
     "metadata": {},
     "output_type": "display_data"
    }
   ],
   "source": [
    "# Correctly sum the columns\n",
    "rough = ['rougher.input.feed_au', 'rougher.input.feed_pb', 'rougher.input.feed_sol', 'rougher.input.feed_ag']\n",
    "sum_of_columns = np.sum(train[rough].values, axis=1)\n",
    "\n",
    "plt.hist(sum_of_columns, bins=10)\n",
    "plt.title('Histogram of Raw feed')\n",
    "plt.xlabel('Sum of Values')\n",
    "plt.ylabel('Frequency')\n",
    "plt.show()"
   ]
  },
  {
   "cell_type": "code",
   "execution_count": 23,
   "id": "c081bc03-a6ef-4e5c-ad14-c6cf962574aa",
   "metadata": {},
   "outputs": [
    {
     "data": {
      "image/png": "[encoded data removed]",
      "text/plain": [
       "<Figure size 640x480 with 1 Axes>"
      ]
     },
     "metadata": {},
     "output_type": "display_data"
    }
   ],
   "source": [
    "# Correctly sum the columns\n",
    "out = ['rougher.output.concentrate_au', 'rougher.output.concentrate_pb', 'rougher.output.concentrate_sol', 'rougher.output.concentrate_ag']\n",
    "sum_of_columns = np.sum(train[out].values, axis=1)\n",
    "\n",
    "plt.hist(sum_of_columns, bins=10)\n",
    "plt.title('Histogram of Rougher Concentrate')\n",
    "plt.xlabel('Sum of Values')\n",
    "plt.ylabel('Frequency')\n",
    "plt.show()"
   ]
  },
  {
   "cell_type": "code",
   "execution_count": 24,
   "id": "5cab37d9-5044-40bc-8e52-31ae7b37d2ee",
   "metadata": {},
   "outputs": [
    {
     "data": {
      "image/png": "[encoded data removed]",
      "text/plain": [
       "<Figure size 640x480 with 1 Axes>"
      ]
     },
     "metadata": {},
     "output_type": "display_data"
    }
   ],
   "source": [
    "# Correctly sum the columns\n",
    "final = ['final.output.concentrate_au', 'final.output.concentrate_pb', 'final.output.concentrate_sol', 'final.output.concentrate_ag']\n",
    "sum_of_columns = np.sum(train[final].values, axis=1)\n",
    "\n",
    "plt.hist(sum_of_columns, bins=10)\n",
    "plt.title('Histogram of Final Concentrate')\n",
    "plt.xlabel('Sum of Values')\n",
    "plt.ylabel('Frequency')\n",
    "plt.show()"
   ]
  },
  {
   "cell_type": "markdown",
   "id": "b0595321-6f12-4c98-8940-6cc995115679",
   "metadata": {},
   "source": [
    "* I do not think that the total concentration at any of these stages should be zero\n",
    "* Need to remove such data from the dataset."
   ]
  },
  {
   "cell_type": "code",
   "execution_count": 25,
   "id": "25b74cb3-7c62-4134-a90d-091a6ea1967c",
   "metadata": {},
   "outputs": [],
   "source": [
    "train = train[train[rough].sum(axis=1) > 0]\n",
    "train = train[train[out].sum(axis=1) > 0]\n",
    "train = train[train[final].sum(axis=1) > 0]"
   ]
  },
  {
   "cell_type": "code",
   "execution_count": 26,
   "id": "0e17748b-16c7-4bfd-b6bb-02e2d81ade7e",
   "metadata": {},
   "outputs": [
    {
     "data": {
      "text/plain": [
       "(15128, 87)"
      ]
     },
     "execution_count": 26,
     "metadata": {},
     "output_type": "execute_result"
    }
   ],
   "source": [
    "train.shape"
   ]
  },
  {
   "cell_type": "code",
   "execution_count": 27,
   "id": "9a3ba777-e120-4b3e-bc4b-a33e395c6c34",
   "metadata": {},
   "outputs": [],
   "source": [
    "target = ['final.output.recovery', 'rougher.output.recovery']\n",
    "#Skip date\n",
    "features = train_test_columns[1:] "
   ]
  },
  {
   "cell_type": "code",
   "execution_count": 28,
   "id": "285fa54a-7775-4b59-8dc8-b16c8dfdf197",
   "metadata": {},
   "outputs": [],
   "source": [
    "X_train, X_test = train[features].values, test[features].values\n",
    "y_train, y_test = train[target].values, test[target].values"
   ]
  },
  {
   "cell_type": "code",
   "execution_count": 29,
   "id": "1c9c553c-7892-411d-ac5b-e8d1fecdd106",
   "metadata": {},
   "outputs": [
    {
     "data": {
      "text/plain": [
       "LinearRegression()"
      ]
     },
     "execution_count": 29,
     "metadata": {},
     "output_type": "execute_result"
    }
   ],
   "source": [
    "lr = LinearRegression()\n",
    "st = StandardScaler()\n",
    "lr.fit(st.fit_transform(X_train), y_train)"
   ]
  },
  {
   "cell_type": "code",
   "execution_count": 30,
   "id": "00f0c16c-2dcb-4688-b5cd-6a2c62cbb7a2",
   "metadata": {},
   "outputs": [
    {
     "data": {
      "text/plain": [
       "array([[-6.12775549e-01,  8.90907444e-01,  3.29837118e+00,\n",
       "        -6.02431860e-01,  5.82020290e-02,  3.16420719e-02,\n",
       "         2.82905871e+00, -1.77823797e-01, -3.90966720e+00,\n",
       "        -5.34571028e-02, -9.92448891e-01, -5.75119704e-01,\n",
       "        -2.84127942e+00,  6.11258006e+00, -3.15054609e+00,\n",
       "        -1.16668691e-01, -3.10634386e-01, -1.66130915e+00,\n",
       "         1.07038669e+00, -1.56842366e+00, -3.07691016e+00,\n",
       "         3.23891136e+00,  1.84152377e-02, -6.79660360e-01,\n",
       "         1.06314661e+00, -6.64743862e-01, -2.03668276e+00,\n",
       "        -1.66869466e-01, -2.40538534e+00,  2.44365714e+00,\n",
       "        -2.47934670e+00, -2.09516846e+00,  3.83041698e+00,\n",
       "         1.02671760e+00,  2.46377844e+00, -1.74685190e-01,\n",
       "        -1.83050127e+00, -1.17823969e+00,  6.12258740e-01,\n",
       "        -2.42703871e-01, -7.25776913e-01,  4.07990479e-01,\n",
       "         1.46138615e+00,  1.39737123e-01,  1.79390543e+00,\n",
       "        -9.65058648e-04,  6.54949809e-01, -5.86768387e-01,\n",
       "        -1.21250977e+00, -8.39513672e-02, -7.34573900e-01,\n",
       "        -5.27506547e-01],\n",
       "       [ 1.05564618e-01,  5.36473310e-01,  2.51763276e+00,\n",
       "        -4.75875982e-01, -1.00943675e+00,  4.81560764e-01,\n",
       "         1.95756392e+00, -2.05882351e+00, -6.29659625e-01,\n",
       "         1.05655009e+00, -1.36476415e+00,  1.64123986e-01,\n",
       "        -2.34887140e-01,  2.14211519e+00, -4.76090483e-01,\n",
       "        -1.08547877e+00, -3.82845748e-01,  1.94811382e+00,\n",
       "         4.63443049e-01,  5.06272702e-02, -2.41578210e+00,\n",
       "         1.78512951e+00, -2.01149941e-01,  1.39640201e+00,\n",
       "        -5.55974417e-01, -1.69314315e+00, -1.42228823e+00,\n",
       "         1.38443794e+00, -3.39441993e-01,  6.86014919e-01,\n",
       "        -2.37235725e+00, -9.58854202e-01,  3.70017422e+00,\n",
       "         5.19050941e-01,  1.02272184e+00,  2.68978030e-01,\n",
       "        -1.13704155e+00, -8.30634657e-01,  1.00638825e+00,\n",
       "        -1.29294978e+00, -1.18926763e+00,  9.66535697e-01,\n",
       "         1.28130765e-01, -3.71548074e-01,  2.41760718e+00,\n",
       "         9.03711118e-01,  1.28739778e+00, -4.42853798e-02,\n",
       "        -1.64954700e+00,  4.51169358e-01, -4.00256206e-01,\n",
       "        -8.84686909e-01]])"
      ]
     },
     "execution_count": 30,
     "metadata": {},
     "output_type": "execute_result"
    }
   ],
   "source": [
    "lr.coef_"
   ]
  },
  {
   "cell_type": "code",
   "execution_count": 31,
   "id": "31e49cf7-3c3a-4f79-81e5-fcbaf476a5ec",
   "metadata": {},
   "outputs": [],
   "source": [
    "def smape(y_true, y_pred):\n",
    "    return(np.abs(y_true - y_pred)/((np.abs(y_true) + np.abs(y_pred))/2)).mean()"
   ]
  },
  {
   "cell_type": "code",
   "execution_count": 32,
   "id": "30dbb5ac-4513-40d0-8559-5089ffc63f47",
   "metadata": {},
   "outputs": [
    {
     "data": {
      "text/plain": [
       "0.11129822933423708"
      ]
     },
     "execution_count": 32,
     "metadata": {},
     "output_type": "execute_result"
    }
   ],
   "source": [
    "smape(y_test[:,0], lr.predict(st.transform(X_test))[:,0])"
   ]
  },
  {
   "cell_type": "markdown",
   "id": "8cce1830-1053-41d4-90d1-87f059747165",
   "metadata": {},
   "source": [
    ".11 tells us on average, the difference between our predicted and actual values is about 11.1% of the average of the absolute values of the predicted and actual values."
   ]
  },
  {
   "cell_type": "code",
   "execution_count": 33,
   "id": "853029c0-4c36-4948-8a0b-227ecb199938",
   "metadata": {},
   "outputs": [
    {
     "data": {
      "text/plain": [
       "0.05631987780828094"
      ]
     },
     "execution_count": 33,
     "metadata": {},
     "output_type": "execute_result"
    }
   ],
   "source": [
    "smape(y_test[:,1], lr.predict(st.transform(X_test))[:,1])"
   ]
  },
  {
   "cell_type": "markdown",
   "id": "d0b1cfb9-35e7-41be-9a22-d80f43d27ee3",
   "metadata": {},
   "source": [
    ".056 tells us on average, the difference between our predicted and actual values is about 5.6% of the average of the absolute values of the predicted and actual values."
   ]
  },
  {
   "cell_type": "code",
   "execution_count": 34,
   "id": "1e691466-46db-467d-b47d-4042c172ec88",
   "metadata": {},
   "outputs": [],
   "source": [
    "def smape_final(y_true, y_pred):\n",
    "    #Two target variables\n",
    "    smape_out_rougher = smape(y_true[:,1], y_pred[:,1])\n",
    "    smape_out_final = smape(y_true[:,0], y_pred[:,0])\n",
    "    return (0.25*smape_out_rougher+0.75*smape_out_final)"
   ]
  },
  {
   "cell_type": "markdown",
   "id": "853cd780-f247-45e8-b853-25e67398b30a",
   "metadata": {},
   "source": [
    "## CVAL Linear Regression"
   ]
  },
  {
   "cell_type": "code",
   "execution_count": 35,
   "id": "a0389d63-ad35-41dc-b9d2-1f470cb54127",
   "metadata": {},
   "outputs": [
    {
     "name": "stdout",
     "output_type": "stream",
     "text": [
      "Mean smape:  0.12111588335267545\n"
     ]
    },
    {
     "data": {
      "text/plain": [
       "array([0.12700893, 0.10336222, 0.09523854, 0.11256935, 0.16740038])"
      ]
     },
     "execution_count": 35,
     "metadata": {},
     "output_type": "execute_result"
    }
   ],
   "source": [
    "smape_score = make_scorer(smape_final)\n",
    "\n",
    "scores_lr = cross_val_score(lr, st.transform(X_train), y_train, cv=5, scoring=smape_score)\n",
    "print('Mean smape: ', scores_lr.mean())\n",
    "scores_lr"
   ]
  },
  {
   "cell_type": "markdown",
   "id": "8636e9db-14dc-41e4-b968-b5758e515286",
   "metadata": {},
   "source": [
    "## Decision Tree Regression"
   ]
  },
  {
   "cell_type": "code",
   "execution_count": 36,
   "id": "269708fc-7ad0-42c3-bbde-01cc1c4b9fc6",
   "metadata": {},
   "outputs": [
    {
     "name": "stdout",
     "output_type": "stream",
     "text": [
      "smape of the best model on the validation set (max_depth = 2): 0.10402996961642129\n"
     ]
    }
   ],
   "source": [
    "best_model = None\n",
    "best_result = 10000\n",
    "best_depth = 0\n",
    "for depth in range(1, 6): # choose hyperparameter range\n",
    "    model = DecisionTreeRegressor(random_state=12345, max_depth= depth) # train model on training set\n",
    "    model.fit(X_train, y_train)\n",
    "    predictions_valid = model.predict(X_test) # get model predictions on validation set\n",
    "    result = smape_final(y_test, predictions_valid)\n",
    "    if result < best_result:\n",
    "        best_model = model\n",
    "        best_result = result\n",
    "        best_depth = depth  \n",
    "print(f\"smape of the best model on the validation set (max_depth = {best_depth}): {best_result}\")"
   ]
  },
  {
   "cell_type": "code",
   "execution_count": 37,
   "id": "61f149f1-203b-42e4-a5b1-cf1b950e2107",
   "metadata": {},
   "outputs": [
    {
     "name": "stdout",
     "output_type": "stream",
     "text": [
      "Mean smape:  0.10748005644836896\n"
     ]
    }
   ],
   "source": [
    "scores_rf = cross_val_score(best_model, st.transform(X_train), y_train, cv=5, scoring=smape_score)\n",
    "print('Mean smape: ', scores_rf.mean())"
   ]
  },
  {
   "cell_type": "markdown",
   "id": "1f17c680-25a9-4e05-be87-74aba9be6cca",
   "metadata": {},
   "source": [
    "## Random Forest Regression"
   ]
  },
  {
   "cell_type": "code",
   "execution_count": 38,
   "id": "16d85203-be53-411e-9107-5e4b4d3c23af",
   "metadata": {},
   "outputs": [
    {
     "name": "stdout",
     "output_type": "stream",
     "text": [
      "SMAPE of the best model on the validation set: 0.08858410731292743 n_estimators: 30 best_depth: 10\n"
     ]
    }
   ],
   "source": [
    "best_model = None\n",
    "best_result = 10000\n",
    "best_est = 0\n",
    "best_depth = 0\n",
    "for est in range(10, 51, 10):\n",
    "    for depth in range (1, 11):\n",
    "        model = RandomForestRegressor(random_state=12345, n_estimators=est, max_depth=depth)\n",
    "        model.fit(st.transform(X_train), y_train)\n",
    "        predictions_valid = model.predict(st.transform(X_test))\n",
    "        result = smape_final(y_test, predictions_valid)\n",
    "        if result < best_result:\n",
    "            best_model = model\n",
    "            best_result = result\n",
    "            best_est = est\n",
    "            best_depth = depth\n",
    "\n",
    "print(\"SMAPE of the best model on the validation set:\", best_result, \"n_estimators:\", best_est, \"best_depth:\", depth)"
   ]
  },
  {
   "cell_type": "markdown",
   "id": "e966ac35-f8be-4465-9370-defea32db96d",
   "metadata": {},
   "source": [
    "## CVAL RF Regression"
   ]
  },
  {
   "cell_type": "code",
   "execution_count": 39,
   "id": "c2b1164c-47ed-48fa-bcdf-127ad0631368",
   "metadata": {},
   "outputs": [
    {
     "name": "stdout",
     "output_type": "stream",
     "text": [
      "Mean smape:  0.10514166973673374\n"
     ]
    }
   ],
   "source": [
    "scores_rf = cross_val_score(best_model, st.transform(X_train), y_train, cv=5, scoring=smape_score)\n",
    "print('Mean smape: ', scores_rf.mean())"
   ]
  },
  {
   "cell_type": "markdown",
   "id": "a6b2ec34-764f-4512-8118-81dc33aeea30",
   "metadata": {},
   "source": [
    "## Final model on test set"
   ]
  },
  {
   "cell_type": "code",
   "execution_count": 44,
   "id": "31c56f8e-5f3d-4c92-b1ca-a3eb0384ff36",
   "metadata": {},
   "outputs": [
    {
     "data": {
      "text/plain": [
       "0.07763098167989485"
      ]
     },
     "execution_count": 44,
     "metadata": {},
     "output_type": "execute_result"
    }
   ],
   "source": [
    "predictions = best_model.predict(st.transform(X_test))\n",
    "smape(y_test, predictions)"
   ]
  },
  {
   "cell_type": "markdown",
   "id": "3cbd14b0",
   "metadata": {},
   "source": [
    "## Sanity Check"
   ]
  },
  {
   "cell_type": "code",
   "execution_count": 45,
   "id": "bcbe7295-835d-4745-bdf1-f31203ede3b9",
   "metadata": {},
   "outputs": [
    {
     "data": {
      "text/plain": [
       "0.10817641108010018"
      ]
     },
     "execution_count": 45,
     "metadata": {},
     "output_type": "execute_result"
    }
   ],
   "source": [
    "median_0 = np.median(y_train[:, 0])\n",
    "median_1 = np.median(y_train[:, 1])\n",
    "\n",
    "# Create a 2D array\n",
    "combined_median_predictions = np.array([[median_0, median_1]] * len(y_train))\n",
    "\n",
    "smape_final(y_train, combined_median_predictions)"
   ]
  },
  {
   "cell_type": "code",
   "execution_count": 46,
   "id": "4924649d",
   "metadata": {},
   "outputs": [
    {
     "data": {
      "text/plain": [
       "0.09019993713204691"
      ]
     },
     "execution_count": 46,
     "metadata": {},
     "output_type": "execute_result"
    }
   ],
   "source": [
    "median_0 = np.median(y_train[:, 0])\n",
    "median_1 = np.median(y_train[:, 1])\n",
    "\n",
    "# Create a 2D array\n",
    "combined_median_predictions = np.array([[median_0, median_1]] * len(y_test))\n",
    "\n",
    "smape_final(y_test, combined_median_predictions)"
   ]
  },
  {
   "cell_type": "markdown",
   "id": "f7d90d4e-06f3-4c25-9de1-6b4cb214d9c7",
   "metadata": {},
   "source": [
    "## Conclusion"
   ]
  },
  {
   "cell_type": "markdown",
   "id": "46349a0a-e5c5-4d94-ba71-97ba12ac2df8",
   "metadata": {},
   "source": [
    "Using the data on extraction and purification, the random forest model performs best and predicts \n",
    "the amount of gold recovered from gold ore. Using hyperparamaters n_estimators: 30 best_depth: 10 \n",
    "allowed me to narrow it down to 8.8% on the best validation set and 7.7% on the final rf test set. \n",
    "Furthermore, a percentage difference of 7.7% is generally low and tells us the model's predictions are close \n",
    "to the target. Within the sanity check, I found a 10.8% final smape on the train set and 9% on test which indicates the random forest model performs better."
   ]
  },
  {
   "cell_type": "code",
   "execution_count": null,
   "id": "9607d9fd-936d-4977-8a9f-fe3e025c6b63",
   "metadata": {},
   "outputs": [],
   "source": []
  }
 ],
 "metadata": {
  "ExecuteTimeLog": [
   {
    "duration": 5130,
    "start_time": "2024-08-01T20:29:55.273Z"
   },
   {
    "duration": 1019,
    "start_time": "2024-08-01T20:30:00.407Z"
   },
   {
    "duration": 35,
    "start_time": "2024-08-01T20:30:01.429Z"
   },
   {
    "duration": 18,
    "start_time": "2024-08-01T20:30:01.469Z"
   },
   {
    "duration": 57,
    "start_time": "2024-08-01T20:30:01.490Z"
   },
   {
    "duration": 21,
    "start_time": "2024-08-01T20:30:01.550Z"
   },
   {
    "duration": 7,
    "start_time": "2024-08-01T20:30:01.574Z"
   },
   {
    "duration": 8,
    "start_time": "2024-08-01T20:30:01.584Z"
   },
   {
    "duration": 21,
    "start_time": "2024-08-01T20:30:01.631Z"
   },
   {
    "duration": 18,
    "start_time": "2024-08-01T20:30:01.659Z"
   },
   {
    "duration": 67,
    "start_time": "2024-08-01T20:30:01.682Z"
   },
   {
    "duration": 18,
    "start_time": "2024-08-01T20:30:01.755Z"
   },
   {
    "duration": 72,
    "start_time": "2024-08-01T20:30:01.777Z"
   },
   {
    "duration": 60,
    "start_time": "2024-08-01T20:30:01.852Z"
   },
   {
    "duration": 10,
    "start_time": "2024-08-01T20:30:01.930Z"
   },
   {
    "duration": 19,
    "start_time": "2024-08-01T20:30:01.943Z"
   },
   {
    "duration": 10,
    "start_time": "2024-08-01T20:30:01.965Z"
   },
   {
    "duration": 458,
    "start_time": "2024-08-01T20:30:01.978Z"
   },
   {
    "duration": 2726,
    "start_time": "2024-08-01T20:30:02.440Z"
   },
   {
    "duration": 703,
    "start_time": "2024-08-01T20:30:05.169Z"
   },
   {
    "duration": 6,
    "start_time": "2024-08-01T20:30:05.875Z"
   },
   {
    "duration": 241,
    "start_time": "2024-08-01T20:30:05.884Z"
   },
   {
    "duration": 218,
    "start_time": "2024-08-01T20:30:06.132Z"
   },
   {
    "duration": 234,
    "start_time": "2024-08-01T20:30:06.353Z"
   },
   {
    "duration": 24,
    "start_time": "2024-08-01T20:30:06.589Z"
   },
   {
    "duration": 6,
    "start_time": "2024-08-01T20:30:06.630Z"
   },
   {
    "duration": 5,
    "start_time": "2024-08-01T20:30:06.639Z"
   },
   {
    "duration": 10,
    "start_time": "2024-08-01T20:30:06.652Z"
   },
   {
    "duration": 81,
    "start_time": "2024-08-01T20:30:06.664Z"
   },
   {
    "duration": 85,
    "start_time": "2024-08-01T20:30:06.748Z"
   },
   {
    "duration": 4,
    "start_time": "2024-08-01T20:30:06.836Z"
   },
   {
    "duration": 89,
    "start_time": "2024-08-01T20:30:06.843Z"
   },
   {
    "duration": 15,
    "start_time": "2024-08-01T20:30:06.937Z"
   },
   {
    "duration": 10,
    "start_time": "2024-08-01T20:30:07.032Z"
   },
   {
    "duration": 605,
    "start_time": "2024-08-01T20:30:07.045Z"
   },
   {
    "duration": 2017,
    "start_time": "2024-08-01T20:30:07.653Z"
   },
   {
    "duration": 1053,
    "start_time": "2024-08-01T20:30:09.673Z"
   },
   {
    "duration": 1558,
    "start_time": "2024-08-01T20:39:00.280Z"
   },
   {
    "duration": 859,
    "start_time": "2024-08-01T20:39:01.841Z"
   },
   {
    "duration": 43,
    "start_time": "2024-08-01T20:39:02.702Z"
   },
   {
    "duration": 18,
    "start_time": "2024-08-01T20:39:02.750Z"
   },
   {
    "duration": 22,
    "start_time": "2024-08-01T20:39:02.771Z"
   },
   {
    "duration": 24,
    "start_time": "2024-08-01T20:39:02.829Z"
   },
   {
    "duration": 7,
    "start_time": "2024-08-01T20:39:02.856Z"
   },
   {
    "duration": 7,
    "start_time": "2024-08-01T20:39:02.867Z"
   },
   {
    "duration": 54,
    "start_time": "2024-08-01T20:39:02.877Z"
   },
   {
    "duration": 15,
    "start_time": "2024-08-01T20:39:02.938Z"
   },
   {
    "duration": 31,
    "start_time": "2024-08-01T20:39:02.955Z"
   },
   {
    "duration": 47,
    "start_time": "2024-08-01T20:39:02.989Z"
   },
   {
    "duration": 45,
    "start_time": "2024-08-01T20:39:03.039Z"
   },
   {
    "duration": 84,
    "start_time": "2024-08-01T20:39:03.087Z"
   },
   {
    "duration": 10,
    "start_time": "2024-08-01T20:39:03.174Z"
   },
   {
    "duration": 46,
    "start_time": "2024-08-01T20:39:03.186Z"
   },
   {
    "duration": 11,
    "start_time": "2024-08-01T20:39:03.235Z"
   },
   {
    "duration": 443,
    "start_time": "2024-08-01T20:39:03.249Z"
   },
   {
    "duration": 2771,
    "start_time": "2024-08-01T20:39:03.695Z"
   },
   {
    "duration": 739,
    "start_time": "2024-08-01T20:39:06.469Z"
   },
   {
    "duration": 7,
    "start_time": "2024-08-01T20:39:07.211Z"
   },
   {
    "duration": 239,
    "start_time": "2024-08-01T20:39:07.220Z"
   },
   {
    "duration": 210,
    "start_time": "2024-08-01T20:39:07.462Z"
   },
   {
    "duration": 231,
    "start_time": "2024-08-01T20:39:07.675Z"
   },
   {
    "duration": 38,
    "start_time": "2024-08-01T20:39:07.909Z"
   },
   {
    "duration": 6,
    "start_time": "2024-08-01T20:39:07.951Z"
   },
   {
    "duration": 4,
    "start_time": "2024-08-01T20:39:07.961Z"
   },
   {
    "duration": 9,
    "start_time": "2024-08-01T20:39:07.974Z"
   },
   {
    "duration": 82,
    "start_time": "2024-08-01T20:39:07.987Z"
   },
   {
    "duration": 61,
    "start_time": "2024-08-01T20:39:08.072Z"
   },
   {
    "duration": 15,
    "start_time": "2024-08-01T20:39:08.136Z"
   },
   {
    "duration": 80,
    "start_time": "2024-08-01T20:39:08.154Z"
   },
   {
    "duration": 9,
    "start_time": "2024-08-01T20:39:08.237Z"
   },
   {
    "duration": 5,
    "start_time": "2024-08-01T20:39:08.249Z"
   },
   {
    "duration": 605,
    "start_time": "2024-08-01T20:39:08.332Z"
   },
   {
    "duration": 2047,
    "start_time": "2024-08-01T20:39:08.940Z"
   },
   {
    "duration": 1069,
    "start_time": "2024-08-01T20:39:10.990Z"
   },
   {
    "duration": 1572,
    "start_time": "2024-08-01T20:49:35.665Z"
   },
   {
    "duration": 917,
    "start_time": "2024-08-01T20:49:37.240Z"
   },
   {
    "duration": 31,
    "start_time": "2024-08-01T20:49:38.161Z"
   },
   {
    "duration": 42,
    "start_time": "2024-08-01T20:49:38.196Z"
   },
   {
    "duration": 23,
    "start_time": "2024-08-01T20:49:38.241Z"
   },
   {
    "duration": 22,
    "start_time": "2024-08-01T20:49:38.267Z"
   },
   {
    "duration": 42,
    "start_time": "2024-08-01T20:49:38.292Z"
   },
   {
    "duration": 7,
    "start_time": "2024-08-01T20:49:38.446Z"
   },
   {
    "duration": 17,
    "start_time": "2024-08-01T20:49:38.610Z"
   },
   {
    "duration": 16,
    "start_time": "2024-08-01T20:49:38.780Z"
   },
   {
    "duration": 31,
    "start_time": "2024-08-01T20:49:38.862Z"
   },
   {
    "duration": 15,
    "start_time": "2024-08-01T20:49:38.943Z"
   },
   {
    "duration": 40,
    "start_time": "2024-08-01T20:49:39.109Z"
   },
   {
    "duration": 59,
    "start_time": "2024-08-01T20:49:39.201Z"
   },
   {
    "duration": 9,
    "start_time": "2024-08-01T20:49:39.281Z"
   },
   {
    "duration": 18,
    "start_time": "2024-08-01T20:49:39.362Z"
   },
   {
    "duration": 11,
    "start_time": "2024-08-01T20:49:39.442Z"
   },
   {
    "duration": 391,
    "start_time": "2024-08-01T20:49:39.692Z"
   },
   {
    "duration": 2813,
    "start_time": "2024-08-01T20:49:40.087Z"
   },
   {
    "duration": 709,
    "start_time": "2024-08-01T20:49:42.905Z"
   },
   {
    "duration": 16,
    "start_time": "2024-08-01T20:49:43.617Z"
   },
   {
    "duration": 228,
    "start_time": "2024-08-01T20:49:43.637Z"
   },
   {
    "duration": 211,
    "start_time": "2024-08-01T20:49:43.868Z"
   },
   {
    "duration": 234,
    "start_time": "2024-08-01T20:49:44.084Z"
   },
   {
    "duration": 29,
    "start_time": "2024-08-01T20:49:44.322Z"
   },
   {
    "duration": 6,
    "start_time": "2024-08-01T20:49:44.354Z"
   },
   {
    "duration": 4,
    "start_time": "2024-08-01T20:49:44.364Z"
   },
   {
    "duration": 12,
    "start_time": "2024-08-01T20:49:44.373Z"
   },
   {
    "duration": 77,
    "start_time": "2024-08-01T20:49:44.389Z"
   },
   {
    "duration": 9,
    "start_time": "2024-08-01T20:49:44.533Z"
   },
   {
    "duration": 5,
    "start_time": "2024-08-01T20:49:44.545Z"
   },
   {
    "duration": 85,
    "start_time": "2024-08-01T20:49:44.553Z"
   },
   {
    "duration": 89,
    "start_time": "2024-08-01T20:49:44.645Z"
   },
   {
    "duration": 5,
    "start_time": "2024-08-01T20:49:44.741Z"
   },
   {
    "duration": 587,
    "start_time": "2024-08-01T20:49:44.749Z"
   },
   {
    "duration": 1982,
    "start_time": "2024-08-01T20:49:45.339Z"
   },
   {
    "duration": 1047,
    "start_time": "2024-08-01T20:49:47.332Z"
   },
   {
    "duration": 590869,
    "start_time": "2024-08-01T20:49:48.382Z"
   },
   {
    "duration": 27644,
    "start_time": "2024-08-01T20:59:39.254Z"
   },
   {
    "duration": 9632,
    "start_time": "2024-08-01T21:00:06.902Z"
   },
   {
    "duration": 20,
    "start_time": "2024-08-01T21:00:16.537Z"
   },
   {
    "duration": 13,
    "start_time": "2024-08-01T21:00:16.560Z"
   },
   {
    "duration": 14,
    "start_time": "2024-08-02T22:41:19.777Z"
   },
   {
    "duration": 305,
    "start_time": "2024-08-02T22:49:37.256Z"
   },
   {
    "duration": 22,
    "start_time": "2024-08-02T22:50:08.720Z"
   },
   {
    "duration": 5249,
    "start_time": "2024-08-02T22:50:22.419Z"
   },
   {
    "duration": 973,
    "start_time": "2024-08-02T22:50:27.672Z"
   },
   {
    "duration": 39,
    "start_time": "2024-08-02T22:50:28.648Z"
   },
   {
    "duration": 32,
    "start_time": "2024-08-02T22:50:28.692Z"
   },
   {
    "duration": 23,
    "start_time": "2024-08-02T22:50:28.729Z"
   },
   {
    "duration": 55,
    "start_time": "2024-08-02T22:50:28.755Z"
   },
   {
    "duration": 12,
    "start_time": "2024-08-02T22:50:28.813Z"
   },
   {
    "duration": 7,
    "start_time": "2024-08-02T22:50:28.829Z"
   },
   {
    "duration": 18,
    "start_time": "2024-08-02T22:50:28.839Z"
   },
   {
    "duration": 53,
    "start_time": "2024-08-02T22:50:28.859Z"
   },
   {
    "duration": 33,
    "start_time": "2024-08-02T22:50:28.914Z"
   },
   {
    "duration": 17,
    "start_time": "2024-08-02T22:50:28.949Z"
   },
   {
    "duration": 74,
    "start_time": "2024-08-02T22:50:28.969Z"
   },
   {
    "duration": 83,
    "start_time": "2024-08-02T22:50:29.052Z"
   },
   {
    "duration": 10,
    "start_time": "2024-08-02T22:50:29.138Z"
   },
   {
    "duration": 21,
    "start_time": "2024-08-02T22:50:29.151Z"
   },
   {
    "duration": 41,
    "start_time": "2024-08-02T22:50:29.175Z"
   },
   {
    "duration": 424,
    "start_time": "2024-08-02T22:50:29.219Z"
   },
   {
    "duration": 2800,
    "start_time": "2024-08-02T22:50:29.647Z"
   },
   {
    "duration": 686,
    "start_time": "2024-08-02T22:50:32.450Z"
   },
   {
    "duration": 8,
    "start_time": "2024-08-02T22:50:33.139Z"
   },
   {
    "duration": 233,
    "start_time": "2024-08-02T22:50:33.151Z"
   },
   {
    "duration": 225,
    "start_time": "2024-08-02T22:50:33.387Z"
   },
   {
    "duration": 232,
    "start_time": "2024-08-02T22:50:33.615Z"
   },
   {
    "duration": 24,
    "start_time": "2024-08-02T22:50:33.850Z"
   },
   {
    "duration": 29,
    "start_time": "2024-08-02T22:50:33.877Z"
   },
   {
    "duration": 4,
    "start_time": "2024-08-02T22:50:33.909Z"
   },
   {
    "duration": 10,
    "start_time": "2024-08-02T22:50:33.916Z"
   },
   {
    "duration": 89,
    "start_time": "2024-08-02T22:50:33.930Z"
   },
   {
    "duration": 261,
    "start_time": "2024-08-02T22:50:34.022Z"
   },
   {
    "duration": 19,
    "start_time": "2024-08-02T22:50:34.287Z"
   },
   {
    "duration": 16,
    "start_time": "2024-08-02T22:50:34.309Z"
   },
   {
    "duration": 81,
    "start_time": "2024-08-02T22:50:34.327Z"
   },
   {
    "duration": 5,
    "start_time": "2024-08-02T22:50:34.411Z"
   },
   {
    "duration": 506,
    "start_time": "2024-08-02T22:50:34.420Z"
   },
   {
    "duration": 1950,
    "start_time": "2024-08-02T22:50:35.007Z"
   },
   {
    "duration": 1073,
    "start_time": "2024-08-02T22:50:36.960Z"
   },
   {
    "duration": 591023,
    "start_time": "2024-08-02T22:50:38.036Z"
   },
   {
    "duration": 27801,
    "start_time": "2024-08-02T23:00:29.062Z"
   },
   {
    "duration": 466,
    "start_time": "2024-08-02T23:00:56.866Z"
   },
   {
    "duration": 0,
    "start_time": "2024-08-02T23:00:57.335Z"
   },
   {
    "duration": 0,
    "start_time": "2024-08-02T23:00:57.337Z"
   },
   {
    "duration": 7,
    "start_time": "2024-08-02T23:17:57.108Z"
   },
   {
    "duration": 23,
    "start_time": "2024-08-02T23:18:11.154Z"
   },
   {
    "duration": 6,
    "start_time": "2024-08-02T23:18:15.198Z"
   },
   {
    "duration": 13,
    "start_time": "2024-08-02T23:18:23.730Z"
   },
   {
    "duration": 30,
    "start_time": "2024-08-02T23:19:29.359Z"
   },
   {
    "duration": 13,
    "start_time": "2024-08-02T23:19:30.458Z"
   }
  ],
  "kernelspec": {
   "display_name": "Python 3 (ipykernel)",
   "language": "python",
   "name": "python3"
  },
  "language_info": {
   "codemirror_mode": {
    "name": "ipython",
    "version": 3
   },
   "file_extension": ".py",
   "mimetype": "text/x-python",
   "name": "python",
   "nbconvert_exporter": "python",
   "pygments_lexer": "ipython3",
   "version": "3.11.7"
  },
  "toc": {
   "base_numbering": 1,
   "nav_menu": {},
   "number_sections": true,
   "sideBar": true,
   "skip_h1_title": true,
   "title_cell": "Table of Contents",
   "title_sidebar": "Contents",
   "toc_cell": false,
   "toc_position": {},
   "toc_section_display": true,
   "toc_window_display": false
  }
 },
 "nbformat": 4,
 "nbformat_minor": 5
}
