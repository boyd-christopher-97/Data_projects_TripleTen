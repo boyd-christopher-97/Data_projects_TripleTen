{
 "cells": [
  {
   "cell_type": "markdown",
   "id": "205b152f-9b7b-4be7-b3c6-64e1006fcc10",
   "metadata": {},
   "source": [
    "## Introduction"
   ]
  },
  {
   "cell_type": "markdown",
   "id": "4accbeb9-431f-457f-900e-f1cd68be5708",
   "metadata": {},
   "source": [
    "You work for the online store Ice, which sells video games all over the world. User and expert reviews, genres, platforms (e.g. Xbox or PlayStation), and historical data on game sales are available from open sources. You need to identify patterns that determine whether a game succeeds or not. This will allow you to spot potential big winners and plan advertising campaigns."
   ]
  },
  {
   "cell_type": "markdown",
   "id": "8655ebbd-c1fc-434f-94d8-fe4e84956aaf",
   "metadata": {},
   "source": [
    "## Libraries"
   ]
  },
  {
   "cell_type": "code",
   "execution_count": 1,
   "id": "cc74ee44-99dc-40b3-8733-0e6a05fc5d96",
   "metadata": {},
   "outputs": [],
   "source": [
    "import pandas as pd\n",
    "import numpy as np\n",
    "import matplotlib.pyplot as plt\n",
    "import seaborn as sns\n",
    "import pandas as pd\n",
    "import plotly.express as px\n",
    "import plotly.graph_objects as go\n",
    "from scipy import stats as st"
   ]
  },
  {
   "cell_type": "code",
   "execution_count": 2,
   "id": "c9adef48-6622-46be-a819-0d2aa30c5da4",
   "metadata": {},
   "outputs": [],
   "source": [
    "#Read in data\n",
    "try:\n",
    "    df = pd.read_csv('/datasets/games.csv')\n",
    "\n",
    "except FileNotFoundError:\n",
    "    df = pd.read_csv('/datasets/games.csv')"
   ]
  },
  {
   "cell_type": "code",
   "execution_count": 3,
   "id": "c10f95ab-2a97-4343-874f-30da52776d6e",
   "metadata": {},
   "outputs": [
    {
     "name": "stdout",
     "output_type": "stream",
     "text": [
      "<class 'pandas.core.frame.DataFrame'>\n",
      "RangeIndex: 16715 entries, 0 to 16714\n",
      "Data columns (total 11 columns):\n",
      " #   Column           Non-Null Count  Dtype  \n",
      "---  ------           --------------  -----  \n",
      " 0   Name             16713 non-null  object \n",
      " 1   Platform         16715 non-null  object \n",
      " 2   Year_of_Release  16446 non-null  float64\n",
      " 3   Genre            16713 non-null  object \n",
      " 4   NA_sales         16715 non-null  float64\n",
      " 5   EU_sales         16715 non-null  float64\n",
      " 6   JP_sales         16715 non-null  float64\n",
      " 7   Other_sales      16715 non-null  float64\n",
      " 8   Critic_Score     8137 non-null   float64\n",
      " 9   User_Score       10014 non-null  object \n",
      " 10  Rating           9949 non-null   object \n",
      "dtypes: float64(6), object(5)\n",
      "memory usage: 1.4+ MB\n"
     ]
    }
   ],
   "source": [
    "df.info()"
   ]
  },
  {
   "cell_type": "markdown",
   "id": "d38d59a7-8b09-45d6-8d56-20c8da428719",
   "metadata": {},
   "source": [
    "[0] Name, [2] Year_of_Release, [3] Genres, [8] Critic_Score, [9] User_Score, [10] Rating all have missing values  "
   ]
  },
  {
   "cell_type": "markdown",
   "id": "1f372ff1-2a95-4d40-976f-09f69203580d",
   "metadata": {},
   "source": [
    "## Step 2 Prepare the Data"
   ]
  },
  {
   "cell_type": "code",
   "execution_count": 4,
   "id": "812974a1-4c6e-4f91-84c2-61b0a1f5fc78",
   "metadata": {},
   "outputs": [
    {
     "name": "stdout",
     "output_type": "stream",
     "text": [
      "<class 'pandas.core.frame.DataFrame'>\n",
      "RangeIndex: 16715 entries, 0 to 16714\n",
      "Data columns (total 11 columns):\n",
      " #   Column           Non-Null Count  Dtype  \n",
      "---  ------           --------------  -----  \n",
      " 0   name             16713 non-null  object \n",
      " 1   platform         16715 non-null  object \n",
      " 2   year_of_release  16446 non-null  float64\n",
      " 3   genre            16713 non-null  object \n",
      " 4   na_sales         16715 non-null  float64\n",
      " 5   eu_sales         16715 non-null  float64\n",
      " 6   jp_sales         16715 non-null  float64\n",
      " 7   other_sales      16715 non-null  float64\n",
      " 8   critic_score     8137 non-null   float64\n",
      " 9   user_score       10014 non-null  object \n",
      " 10  rating           9949 non-null   object \n",
      "dtypes: float64(6), object(5)\n",
      "memory usage: 1.4+ MB\n"
     ]
    }
   ],
   "source": [
    "#Replace the column names (make them lowercase).\n",
    "df.columns = df.columns.str.lower()\n",
    "#Verify\n",
    "df.info()"
   ]
  },
  {
   "cell_type": "code",
   "execution_count": 5,
   "id": "71370670",
   "metadata": {},
   "outputs": [
    {
     "data": {
      "text/plain": [
       "name               0.000120\n",
       "platform           0.000000\n",
       "year_of_release    0.016093\n",
       "genre              0.000120\n",
       "na_sales           0.000000\n",
       "eu_sales           0.000000\n",
       "jp_sales           0.000000\n",
       "other_sales        0.000000\n",
       "critic_score       0.513192\n",
       "user_score         0.400897\n",
       "rating             0.404786\n",
       "dtype: float64"
      ]
     },
     "execution_count": 5,
     "metadata": {},
     "output_type": "execute_result"
    }
   ],
   "source": [
    "df.isnull().sum()/len(df)"
   ]
  },
  {
   "cell_type": "code",
   "execution_count": 6,
   "id": "b7bab7f1",
   "metadata": {},
   "outputs": [
    {
     "data": {
      "text/html": [
       "<div>\n",
       "<style scoped>\n",
       "    .dataframe tbody tr th:only-of-type {\n",
       "        vertical-align: middle;\n",
       "    }\n",
       "\n",
       "    .dataframe tbody tr th {\n",
       "        vertical-align: top;\n",
       "    }\n",
       "\n",
       "    .dataframe thead th {\n",
       "        text-align: right;\n",
       "    }\n",
       "</style>\n",
       "<table border=\"1\" class=\"dataframe\">\n",
       "  <thead>\n",
       "    <tr style=\"text-align: right;\">\n",
       "      <th></th>\n",
       "      <th>missing_values</th>\n",
       "      <th>%</th>\n",
       "    </tr>\n",
       "  </thead>\n",
       "  <tbody>\n",
       "    <tr>\n",
       "      <th>critic_score</th>\n",
       "      <td>8578</td>\n",
       "      <td>0.513</td>\n",
       "    </tr>\n",
       "    <tr>\n",
       "      <th>rating</th>\n",
       "      <td>6766</td>\n",
       "      <td>0.405</td>\n",
       "    </tr>\n",
       "    <tr>\n",
       "      <th>user_score</th>\n",
       "      <td>6701</td>\n",
       "      <td>0.401</td>\n",
       "    </tr>\n",
       "    <tr>\n",
       "      <th>year_of_release</th>\n",
       "      <td>269</td>\n",
       "      <td>0.016</td>\n",
       "    </tr>\n",
       "    <tr>\n",
       "      <th>name</th>\n",
       "      <td>2</td>\n",
       "      <td>0.000</td>\n",
       "    </tr>\n",
       "    <tr>\n",
       "      <th>platform</th>\n",
       "      <td>0</td>\n",
       "      <td>0.000</td>\n",
       "    </tr>\n",
       "    <tr>\n",
       "      <th>genre</th>\n",
       "      <td>2</td>\n",
       "      <td>0.000</td>\n",
       "    </tr>\n",
       "    <tr>\n",
       "      <th>na_sales</th>\n",
       "      <td>0</td>\n",
       "      <td>0.000</td>\n",
       "    </tr>\n",
       "    <tr>\n",
       "      <th>eu_sales</th>\n",
       "      <td>0</td>\n",
       "      <td>0.000</td>\n",
       "    </tr>\n",
       "    <tr>\n",
       "      <th>jp_sales</th>\n",
       "      <td>0</td>\n",
       "      <td>0.000</td>\n",
       "    </tr>\n",
       "    <tr>\n",
       "      <th>other_sales</th>\n",
       "      <td>0</td>\n",
       "      <td>0.000</td>\n",
       "    </tr>\n",
       "  </tbody>\n",
       "</table>\n",
       "</div>"
      ],
      "text/plain": [
       "                 missing_values      %\n",
       "critic_score               8578  0.513\n",
       "rating                     6766  0.405\n",
       "user_score                 6701  0.401\n",
       "year_of_release             269  0.016\n",
       "name                          2  0.000\n",
       "platform                      0  0.000\n",
       "genre                         2  0.000\n",
       "na_sales                      0  0.000\n",
       "eu_sales                      0  0.000\n",
       "jp_sales                      0  0.000\n",
       "other_sales                   0  0.000"
      ]
     },
     "execution_count": 6,
     "metadata": {},
     "output_type": "execute_result"
    }
   ],
   "source": [
    "mis_values = df.isnull().sum().to_frame('missing_values')\n",
    "mis_values['%'] = round(df.isnull().sum()/len(df),3)\n",
    "mis_values.sort_values(by='%', ascending=False)"
   ]
  },
  {
   "cell_type": "code",
   "execution_count": 7,
   "id": "5fca1b10-b50c-44e3-9b59-b36dea8c2a23",
   "metadata": {},
   "outputs": [],
   "source": [
    "#Convert the data to the required types.\n",
    "\n",
    "#Presence of missing values, need to fill them in or remove. As of now, I've decided to fill them in since we may not be concerned with dates. \n",
    "df['year_of_release'] = df['year_of_release'].fillna(0).astype(int)\n",
    "#Change float to int, since decimal value is unnecessary \n",
    "df['year_of_release'] = df['year_of_release'].astype(int)"
   ]
  },
  {
   "cell_type": "code",
   "execution_count": 8,
   "id": "794fc5ff-ae24-4770-a7ac-799ad30d0da1",
   "metadata": {},
   "outputs": [
    {
     "data": {
      "text/html": [
       "<div>\n",
       "<style scoped>\n",
       "    .dataframe tbody tr th:only-of-type {\n",
       "        vertical-align: middle;\n",
       "    }\n",
       "\n",
       "    .dataframe tbody tr th {\n",
       "        vertical-align: top;\n",
       "    }\n",
       "\n",
       "    .dataframe thead th {\n",
       "        text-align: right;\n",
       "    }\n",
       "</style>\n",
       "<table border=\"1\" class=\"dataframe\">\n",
       "  <thead>\n",
       "    <tr style=\"text-align: right;\">\n",
       "      <th></th>\n",
       "      <th>name</th>\n",
       "      <th>platform</th>\n",
       "      <th>year_of_release</th>\n",
       "      <th>genre</th>\n",
       "      <th>na_sales</th>\n",
       "      <th>eu_sales</th>\n",
       "      <th>jp_sales</th>\n",
       "      <th>other_sales</th>\n",
       "      <th>critic_score</th>\n",
       "      <th>user_score</th>\n",
       "      <th>rating</th>\n",
       "    </tr>\n",
       "  </thead>\n",
       "  <tbody>\n",
       "    <tr>\n",
       "      <th>659</th>\n",
       "      <td>NaN</td>\n",
       "      <td>GEN</td>\n",
       "      <td>1993</td>\n",
       "      <td>NaN</td>\n",
       "      <td>1.78</td>\n",
       "      <td>0.53</td>\n",
       "      <td>0.00</td>\n",
       "      <td>0.08</td>\n",
       "      <td>NaN</td>\n",
       "      <td>NaN</td>\n",
       "      <td>NaN</td>\n",
       "    </tr>\n",
       "    <tr>\n",
       "      <th>14244</th>\n",
       "      <td>NaN</td>\n",
       "      <td>GEN</td>\n",
       "      <td>1993</td>\n",
       "      <td>NaN</td>\n",
       "      <td>0.00</td>\n",
       "      <td>0.00</td>\n",
       "      <td>0.03</td>\n",
       "      <td>0.00</td>\n",
       "      <td>NaN</td>\n",
       "      <td>NaN</td>\n",
       "      <td>NaN</td>\n",
       "    </tr>\n",
       "  </tbody>\n",
       "</table>\n",
       "</div>"
      ],
      "text/plain": [
       "      name platform  year_of_release genre  na_sales  eu_sales  jp_sales  \\\n",
       "659    NaN      GEN             1993   NaN      1.78      0.53      0.00   \n",
       "14244  NaN      GEN             1993   NaN      0.00      0.00      0.03   \n",
       "\n",
       "       other_sales  critic_score user_score rating  \n",
       "659           0.08           NaN        NaN    NaN  \n",
       "14244         0.00           NaN        NaN    NaN  "
      ]
     },
     "execution_count": 8,
     "metadata": {},
     "output_type": "execute_result"
    }
   ],
   "source": [
    "#Rows where genre are missing also have many other columns that are missing. Because we are concerned with genre, I have decided to remove them. \n",
    "df[df['genre'].isna()]"
   ]
  },
  {
   "cell_type": "code",
   "execution_count": 9,
   "id": "be2488d5-4014-4864-ac98-0f2398dd0acd",
   "metadata": {},
   "outputs": [
    {
     "name": "stdout",
     "output_type": "stream",
     "text": [
      "<class 'pandas.core.frame.DataFrame'>\n",
      "Int64Index: 16713 entries, 0 to 16714\n",
      "Data columns (total 11 columns):\n",
      " #   Column           Non-Null Count  Dtype  \n",
      "---  ------           --------------  -----  \n",
      " 0   name             16713 non-null  object \n",
      " 1   platform         16713 non-null  object \n",
      " 2   year_of_release  16713 non-null  int64  \n",
      " 3   genre            16713 non-null  object \n",
      " 4   na_sales         16713 non-null  float64\n",
      " 5   eu_sales         16713 non-null  float64\n",
      " 6   jp_sales         16713 non-null  float64\n",
      " 7   other_sales      16713 non-null  float64\n",
      " 8   critic_score     8137 non-null   float64\n",
      " 9   user_score       10014 non-null  object \n",
      " 10  rating           9949 non-null   object \n",
      "dtypes: float64(5), int64(1), object(5)\n",
      "memory usage: 1.5+ MB\n"
     ]
    }
   ],
   "source": [
    "#Remove both rows with missing genre values\n",
    "df = df[df['genre'].notna()]\n",
    "df.info()"
   ]
  },
  {
   "cell_type": "markdown",
   "id": "b27c6b04-57e8-409a-a42c-3e1f7a00e0c3",
   "metadata": {},
   "source": [
    "Critic Score, User Score, and Rating are only columns with missing info"
   ]
  },
  {
   "cell_type": "code",
   "execution_count": 10,
   "id": "f4adfacb-d69f-4cbf-899b-071a59618c25",
   "metadata": {},
   "outputs": [
    {
     "data": {
      "text/html": [
       "<div>\n",
       "<style scoped>\n",
       "    .dataframe tbody tr th:only-of-type {\n",
       "        vertical-align: middle;\n",
       "    }\n",
       "\n",
       "    .dataframe tbody tr th {\n",
       "        vertical-align: top;\n",
       "    }\n",
       "\n",
       "    .dataframe thead th {\n",
       "        text-align: right;\n",
       "    }\n",
       "</style>\n",
       "<table border=\"1\" class=\"dataframe\">\n",
       "  <thead>\n",
       "    <tr style=\"text-align: right;\">\n",
       "      <th></th>\n",
       "      <th>platform</th>\n",
       "      <th>critic_score</th>\n",
       "    </tr>\n",
       "  </thead>\n",
       "  <tbody>\n",
       "    <tr>\n",
       "      <th>0</th>\n",
       "      <td>2600</td>\n",
       "      <td>NaN</td>\n",
       "    </tr>\n",
       "    <tr>\n",
       "      <th>1</th>\n",
       "      <td>3DO</td>\n",
       "      <td>NaN</td>\n",
       "    </tr>\n",
       "    <tr>\n",
       "      <th>2</th>\n",
       "      <td>3DS</td>\n",
       "      <td>67.101190</td>\n",
       "    </tr>\n",
       "    <tr>\n",
       "      <th>3</th>\n",
       "      <td>DC</td>\n",
       "      <td>87.357143</td>\n",
       "    </tr>\n",
       "    <tr>\n",
       "      <th>4</th>\n",
       "      <td>DS</td>\n",
       "      <td>63.761506</td>\n",
       "    </tr>\n",
       "    <tr>\n",
       "      <th>5</th>\n",
       "      <td>GB</td>\n",
       "      <td>NaN</td>\n",
       "    </tr>\n",
       "    <tr>\n",
       "      <th>6</th>\n",
       "      <td>GBA</td>\n",
       "      <td>67.372146</td>\n",
       "    </tr>\n",
       "    <tr>\n",
       "      <th>7</th>\n",
       "      <td>GC</td>\n",
       "      <td>69.488839</td>\n",
       "    </tr>\n",
       "    <tr>\n",
       "      <th>8</th>\n",
       "      <td>GEN</td>\n",
       "      <td>NaN</td>\n",
       "    </tr>\n",
       "    <tr>\n",
       "      <th>9</th>\n",
       "      <td>GG</td>\n",
       "      <td>NaN</td>\n",
       "    </tr>\n",
       "    <tr>\n",
       "      <th>10</th>\n",
       "      <td>N64</td>\n",
       "      <td>NaN</td>\n",
       "    </tr>\n",
       "    <tr>\n",
       "      <th>11</th>\n",
       "      <td>NES</td>\n",
       "      <td>NaN</td>\n",
       "    </tr>\n",
       "    <tr>\n",
       "      <th>12</th>\n",
       "      <td>NG</td>\n",
       "      <td>NaN</td>\n",
       "    </tr>\n",
       "    <tr>\n",
       "      <th>13</th>\n",
       "      <td>PC</td>\n",
       "      <td>75.928671</td>\n",
       "    </tr>\n",
       "    <tr>\n",
       "      <th>14</th>\n",
       "      <td>PCFX</td>\n",
       "      <td>NaN</td>\n",
       "    </tr>\n",
       "    <tr>\n",
       "      <th>15</th>\n",
       "      <td>PS</td>\n",
       "      <td>71.515000</td>\n",
       "    </tr>\n",
       "    <tr>\n",
       "      <th>16</th>\n",
       "      <td>PS2</td>\n",
       "      <td>68.727273</td>\n",
       "    </tr>\n",
       "    <tr>\n",
       "      <th>17</th>\n",
       "      <td>PS3</td>\n",
       "      <td>70.382927</td>\n",
       "    </tr>\n",
       "    <tr>\n",
       "      <th>18</th>\n",
       "      <td>PS4</td>\n",
       "      <td>72.091270</td>\n",
       "    </tr>\n",
       "    <tr>\n",
       "      <th>19</th>\n",
       "      <td>PSP</td>\n",
       "      <td>67.424242</td>\n",
       "    </tr>\n",
       "    <tr>\n",
       "      <th>20</th>\n",
       "      <td>PSV</td>\n",
       "      <td>70.791667</td>\n",
       "    </tr>\n",
       "    <tr>\n",
       "      <th>21</th>\n",
       "      <td>SAT</td>\n",
       "      <td>NaN</td>\n",
       "    </tr>\n",
       "    <tr>\n",
       "      <th>22</th>\n",
       "      <td>SCD</td>\n",
       "      <td>NaN</td>\n",
       "    </tr>\n",
       "    <tr>\n",
       "      <th>23</th>\n",
       "      <td>SNES</td>\n",
       "      <td>NaN</td>\n",
       "    </tr>\n",
       "    <tr>\n",
       "      <th>24</th>\n",
       "      <td>TG16</td>\n",
       "      <td>NaN</td>\n",
       "    </tr>\n",
       "    <tr>\n",
       "      <th>25</th>\n",
       "      <td>WS</td>\n",
       "      <td>NaN</td>\n",
       "    </tr>\n",
       "    <tr>\n",
       "      <th>26</th>\n",
       "      <td>Wii</td>\n",
       "      <td>62.823932</td>\n",
       "    </tr>\n",
       "    <tr>\n",
       "      <th>27</th>\n",
       "      <td>WiiU</td>\n",
       "      <td>70.733333</td>\n",
       "    </tr>\n",
       "    <tr>\n",
       "      <th>28</th>\n",
       "      <td>X360</td>\n",
       "      <td>68.616812</td>\n",
       "    </tr>\n",
       "    <tr>\n",
       "      <th>29</th>\n",
       "      <td>XB</td>\n",
       "      <td>69.859310</td>\n",
       "    </tr>\n",
       "    <tr>\n",
       "      <th>30</th>\n",
       "      <td>XOne</td>\n",
       "      <td>73.325444</td>\n",
       "    </tr>\n",
       "  </tbody>\n",
       "</table>\n",
       "</div>"
      ],
      "text/plain": [
       "   platform  critic_score\n",
       "0      2600           NaN\n",
       "1       3DO           NaN\n",
       "2       3DS     67.101190\n",
       "3        DC     87.357143\n",
       "4        DS     63.761506\n",
       "5        GB           NaN\n",
       "6       GBA     67.372146\n",
       "7        GC     69.488839\n",
       "8       GEN           NaN\n",
       "9        GG           NaN\n",
       "10      N64           NaN\n",
       "11      NES           NaN\n",
       "12       NG           NaN\n",
       "13       PC     75.928671\n",
       "14     PCFX           NaN\n",
       "15       PS     71.515000\n",
       "16      PS2     68.727273\n",
       "17      PS3     70.382927\n",
       "18      PS4     72.091270\n",
       "19      PSP     67.424242\n",
       "20      PSV     70.791667\n",
       "21      SAT           NaN\n",
       "22      SCD           NaN\n",
       "23     SNES           NaN\n",
       "24     TG16           NaN\n",
       "25       WS           NaN\n",
       "26      Wii     62.823932\n",
       "27     WiiU     70.733333\n",
       "28     X360     68.616812\n",
       "29       XB     69.859310\n",
       "30     XOne     73.325444"
      ]
     },
     "execution_count": 10,
     "metadata": {},
     "output_type": "execute_result"
    }
   ],
   "source": [
    "#Could use the mean critic_score to replace missing values based on platform \n",
    "platform_means = df.groupby('platform')['critic_score'].mean().reset_index()\n",
    "platform_means"
   ]
  },
  {
   "cell_type": "markdown",
   "id": "993d5438-4f8a-4ba2-8f83-b6b071f6a3df",
   "metadata": {},
   "source": [
    "Platforms with NaN values all have no Critic Score. At the moment, I am deciding to leave the last 3 columns with their respective NaN\n",
    "values since we are more concerned with sales. "
   ]
  },
  {
   "cell_type": "code",
   "execution_count": 11,
   "id": "2cef85fb-3063-468c-8815-6eb7dc304a52",
   "metadata": {},
   "outputs": [
    {
     "data": {
      "text/plain": [
       "array([8. , nan, 8.3, 8.5, 6.6, 8.4, 8.6, 7.7, 6.3, 7.4, 8.2, 9. , 7.9,\n",
       "       8.1, 8.7, 7.1, 3.4, 5.3, 4.8, 3.2, 8.9, 6.4, 7.8, 7.5, 2.6, 7.2,\n",
       "       9.2, 7. , 7.3, 4.3, 7.6, 5.7, 5. , 9.1, 6.5, 8.8, 6.9, 9.4, 6.8,\n",
       "       6.1, 6.7, 5.4, 4. , 4.9, 4.5, 9.3, 6.2, 4.2, 6. , 3.7, 4.1, 5.8,\n",
       "       5.6, 5.5, 4.4, 4.6, 5.9, 3.9, 3.1, 2.9, 5.2, 3.3, 4.7, 5.1, 3.5,\n",
       "       2.5, 1.9, 3. , 2.7, 2.2, 2. , 9.5, 2.1, 3.6, 2.8, 1.8, 3.8, 0. ,\n",
       "       1.6, 9.6, 2.4, 1.7, 1.1, 0.3, 1.5, 0.7, 1.2, 2.3, 0.5, 1.3, 0.2,\n",
       "       0.6, 1.4, 0.9, 1. , 9.7])"
      ]
     },
     "execution_count": 11,
     "metadata": {},
     "output_type": "execute_result"
    }
   ],
   "source": [
    "df['user_score'] = pd.to_numeric(df['user_score'], errors='coerce')\n",
    "#Pay attention to the abbreviation TBD (to be determined). Replace with nan\n",
    "df['user_score'].unique()"
   ]
  },
  {
   "cell_type": "code",
   "execution_count": 12,
   "id": "7dad7416",
   "metadata": {},
   "outputs": [],
   "source": [
    "user_mean = df['user_score'].mean()\n",
    "df['user_score'] = df['user_score'].fillna(user_mean)"
   ]
  },
  {
   "cell_type": "code",
   "execution_count": 13,
   "id": "2111ae74-f95e-41c2-ae64-6820a8b6b139",
   "metadata": {},
   "outputs": [
    {
     "data": {
      "text/html": [
       "<div>\n",
       "<style scoped>\n",
       "    .dataframe tbody tr th:only-of-type {\n",
       "        vertical-align: middle;\n",
       "    }\n",
       "\n",
       "    .dataframe tbody tr th {\n",
       "        vertical-align: top;\n",
       "    }\n",
       "\n",
       "    .dataframe thead th {\n",
       "        text-align: right;\n",
       "    }\n",
       "</style>\n",
       "<table border=\"1\" class=\"dataframe\">\n",
       "  <thead>\n",
       "    <tr style=\"text-align: right;\">\n",
       "      <th></th>\n",
       "      <th>name</th>\n",
       "      <th>platform</th>\n",
       "      <th>year_of_release</th>\n",
       "      <th>genre</th>\n",
       "      <th>na_sales</th>\n",
       "      <th>eu_sales</th>\n",
       "      <th>jp_sales</th>\n",
       "      <th>other_sales</th>\n",
       "      <th>critic_score</th>\n",
       "      <th>user_score</th>\n",
       "      <th>rating</th>\n",
       "    </tr>\n",
       "  </thead>\n",
       "  <tbody>\n",
       "  </tbody>\n",
       "</table>\n",
       "</div>"
      ],
      "text/plain": [
       "Empty DataFrame\n",
       "Columns: [name, platform, year_of_release, genre, na_sales, eu_sales, jp_sales, other_sales, critic_score, user_score, rating]\n",
       "Index: []"
      ]
     },
     "execution_count": 13,
     "metadata": {},
     "output_type": "execute_result"
    }
   ],
   "source": [
    "tbd_rows = df[df['user_score'] == 'tbd']\n",
    "tbd_rows"
   ]
  },
  {
   "cell_type": "code",
   "execution_count": 14,
   "id": "d784b846-dc5f-4a3c-8698-8832490ecd6c",
   "metadata": {},
   "outputs": [],
   "source": [
    "#Calculate the total sales (the sum of sales in all regions) for each game and put these values in a separate column.\n",
    "df.loc[:, 'total_sales'] = df['na_sales'] + df['eu_sales'] + df['jp_sales'] + df['other_sales']"
   ]
  },
  {
   "cell_type": "markdown",
   "id": "7d8c556c-fbe0-4190-a83e-c87883bdcefb",
   "metadata": {},
   "source": [
    "## Step 3 Analyze the Data"
   ]
  },
  {
   "cell_type": "code",
   "execution_count": 15,
   "id": "e89c8c0d-364d-4c4c-9205-445ad6c8ce97",
   "metadata": {},
   "outputs": [
    {
     "data": {
      "image/png": "[encoded data removed]",
      "text/plain": [
       "<Figure size 640x480 with 1 Axes>"
      ]
     },
     "metadata": {},
     "output_type": "display_data"
    }
   ],
   "source": [
    "#Look at how many games were released in different years. Is the data for every period significant?\n",
    "yearly_counts = df.groupby('year_of_release').size()\n",
    "yearly_counts.plot(kind='bar', color='skyblue')\n",
    "plt.show()"
   ]
  },
  {
   "cell_type": "markdown",
   "id": "70d79c46-f9e3-4a8a-b728-180768856ef0",
   "metadata": {},
   "source": [
    "From 1994 until 2008, release of games were increasing. After 2009, release of games have seen a downard trend. "
   ]
  },
  {
   "cell_type": "markdown",
   "id": "7c35c623-38e4-4955-91f6-b38b8a3aefdf",
   "metadata": {},
   "source": [
    "(Look at how sales varied from platform to platform. Choose the platforms with the greatest total sales and build a distribution based on data for each year. Find platforms that used to be popular but now have zero sales. How long does it generally take for new platforms to appear and old ones to fade?)"
   ]
  },
  {
   "cell_type": "code",
   "execution_count": 16,
   "id": "64b37fcc-832a-411f-b2d4-28c7393cfda6",
   "metadata": {},
   "outputs": [
    {
     "data": {
      "text/plain": [
       "platform\n",
       "PS2     1255.77\n",
       "X360     971.42\n",
       "PS3      939.65\n",
       "Wii      907.51\n",
       "DS       806.12\n",
       "PS       730.86\n",
       "GBA      317.85\n",
       "PS4      314.14\n",
       "PSP      294.05\n",
       "PC       259.52\n",
       "3DS      259.00\n",
       "XB       257.74\n",
       "GB       255.46\n",
       "NES      251.05\n",
       "N64      218.68\n",
       "SNES     200.04\n",
       "GC       198.93\n",
       "XOne     159.32\n",
       "2600      96.98\n",
       "WiiU      82.19\n",
       "PSV       54.07\n",
       "SAT       33.59\n",
       "GEN       28.35\n",
       "DC        15.95\n",
       "SCD        1.86\n",
       "NG         1.44\n",
       "WS         1.42\n",
       "TG16       0.16\n",
       "3DO        0.10\n",
       "GG         0.04\n",
       "PCFX       0.03\n",
       "Name: total_sales, dtype: float64"
      ]
     },
     "execution_count": 16,
     "metadata": {},
     "output_type": "execute_result"
    }
   ],
   "source": [
    "platform_sales = df.groupby('platform')['total_sales'].sum().sort_values(ascending=False)\n",
    "platform_sales"
   ]
  },
  {
   "cell_type": "code",
   "execution_count": 17,
   "id": "6e1d329d-2dec-4da4-bac2-79ea30145763",
   "metadata": {},
   "outputs": [],
   "source": [
    "sales_by_plat = df.groupby('platform').agg({'total_sales': ['mean','min','max']})"
   ]
  },
  {
   "cell_type": "code",
   "execution_count": 18,
   "id": "531d20b5-833c-49f1-b74b-1aee270a8431",
   "metadata": {},
   "outputs": [
    {
     "data": {
      "text/html": [
       "<div>\n",
       "<style scoped>\n",
       "    .dataframe tbody tr th:only-of-type {\n",
       "        vertical-align: middle;\n",
       "    }\n",
       "\n",
       "    .dataframe tbody tr th {\n",
       "        vertical-align: top;\n",
       "    }\n",
       "\n",
       "    .dataframe thead tr th {\n",
       "        text-align: left;\n",
       "    }\n",
       "\n",
       "    .dataframe thead tr:last-of-type th {\n",
       "        text-align: right;\n",
       "    }\n",
       "</style>\n",
       "<table border=\"1\" class=\"dataframe\">\n",
       "  <thead>\n",
       "    <tr>\n",
       "      <th></th>\n",
       "      <th colspan=\"3\" halign=\"left\">total_sales</th>\n",
       "    </tr>\n",
       "    <tr>\n",
       "      <th></th>\n",
       "      <th>mean</th>\n",
       "      <th>min</th>\n",
       "      <th>max</th>\n",
       "    </tr>\n",
       "    <tr>\n",
       "      <th>platform</th>\n",
       "      <th></th>\n",
       "      <th></th>\n",
       "      <th></th>\n",
       "    </tr>\n",
       "  </thead>\n",
       "  <tbody>\n",
       "    <tr>\n",
       "      <th>2600</th>\n",
       "      <td>0.729173</td>\n",
       "      <td>0.07</td>\n",
       "      <td>7.81</td>\n",
       "    </tr>\n",
       "    <tr>\n",
       "      <th>3DO</th>\n",
       "      <td>0.033333</td>\n",
       "      <td>0.02</td>\n",
       "      <td>0.06</td>\n",
       "    </tr>\n",
       "    <tr>\n",
       "      <th>3DS</th>\n",
       "      <td>0.498077</td>\n",
       "      <td>0.01</td>\n",
       "      <td>14.60</td>\n",
       "    </tr>\n",
       "    <tr>\n",
       "      <th>DC</th>\n",
       "      <td>0.306731</td>\n",
       "      <td>0.02</td>\n",
       "      <td>2.41</td>\n",
       "    </tr>\n",
       "    <tr>\n",
       "      <th>DS</th>\n",
       "      <td>0.374765</td>\n",
       "      <td>0.01</td>\n",
       "      <td>29.80</td>\n",
       "    </tr>\n",
       "    <tr>\n",
       "      <th>GB</th>\n",
       "      <td>2.606735</td>\n",
       "      <td>0.06</td>\n",
       "      <td>31.38</td>\n",
       "    </tr>\n",
       "    <tr>\n",
       "      <th>GBA</th>\n",
       "      <td>0.386679</td>\n",
       "      <td>0.01</td>\n",
       "      <td>15.84</td>\n",
       "    </tr>\n",
       "    <tr>\n",
       "      <th>GC</th>\n",
       "      <td>0.357788</td>\n",
       "      <td>0.01</td>\n",
       "      <td>7.06</td>\n",
       "    </tr>\n",
       "    <tr>\n",
       "      <th>GEN</th>\n",
       "      <td>1.050000</td>\n",
       "      <td>0.03</td>\n",
       "      <td>6.02</td>\n",
       "    </tr>\n",
       "    <tr>\n",
       "      <th>GG</th>\n",
       "      <td>0.040000</td>\n",
       "      <td>0.04</td>\n",
       "      <td>0.04</td>\n",
       "    </tr>\n",
       "    <tr>\n",
       "      <th>N64</th>\n",
       "      <td>0.685517</td>\n",
       "      <td>0.01</td>\n",
       "      <td>11.90</td>\n",
       "    </tr>\n",
       "    <tr>\n",
       "      <th>NES</th>\n",
       "      <td>2.561735</td>\n",
       "      <td>0.06</td>\n",
       "      <td>40.24</td>\n",
       "    </tr>\n",
       "    <tr>\n",
       "      <th>NG</th>\n",
       "      <td>0.120000</td>\n",
       "      <td>0.02</td>\n",
       "      <td>0.25</td>\n",
       "    </tr>\n",
       "    <tr>\n",
       "      <th>PC</th>\n",
       "      <td>0.266448</td>\n",
       "      <td>0.01</td>\n",
       "      <td>8.01</td>\n",
       "    </tr>\n",
       "    <tr>\n",
       "      <th>PCFX</th>\n",
       "      <td>0.030000</td>\n",
       "      <td>0.03</td>\n",
       "      <td>0.03</td>\n",
       "    </tr>\n",
       "    <tr>\n",
       "      <th>PS</th>\n",
       "      <td>0.610576</td>\n",
       "      <td>0.01</td>\n",
       "      <td>10.95</td>\n",
       "    </tr>\n",
       "    <tr>\n",
       "      <th>PS2</th>\n",
       "      <td>0.581106</td>\n",
       "      <td>0.00</td>\n",
       "      <td>20.81</td>\n",
       "    </tr>\n",
       "    <tr>\n",
       "      <th>PS3</th>\n",
       "      <td>0.705973</td>\n",
       "      <td>0.00</td>\n",
       "      <td>21.05</td>\n",
       "    </tr>\n",
       "    <tr>\n",
       "      <th>PS4</th>\n",
       "      <td>0.801378</td>\n",
       "      <td>0.01</td>\n",
       "      <td>14.63</td>\n",
       "    </tr>\n",
       "    <tr>\n",
       "      <th>PSP</th>\n",
       "      <td>0.243218</td>\n",
       "      <td>0.01</td>\n",
       "      <td>7.68</td>\n",
       "    </tr>\n",
       "    <tr>\n",
       "      <th>PSV</th>\n",
       "      <td>0.125744</td>\n",
       "      <td>0.01</td>\n",
       "      <td>1.96</td>\n",
       "    </tr>\n",
       "    <tr>\n",
       "      <th>SAT</th>\n",
       "      <td>0.194162</td>\n",
       "      <td>0.02</td>\n",
       "      <td>1.93</td>\n",
       "    </tr>\n",
       "    <tr>\n",
       "      <th>SCD</th>\n",
       "      <td>0.310000</td>\n",
       "      <td>0.04</td>\n",
       "      <td>1.50</td>\n",
       "    </tr>\n",
       "    <tr>\n",
       "      <th>SNES</th>\n",
       "      <td>0.836987</td>\n",
       "      <td>0.01</td>\n",
       "      <td>20.62</td>\n",
       "    </tr>\n",
       "    <tr>\n",
       "      <th>TG16</th>\n",
       "      <td>0.080000</td>\n",
       "      <td>0.02</td>\n",
       "      <td>0.14</td>\n",
       "    </tr>\n",
       "    <tr>\n",
       "      <th>WS</th>\n",
       "      <td>0.236667</td>\n",
       "      <td>0.03</td>\n",
       "      <td>0.51</td>\n",
       "    </tr>\n",
       "    <tr>\n",
       "      <th>Wii</th>\n",
       "      <td>0.687508</td>\n",
       "      <td>0.01</td>\n",
       "      <td>82.54</td>\n",
       "    </tr>\n",
       "    <tr>\n",
       "      <th>WiiU</th>\n",
       "      <td>0.559116</td>\n",
       "      <td>0.01</td>\n",
       "      <td>7.09</td>\n",
       "    </tr>\n",
       "    <tr>\n",
       "      <th>X360</th>\n",
       "      <td>0.769746</td>\n",
       "      <td>0.01</td>\n",
       "      <td>21.82</td>\n",
       "    </tr>\n",
       "    <tr>\n",
       "      <th>XB</th>\n",
       "      <td>0.312791</td>\n",
       "      <td>0.01</td>\n",
       "      <td>8.48</td>\n",
       "    </tr>\n",
       "    <tr>\n",
       "      <th>XOne</th>\n",
       "      <td>0.645020</td>\n",
       "      <td>0.01</td>\n",
       "      <td>7.39</td>\n",
       "    </tr>\n",
       "  </tbody>\n",
       "</table>\n",
       "</div>"
      ],
      "text/plain": [
       "         total_sales             \n",
       "                mean   min    max\n",
       "platform                         \n",
       "2600        0.729173  0.07   7.81\n",
       "3DO         0.033333  0.02   0.06\n",
       "3DS         0.498077  0.01  14.60\n",
       "DC          0.306731  0.02   2.41\n",
       "DS          0.374765  0.01  29.80\n",
       "GB          2.606735  0.06  31.38\n",
       "GBA         0.386679  0.01  15.84\n",
       "GC          0.357788  0.01   7.06\n",
       "GEN         1.050000  0.03   6.02\n",
       "GG          0.040000  0.04   0.04\n",
       "N64         0.685517  0.01  11.90\n",
       "NES         2.561735  0.06  40.24\n",
       "NG          0.120000  0.02   0.25\n",
       "PC          0.266448  0.01   8.01\n",
       "PCFX        0.030000  0.03   0.03\n",
       "PS          0.610576  0.01  10.95\n",
       "PS2         0.581106  0.00  20.81\n",
       "PS3         0.705973  0.00  21.05\n",
       "PS4         0.801378  0.01  14.63\n",
       "PSP         0.243218  0.01   7.68\n",
       "PSV         0.125744  0.01   1.96\n",
       "SAT         0.194162  0.02   1.93\n",
       "SCD         0.310000  0.04   1.50\n",
       "SNES        0.836987  0.01  20.62\n",
       "TG16        0.080000  0.02   0.14\n",
       "WS          0.236667  0.03   0.51\n",
       "Wii         0.687508  0.01  82.54\n",
       "WiiU        0.559116  0.01   7.09\n",
       "X360        0.769746  0.01  21.82\n",
       "XB          0.312791  0.01   8.48\n",
       "XOne        0.645020  0.01   7.39"
      ]
     },
     "execution_count": 18,
     "metadata": {},
     "output_type": "execute_result"
    }
   ],
   "source": [
    "sales_by_plat"
   ]
  },
  {
   "cell_type": "markdown",
   "id": "e5a4a9d5-268c-411e-8e8e-37842dec2842",
   "metadata": {},
   "source": [
    "PS2 and PS3 are platforms that now have zero sales "
   ]
  },
  {
   "cell_type": "code",
   "execution_count": 19,
   "id": "db590e59-618e-434d-a576-f06790ca44e5",
   "metadata": {},
   "outputs": [],
   "source": [
    "ps2 = df[df['platform'] == 'PS2']"
   ]
  },
  {
   "cell_type": "code",
   "execution_count": 20,
   "id": "3decebd8-be5c-4640-87d1-b244b7e6ac28",
   "metadata": {},
   "outputs": [
    {
     "data": {
      "text/html": [
       "<div>\n",
       "<style scoped>\n",
       "    .dataframe tbody tr th:only-of-type {\n",
       "        vertical-align: middle;\n",
       "    }\n",
       "\n",
       "    .dataframe tbody tr th {\n",
       "        vertical-align: top;\n",
       "    }\n",
       "\n",
       "    .dataframe thead th {\n",
       "        text-align: right;\n",
       "    }\n",
       "</style>\n",
       "<table border=\"1\" class=\"dataframe\">\n",
       "  <thead>\n",
       "    <tr style=\"text-align: right;\">\n",
       "      <th></th>\n",
       "      <th>name</th>\n",
       "      <th>platform</th>\n",
       "      <th>year_of_release</th>\n",
       "      <th>genre</th>\n",
       "      <th>na_sales</th>\n",
       "      <th>eu_sales</th>\n",
       "      <th>jp_sales</th>\n",
       "      <th>other_sales</th>\n",
       "      <th>critic_score</th>\n",
       "      <th>user_score</th>\n",
       "      <th>rating</th>\n",
       "      <th>total_sales</th>\n",
       "    </tr>\n",
       "  </thead>\n",
       "  <tbody>\n",
       "    <tr>\n",
       "      <th>17</th>\n",
       "      <td>Grand Theft Auto: San Andreas</td>\n",
       "      <td>PS2</td>\n",
       "      <td>2004</td>\n",
       "      <td>Action</td>\n",
       "      <td>9.43</td>\n",
       "      <td>0.40</td>\n",
       "      <td>0.41</td>\n",
       "      <td>10.57</td>\n",
       "      <td>95.0</td>\n",
       "      <td>9.000000</td>\n",
       "      <td>M</td>\n",
       "      <td>20.81</td>\n",
       "    </tr>\n",
       "    <tr>\n",
       "      <th>24</th>\n",
       "      <td>Grand Theft Auto: Vice City</td>\n",
       "      <td>PS2</td>\n",
       "      <td>2002</td>\n",
       "      <td>Action</td>\n",
       "      <td>8.41</td>\n",
       "      <td>5.49</td>\n",
       "      <td>0.47</td>\n",
       "      <td>1.78</td>\n",
       "      <td>95.0</td>\n",
       "      <td>8.700000</td>\n",
       "      <td>M</td>\n",
       "      <td>16.15</td>\n",
       "    </tr>\n",
       "    <tr>\n",
       "      <th>28</th>\n",
       "      <td>Gran Turismo 3: A-Spec</td>\n",
       "      <td>PS2</td>\n",
       "      <td>2001</td>\n",
       "      <td>Racing</td>\n",
       "      <td>6.85</td>\n",
       "      <td>5.09</td>\n",
       "      <td>1.87</td>\n",
       "      <td>1.16</td>\n",
       "      <td>95.0</td>\n",
       "      <td>8.400000</td>\n",
       "      <td>E</td>\n",
       "      <td>14.97</td>\n",
       "    </tr>\n",
       "    <tr>\n",
       "      <th>38</th>\n",
       "      <td>Grand Theft Auto III</td>\n",
       "      <td>PS2</td>\n",
       "      <td>2001</td>\n",
       "      <td>Action</td>\n",
       "      <td>6.99</td>\n",
       "      <td>4.51</td>\n",
       "      <td>0.30</td>\n",
       "      <td>1.30</td>\n",
       "      <td>97.0</td>\n",
       "      <td>8.500000</td>\n",
       "      <td>M</td>\n",
       "      <td>13.10</td>\n",
       "    </tr>\n",
       "    <tr>\n",
       "      <th>48</th>\n",
       "      <td>Gran Turismo 4</td>\n",
       "      <td>PS2</td>\n",
       "      <td>2004</td>\n",
       "      <td>Racing</td>\n",
       "      <td>3.01</td>\n",
       "      <td>0.01</td>\n",
       "      <td>1.10</td>\n",
       "      <td>7.53</td>\n",
       "      <td>89.0</td>\n",
       "      <td>8.500000</td>\n",
       "      <td>E</td>\n",
       "      <td>11.65</td>\n",
       "    </tr>\n",
       "    <tr>\n",
       "      <th>...</th>\n",
       "      <td>...</td>\n",
       "      <td>...</td>\n",
       "      <td>...</td>\n",
       "      <td>...</td>\n",
       "      <td>...</td>\n",
       "      <td>...</td>\n",
       "      <td>...</td>\n",
       "      <td>...</td>\n",
       "      <td>...</td>\n",
       "      <td>...</td>\n",
       "      <td>...</td>\n",
       "      <td>...</td>\n",
       "    </tr>\n",
       "    <tr>\n",
       "      <th>16670</th>\n",
       "      <td>Sugar + Spice! Anoko no Suteki na Nanimokamo</td>\n",
       "      <td>PS2</td>\n",
       "      <td>2008</td>\n",
       "      <td>Adventure</td>\n",
       "      <td>0.00</td>\n",
       "      <td>0.00</td>\n",
       "      <td>0.01</td>\n",
       "      <td>0.00</td>\n",
       "      <td>NaN</td>\n",
       "      <td>7.125046</td>\n",
       "      <td>NaN</td>\n",
       "      <td>0.01</td>\n",
       "    </tr>\n",
       "    <tr>\n",
       "      <th>16671</th>\n",
       "      <td>Kanokon: Esuii</td>\n",
       "      <td>PS2</td>\n",
       "      <td>2008</td>\n",
       "      <td>Adventure</td>\n",
       "      <td>0.00</td>\n",
       "      <td>0.00</td>\n",
       "      <td>0.01</td>\n",
       "      <td>0.00</td>\n",
       "      <td>NaN</td>\n",
       "      <td>7.125046</td>\n",
       "      <td>NaN</td>\n",
       "      <td>0.01</td>\n",
       "    </tr>\n",
       "    <tr>\n",
       "      <th>16683</th>\n",
       "      <td>Scarlett: Nichijou no Kyoukaisen</td>\n",
       "      <td>PS2</td>\n",
       "      <td>2008</td>\n",
       "      <td>Adventure</td>\n",
       "      <td>0.00</td>\n",
       "      <td>0.00</td>\n",
       "      <td>0.01</td>\n",
       "      <td>0.00</td>\n",
       "      <td>NaN</td>\n",
       "      <td>7.125046</td>\n",
       "      <td>NaN</td>\n",
       "      <td>0.01</td>\n",
       "    </tr>\n",
       "    <tr>\n",
       "      <th>16689</th>\n",
       "      <td>Real Rode</td>\n",
       "      <td>PS2</td>\n",
       "      <td>2008</td>\n",
       "      <td>Adventure</td>\n",
       "      <td>0.00</td>\n",
       "      <td>0.00</td>\n",
       "      <td>0.01</td>\n",
       "      <td>0.00</td>\n",
       "      <td>NaN</td>\n",
       "      <td>7.125046</td>\n",
       "      <td>NaN</td>\n",
       "      <td>0.01</td>\n",
       "    </tr>\n",
       "    <tr>\n",
       "      <th>16709</th>\n",
       "      <td>SCORE International Baja 1000: The Official Game</td>\n",
       "      <td>PS2</td>\n",
       "      <td>2008</td>\n",
       "      <td>Racing</td>\n",
       "      <td>0.00</td>\n",
       "      <td>0.00</td>\n",
       "      <td>0.00</td>\n",
       "      <td>0.00</td>\n",
       "      <td>NaN</td>\n",
       "      <td>7.125046</td>\n",
       "      <td>NaN</td>\n",
       "      <td>0.00</td>\n",
       "    </tr>\n",
       "  </tbody>\n",
       "</table>\n",
       "<p>2161 rows × 12 columns</p>\n",
       "</div>"
      ],
      "text/plain": [
       "                                                   name platform  \\\n",
       "17                        Grand Theft Auto: San Andreas      PS2   \n",
       "24                          Grand Theft Auto: Vice City      PS2   \n",
       "28                               Gran Turismo 3: A-Spec      PS2   \n",
       "38                                 Grand Theft Auto III      PS2   \n",
       "48                                       Gran Turismo 4      PS2   \n",
       "...                                                 ...      ...   \n",
       "16670      Sugar + Spice! Anoko no Suteki na Nanimokamo      PS2   \n",
       "16671                                    Kanokon: Esuii      PS2   \n",
       "16683                  Scarlett: Nichijou no Kyoukaisen      PS2   \n",
       "16689                                         Real Rode      PS2   \n",
       "16709  SCORE International Baja 1000: The Official Game      PS2   \n",
       "\n",
       "       year_of_release      genre  na_sales  eu_sales  jp_sales  other_sales  \\\n",
       "17                2004     Action      9.43      0.40      0.41        10.57   \n",
       "24                2002     Action      8.41      5.49      0.47         1.78   \n",
       "28                2001     Racing      6.85      5.09      1.87         1.16   \n",
       "38                2001     Action      6.99      4.51      0.30         1.30   \n",
       "48                2004     Racing      3.01      0.01      1.10         7.53   \n",
       "...                ...        ...       ...       ...       ...          ...   \n",
       "16670             2008  Adventure      0.00      0.00      0.01         0.00   \n",
       "16671             2008  Adventure      0.00      0.00      0.01         0.00   \n",
       "16683             2008  Adventure      0.00      0.00      0.01         0.00   \n",
       "16689             2008  Adventure      0.00      0.00      0.01         0.00   \n",
       "16709             2008     Racing      0.00      0.00      0.00         0.00   \n",
       "\n",
       "       critic_score  user_score rating  total_sales  \n",
       "17             95.0    9.000000      M        20.81  \n",
       "24             95.0    8.700000      M        16.15  \n",
       "28             95.0    8.400000      E        14.97  \n",
       "38             97.0    8.500000      M        13.10  \n",
       "48             89.0    8.500000      E        11.65  \n",
       "...             ...         ...    ...          ...  \n",
       "16670           NaN    7.125046    NaN         0.01  \n",
       "16671           NaN    7.125046    NaN         0.01  \n",
       "16683           NaN    7.125046    NaN         0.01  \n",
       "16689           NaN    7.125046    NaN         0.01  \n",
       "16709           NaN    7.125046    NaN         0.00  \n",
       "\n",
       "[2161 rows x 12 columns]"
      ]
     },
     "execution_count": 20,
     "metadata": {},
     "output_type": "execute_result"
    }
   ],
   "source": [
    "ps2"
   ]
  },
  {
   "cell_type": "code",
   "execution_count": 21,
   "id": "583d7f8f-32d0-45d9-bf09-53cba3ccce4a",
   "metadata": {},
   "outputs": [],
   "source": [
    "total_sales_by_year = ps2.groupby('year_of_release')['total_sales'].sum()"
   ]
  },
  {
   "cell_type": "code",
   "execution_count": 22,
   "id": "a83cc955-d1da-4dd9-a40b-8083812b69b8",
   "metadata": {},
   "outputs": [
    {
     "data": {
      "text/plain": [
       "<AxesSubplot:title={'center':'Total Sales by Year'}, xlabel='Release Year', ylabel='Total Sales'>"
      ]
     },
     "execution_count": 22,
     "metadata": {},
     "output_type": "execute_result"
    },
    {
     "data": {
      "image/png": "[encoded data removed]",
      "text/plain": [
       "<Figure size 640x480 with 1 Axes>"
      ]
     },
     "metadata": {},
     "output_type": "display_data"
    }
   ],
   "source": [
    "total_sales_by_year.plot(kind='bar', color='skyblue', title='Total Sales by Year', xlabel='Release Year', ylabel='Total Sales')"
   ]
  },
  {
   "cell_type": "code",
   "execution_count": 23,
   "id": "8990140f-6e78-4197-8699-e9cea89da234",
   "metadata": {},
   "outputs": [],
   "source": [
    "#Not concerned with years where year_of_release was filled with zero\n",
    "filter = df[df['year_of_release'] != 0]\n",
    "platform_lifespan = filter.groupby('platform')['year_of_release'].agg(['min', 'max'])\n",
    "#Find lifespand for PS2 and PS3 platforms\n",
    "platform_lifespan['lifespan'] = platform_lifespan['max'] - platform_lifespan['min']"
   ]
  },
  {
   "cell_type": "code",
   "execution_count": 24,
   "id": "94181ff8-49e6-40c8-a151-bceb0e84fb10",
   "metadata": {},
   "outputs": [
    {
     "data": {
      "text/html": [
       "<div>\n",
       "<style scoped>\n",
       "    .dataframe tbody tr th:only-of-type {\n",
       "        vertical-align: middle;\n",
       "    }\n",
       "\n",
       "    .dataframe tbody tr th {\n",
       "        vertical-align: top;\n",
       "    }\n",
       "\n",
       "    .dataframe thead th {\n",
       "        text-align: right;\n",
       "    }\n",
       "</style>\n",
       "<table border=\"1\" class=\"dataframe\">\n",
       "  <thead>\n",
       "    <tr style=\"text-align: right;\">\n",
       "      <th></th>\n",
       "      <th>min</th>\n",
       "      <th>max</th>\n",
       "      <th>lifespan</th>\n",
       "    </tr>\n",
       "    <tr>\n",
       "      <th>platform</th>\n",
       "      <th></th>\n",
       "      <th></th>\n",
       "      <th></th>\n",
       "    </tr>\n",
       "  </thead>\n",
       "  <tbody>\n",
       "    <tr>\n",
       "      <th>2600</th>\n",
       "      <td>1980</td>\n",
       "      <td>1989</td>\n",
       "      <td>9</td>\n",
       "    </tr>\n",
       "    <tr>\n",
       "      <th>3DO</th>\n",
       "      <td>1994</td>\n",
       "      <td>1995</td>\n",
       "      <td>1</td>\n",
       "    </tr>\n",
       "    <tr>\n",
       "      <th>3DS</th>\n",
       "      <td>2011</td>\n",
       "      <td>2016</td>\n",
       "      <td>5</td>\n",
       "    </tr>\n",
       "    <tr>\n",
       "      <th>DC</th>\n",
       "      <td>1998</td>\n",
       "      <td>2008</td>\n",
       "      <td>10</td>\n",
       "    </tr>\n",
       "    <tr>\n",
       "      <th>DS</th>\n",
       "      <td>1985</td>\n",
       "      <td>2013</td>\n",
       "      <td>28</td>\n",
       "    </tr>\n",
       "    <tr>\n",
       "      <th>GB</th>\n",
       "      <td>1988</td>\n",
       "      <td>2001</td>\n",
       "      <td>13</td>\n",
       "    </tr>\n",
       "    <tr>\n",
       "      <th>GBA</th>\n",
       "      <td>2000</td>\n",
       "      <td>2007</td>\n",
       "      <td>7</td>\n",
       "    </tr>\n",
       "    <tr>\n",
       "      <th>GC</th>\n",
       "      <td>2001</td>\n",
       "      <td>2007</td>\n",
       "      <td>6</td>\n",
       "    </tr>\n",
       "    <tr>\n",
       "      <th>GEN</th>\n",
       "      <td>1990</td>\n",
       "      <td>1994</td>\n",
       "      <td>4</td>\n",
       "    </tr>\n",
       "    <tr>\n",
       "      <th>GG</th>\n",
       "      <td>1992</td>\n",
       "      <td>1992</td>\n",
       "      <td>0</td>\n",
       "    </tr>\n",
       "    <tr>\n",
       "      <th>N64</th>\n",
       "      <td>1996</td>\n",
       "      <td>2002</td>\n",
       "      <td>6</td>\n",
       "    </tr>\n",
       "    <tr>\n",
       "      <th>NES</th>\n",
       "      <td>1983</td>\n",
       "      <td>1994</td>\n",
       "      <td>11</td>\n",
       "    </tr>\n",
       "    <tr>\n",
       "      <th>NG</th>\n",
       "      <td>1993</td>\n",
       "      <td>1996</td>\n",
       "      <td>3</td>\n",
       "    </tr>\n",
       "    <tr>\n",
       "      <th>PC</th>\n",
       "      <td>1985</td>\n",
       "      <td>2016</td>\n",
       "      <td>31</td>\n",
       "    </tr>\n",
       "    <tr>\n",
       "      <th>PCFX</th>\n",
       "      <td>1996</td>\n",
       "      <td>1996</td>\n",
       "      <td>0</td>\n",
       "    </tr>\n",
       "    <tr>\n",
       "      <th>PS</th>\n",
       "      <td>1994</td>\n",
       "      <td>2003</td>\n",
       "      <td>9</td>\n",
       "    </tr>\n",
       "    <tr>\n",
       "      <th>PS2</th>\n",
       "      <td>2000</td>\n",
       "      <td>2011</td>\n",
       "      <td>11</td>\n",
       "    </tr>\n",
       "    <tr>\n",
       "      <th>PS3</th>\n",
       "      <td>2006</td>\n",
       "      <td>2016</td>\n",
       "      <td>10</td>\n",
       "    </tr>\n",
       "    <tr>\n",
       "      <th>PS4</th>\n",
       "      <td>2013</td>\n",
       "      <td>2016</td>\n",
       "      <td>3</td>\n",
       "    </tr>\n",
       "    <tr>\n",
       "      <th>PSP</th>\n",
       "      <td>2004</td>\n",
       "      <td>2015</td>\n",
       "      <td>11</td>\n",
       "    </tr>\n",
       "    <tr>\n",
       "      <th>PSV</th>\n",
       "      <td>2011</td>\n",
       "      <td>2016</td>\n",
       "      <td>5</td>\n",
       "    </tr>\n",
       "    <tr>\n",
       "      <th>SAT</th>\n",
       "      <td>1994</td>\n",
       "      <td>1999</td>\n",
       "      <td>5</td>\n",
       "    </tr>\n",
       "    <tr>\n",
       "      <th>SCD</th>\n",
       "      <td>1993</td>\n",
       "      <td>1994</td>\n",
       "      <td>1</td>\n",
       "    </tr>\n",
       "    <tr>\n",
       "      <th>SNES</th>\n",
       "      <td>1990</td>\n",
       "      <td>1999</td>\n",
       "      <td>9</td>\n",
       "    </tr>\n",
       "    <tr>\n",
       "      <th>TG16</th>\n",
       "      <td>1995</td>\n",
       "      <td>1995</td>\n",
       "      <td>0</td>\n",
       "    </tr>\n",
       "    <tr>\n",
       "      <th>WS</th>\n",
       "      <td>1999</td>\n",
       "      <td>2001</td>\n",
       "      <td>2</td>\n",
       "    </tr>\n",
       "    <tr>\n",
       "      <th>Wii</th>\n",
       "      <td>2006</td>\n",
       "      <td>2016</td>\n",
       "      <td>10</td>\n",
       "    </tr>\n",
       "    <tr>\n",
       "      <th>WiiU</th>\n",
       "      <td>2012</td>\n",
       "      <td>2016</td>\n",
       "      <td>4</td>\n",
       "    </tr>\n",
       "    <tr>\n",
       "      <th>X360</th>\n",
       "      <td>2005</td>\n",
       "      <td>2016</td>\n",
       "      <td>11</td>\n",
       "    </tr>\n",
       "    <tr>\n",
       "      <th>XB</th>\n",
       "      <td>2000</td>\n",
       "      <td>2008</td>\n",
       "      <td>8</td>\n",
       "    </tr>\n",
       "    <tr>\n",
       "      <th>XOne</th>\n",
       "      <td>2013</td>\n",
       "      <td>2016</td>\n",
       "      <td>3</td>\n",
       "    </tr>\n",
       "  </tbody>\n",
       "</table>\n",
       "</div>"
      ],
      "text/plain": [
       "           min   max  lifespan\n",
       "platform                      \n",
       "2600      1980  1989         9\n",
       "3DO       1994  1995         1\n",
       "3DS       2011  2016         5\n",
       "DC        1998  2008        10\n",
       "DS        1985  2013        28\n",
       "GB        1988  2001        13\n",
       "GBA       2000  2007         7\n",
       "GC        2001  2007         6\n",
       "GEN       1990  1994         4\n",
       "GG        1992  1992         0\n",
       "N64       1996  2002         6\n",
       "NES       1983  1994        11\n",
       "NG        1993  1996         3\n",
       "PC        1985  2016        31\n",
       "PCFX      1996  1996         0\n",
       "PS        1994  2003         9\n",
       "PS2       2000  2011        11\n",
       "PS3       2006  2016        10\n",
       "PS4       2013  2016         3\n",
       "PSP       2004  2015        11\n",
       "PSV       2011  2016         5\n",
       "SAT       1994  1999         5\n",
       "SCD       1993  1994         1\n",
       "SNES      1990  1999         9\n",
       "TG16      1995  1995         0\n",
       "WS        1999  2001         2\n",
       "Wii       2006  2016        10\n",
       "WiiU      2012  2016         4\n",
       "X360      2005  2016        11\n",
       "XB        2000  2008         8\n",
       "XOne      2013  2016         3"
      ]
     },
     "execution_count": 24,
     "metadata": {},
     "output_type": "execute_result"
    }
   ],
   "source": [
    "platform_lifespan"
   ]
  },
  {
   "cell_type": "code",
   "execution_count": 25,
   "id": "7120838d-c03c-44ba-8d7d-5fa1f8f8208f",
   "metadata": {},
   "outputs": [
    {
     "data": {
      "text/plain": [
       "7.612903225806452"
      ]
     },
     "execution_count": 25,
     "metadata": {},
     "output_type": "execute_result"
    }
   ],
   "source": [
    "platform_lifespan['lifespan'].mean()"
   ]
  },
  {
   "cell_type": "markdown",
   "id": "ccb53588-fb7f-44a3-ad55-47855cd9e79e",
   "metadata": {},
   "source": [
    "Conclusion: \n",
    "\n",
    "PS2 and PS3 sales eventually reached zero when they both used to be in the top 3 consoles. Their average lifespan\n",
    "is 10.5 years. Meanwhile, all data for platforms average 7.6 years in rise and fall. "
   ]
  },
  {
   "cell_type": "markdown",
   "id": "6cfb70e9-881b-40ec-bafa-580f1bcb391d",
   "metadata": {},
   "source": [
    "## Data from 2012 and after"
   ]
  },
  {
   "cell_type": "code",
   "execution_count": 26,
   "id": "8df3a5c7-d00e-4cff-878c-c746f181912c",
   "metadata": {},
   "outputs": [],
   "source": [
    "#shortr time period\n",
    "filtered_df = df[df['year_of_release'] >= 2013]"
   ]
  },
  {
   "cell_type": "code",
   "execution_count": 27,
   "id": "aabab020-8cee-4966-8e47-30518cdfa7bf",
   "metadata": {},
   "outputs": [
    {
     "data": {
      "text/plain": [
       "(2233, 12)"
      ]
     },
     "execution_count": 27,
     "metadata": {},
     "output_type": "execute_result"
    }
   ],
   "source": [
    "filtered_df.shape"
   ]
  },
  {
   "cell_type": "markdown",
   "id": "29af61c9-f85f-47e8-880c-766fb4594e7a",
   "metadata": {},
   "source": [
    "Which platforms are leading in sales? Which ones are growing or shrinking? Select several potentially profitable platforms."
   ]
  },
  {
   "cell_type": "code",
   "execution_count": 28,
   "id": "b9f25290-312a-4bd4-8499-e363311ffe16",
   "metadata": {},
   "outputs": [],
   "source": [
    "sum_sales = filtered_df.groupby('platform')['total_sales'].sum().sort_values(ascending=False)"
   ]
  },
  {
   "cell_type": "code",
   "execution_count": 29,
   "id": "e309660c-9b17-4311-bdad-9a671a53b1f8",
   "metadata": {},
   "outputs": [
    {
     "data": {
      "text/plain": [
       "platform\n",
       "PS4     314.14\n",
       "PS3     181.43\n",
       "XOne    159.32\n",
       "3DS     143.25\n",
       "X360    136.80\n",
       "WiiU     64.63\n",
       "PC       39.43\n",
       "PSV      32.99\n",
       "Wii      13.66\n",
       "PSP       3.50\n",
       "DS        1.54\n",
       "Name: total_sales, dtype: float64"
      ]
     },
     "execution_count": 29,
     "metadata": {},
     "output_type": "execute_result"
    }
   ],
   "source": [
    "sum_sales"
   ]
  },
  {
   "cell_type": "code",
   "execution_count": 30,
   "id": "4217fd03-336d-479b-bb82-cb1005d03389",
   "metadata": {},
   "outputs": [],
   "source": [
    "#DataFrame where the rows represent the years, \n",
    "#the columns represent the platforms, and the values \n",
    "#represent the total sales for each platform in each year. \n",
    "df = filtered_df.groupby(['year_of_release', 'platform'])['total_sales'].sum().sort_values().unstack()#.index.get_level_values('platform').unique()"
   ]
  },
  {
   "cell_type": "code",
   "execution_count": 31,
   "id": "a9c52d73-2a10-4e23-80dc-9b7a078f8d42",
   "metadata": {},
   "outputs": [
    {
     "data": {
      "image/png": "[encoded data removed]",
      "text/plain": [
       "<Figure size 1000x600 with 2 Axes>"
      ]
     },
     "metadata": {},
     "output_type": "display_data"
    }
   ],
   "source": [
    "# Set 'year_of_release' as the index\n",
    "df.set_index(df.index, inplace=True)\n",
    "\n",
    "# Plot heatmap\n",
    "plt.figure(figsize=(10, 6))\n",
    "sns.heatmap(df, cmap='viridis', annot=True, fmt=\".2f\", linewidths=.5)\n",
    "plt.title('Total Sales by Platform and Year')\n",
    "plt.xlabel('Platform')\n",
    "plt.ylabel('year')\n",
    "plt.show()"
   ]
  },
  {
   "cell_type": "markdown",
   "id": "2e8acd97-0746-4789-abda-96665db4f073",
   "metadata": {},
   "source": [
    "According to the heatmap, the PS4 and Xone will be our top platforms in 2017. Sales peaked for the PS4 in 2015, and from the data in 2016, we are beginning to see a decline in total sales. From the data, we can expect PS4 and Xone sales to outperform other platforms."
   ]
  },
  {
   "cell_type": "markdown",
   "id": "e9a3f3a2-2e44-4776-8eb7-79e9178f616d",
   "metadata": {},
   "source": [
    "Question:\n",
    "\n",
    "Build a box plot for the global sales of all games, broken down by platform. Are the differences in sales significant? What about average sales on various platforms? Describe your findings."
   ]
  },
  {
   "cell_type": "code",
   "execution_count": 32,
   "id": "a215a6ca-7eff-403b-a561-3b1a886bf2d5",
   "metadata": {},
   "outputs": [
    {
     "data": {
      "text/html": [
       "<div>\n",
       "<style scoped>\n",
       "    .dataframe tbody tr th:only-of-type {\n",
       "        vertical-align: middle;\n",
       "    }\n",
       "\n",
       "    .dataframe tbody tr th {\n",
       "        vertical-align: top;\n",
       "    }\n",
       "\n",
       "    .dataframe thead th {\n",
       "        text-align: right;\n",
       "    }\n",
       "</style>\n",
       "<table border=\"1\" class=\"dataframe\">\n",
       "  <thead>\n",
       "    <tr style=\"text-align: right;\">\n",
       "      <th></th>\n",
       "      <th>name</th>\n",
       "      <th>platform</th>\n",
       "      <th>year_of_release</th>\n",
       "      <th>genre</th>\n",
       "      <th>na_sales</th>\n",
       "      <th>eu_sales</th>\n",
       "      <th>jp_sales</th>\n",
       "      <th>other_sales</th>\n",
       "      <th>critic_score</th>\n",
       "      <th>user_score</th>\n",
       "      <th>rating</th>\n",
       "      <th>total_sales</th>\n",
       "    </tr>\n",
       "  </thead>\n",
       "  <tbody>\n",
       "    <tr>\n",
       "      <th>16</th>\n",
       "      <td>Grand Theft Auto V</td>\n",
       "      <td>PS3</td>\n",
       "      <td>2013</td>\n",
       "      <td>Action</td>\n",
       "      <td>7.02</td>\n",
       "      <td>9.09</td>\n",
       "      <td>0.98</td>\n",
       "      <td>3.96</td>\n",
       "      <td>97.0</td>\n",
       "      <td>8.200000</td>\n",
       "      <td>M</td>\n",
       "      <td>21.05</td>\n",
       "    </tr>\n",
       "    <tr>\n",
       "      <th>23</th>\n",
       "      <td>Grand Theft Auto V</td>\n",
       "      <td>X360</td>\n",
       "      <td>2013</td>\n",
       "      <td>Action</td>\n",
       "      <td>9.66</td>\n",
       "      <td>5.14</td>\n",
       "      <td>0.06</td>\n",
       "      <td>1.41</td>\n",
       "      <td>97.0</td>\n",
       "      <td>8.100000</td>\n",
       "      <td>M</td>\n",
       "      <td>16.27</td>\n",
       "    </tr>\n",
       "    <tr>\n",
       "      <th>31</th>\n",
       "      <td>Call of Duty: Black Ops 3</td>\n",
       "      <td>PS4</td>\n",
       "      <td>2015</td>\n",
       "      <td>Shooter</td>\n",
       "      <td>6.03</td>\n",
       "      <td>5.86</td>\n",
       "      <td>0.36</td>\n",
       "      <td>2.38</td>\n",
       "      <td>NaN</td>\n",
       "      <td>7.125046</td>\n",
       "      <td>NaN</td>\n",
       "      <td>14.63</td>\n",
       "    </tr>\n",
       "    <tr>\n",
       "      <th>33</th>\n",
       "      <td>Pokemon X/Pokemon Y</td>\n",
       "      <td>3DS</td>\n",
       "      <td>2013</td>\n",
       "      <td>Role-Playing</td>\n",
       "      <td>5.28</td>\n",
       "      <td>4.19</td>\n",
       "      <td>4.35</td>\n",
       "      <td>0.78</td>\n",
       "      <td>NaN</td>\n",
       "      <td>7.125046</td>\n",
       "      <td>NaN</td>\n",
       "      <td>14.60</td>\n",
       "    </tr>\n",
       "    <tr>\n",
       "      <th>42</th>\n",
       "      <td>Grand Theft Auto V</td>\n",
       "      <td>PS4</td>\n",
       "      <td>2014</td>\n",
       "      <td>Action</td>\n",
       "      <td>3.96</td>\n",
       "      <td>6.31</td>\n",
       "      <td>0.38</td>\n",
       "      <td>1.97</td>\n",
       "      <td>97.0</td>\n",
       "      <td>8.300000</td>\n",
       "      <td>M</td>\n",
       "      <td>12.62</td>\n",
       "    </tr>\n",
       "  </tbody>\n",
       "</table>\n",
       "</div>"
      ],
      "text/plain": [
       "                         name platform  year_of_release         genre  \\\n",
       "16         Grand Theft Auto V      PS3             2013        Action   \n",
       "23         Grand Theft Auto V     X360             2013        Action   \n",
       "31  Call of Duty: Black Ops 3      PS4             2015       Shooter   \n",
       "33        Pokemon X/Pokemon Y      3DS             2013  Role-Playing   \n",
       "42         Grand Theft Auto V      PS4             2014        Action   \n",
       "\n",
       "    na_sales  eu_sales  jp_sales  other_sales  critic_score  user_score  \\\n",
       "16      7.02      9.09      0.98         3.96          97.0    8.200000   \n",
       "23      9.66      5.14      0.06         1.41          97.0    8.100000   \n",
       "31      6.03      5.86      0.36         2.38           NaN    7.125046   \n",
       "33      5.28      4.19      4.35         0.78           NaN    7.125046   \n",
       "42      3.96      6.31      0.38         1.97          97.0    8.300000   \n",
       "\n",
       "   rating  total_sales  \n",
       "16      M        21.05  \n",
       "23      M        16.27  \n",
       "31    NaN        14.63  \n",
       "33    NaN        14.60  \n",
       "42      M        12.62  "
      ]
     },
     "execution_count": 32,
     "metadata": {},
     "output_type": "execute_result"
    }
   ],
   "source": [
    "filtered_df.head(5)"
   ]
  },
  {
   "cell_type": "code",
   "execution_count": 33,
   "id": "82cd4ac4-7403-489c-aeeb-7927331ed509",
   "metadata": {},
   "outputs": [
    {
     "data": {
      "image/png": "[encoded data removed]",
      "text/plain": [
       "<Figure size 640x480 with 1 Axes>"
      ]
     },
     "metadata": {},
     "output_type": "display_data"
    }
   ],
   "source": [
    "sns.set_style('whitegrid')\n",
    "sns.boxplot(x=filtered_df['platform'], y=filtered_df['total_sales'])\n",
    "plt.yscale('log')"
   ]
  },
  {
   "cell_type": "code",
   "execution_count": 34,
   "id": "92ac21e8-5324-4e9b-a2d0-6e622c022dd5",
   "metadata": {},
   "outputs": [
    {
     "data": {
      "text/plain": [
       "platform\n",
       "PS4     0.801378\n",
       "X360    0.735484\n",
       "XOne    0.645020\n",
       "Wii     0.593913\n",
       "WiiU    0.562000\n",
       "PS3     0.525884\n",
       "3DS     0.472772\n",
       "PC      0.208624\n",
       "DS      0.192500\n",
       "PSV     0.092151\n",
       "PSP     0.052239\n",
       "Name: total_sales, dtype: float64"
      ]
     },
     "execution_count": 34,
     "metadata": {},
     "output_type": "execute_result"
    }
   ],
   "source": [
    "filtered_df.groupby('platform')['total_sales'].mean().sort_values(ascending=False)"
   ]
  },
  {
   "cell_type": "markdown",
   "id": "f104c9fa-1871-49bc-a8ce-37802fa59e47",
   "metadata": {},
   "source": [
    "The difference in sales among handheld portable gaming systems counterparts is significant,\n",
    "I am not surprised to see the x360 had the highest average sales because of the time frame in which this system was relevant. Total sales \n",
    "peaked within its lifetime, as depicted in the figure above."
   ]
  },
  {
   "cell_type": "markdown",
   "id": "ed6a290f-d908-4158-be48-99fefd4f65fb",
   "metadata": {},
   "source": [
    "Question:\n",
    "\n",
    "Take a look at how user and professional reviews affect sales for one popular platform (you choose). Build a scatter plot and calculate the correlation between reviews and sales. Draw conclusions."
   ]
  },
  {
   "cell_type": "code",
   "execution_count": 35,
   "id": "679d648f-e0b5-4831-9986-76fd8a633e01",
   "metadata": {},
   "outputs": [
    {
     "data": {
      "text/plain": [
       "<AxesSubplot:xlabel='critic_score', ylabel='total_sales'>"
      ]
     },
     "execution_count": 35,
     "metadata": {},
     "output_type": "execute_result"
    },
    {
     "data": {
      "image/png": "[encoded data removed]",
      "text/plain": [
       "<Figure size 640x480 with 1 Axes>"
      ]
     },
     "metadata": {},
     "output_type": "display_data"
    }
   ],
   "source": [
    "sns.scatterplot(x='critic_score', y='total_sales', data=filtered_df[filtered_df['platform'] == 'X360'], label='Critic Reviews')"
   ]
  },
  {
   "cell_type": "code",
   "execution_count": 36,
   "id": "ad31756d-24ad-4911-bc78-6ca9e9dd4e4d",
   "metadata": {},
   "outputs": [
    {
     "data": {
      "image/png": "[encoded data removed]",
      "text/plain": [
       "<Figure size 640x480 with 1 Axes>"
      ]
     },
     "metadata": {},
     "output_type": "display_data"
    }
   ],
   "source": [
    "my_plot = sns.scatterplot(x='user_score', y='total_sales', data=filtered_df[filtered_df['platform'] == 'X360'], label='User Reviews', linewidth=1)\n",
    "plt.xscale('log')"
   ]
  },
  {
   "cell_type": "markdown",
   "id": "e683bc72-b04e-4bcc-9bc1-1a5ab7d31cb9",
   "metadata": {},
   "source": [
    "Critic Score has more of an impact on sales compared to user score. As shown in the image above, there are many games\n",
    "with high user scores, but they only have small amounts of sales."
   ]
  },
  {
   "cell_type": "markdown",
   "id": "4f6cfd4b",
   "metadata": {},
   "source": [
    "<div class=\"alert alert-block alert-success\">\n",
    "<b>Reviewer's comment v2:</b>\n",
    "\n",
    "Well done! Very nice scatter plots.\n"
   ]
  },
  {
   "cell_type": "code",
   "execution_count": 37,
   "id": "4a613ea8-edef-45c8-868e-3a37d43a57b4",
   "metadata": {},
   "outputs": [
    {
     "data": {
      "text/html": [
       "<div>\n",
       "<style scoped>\n",
       "    .dataframe tbody tr th:only-of-type {\n",
       "        vertical-align: middle;\n",
       "    }\n",
       "\n",
       "    .dataframe tbody tr th {\n",
       "        vertical-align: top;\n",
       "    }\n",
       "\n",
       "    .dataframe thead th {\n",
       "        text-align: right;\n",
       "    }\n",
       "</style>\n",
       "<table border=\"1\" class=\"dataframe\">\n",
       "  <thead>\n",
       "    <tr style=\"text-align: right;\">\n",
       "      <th></th>\n",
       "      <th>name</th>\n",
       "      <th>platform</th>\n",
       "      <th>year_of_release</th>\n",
       "      <th>genre</th>\n",
       "      <th>na_sales</th>\n",
       "      <th>eu_sales</th>\n",
       "      <th>jp_sales</th>\n",
       "      <th>other_sales</th>\n",
       "      <th>critic_score</th>\n",
       "      <th>user_score</th>\n",
       "      <th>rating</th>\n",
       "      <th>total_sales</th>\n",
       "    </tr>\n",
       "  </thead>\n",
       "  <tbody>\n",
       "    <tr>\n",
       "      <th>16</th>\n",
       "      <td>Grand Theft Auto V</td>\n",
       "      <td>PS3</td>\n",
       "      <td>2013</td>\n",
       "      <td>Action</td>\n",
       "      <td>7.02</td>\n",
       "      <td>9.09</td>\n",
       "      <td>0.98</td>\n",
       "      <td>3.96</td>\n",
       "      <td>97.0</td>\n",
       "      <td>8.200000</td>\n",
       "      <td>M</td>\n",
       "      <td>21.05</td>\n",
       "    </tr>\n",
       "    <tr>\n",
       "      <th>23</th>\n",
       "      <td>Grand Theft Auto V</td>\n",
       "      <td>X360</td>\n",
       "      <td>2013</td>\n",
       "      <td>Action</td>\n",
       "      <td>9.66</td>\n",
       "      <td>5.14</td>\n",
       "      <td>0.06</td>\n",
       "      <td>1.41</td>\n",
       "      <td>97.0</td>\n",
       "      <td>8.100000</td>\n",
       "      <td>M</td>\n",
       "      <td>16.27</td>\n",
       "    </tr>\n",
       "    <tr>\n",
       "      <th>31</th>\n",
       "      <td>Call of Duty: Black Ops 3</td>\n",
       "      <td>PS4</td>\n",
       "      <td>2015</td>\n",
       "      <td>Shooter</td>\n",
       "      <td>6.03</td>\n",
       "      <td>5.86</td>\n",
       "      <td>0.36</td>\n",
       "      <td>2.38</td>\n",
       "      <td>NaN</td>\n",
       "      <td>7.125046</td>\n",
       "      <td>NaN</td>\n",
       "      <td>14.63</td>\n",
       "    </tr>\n",
       "    <tr>\n",
       "      <th>33</th>\n",
       "      <td>Pokemon X/Pokemon Y</td>\n",
       "      <td>3DS</td>\n",
       "      <td>2013</td>\n",
       "      <td>Role-Playing</td>\n",
       "      <td>5.28</td>\n",
       "      <td>4.19</td>\n",
       "      <td>4.35</td>\n",
       "      <td>0.78</td>\n",
       "      <td>NaN</td>\n",
       "      <td>7.125046</td>\n",
       "      <td>NaN</td>\n",
       "      <td>14.60</td>\n",
       "    </tr>\n",
       "    <tr>\n",
       "      <th>42</th>\n",
       "      <td>Grand Theft Auto V</td>\n",
       "      <td>PS4</td>\n",
       "      <td>2014</td>\n",
       "      <td>Action</td>\n",
       "      <td>3.96</td>\n",
       "      <td>6.31</td>\n",
       "      <td>0.38</td>\n",
       "      <td>1.97</td>\n",
       "      <td>97.0</td>\n",
       "      <td>8.300000</td>\n",
       "      <td>M</td>\n",
       "      <td>12.62</td>\n",
       "    </tr>\n",
       "    <tr>\n",
       "      <th>47</th>\n",
       "      <td>Pokemon Omega Ruby/Pokemon Alpha Sapphire</td>\n",
       "      <td>3DS</td>\n",
       "      <td>2014</td>\n",
       "      <td>Role-Playing</td>\n",
       "      <td>4.35</td>\n",
       "      <td>3.49</td>\n",
       "      <td>3.10</td>\n",
       "      <td>0.74</td>\n",
       "      <td>NaN</td>\n",
       "      <td>7.125046</td>\n",
       "      <td>NaN</td>\n",
       "      <td>11.68</td>\n",
       "    </tr>\n",
       "    <tr>\n",
       "      <th>60</th>\n",
       "      <td>Call of Duty: Ghosts</td>\n",
       "      <td>X360</td>\n",
       "      <td>2013</td>\n",
       "      <td>Shooter</td>\n",
       "      <td>6.73</td>\n",
       "      <td>2.56</td>\n",
       "      <td>0.04</td>\n",
       "      <td>0.91</td>\n",
       "      <td>73.0</td>\n",
       "      <td>2.600000</td>\n",
       "      <td>M</td>\n",
       "      <td>10.24</td>\n",
       "    </tr>\n",
       "    <tr>\n",
       "      <th>69</th>\n",
       "      <td>Call of Duty: Ghosts</td>\n",
       "      <td>PS3</td>\n",
       "      <td>2013</td>\n",
       "      <td>Shooter</td>\n",
       "      <td>4.10</td>\n",
       "      <td>3.63</td>\n",
       "      <td>0.38</td>\n",
       "      <td>1.25</td>\n",
       "      <td>71.0</td>\n",
       "      <td>2.600000</td>\n",
       "      <td>M</td>\n",
       "      <td>9.36</td>\n",
       "    </tr>\n",
       "    <tr>\n",
       "      <th>72</th>\n",
       "      <td>Minecraft</td>\n",
       "      <td>X360</td>\n",
       "      <td>2013</td>\n",
       "      <td>Misc</td>\n",
       "      <td>5.70</td>\n",
       "      <td>2.65</td>\n",
       "      <td>0.02</td>\n",
       "      <td>0.81</td>\n",
       "      <td>NaN</td>\n",
       "      <td>7.125046</td>\n",
       "      <td>NaN</td>\n",
       "      <td>9.18</td>\n",
       "    </tr>\n",
       "    <tr>\n",
       "      <th>77</th>\n",
       "      <td>FIFA 16</td>\n",
       "      <td>PS4</td>\n",
       "      <td>2015</td>\n",
       "      <td>Sports</td>\n",
       "      <td>1.12</td>\n",
       "      <td>6.12</td>\n",
       "      <td>0.06</td>\n",
       "      <td>1.28</td>\n",
       "      <td>82.0</td>\n",
       "      <td>4.300000</td>\n",
       "      <td>E</td>\n",
       "      <td>8.58</td>\n",
       "    </tr>\n",
       "  </tbody>\n",
       "</table>\n",
       "</div>"
      ],
      "text/plain": [
       "                                         name platform  year_of_release  \\\n",
       "16                         Grand Theft Auto V      PS3             2013   \n",
       "23                         Grand Theft Auto V     X360             2013   \n",
       "31                  Call of Duty: Black Ops 3      PS4             2015   \n",
       "33                        Pokemon X/Pokemon Y      3DS             2013   \n",
       "42                         Grand Theft Auto V      PS4             2014   \n",
       "47  Pokemon Omega Ruby/Pokemon Alpha Sapphire      3DS             2014   \n",
       "60                       Call of Duty: Ghosts     X360             2013   \n",
       "69                       Call of Duty: Ghosts      PS3             2013   \n",
       "72                                  Minecraft     X360             2013   \n",
       "77                                    FIFA 16      PS4             2015   \n",
       "\n",
       "           genre  na_sales  eu_sales  jp_sales  other_sales  critic_score  \\\n",
       "16        Action      7.02      9.09      0.98         3.96          97.0   \n",
       "23        Action      9.66      5.14      0.06         1.41          97.0   \n",
       "31       Shooter      6.03      5.86      0.36         2.38           NaN   \n",
       "33  Role-Playing      5.28      4.19      4.35         0.78           NaN   \n",
       "42        Action      3.96      6.31      0.38         1.97          97.0   \n",
       "47  Role-Playing      4.35      3.49      3.10         0.74           NaN   \n",
       "60       Shooter      6.73      2.56      0.04         0.91          73.0   \n",
       "69       Shooter      4.10      3.63      0.38         1.25          71.0   \n",
       "72          Misc      5.70      2.65      0.02         0.81           NaN   \n",
       "77        Sports      1.12      6.12      0.06         1.28          82.0   \n",
       "\n",
       "    user_score rating  total_sales  \n",
       "16    8.200000      M        21.05  \n",
       "23    8.100000      M        16.27  \n",
       "31    7.125046    NaN        14.63  \n",
       "33    7.125046    NaN        14.60  \n",
       "42    8.300000      M        12.62  \n",
       "47    7.125046    NaN        11.68  \n",
       "60    2.600000      M        10.24  \n",
       "69    2.600000      M         9.36  \n",
       "72    7.125046    NaN         9.18  \n",
       "77    4.300000      E         8.58  "
      ]
     },
     "execution_count": 37,
     "metadata": {},
     "output_type": "execute_result"
    }
   ],
   "source": [
    "filtered_df.head(10)"
   ]
  },
  {
   "cell_type": "code",
   "execution_count": 38,
   "id": "af6f4eff-9a36-42b8-a1fb-f6d9c0533c56",
   "metadata": {},
   "outputs": [
    {
     "data": {
      "text/html": [
       "<div>\n",
       "<style scoped>\n",
       "    .dataframe tbody tr th:only-of-type {\n",
       "        vertical-align: middle;\n",
       "    }\n",
       "\n",
       "    .dataframe tbody tr th {\n",
       "        vertical-align: top;\n",
       "    }\n",
       "\n",
       "    .dataframe thead th {\n",
       "        text-align: right;\n",
       "    }\n",
       "</style>\n",
       "<table border=\"1\" class=\"dataframe\">\n",
       "  <thead>\n",
       "    <tr style=\"text-align: right;\">\n",
       "      <th></th>\n",
       "      <th>name</th>\n",
       "      <th>platform</th>\n",
       "      <th>total_sales</th>\n",
       "      <th>critic_score</th>\n",
       "    </tr>\n",
       "  </thead>\n",
       "  <tbody>\n",
       "    <tr>\n",
       "      <th>16</th>\n",
       "      <td>Grand Theft Auto V</td>\n",
       "      <td>PS3</td>\n",
       "      <td>21.05</td>\n",
       "      <td>97.0</td>\n",
       "    </tr>\n",
       "    <tr>\n",
       "      <th>23</th>\n",
       "      <td>Grand Theft Auto V</td>\n",
       "      <td>X360</td>\n",
       "      <td>16.27</td>\n",
       "      <td>97.0</td>\n",
       "    </tr>\n",
       "    <tr>\n",
       "      <th>42</th>\n",
       "      <td>Grand Theft Auto V</td>\n",
       "      <td>PS4</td>\n",
       "      <td>12.62</td>\n",
       "      <td>97.0</td>\n",
       "    </tr>\n",
       "    <tr>\n",
       "      <th>165</th>\n",
       "      <td>Grand Theft Auto V</td>\n",
       "      <td>XOne</td>\n",
       "      <td>5.47</td>\n",
       "      <td>97.0</td>\n",
       "    </tr>\n",
       "    <tr>\n",
       "      <th>1730</th>\n",
       "      <td>Grand Theft Auto V</td>\n",
       "      <td>PC</td>\n",
       "      <td>1.17</td>\n",
       "      <td>96.0</td>\n",
       "    </tr>\n",
       "  </tbody>\n",
       "</table>\n",
       "</div>"
      ],
      "text/plain": [
       "                    name platform  total_sales  critic_score\n",
       "16    Grand Theft Auto V      PS3        21.05          97.0\n",
       "23    Grand Theft Auto V     X360        16.27          97.0\n",
       "42    Grand Theft Auto V      PS4        12.62          97.0\n",
       "165   Grand Theft Auto V     XOne         5.47          97.0\n",
       "1730  Grand Theft Auto V       PC         1.17          96.0"
      ]
     },
     "execution_count": 38,
     "metadata": {},
     "output_type": "execute_result"
    }
   ],
   "source": [
    "gta_v_sales = filtered_df[filtered_df['name'] == 'Grand Theft Auto V'][['name', 'platform', 'total_sales','critic_score']]\n",
    "gta_v_sales"
   ]
  },
  {
   "cell_type": "code",
   "execution_count": 39,
   "id": "c96a67b6-0409-469d-884a-06d7fe7f83ef",
   "metadata": {},
   "outputs": [],
   "source": [
    "cod = filtered_df[filtered_df['name'].str.contains('Call of Duty')][['name', 'platform', 'total_sales', 'critic_score']]"
   ]
  },
  {
   "cell_type": "code",
   "execution_count": 40,
   "id": "3a440556-a36f-48a7-b590-c97b85bd97da",
   "metadata": {},
   "outputs": [],
   "source": [
    "cod = cod.sort_values(by='critic_score', ascending=False)"
   ]
  },
  {
   "cell_type": "code",
   "execution_count": 41,
   "id": "a84a0a34-f144-4130-8051-be32347c3e60",
   "metadata": {},
   "outputs": [
    {
     "data": {
      "text/html": [
       "<div>\n",
       "<style scoped>\n",
       "    .dataframe tbody tr th:only-of-type {\n",
       "        vertical-align: middle;\n",
       "    }\n",
       "\n",
       "    .dataframe tbody tr th {\n",
       "        vertical-align: top;\n",
       "    }\n",
       "\n",
       "    .dataframe thead th {\n",
       "        text-align: right;\n",
       "    }\n",
       "</style>\n",
       "<table border=\"1\" class=\"dataframe\">\n",
       "  <thead>\n",
       "    <tr style=\"text-align: right;\">\n",
       "      <th></th>\n",
       "      <th>name</th>\n",
       "      <th>platform</th>\n",
       "      <th>total_sales</th>\n",
       "      <th>critic_score</th>\n",
       "    </tr>\n",
       "  </thead>\n",
       "  <tbody>\n",
       "    <tr>\n",
       "      <th>92</th>\n",
       "      <td>Call of Duty: Advanced Warfare</td>\n",
       "      <td>PS4</td>\n",
       "      <td>7.66</td>\n",
       "      <td>83.0</td>\n",
       "    </tr>\n",
       "    <tr>\n",
       "      <th>179</th>\n",
       "      <td>Call of Duty: Advanced Warfare</td>\n",
       "      <td>XOne</td>\n",
       "      <td>5.26</td>\n",
       "      <td>81.0</td>\n",
       "    </tr>\n",
       "    <tr>\n",
       "      <th>323</th>\n",
       "      <td>Call of Duty: Ghosts</td>\n",
       "      <td>PS4</td>\n",
       "      <td>3.83</td>\n",
       "      <td>78.0</td>\n",
       "    </tr>\n",
       "    <tr>\n",
       "      <th>493</th>\n",
       "      <td>Call of Duty: Ghosts</td>\n",
       "      <td>XOne</td>\n",
       "      <td>2.92</td>\n",
       "      <td>78.0</td>\n",
       "    </tr>\n",
       "    <tr>\n",
       "      <th>640</th>\n",
       "      <td>Call of Duty: Infinite Warfare</td>\n",
       "      <td>XOne</td>\n",
       "      <td>2.42</td>\n",
       "      <td>78.0</td>\n",
       "    </tr>\n",
       "    <tr>\n",
       "      <th>4736</th>\n",
       "      <td>Call of Duty: Advanced Warfare</td>\n",
       "      <td>PC</td>\n",
       "      <td>0.41</td>\n",
       "      <td>78.0</td>\n",
       "    </tr>\n",
       "    <tr>\n",
       "      <th>245</th>\n",
       "      <td>Call of Duty: Infinite Warfare</td>\n",
       "      <td>PS4</td>\n",
       "      <td>4.47</td>\n",
       "      <td>77.0</td>\n",
       "    </tr>\n",
       "    <tr>\n",
       "      <th>60</th>\n",
       "      <td>Call of Duty: Ghosts</td>\n",
       "      <td>X360</td>\n",
       "      <td>10.24</td>\n",
       "      <td>73.0</td>\n",
       "    </tr>\n",
       "    <tr>\n",
       "      <th>9292</th>\n",
       "      <td>Call of Duty: Infinite Warfare</td>\n",
       "      <td>PC</td>\n",
       "      <td>0.13</td>\n",
       "      <td>73.0</td>\n",
       "    </tr>\n",
       "    <tr>\n",
       "      <th>69</th>\n",
       "      <td>Call of Duty: Ghosts</td>\n",
       "      <td>PS3</td>\n",
       "      <td>9.36</td>\n",
       "      <td>71.0</td>\n",
       "    </tr>\n",
       "    <tr>\n",
       "      <th>5348</th>\n",
       "      <td>Call of Duty: Ghosts</td>\n",
       "      <td>WiiU</td>\n",
       "      <td>0.35</td>\n",
       "      <td>69.0</td>\n",
       "    </tr>\n",
       "    <tr>\n",
       "      <th>31</th>\n",
       "      <td>Call of Duty: Black Ops 3</td>\n",
       "      <td>PS4</td>\n",
       "      <td>14.63</td>\n",
       "      <td>NaN</td>\n",
       "    </tr>\n",
       "    <tr>\n",
       "      <th>99</th>\n",
       "      <td>Call of Duty: Black Ops 3</td>\n",
       "      <td>XOne</td>\n",
       "      <td>7.39</td>\n",
       "      <td>NaN</td>\n",
       "    </tr>\n",
       "    <tr>\n",
       "      <th>255</th>\n",
       "      <td>Call of Duty: Advanced Warfare</td>\n",
       "      <td>PS3</td>\n",
       "      <td>4.36</td>\n",
       "      <td>NaN</td>\n",
       "    </tr>\n",
       "    <tr>\n",
       "      <th>263</th>\n",
       "      <td>Call of Duty: Advanced Warfare</td>\n",
       "      <td>X360</td>\n",
       "      <td>4.28</td>\n",
       "      <td>NaN</td>\n",
       "    </tr>\n",
       "    <tr>\n",
       "      <th>1049</th>\n",
       "      <td>Call of Duty: Black Ops 3</td>\n",
       "      <td>X360</td>\n",
       "      <td>1.70</td>\n",
       "      <td>NaN</td>\n",
       "    </tr>\n",
       "    <tr>\n",
       "      <th>1062</th>\n",
       "      <td>Call of Duty: Black Ops 3</td>\n",
       "      <td>PS3</td>\n",
       "      <td>1.69</td>\n",
       "      <td>NaN</td>\n",
       "    </tr>\n",
       "    <tr>\n",
       "      <th>2916</th>\n",
       "      <td>Call of Duty: Ghosts</td>\n",
       "      <td>PC</td>\n",
       "      <td>0.69</td>\n",
       "      <td>NaN</td>\n",
       "    </tr>\n",
       "    <tr>\n",
       "      <th>6463</th>\n",
       "      <td>Call of Duty: Black Ops 3</td>\n",
       "      <td>PC</td>\n",
       "      <td>0.26</td>\n",
       "      <td>NaN</td>\n",
       "    </tr>\n",
       "    <tr>\n",
       "      <th>13751</th>\n",
       "      <td>Call of Duty: Modern Warfare Trilogy</td>\n",
       "      <td>X360</td>\n",
       "      <td>0.04</td>\n",
       "      <td>NaN</td>\n",
       "    </tr>\n",
       "    <tr>\n",
       "      <th>15273</th>\n",
       "      <td>Call of Duty: Modern Warfare Trilogy</td>\n",
       "      <td>PS3</td>\n",
       "      <td>0.02</td>\n",
       "      <td>NaN</td>\n",
       "    </tr>\n",
       "  </tbody>\n",
       "</table>\n",
       "</div>"
      ],
      "text/plain": [
       "                                       name platform  total_sales  \\\n",
       "92           Call of Duty: Advanced Warfare      PS4         7.66   \n",
       "179          Call of Duty: Advanced Warfare     XOne         5.26   \n",
       "323                    Call of Duty: Ghosts      PS4         3.83   \n",
       "493                    Call of Duty: Ghosts     XOne         2.92   \n",
       "640          Call of Duty: Infinite Warfare     XOne         2.42   \n",
       "4736         Call of Duty: Advanced Warfare       PC         0.41   \n",
       "245          Call of Duty: Infinite Warfare      PS4         4.47   \n",
       "60                     Call of Duty: Ghosts     X360        10.24   \n",
       "9292         Call of Duty: Infinite Warfare       PC         0.13   \n",
       "69                     Call of Duty: Ghosts      PS3         9.36   \n",
       "5348                   Call of Duty: Ghosts     WiiU         0.35   \n",
       "31                Call of Duty: Black Ops 3      PS4        14.63   \n",
       "99                Call of Duty: Black Ops 3     XOne         7.39   \n",
       "255          Call of Duty: Advanced Warfare      PS3         4.36   \n",
       "263          Call of Duty: Advanced Warfare     X360         4.28   \n",
       "1049              Call of Duty: Black Ops 3     X360         1.70   \n",
       "1062              Call of Duty: Black Ops 3      PS3         1.69   \n",
       "2916                   Call of Duty: Ghosts       PC         0.69   \n",
       "6463              Call of Duty: Black Ops 3       PC         0.26   \n",
       "13751  Call of Duty: Modern Warfare Trilogy     X360         0.04   \n",
       "15273  Call of Duty: Modern Warfare Trilogy      PS3         0.02   \n",
       "\n",
       "       critic_score  \n",
       "92             83.0  \n",
       "179            81.0  \n",
       "323            78.0  \n",
       "493            78.0  \n",
       "640            78.0  \n",
       "4736           78.0  \n",
       "245            77.0  \n",
       "60             73.0  \n",
       "9292           73.0  \n",
       "69             71.0  \n",
       "5348           69.0  \n",
       "31              NaN  \n",
       "99              NaN  \n",
       "255             NaN  \n",
       "263             NaN  \n",
       "1049            NaN  \n",
       "1062            NaN  \n",
       "2916            NaN  \n",
       "6463            NaN  \n",
       "13751           NaN  \n",
       "15273           NaN  "
      ]
     },
     "execution_count": 41,
     "metadata": {},
     "output_type": "execute_result"
    }
   ],
   "source": [
    "cod"
   ]
  },
  {
   "cell_type": "markdown",
   "id": "a5704b3a-fba0-4f50-b6e2-f5e5745a89b0",
   "metadata": {},
   "source": [
    "For data on total sales with an applicable critic score, the higher the critic score, the more sales there are in games. "
   ]
  },
  {
   "cell_type": "markdown",
   "id": "e01fca39-0484-4d88-8bb3-6585d7f82a90",
   "metadata": {},
   "source": [
    "Question:\n",
    "\n",
    "Take a look at the general distribution of games by genre. What can we say about the most profitable genres? Can you generalize about genres with high and low sales?"
   ]
  },
  {
   "cell_type": "code",
   "execution_count": 42,
   "id": "60bb3207-9315-4af1-b407-f3fcaf2f3b9e",
   "metadata": {},
   "outputs": [
    {
     "data": {
      "text/plain": [
       "<AxesSubplot:xlabel='genre'>"
      ]
     },
     "execution_count": 42,
     "metadata": {},
     "output_type": "execute_result"
    },
    {
     "data": {
      "image/png": "[encoded data removed]",
      "text/plain": [
       "<Figure size 1500x600 with 1 Axes>"
      ]
     },
     "metadata": {},
     "output_type": "display_data"
    }
   ],
   "source": [
    "genre_sales = filtered_df.groupby('genre')['total_sales'].sum().sort_values(ascending=False)\n",
    "\n",
    "# Visualize the distribution of games by genre\n",
    "plt.figure(figsize=(15, 6))\n",
    "sns.barplot(x=genre_sales.index, y=genre_sales.values, palette='viridis')"
   ]
  },
  {
   "cell_type": "markdown",
   "id": "816467ef-7146-4a0e-a896-dc4ac5f418c8",
   "metadata": {},
   "source": [
    "Most popular genre by far is action, followed by shooter and role-playing games. The least popular genre is puzzle. "
   ]
  },
  {
   "cell_type": "code",
   "execution_count": 43,
   "id": "c5230904",
   "metadata": {},
   "outputs": [
    {
     "data": {
      "image/png": "[encoded data removed]",
      "text/plain": [
       "<Figure size 1600x1000 with 1 Axes>"
      ]
     },
     "metadata": {},
     "output_type": "display_data"
    }
   ],
   "source": [
    "#Grab genre and total sales\n",
    "filtered_df.columns\n",
    "plt.figure(figsize=(16, 10))\n",
    "sns.boxplot(x='genre', y='total_sales', data= filtered_df)\n",
    "plt.title('Boxplot of Sales per Genre', fontsize=16)\n",
    "plt.xlabel('Genre')\n",
    "plt.ylabel('Sales')\n",
    "#Adjust scale size\n",
    "plt.yscale('log')\n",
    "plt.show()"
   ]
  },
  {
   "cell_type": "markdown",
   "id": "5d13eb78-ddf9-47b8-b535-c8fb1f0a3136",
   "metadata": {},
   "source": [
    "## Step 4. Create a user profile for each region"
   ]
  },
  {
   "cell_type": "markdown",
   "id": "bb3daa3b-8c3b-4ac7-839b-28c3e445d233",
   "metadata": {},
   "source": [
    "For each region (NA, EU, JP), determine:\n",
    "\n",
    "The top five platforms. \n",
    "Describe variations in their market shares from region to region.\n",
    "\n",
    "The top five genres.\n",
    " Explain the difference.\n",
    "\n",
    "Do ESRB ratings affect sales in individual regions?\n"
   ]
  },
  {
   "cell_type": "code",
   "execution_count": 44,
   "id": "8e651491-ce2e-40f4-af28-be712c502b0e",
   "metadata": {},
   "outputs": [],
   "source": [
    "#Function \n",
    "\n",
    "def sales(df, filtered_df, region):\n",
    "    \n",
    "    filtered_df['rating'] = filtered_df['rating'].fillna('Unknown')\n",
    "    \n",
    "    genres = []\n",
    "    na_sales_percent = []\n",
    "    eu_sales_percent = []\n",
    "    jp_sales_percent = []\n",
    "    \n",
    "    for i in range(5):\n",
    "        genre = df.index[i]\n",
    "        genres.append(genre)\n",
    "        \n",
    "        na_sales_percentage = df.iloc[i, 0] / df.iloc[i, 3]\n",
    "        eu_sales_percentage = df.iloc[i, 2] / df.iloc[i, 3]\n",
    "        jp_sales_percentage = df.iloc[i, 1] / df.iloc[i, 3]\n",
    "        \n",
    "        na_sales_percent.append(na_sales_percentage)\n",
    "        eu_sales_percent.append(eu_sales_percentage)\n",
    "        jp_sales_percent.append(jp_sales_percentage)\n",
    "        \n",
    "    percentages_df = pd.DataFrame({\n",
    "        'Genre': genres,\n",
    "        'NA Sales Percentage': na_sales_percent,\n",
    "        'EU Sales Percentage': eu_sales_percent,\n",
    "        'JP Sales Percentage': jp_sales_percent\n",
    "    })\n",
    "    \n",
    "    # Plotting the sales percentages\n",
    "    percentages_df.set_index('Genre').plot(kind='bar', figsize=(12, 8))\n",
    "    plt.title('Sales Percentages by Genre')\n",
    "    plt.xlabel('Genre')\n",
    "    plt.ylabel('Sales Percentage')\n",
    "    plt.xticks(rotation=45)\n",
    "    plt.show()\n",
    "        \n",
    "    genre_sales = filtered_df.groupby('genre')[region].sum().sort_values(ascending=False)\n",
    "    rating_sales = filtered_df.groupby('rating')[region].sum().sort_values(ascending=False)\n",
    "    \n",
    "    plt.figure(figsize=(12, 8))\n",
    "    sns.barplot(x=genre_sales.index, y=genre_sales.values, palette='Set2')\n",
    "    plt.title(f'Total {region} Sales by Genre')\n",
    "    plt.xlabel('Genre')\n",
    "    plt.ylabel(f'{region} Sales')\n",
    "    plt.xticks(rotation=45)\n",
    "    plt.show()\n",
    "    \n",
    "    plt.figure(figsize=(12, 8))\n",
    "    sns.barplot(x=rating_sales.index, y=rating_sales.values, palette='Set2')\n",
    "    plt.title(f'Total {region} Sales by Rating')\n",
    "    plt.xlabel('Rating')\n",
    "    plt.ylabel(f'{region} Sales')\n",
    "    plt.xticks(rotation=45)\n",
    "    plt.show()\n",
    "    \n",
    "\n",
    "        "
   ]
  },
  {
   "cell_type": "code",
   "execution_count": 45,
   "id": "1a78c429-d3dd-4368-b2fc-3819843949f6",
   "metadata": {},
   "outputs": [
    {
     "data": {
      "text/html": [
       "<div>\n",
       "<style scoped>\n",
       "    .dataframe tbody tr th:only-of-type {\n",
       "        vertical-align: middle;\n",
       "    }\n",
       "\n",
       "    .dataframe tbody tr th {\n",
       "        vertical-align: top;\n",
       "    }\n",
       "\n",
       "    .dataframe thead th {\n",
       "        text-align: right;\n",
       "    }\n",
       "</style>\n",
       "<table border=\"1\" class=\"dataframe\">\n",
       "  <thead>\n",
       "    <tr style=\"text-align: right;\">\n",
       "      <th></th>\n",
       "      <th>name</th>\n",
       "      <th>platform</th>\n",
       "      <th>year_of_release</th>\n",
       "      <th>genre</th>\n",
       "      <th>na_sales</th>\n",
       "      <th>eu_sales</th>\n",
       "      <th>jp_sales</th>\n",
       "      <th>other_sales</th>\n",
       "      <th>critic_score</th>\n",
       "      <th>user_score</th>\n",
       "      <th>rating</th>\n",
       "      <th>total_sales</th>\n",
       "    </tr>\n",
       "  </thead>\n",
       "  <tbody>\n",
       "    <tr>\n",
       "      <th>16</th>\n",
       "      <td>Grand Theft Auto V</td>\n",
       "      <td>PS3</td>\n",
       "      <td>2013</td>\n",
       "      <td>Action</td>\n",
       "      <td>7.02</td>\n",
       "      <td>9.09</td>\n",
       "      <td>0.98</td>\n",
       "      <td>3.96</td>\n",
       "      <td>97.0</td>\n",
       "      <td>8.200000</td>\n",
       "      <td>M</td>\n",
       "      <td>21.05</td>\n",
       "    </tr>\n",
       "    <tr>\n",
       "      <th>23</th>\n",
       "      <td>Grand Theft Auto V</td>\n",
       "      <td>X360</td>\n",
       "      <td>2013</td>\n",
       "      <td>Action</td>\n",
       "      <td>9.66</td>\n",
       "      <td>5.14</td>\n",
       "      <td>0.06</td>\n",
       "      <td>1.41</td>\n",
       "      <td>97.0</td>\n",
       "      <td>8.100000</td>\n",
       "      <td>M</td>\n",
       "      <td>16.27</td>\n",
       "    </tr>\n",
       "    <tr>\n",
       "      <th>31</th>\n",
       "      <td>Call of Duty: Black Ops 3</td>\n",
       "      <td>PS4</td>\n",
       "      <td>2015</td>\n",
       "      <td>Shooter</td>\n",
       "      <td>6.03</td>\n",
       "      <td>5.86</td>\n",
       "      <td>0.36</td>\n",
       "      <td>2.38</td>\n",
       "      <td>NaN</td>\n",
       "      <td>7.125046</td>\n",
       "      <td>NaN</td>\n",
       "      <td>14.63</td>\n",
       "    </tr>\n",
       "    <tr>\n",
       "      <th>33</th>\n",
       "      <td>Pokemon X/Pokemon Y</td>\n",
       "      <td>3DS</td>\n",
       "      <td>2013</td>\n",
       "      <td>Role-Playing</td>\n",
       "      <td>5.28</td>\n",
       "      <td>4.19</td>\n",
       "      <td>4.35</td>\n",
       "      <td>0.78</td>\n",
       "      <td>NaN</td>\n",
       "      <td>7.125046</td>\n",
       "      <td>NaN</td>\n",
       "      <td>14.60</td>\n",
       "    </tr>\n",
       "    <tr>\n",
       "      <th>42</th>\n",
       "      <td>Grand Theft Auto V</td>\n",
       "      <td>PS4</td>\n",
       "      <td>2014</td>\n",
       "      <td>Action</td>\n",
       "      <td>3.96</td>\n",
       "      <td>6.31</td>\n",
       "      <td>0.38</td>\n",
       "      <td>1.97</td>\n",
       "      <td>97.0</td>\n",
       "      <td>8.300000</td>\n",
       "      <td>M</td>\n",
       "      <td>12.62</td>\n",
       "    </tr>\n",
       "    <tr>\n",
       "      <th>47</th>\n",
       "      <td>Pokemon Omega Ruby/Pokemon Alpha Sapphire</td>\n",
       "      <td>3DS</td>\n",
       "      <td>2014</td>\n",
       "      <td>Role-Playing</td>\n",
       "      <td>4.35</td>\n",
       "      <td>3.49</td>\n",
       "      <td>3.10</td>\n",
       "      <td>0.74</td>\n",
       "      <td>NaN</td>\n",
       "      <td>7.125046</td>\n",
       "      <td>NaN</td>\n",
       "      <td>11.68</td>\n",
       "    </tr>\n",
       "    <tr>\n",
       "      <th>60</th>\n",
       "      <td>Call of Duty: Ghosts</td>\n",
       "      <td>X360</td>\n",
       "      <td>2013</td>\n",
       "      <td>Shooter</td>\n",
       "      <td>6.73</td>\n",
       "      <td>2.56</td>\n",
       "      <td>0.04</td>\n",
       "      <td>0.91</td>\n",
       "      <td>73.0</td>\n",
       "      <td>2.600000</td>\n",
       "      <td>M</td>\n",
       "      <td>10.24</td>\n",
       "    </tr>\n",
       "    <tr>\n",
       "      <th>69</th>\n",
       "      <td>Call of Duty: Ghosts</td>\n",
       "      <td>PS3</td>\n",
       "      <td>2013</td>\n",
       "      <td>Shooter</td>\n",
       "      <td>4.10</td>\n",
       "      <td>3.63</td>\n",
       "      <td>0.38</td>\n",
       "      <td>1.25</td>\n",
       "      <td>71.0</td>\n",
       "      <td>2.600000</td>\n",
       "      <td>M</td>\n",
       "      <td>9.36</td>\n",
       "    </tr>\n",
       "    <tr>\n",
       "      <th>72</th>\n",
       "      <td>Minecraft</td>\n",
       "      <td>X360</td>\n",
       "      <td>2013</td>\n",
       "      <td>Misc</td>\n",
       "      <td>5.70</td>\n",
       "      <td>2.65</td>\n",
       "      <td>0.02</td>\n",
       "      <td>0.81</td>\n",
       "      <td>NaN</td>\n",
       "      <td>7.125046</td>\n",
       "      <td>NaN</td>\n",
       "      <td>9.18</td>\n",
       "    </tr>\n",
       "    <tr>\n",
       "      <th>77</th>\n",
       "      <td>FIFA 16</td>\n",
       "      <td>PS4</td>\n",
       "      <td>2015</td>\n",
       "      <td>Sports</td>\n",
       "      <td>1.12</td>\n",
       "      <td>6.12</td>\n",
       "      <td>0.06</td>\n",
       "      <td>1.28</td>\n",
       "      <td>82.0</td>\n",
       "      <td>4.300000</td>\n",
       "      <td>E</td>\n",
       "      <td>8.58</td>\n",
       "    </tr>\n",
       "  </tbody>\n",
       "</table>\n",
       "</div>"
      ],
      "text/plain": [
       "                                         name platform  year_of_release  \\\n",
       "16                         Grand Theft Auto V      PS3             2013   \n",
       "23                         Grand Theft Auto V     X360             2013   \n",
       "31                  Call of Duty: Black Ops 3      PS4             2015   \n",
       "33                        Pokemon X/Pokemon Y      3DS             2013   \n",
       "42                         Grand Theft Auto V      PS4             2014   \n",
       "47  Pokemon Omega Ruby/Pokemon Alpha Sapphire      3DS             2014   \n",
       "60                       Call of Duty: Ghosts     X360             2013   \n",
       "69                       Call of Duty: Ghosts      PS3             2013   \n",
       "72                                  Minecraft     X360             2013   \n",
       "77                                    FIFA 16      PS4             2015   \n",
       "\n",
       "           genre  na_sales  eu_sales  jp_sales  other_sales  critic_score  \\\n",
       "16        Action      7.02      9.09      0.98         3.96          97.0   \n",
       "23        Action      9.66      5.14      0.06         1.41          97.0   \n",
       "31       Shooter      6.03      5.86      0.36         2.38           NaN   \n",
       "33  Role-Playing      5.28      4.19      4.35         0.78           NaN   \n",
       "42        Action      3.96      6.31      0.38         1.97          97.0   \n",
       "47  Role-Playing      4.35      3.49      3.10         0.74           NaN   \n",
       "60       Shooter      6.73      2.56      0.04         0.91          73.0   \n",
       "69       Shooter      4.10      3.63      0.38         1.25          71.0   \n",
       "72          Misc      5.70      2.65      0.02         0.81           NaN   \n",
       "77        Sports      1.12      6.12      0.06         1.28          82.0   \n",
       "\n",
       "    user_score rating  total_sales  \n",
       "16    8.200000      M        21.05  \n",
       "23    8.100000      M        16.27  \n",
       "31    7.125046    NaN        14.63  \n",
       "33    7.125046    NaN        14.60  \n",
       "42    8.300000      M        12.62  \n",
       "47    7.125046    NaN        11.68  \n",
       "60    2.600000      M        10.24  \n",
       "69    2.600000      M         9.36  \n",
       "72    7.125046    NaN         9.18  \n",
       "77    4.300000      E         8.58  "
      ]
     },
     "execution_count": 45,
     "metadata": {},
     "output_type": "execute_result"
    }
   ],
   "source": [
    "filtered_df.head(10)"
   ]
  },
  {
   "cell_type": "code",
   "execution_count": 46,
   "id": "838755e1",
   "metadata": {},
   "outputs": [
    {
     "data": {
      "text/plain": [
       "<bound method Series.unique of 16         M\n",
       "23         M\n",
       "31       NaN\n",
       "33       NaN\n",
       "42         M\n",
       "        ... \n",
       "16703    NaN\n",
       "16707    NaN\n",
       "16710    NaN\n",
       "16712    NaN\n",
       "16714    NaN\n",
       "Name: rating, Length: 2233, dtype: object>"
      ]
     },
     "execution_count": 46,
     "metadata": {},
     "output_type": "execute_result"
    }
   ],
   "source": [
    "filtered_df['rating'].unique"
   ]
  },
  {
   "cell_type": "markdown",
   "id": "ddf0ebb4-1974-4b5d-9128-1bf73483a3e2",
   "metadata": {},
   "source": [
    "## NA Top Platforms"
   ]
  },
  {
   "cell_type": "code",
   "execution_count": 47,
   "id": "dfeff8ae-ce0b-4459-b2fe-cbb8ab13e8f5",
   "metadata": {},
   "outputs": [],
   "source": [
    "na = filtered_df.groupby('platform')[['na_sales', 'jp_sales', 'eu_sales', 'total_sales']].sum().sort_values(by='na_sales', ascending=False)"
   ]
  },
  {
   "cell_type": "code",
   "execution_count": 48,
   "id": "b12abfd8-5756-4494-94a2-6bb7f39a7912",
   "metadata": {},
   "outputs": [
    {
     "data": {
      "text/html": [
       "<div>\n",
       "<style scoped>\n",
       "    .dataframe tbody tr th:only-of-type {\n",
       "        vertical-align: middle;\n",
       "    }\n",
       "\n",
       "    .dataframe tbody tr th {\n",
       "        vertical-align: top;\n",
       "    }\n",
       "\n",
       "    .dataframe thead th {\n",
       "        text-align: right;\n",
       "    }\n",
       "</style>\n",
       "<table border=\"1\" class=\"dataframe\">\n",
       "  <thead>\n",
       "    <tr style=\"text-align: right;\">\n",
       "      <th></th>\n",
       "      <th>na_sales</th>\n",
       "      <th>jp_sales</th>\n",
       "      <th>eu_sales</th>\n",
       "      <th>total_sales</th>\n",
       "    </tr>\n",
       "    <tr>\n",
       "      <th>platform</th>\n",
       "      <th></th>\n",
       "      <th></th>\n",
       "      <th></th>\n",
       "      <th></th>\n",
       "    </tr>\n",
       "  </thead>\n",
       "  <tbody>\n",
       "    <tr>\n",
       "      <th>PS4</th>\n",
       "      <td>108.74</td>\n",
       "      <td>15.96</td>\n",
       "      <td>141.09</td>\n",
       "      <td>314.14</td>\n",
       "    </tr>\n",
       "    <tr>\n",
       "      <th>XOne</th>\n",
       "      <td>93.12</td>\n",
       "      <td>0.34</td>\n",
       "      <td>51.59</td>\n",
       "      <td>159.32</td>\n",
       "    </tr>\n",
       "    <tr>\n",
       "      <th>X360</th>\n",
       "      <td>81.66</td>\n",
       "      <td>0.51</td>\n",
       "      <td>42.52</td>\n",
       "      <td>136.80</td>\n",
       "    </tr>\n",
       "    <tr>\n",
       "      <th>PS3</th>\n",
       "      <td>63.50</td>\n",
       "      <td>23.35</td>\n",
       "      <td>67.81</td>\n",
       "      <td>181.43</td>\n",
       "    </tr>\n",
       "    <tr>\n",
       "      <th>3DS</th>\n",
       "      <td>38.20</td>\n",
       "      <td>67.81</td>\n",
       "      <td>30.96</td>\n",
       "      <td>143.25</td>\n",
       "    </tr>\n",
       "    <tr>\n",
       "      <th>WiiU</th>\n",
       "      <td>29.21</td>\n",
       "      <td>10.88</td>\n",
       "      <td>19.85</td>\n",
       "      <td>64.63</td>\n",
       "    </tr>\n",
       "    <tr>\n",
       "      <th>PC</th>\n",
       "      <td>11.11</td>\n",
       "      <td>0.00</td>\n",
       "      <td>25.36</td>\n",
       "      <td>39.43</td>\n",
       "    </tr>\n",
       "    <tr>\n",
       "      <th>Wii</th>\n",
       "      <td>6.56</td>\n",
       "      <td>0.05</td>\n",
       "      <td>5.93</td>\n",
       "      <td>13.66</td>\n",
       "    </tr>\n",
       "    <tr>\n",
       "      <th>PSV</th>\n",
       "      <td>5.04</td>\n",
       "      <td>18.59</td>\n",
       "      <td>6.10</td>\n",
       "      <td>32.99</td>\n",
       "    </tr>\n",
       "    <tr>\n",
       "      <th>DS</th>\n",
       "      <td>0.57</td>\n",
       "      <td>0.00</td>\n",
       "      <td>0.85</td>\n",
       "      <td>1.54</td>\n",
       "    </tr>\n",
       "    <tr>\n",
       "      <th>PSP</th>\n",
       "      <td>0.00</td>\n",
       "      <td>3.29</td>\n",
       "      <td>0.17</td>\n",
       "      <td>3.50</td>\n",
       "    </tr>\n",
       "  </tbody>\n",
       "</table>\n",
       "</div>"
      ],
      "text/plain": [
       "          na_sales  jp_sales  eu_sales  total_sales\n",
       "platform                                           \n",
       "PS4         108.74     15.96    141.09       314.14\n",
       "XOne         93.12      0.34     51.59       159.32\n",
       "X360         81.66      0.51     42.52       136.80\n",
       "PS3          63.50     23.35     67.81       181.43\n",
       "3DS          38.20     67.81     30.96       143.25\n",
       "WiiU         29.21     10.88     19.85        64.63\n",
       "PC           11.11      0.00     25.36        39.43\n",
       "Wii           6.56      0.05      5.93        13.66\n",
       "PSV           5.04     18.59      6.10        32.99\n",
       "DS            0.57      0.00      0.85         1.54\n",
       "PSP           0.00      3.29      0.17         3.50"
      ]
     },
     "execution_count": 48,
     "metadata": {},
     "output_type": "execute_result"
    }
   ],
   "source": [
    "na"
   ]
  },
  {
   "cell_type": "code",
   "execution_count": 49,
   "id": "7d832ffe-aa61-4e63-81fb-419a24542e91",
   "metadata": {},
   "outputs": [
    {
     "data": {
      "image/png": "[encoded data removed]",
      "text/plain": [
       "<Figure size 1200x800 with 1 Axes>"
      ]
     },
     "metadata": {},
     "output_type": "display_data"
    },
    {
     "data": {
      "image/png": "[encoded data removed]",
      "text/plain": [
       "<Figure size 1200x800 with 1 Axes>"
      ]
     },
     "metadata": {},
     "output_type": "display_data"
    },
    {
     "data": {
      "image/png": "[encoded data removed]",
      "text/plain": [
       "<Figure size 1200x800 with 1 Axes>"
      ]
     },
     "metadata": {},
     "output_type": "display_data"
    }
   ],
   "source": [
    "sales(na, filtered_df, 'na_sales')"
   ]
  },
  {
   "cell_type": "markdown",
   "id": "3013c1da-74e3-4562-95f7-1a0cc9aef60e",
   "metadata": {},
   "source": [
    "The X360 dominated the NA market, almost doubling its EU counterpart. However, the PS4 seemed to do better in Europe than the PS4. \n",
    " Action and Shooter were the most popular games in North America. The most popular ESRB rating in NA is M.  "
   ]
  },
  {
   "cell_type": "markdown",
   "id": "75cb0f79-7542-4ef3-aa69-af6cc7e221e4",
   "metadata": {},
   "source": [
    "## EU Top Platforms"
   ]
  },
  {
   "cell_type": "code",
   "execution_count": 50,
   "id": "a14e83b5-8c98-49d2-8aed-5aa70632aa7b",
   "metadata": {},
   "outputs": [],
   "source": [
    "eu = filtered_df.groupby('platform')[['na_sales', 'jp_sales', 'eu_sales', 'total_sales']].sum().sort_values(by='eu_sales', ascending=False)"
   ]
  },
  {
   "cell_type": "code",
   "execution_count": 51,
   "id": "c65f77fd-edaa-4c02-944b-d2cc05f3fb9f",
   "metadata": {},
   "outputs": [
    {
     "data": {
      "text/html": [
       "<div>\n",
       "<style scoped>\n",
       "    .dataframe tbody tr th:only-of-type {\n",
       "        vertical-align: middle;\n",
       "    }\n",
       "\n",
       "    .dataframe tbody tr th {\n",
       "        vertical-align: top;\n",
       "    }\n",
       "\n",
       "    .dataframe thead th {\n",
       "        text-align: right;\n",
       "    }\n",
       "</style>\n",
       "<table border=\"1\" class=\"dataframe\">\n",
       "  <thead>\n",
       "    <tr style=\"text-align: right;\">\n",
       "      <th></th>\n",
       "      <th>na_sales</th>\n",
       "      <th>jp_sales</th>\n",
       "      <th>eu_sales</th>\n",
       "      <th>total_sales</th>\n",
       "    </tr>\n",
       "    <tr>\n",
       "      <th>platform</th>\n",
       "      <th></th>\n",
       "      <th></th>\n",
       "      <th></th>\n",
       "      <th></th>\n",
       "    </tr>\n",
       "  </thead>\n",
       "  <tbody>\n",
       "    <tr>\n",
       "      <th>PS4</th>\n",
       "      <td>108.74</td>\n",
       "      <td>15.96</td>\n",
       "      <td>141.09</td>\n",
       "      <td>314.14</td>\n",
       "    </tr>\n",
       "    <tr>\n",
       "      <th>PS3</th>\n",
       "      <td>63.50</td>\n",
       "      <td>23.35</td>\n",
       "      <td>67.81</td>\n",
       "      <td>181.43</td>\n",
       "    </tr>\n",
       "    <tr>\n",
       "      <th>XOne</th>\n",
       "      <td>93.12</td>\n",
       "      <td>0.34</td>\n",
       "      <td>51.59</td>\n",
       "      <td>159.32</td>\n",
       "    </tr>\n",
       "    <tr>\n",
       "      <th>X360</th>\n",
       "      <td>81.66</td>\n",
       "      <td>0.51</td>\n",
       "      <td>42.52</td>\n",
       "      <td>136.80</td>\n",
       "    </tr>\n",
       "    <tr>\n",
       "      <th>3DS</th>\n",
       "      <td>38.20</td>\n",
       "      <td>67.81</td>\n",
       "      <td>30.96</td>\n",
       "      <td>143.25</td>\n",
       "    </tr>\n",
       "    <tr>\n",
       "      <th>PC</th>\n",
       "      <td>11.11</td>\n",
       "      <td>0.00</td>\n",
       "      <td>25.36</td>\n",
       "      <td>39.43</td>\n",
       "    </tr>\n",
       "    <tr>\n",
       "      <th>WiiU</th>\n",
       "      <td>29.21</td>\n",
       "      <td>10.88</td>\n",
       "      <td>19.85</td>\n",
       "      <td>64.63</td>\n",
       "    </tr>\n",
       "    <tr>\n",
       "      <th>PSV</th>\n",
       "      <td>5.04</td>\n",
       "      <td>18.59</td>\n",
       "      <td>6.10</td>\n",
       "      <td>32.99</td>\n",
       "    </tr>\n",
       "    <tr>\n",
       "      <th>Wii</th>\n",
       "      <td>6.56</td>\n",
       "      <td>0.05</td>\n",
       "      <td>5.93</td>\n",
       "      <td>13.66</td>\n",
       "    </tr>\n",
       "    <tr>\n",
       "      <th>DS</th>\n",
       "      <td>0.57</td>\n",
       "      <td>0.00</td>\n",
       "      <td>0.85</td>\n",
       "      <td>1.54</td>\n",
       "    </tr>\n",
       "    <tr>\n",
       "      <th>PSP</th>\n",
       "      <td>0.00</td>\n",
       "      <td>3.29</td>\n",
       "      <td>0.17</td>\n",
       "      <td>3.50</td>\n",
       "    </tr>\n",
       "  </tbody>\n",
       "</table>\n",
       "</div>"
      ],
      "text/plain": [
       "          na_sales  jp_sales  eu_sales  total_sales\n",
       "platform                                           \n",
       "PS4         108.74     15.96    141.09       314.14\n",
       "PS3          63.50     23.35     67.81       181.43\n",
       "XOne         93.12      0.34     51.59       159.32\n",
       "X360         81.66      0.51     42.52       136.80\n",
       "3DS          38.20     67.81     30.96       143.25\n",
       "PC           11.11      0.00     25.36        39.43\n",
       "WiiU         29.21     10.88     19.85        64.63\n",
       "PSV           5.04     18.59      6.10        32.99\n",
       "Wii           6.56      0.05      5.93        13.66\n",
       "DS            0.57      0.00      0.85         1.54\n",
       "PSP           0.00      3.29      0.17         3.50"
      ]
     },
     "execution_count": 51,
     "metadata": {},
     "output_type": "execute_result"
    }
   ],
   "source": [
    "eu"
   ]
  },
  {
   "cell_type": "code",
   "execution_count": 52,
   "id": "5f8dd3aa-f6a8-4d5d-ad1b-2c6b48b892d1",
   "metadata": {},
   "outputs": [
    {
     "data": {
      "image/png": "[encoded data removed]",
      "text/plain": [
       "<Figure size 1200x800 with 1 Axes>"
      ]
     },
     "metadata": {},
     "output_type": "display_data"
    },
    {
     "data": {
      "image/png": "[encoded data removed]",
      "text/plain": [
       "<Figure size 1200x800 with 1 Axes>"
      ]
     },
     "metadata": {},
     "output_type": "display_data"
    },
    {
     "data": {
      "image/png": "[encoded data removed]",
      "text/plain": [
       "<Figure size 1200x800 with 1 Axes>"
      ]
     },
     "metadata": {},
     "output_type": "display_data"
    }
   ],
   "source": [
    "sales(eu, filtered_df, 'eu_sales')"
   ]
  },
  {
   "cell_type": "markdown",
   "id": "216ecb67-2c71-450c-a3e5-fc0ae6992c50",
   "metadata": {},
   "source": [
    "I am unsurprised that PS4 is the most popular platform in Europe by the previous NA profile. Additionally, it makes sense\n",
    "that the PS3 was the second most popular platform as Sony also made it. Still, the action and shooter genres are the most popular. \n",
    "Like NA, the most popular rating is M. "
   ]
  },
  {
   "cell_type": "markdown",
   "id": "7f861c5c-09ba-4595-b346-3ece25208b25",
   "metadata": {},
   "source": [
    "## JP Top Platforms"
   ]
  },
  {
   "cell_type": "code",
   "execution_count": 53,
   "id": "26ee664b-5bc1-492c-acf7-2b72fc8e8b0b",
   "metadata": {},
   "outputs": [],
   "source": [
    "jp = filtered_df.groupby('platform')[['na_sales', 'jp_sales', 'eu_sales', 'total_sales']].sum().sort_values(by='jp_sales', ascending=False)"
   ]
  },
  {
   "cell_type": "code",
   "execution_count": 54,
   "id": "bba71970-1f39-42da-a5b6-5a2f5b9aa480",
   "metadata": {},
   "outputs": [
    {
     "data": {
      "text/html": [
       "<div>\n",
       "<style scoped>\n",
       "    .dataframe tbody tr th:only-of-type {\n",
       "        vertical-align: middle;\n",
       "    }\n",
       "\n",
       "    .dataframe tbody tr th {\n",
       "        vertical-align: top;\n",
       "    }\n",
       "\n",
       "    .dataframe thead th {\n",
       "        text-align: right;\n",
       "    }\n",
       "</style>\n",
       "<table border=\"1\" class=\"dataframe\">\n",
       "  <thead>\n",
       "    <tr style=\"text-align: right;\">\n",
       "      <th></th>\n",
       "      <th>na_sales</th>\n",
       "      <th>jp_sales</th>\n",
       "      <th>eu_sales</th>\n",
       "      <th>total_sales</th>\n",
       "    </tr>\n",
       "    <tr>\n",
       "      <th>platform</th>\n",
       "      <th></th>\n",
       "      <th></th>\n",
       "      <th></th>\n",
       "      <th></th>\n",
       "    </tr>\n",
       "  </thead>\n",
       "  <tbody>\n",
       "    <tr>\n",
       "      <th>3DS</th>\n",
       "      <td>38.20</td>\n",
       "      <td>67.81</td>\n",
       "      <td>30.96</td>\n",
       "      <td>143.25</td>\n",
       "    </tr>\n",
       "    <tr>\n",
       "      <th>PS3</th>\n",
       "      <td>63.50</td>\n",
       "      <td>23.35</td>\n",
       "      <td>67.81</td>\n",
       "      <td>181.43</td>\n",
       "    </tr>\n",
       "    <tr>\n",
       "      <th>PSV</th>\n",
       "      <td>5.04</td>\n",
       "      <td>18.59</td>\n",
       "      <td>6.10</td>\n",
       "      <td>32.99</td>\n",
       "    </tr>\n",
       "    <tr>\n",
       "      <th>PS4</th>\n",
       "      <td>108.74</td>\n",
       "      <td>15.96</td>\n",
       "      <td>141.09</td>\n",
       "      <td>314.14</td>\n",
       "    </tr>\n",
       "    <tr>\n",
       "      <th>WiiU</th>\n",
       "      <td>29.21</td>\n",
       "      <td>10.88</td>\n",
       "      <td>19.85</td>\n",
       "      <td>64.63</td>\n",
       "    </tr>\n",
       "    <tr>\n",
       "      <th>PSP</th>\n",
       "      <td>0.00</td>\n",
       "      <td>3.29</td>\n",
       "      <td>0.17</td>\n",
       "      <td>3.50</td>\n",
       "    </tr>\n",
       "    <tr>\n",
       "      <th>X360</th>\n",
       "      <td>81.66</td>\n",
       "      <td>0.51</td>\n",
       "      <td>42.52</td>\n",
       "      <td>136.80</td>\n",
       "    </tr>\n",
       "    <tr>\n",
       "      <th>XOne</th>\n",
       "      <td>93.12</td>\n",
       "      <td>0.34</td>\n",
       "      <td>51.59</td>\n",
       "      <td>159.32</td>\n",
       "    </tr>\n",
       "    <tr>\n",
       "      <th>Wii</th>\n",
       "      <td>6.56</td>\n",
       "      <td>0.05</td>\n",
       "      <td>5.93</td>\n",
       "      <td>13.66</td>\n",
       "    </tr>\n",
       "    <tr>\n",
       "      <th>DS</th>\n",
       "      <td>0.57</td>\n",
       "      <td>0.00</td>\n",
       "      <td>0.85</td>\n",
       "      <td>1.54</td>\n",
       "    </tr>\n",
       "    <tr>\n",
       "      <th>PC</th>\n",
       "      <td>11.11</td>\n",
       "      <td>0.00</td>\n",
       "      <td>25.36</td>\n",
       "      <td>39.43</td>\n",
       "    </tr>\n",
       "  </tbody>\n",
       "</table>\n",
       "</div>"
      ],
      "text/plain": [
       "          na_sales  jp_sales  eu_sales  total_sales\n",
       "platform                                           \n",
       "3DS          38.20     67.81     30.96       143.25\n",
       "PS3          63.50     23.35     67.81       181.43\n",
       "PSV           5.04     18.59      6.10        32.99\n",
       "PS4         108.74     15.96    141.09       314.14\n",
       "WiiU         29.21     10.88     19.85        64.63\n",
       "PSP           0.00      3.29      0.17         3.50\n",
       "X360         81.66      0.51     42.52       136.80\n",
       "XOne         93.12      0.34     51.59       159.32\n",
       "Wii           6.56      0.05      5.93        13.66\n",
       "DS            0.57      0.00      0.85         1.54\n",
       "PC           11.11      0.00     25.36        39.43"
      ]
     },
     "execution_count": 54,
     "metadata": {},
     "output_type": "execute_result"
    }
   ],
   "source": [
    "jp"
   ]
  },
  {
   "cell_type": "code",
   "execution_count": 55,
   "id": "ee173fce-51c3-4c86-ac6b-ac6004575198",
   "metadata": {},
   "outputs": [
    {
     "data": {
      "image/png": "[encoded data removed]",
      "text/plain": [
       "<Figure size 1200x800 with 1 Axes>"
      ]
     },
     "metadata": {},
     "output_type": "display_data"
    },
    {
     "data": {
      "image/png": "[encoded data removed]",
      "text/plain": [
       "<Figure size 1200x800 with 1 Axes>"
      ]
     },
     "metadata": {},
     "output_type": "display_data"
    },
    {
     "data": {
      "image/png": "[encoded data removed]",
      "text/plain": [
       "<Figure size 1200x800 with 1 Axes>"
      ]
     },
     "metadata": {},
     "output_type": "display_data"
    }
   ],
   "source": [
    "sales(jp, filtered_df, 'jp_sales')"
   ]
  },
  {
   "cell_type": "markdown",
   "id": "9489dfc1-3816-40e3-82ec-9b23066dc106",
   "metadata": {},
   "source": [
    "Among the top five platforms sold in JP, the 3DS and PSV are the only two that outsold other regions. The top genre differed\n",
    "in Japan, with role-playing at the top, followed by action. Unlike NA and EU, the most popular rating in JP is E followed by T. "
   ]
  },
  {
   "cell_type": "markdown",
   "id": "2270405c-ac3d-4435-ac07-235cabe974b3",
   "metadata": {},
   "source": [
    "## Step 5. Test the following hypotheses"
   ]
  },
  {
   "cell_type": "code",
   "execution_count": 56,
   "id": "fd16d3bc-8a26-40ee-b083-f370145d7170",
   "metadata": {},
   "outputs": [
    {
     "name": "stdout",
     "output_type": "stream",
     "text": [
      "p-value: 0.06826938615189478\n",
      "We can't reject the null hypothesis\n"
     ]
    }
   ],
   "source": [
    "#Average user ratings of the Xbox One and PC platforms are the same. \n",
    "Xone = filtered_df[filtered_df['platform'] == 'XOne']\n",
    "Pc = filtered_df[filtered_df['platform'] == 'PC']\n",
    "\n",
    "alpha = .05#Standard significance level\n",
    "\n",
    "#use Welch's t-test for unequal variances \n",
    "results = st.ttest_ind(Xone['user_score'], Pc['user_score'], equal_var = False, nan_policy='omit')\n",
    "\n",
    "print('p-value:', results.pvalue)\n",
    "\n",
    "if (results.pvalue < alpha):\n",
    "    print(\"We reject the null hypothesis\")\n",
    "else:\n",
    "    print(\"We can't reject the null hypothesis\")\n",
    "    \n",
    "#Null Hypothesis: Average user ratings of the Xbox One and PC platforms are the same. \n",
    "#Alternative Average user ratings of the Xbox One and PC platforms are different. "
   ]
  },
  {
   "cell_type": "code",
   "execution_count": 57,
   "id": "099de21b-525b-4ae8-93e5-d35bf90629c4",
   "metadata": {},
   "outputs": [
    {
     "name": "stdout",
     "output_type": "stream",
     "text": [
      "p-value: 1.4183656504408837e-20\n",
      "We reject the null hypothesis\n"
     ]
    }
   ],
   "source": [
    "#Average user ratings for the Action and Sports genres are different.\n",
    "Action = filtered_df[filtered_df['genre'] == 'Action']\n",
    "Sports = filtered_df[filtered_df['genre'] == 'Sports']\n",
    "\n",
    "alpha = .05#Standard significance level\n",
    "\n",
    "results = st.ttest_ind(Action['user_score'], Sports['user_score'], equal_var = False, nan_policy='omit')\n",
    "\n",
    "print('p-value:', results.pvalue)\n",
    "\n",
    "if (results.pvalue < alpha):\n",
    "    print(\"We reject the null hypothesis\")\n",
    "else:\n",
    "    print(\"We can't reject the null hypothesis\")\n",
    "    \n",
    "#Null Hypothesis: Average user ratings for the Action and Sports genres are the same.\n",
    "#Alternative Average user ratings for the Action and Sports genres are different. "
   ]
  },
  {
   "cell_type": "markdown",
   "id": "17441315-4bb1-49a3-a72e-23962e7e91f0",
   "metadata": {},
   "source": [
    "## Conclusion"
   ]
  },
  {
   "cell_type": "markdown",
   "id": "5ac98b18-aa0d-4616-8577-3e471358d7bb",
   "metadata": {},
   "source": [
    "The average user ratings for the Xbox One and PC platforms are the same, as are the average user ratings for the action and sports genres. \n",
    "As seen before, critic_score has more of an impact on sales. Advertising campaigns in the North American and European regions should focus\n",
    "on the Xbox 360 and PS4. However, data from the heatmap suggests that Xbox360 sales are on the decline. To gain more sales within the \n",
    "In the JP region, emphasis should be placed on advertisements for E ESRB-rated games along with the role-playing genre. Meanwhile, M ESRB-rated action games are most profitable within the EU and NA regions."
   ]
  }
 ],
 "metadata": {
  "ExecuteTimeLog": [
   {
    "duration": 329,
    "start_time": "2024-05-17T19:51:17.713Z"
   },
   {
    "duration": 5401,
    "start_time": "2024-05-17T19:51:24.199Z"
   },
   {
    "duration": 58,
    "start_time": "2024-05-17T19:51:29.604Z"
   },
   {
    "duration": 444,
    "start_time": "2024-05-17T19:51:29.665Z"
   },
   {
    "duration": 0,
    "start_time": "2024-05-17T19:51:30.136Z"
   },
   {
    "duration": 0,
    "start_time": "2024-05-17T19:51:30.140Z"
   },
   {
    "duration": 0,
    "start_time": "2024-05-17T19:51:30.142Z"
   },
   {
    "duration": 0,
    "start_time": "2024-05-17T19:51:30.144Z"
   },
   {
    "duration": 0,
    "start_time": "2024-05-17T19:51:30.147Z"
   },
   {
    "duration": 0,
    "start_time": "2024-05-17T19:51:30.150Z"
   },
   {
    "duration": 0,
    "start_time": "2024-05-17T19:51:30.154Z"
   },
   {
    "duration": 0,
    "start_time": "2024-05-17T19:51:30.157Z"
   },
   {
    "duration": 0,
    "start_time": "2024-05-17T19:51:30.161Z"
   },
   {
    "duration": 0,
    "start_time": "2024-05-17T19:51:30.165Z"
   },
   {
    "duration": 0,
    "start_time": "2024-05-17T19:51:30.167Z"
   },
   {
    "duration": 0,
    "start_time": "2024-05-17T19:51:30.170Z"
   },
   {
    "duration": 0,
    "start_time": "2024-05-17T19:51:30.172Z"
   },
   {
    "duration": 0,
    "start_time": "2024-05-17T19:51:30.175Z"
   },
   {
    "duration": 0,
    "start_time": "2024-05-17T19:51:30.177Z"
   },
   {
    "duration": 0,
    "start_time": "2024-05-17T19:51:30.179Z"
   },
   {
    "duration": 0,
    "start_time": "2024-05-17T19:51:30.181Z"
   },
   {
    "duration": 0,
    "start_time": "2024-05-17T19:51:30.227Z"
   },
   {
    "duration": 0,
    "start_time": "2024-05-17T19:51:30.231Z"
   },
   {
    "duration": 0,
    "start_time": "2024-05-17T19:51:30.233Z"
   },
   {
    "duration": 0,
    "start_time": "2024-05-17T19:51:30.235Z"
   },
   {
    "duration": 0,
    "start_time": "2024-05-17T19:51:30.237Z"
   },
   {
    "duration": 0,
    "start_time": "2024-05-17T19:51:30.240Z"
   },
   {
    "duration": 0,
    "start_time": "2024-05-17T19:51:30.243Z"
   },
   {
    "duration": 0,
    "start_time": "2024-05-17T19:51:30.246Z"
   },
   {
    "duration": 0,
    "start_time": "2024-05-17T19:51:30.249Z"
   },
   {
    "duration": 0,
    "start_time": "2024-05-17T19:51:30.254Z"
   },
   {
    "duration": 0,
    "start_time": "2024-05-17T19:51:30.257Z"
   },
   {
    "duration": 0,
    "start_time": "2024-05-17T19:51:30.260Z"
   },
   {
    "duration": 0,
    "start_time": "2024-05-17T19:51:30.263Z"
   },
   {
    "duration": 0,
    "start_time": "2024-05-17T19:51:30.266Z"
   },
   {
    "duration": 0,
    "start_time": "2024-05-17T19:51:30.326Z"
   },
   {
    "duration": 0,
    "start_time": "2024-05-17T19:51:30.329Z"
   },
   {
    "duration": 0,
    "start_time": "2024-05-17T19:51:30.331Z"
   },
   {
    "duration": 0,
    "start_time": "2024-05-17T19:51:30.333Z"
   },
   {
    "duration": 0,
    "start_time": "2024-05-17T19:51:30.335Z"
   },
   {
    "duration": 0,
    "start_time": "2024-05-17T19:51:30.338Z"
   },
   {
    "duration": 0,
    "start_time": "2024-05-17T19:51:30.340Z"
   },
   {
    "duration": 0,
    "start_time": "2024-05-17T19:51:30.343Z"
   },
   {
    "duration": 0,
    "start_time": "2024-05-17T19:51:30.346Z"
   },
   {
    "duration": 0,
    "start_time": "2024-05-17T19:51:30.348Z"
   },
   {
    "duration": 0,
    "start_time": "2024-05-17T19:51:30.350Z"
   },
   {
    "duration": 0,
    "start_time": "2024-05-17T19:51:30.353Z"
   },
   {
    "duration": 0,
    "start_time": "2024-05-17T19:51:30.355Z"
   },
   {
    "duration": 0,
    "start_time": "2024-05-17T19:51:30.357Z"
   },
   {
    "duration": 0,
    "start_time": "2024-05-17T19:51:30.359Z"
   },
   {
    "duration": 0,
    "start_time": "2024-05-17T19:51:30.361Z"
   },
   {
    "duration": 0,
    "start_time": "2024-05-17T19:51:30.364Z"
   },
   {
    "duration": 0,
    "start_time": "2024-05-17T19:51:30.366Z"
   },
   {
    "duration": 1446,
    "start_time": "2024-05-17T19:51:47.480Z"
   },
   {
    "duration": 43,
    "start_time": "2024-05-17T19:51:48.931Z"
   },
   {
    "duration": 50,
    "start_time": "2024-05-17T19:51:48.976Z"
   },
   {
    "duration": 20,
    "start_time": "2024-05-17T19:51:49.032Z"
   },
   {
    "duration": 7,
    "start_time": "2024-05-17T19:51:49.056Z"
   },
   {
    "duration": 72,
    "start_time": "2024-05-17T19:51:49.067Z"
   },
   {
    "duration": 25,
    "start_time": "2024-05-17T19:51:49.143Z"
   },
   {
    "duration": 17,
    "start_time": "2024-05-17T19:51:49.172Z"
   },
   {
    "duration": 50,
    "start_time": "2024-05-17T19:51:49.192Z"
   },
   {
    "duration": 13,
    "start_time": "2024-05-17T19:51:49.249Z"
   },
   {
    "duration": 10,
    "start_time": "2024-05-17T19:51:49.266Z"
   },
   {
    "duration": 474,
    "start_time": "2024-05-17T19:51:49.325Z"
   },
   {
    "duration": 30,
    "start_time": "2024-05-17T19:51:49.802Z"
   },
   {
    "duration": 13,
    "start_time": "2024-05-17T19:51:49.836Z"
   },
   {
    "duration": 31,
    "start_time": "2024-05-17T19:51:49.856Z"
   },
   {
    "duration": 42,
    "start_time": "2024-05-17T19:51:49.890Z"
   },
   {
    "duration": 32,
    "start_time": "2024-05-17T19:51:49.935Z"
   },
   {
    "duration": 6,
    "start_time": "2024-05-17T19:51:49.972Z"
   },
   {
    "duration": 377,
    "start_time": "2024-05-17T19:51:50.029Z"
   },
   {
    "duration": 26,
    "start_time": "2024-05-17T19:51:50.409Z"
   },
   {
    "duration": 13,
    "start_time": "2024-05-17T19:51:50.437Z"
   },
   {
    "duration": 6,
    "start_time": "2024-05-17T19:51:50.454Z"
   },
   {
    "duration": 6,
    "start_time": "2024-05-17T19:51:50.464Z"
   },
   {
    "duration": 55,
    "start_time": "2024-05-17T19:51:50.474Z"
   },
   {
    "duration": 7,
    "start_time": "2024-05-17T19:51:50.533Z"
   },
   {
    "duration": 8,
    "start_time": "2024-05-17T19:51:50.543Z"
   },
   {
    "duration": 12,
    "start_time": "2024-05-17T19:51:50.554Z"
   },
   {
    "duration": 800,
    "start_time": "2024-05-17T19:51:50.627Z"
   },
   {
    "duration": 21,
    "start_time": "2024-05-17T19:51:51.430Z"
   },
   {
    "duration": 977,
    "start_time": "2024-05-17T19:51:51.458Z"
   },
   {
    "duration": 12,
    "start_time": "2024-05-17T19:51:52.438Z"
   },
   {
    "duration": 367,
    "start_time": "2024-05-17T19:51:52.453Z"
   },
   {
    "duration": 679,
    "start_time": "2024-05-17T19:51:52.828Z"
   },
   {
    "duration": 39,
    "start_time": "2024-05-17T19:51:53.511Z"
   },
   {
    "duration": 16,
    "start_time": "2024-05-17T19:51:53.554Z"
   },
   {
    "duration": 55,
    "start_time": "2024-05-17T19:51:53.574Z"
   },
   {
    "duration": 5,
    "start_time": "2024-05-17T19:51:53.632Z"
   },
   {
    "duration": 18,
    "start_time": "2024-05-17T19:51:53.640Z"
   },
   {
    "duration": 477,
    "start_time": "2024-05-17T19:51:53.661Z"
   },
   {
    "duration": 7,
    "start_time": "2024-05-17T19:51:54.141Z"
   },
   {
    "duration": 24,
    "start_time": "2024-05-17T19:51:54.152Z"
   },
   {
    "duration": 10,
    "start_time": "2024-05-17T19:51:54.180Z"
   },
   {
    "duration": 17,
    "start_time": "2024-05-17T19:51:54.227Z"
   },
   {
    "duration": 17,
    "start_time": "2024-05-17T19:51:54.247Z"
   },
   {
    "duration": 10,
    "start_time": "2024-05-17T19:51:54.268Z"
   },
   {
    "duration": 15,
    "start_time": "2024-05-17T19:51:54.330Z"
   },
   {
    "duration": 13,
    "start_time": "2024-05-17T19:51:54.348Z"
   },
   {
    "duration": 11,
    "start_time": "2024-05-17T19:51:54.364Z"
   },
   {
    "duration": 60,
    "start_time": "2024-05-17T19:51:54.379Z"
   },
   {
    "duration": 13,
    "start_time": "2024-05-17T19:51:54.443Z"
   },
   {
    "duration": 11,
    "start_time": "2024-05-17T19:51:54.459Z"
   },
   {
    "duration": 60,
    "start_time": "2024-05-17T19:51:54.473Z"
   },
   {
    "duration": 1529,
    "start_time": "2024-05-17T19:57:23.523Z"
   },
   {
    "duration": 41,
    "start_time": "2024-05-17T19:57:25.055Z"
   },
   {
    "duration": 35,
    "start_time": "2024-05-17T19:57:25.099Z"
   },
   {
    "duration": 19,
    "start_time": "2024-05-17T19:57:25.139Z"
   },
   {
    "duration": 9,
    "start_time": "2024-05-17T19:57:25.162Z"
   },
   {
    "duration": 64,
    "start_time": "2024-05-17T19:57:25.176Z"
   },
   {
    "duration": 24,
    "start_time": "2024-05-17T19:57:25.244Z"
   },
   {
    "duration": 19,
    "start_time": "2024-05-17T19:57:25.271Z"
   },
   {
    "duration": 17,
    "start_time": "2024-05-17T19:57:25.328Z"
   },
   {
    "duration": 13,
    "start_time": "2024-05-17T19:57:25.352Z"
   },
   {
    "duration": 10,
    "start_time": "2024-05-17T19:57:25.368Z"
   },
   {
    "duration": 517,
    "start_time": "2024-05-17T19:57:25.381Z"
   },
   {
    "duration": 31,
    "start_time": "2024-05-17T19:57:25.902Z"
   },
   {
    "duration": 13,
    "start_time": "2024-05-17T19:57:25.940Z"
   },
   {
    "duration": 24,
    "start_time": "2024-05-17T19:57:25.958Z"
   },
   {
    "duration": 41,
    "start_time": "2024-05-17T19:57:25.986Z"
   },
   {
    "duration": 38,
    "start_time": "2024-05-17T19:57:26.031Z"
   },
   {
    "duration": 6,
    "start_time": "2024-05-17T19:57:26.072Z"
   },
   {
    "duration": 384,
    "start_time": "2024-05-17T19:57:26.082Z"
   },
   {
    "duration": 14,
    "start_time": "2024-05-17T19:57:26.469Z"
   },
   {
    "duration": 14,
    "start_time": "2024-05-17T19:57:26.486Z"
   },
   {
    "duration": 8,
    "start_time": "2024-05-17T19:57:26.525Z"
   },
   {
    "duration": 7,
    "start_time": "2024-05-17T19:57:26.536Z"
   },
   {
    "duration": 6,
    "start_time": "2024-05-17T19:57:26.548Z"
   },
   {
    "duration": 8,
    "start_time": "2024-05-17T19:57:26.557Z"
   },
   {
    "duration": 61,
    "start_time": "2024-05-17T19:57:26.568Z"
   },
   {
    "duration": 12,
    "start_time": "2024-05-17T19:57:26.632Z"
   },
   {
    "duration": 903,
    "start_time": "2024-05-17T19:57:26.652Z"
   },
   {
    "duration": 21,
    "start_time": "2024-05-17T19:57:27.559Z"
   },
   {
    "duration": 1016,
    "start_time": "2024-05-17T19:57:27.584Z"
   },
   {
    "duration": 25,
    "start_time": "2024-05-17T19:57:28.603Z"
   },
   {
    "duration": 348,
    "start_time": "2024-05-17T19:57:28.631Z"
   },
   {
    "duration": 719,
    "start_time": "2024-05-17T19:57:28.983Z"
   },
   {
    "duration": 33,
    "start_time": "2024-05-17T19:57:29.706Z"
   },
   {
    "duration": 16,
    "start_time": "2024-05-17T19:57:29.743Z"
   },
   {
    "duration": 10,
    "start_time": "2024-05-17T19:57:29.764Z"
   },
   {
    "duration": 48,
    "start_time": "2024-05-17T19:57:29.778Z"
   },
   {
    "duration": 20,
    "start_time": "2024-05-17T19:57:29.829Z"
   },
   {
    "duration": 475,
    "start_time": "2024-05-17T19:57:29.854Z"
   },
   {
    "duration": 9,
    "start_time": "2024-05-17T19:57:30.333Z"
   },
   {
    "duration": 27,
    "start_time": "2024-05-17T19:57:30.346Z"
   },
   {
    "duration": 49,
    "start_time": "2024-05-17T19:57:30.377Z"
   },
   {
    "duration": 17,
    "start_time": "2024-05-17T19:57:30.430Z"
   },
   {
    "duration": 15,
    "start_time": "2024-05-17T19:57:30.451Z"
   },
   {
    "duration": 10,
    "start_time": "2024-05-17T19:57:30.471Z"
   },
   {
    "duration": 58,
    "start_time": "2024-05-17T19:57:30.484Z"
   },
   {
    "duration": 17,
    "start_time": "2024-05-17T19:57:30.545Z"
   },
   {
    "duration": 12,
    "start_time": "2024-05-17T19:57:30.566Z"
   },
   {
    "duration": 56,
    "start_time": "2024-05-17T19:57:30.583Z"
   },
   {
    "duration": 14,
    "start_time": "2024-05-17T19:57:30.643Z"
   },
   {
    "duration": 12,
    "start_time": "2024-05-17T19:57:30.660Z"
   },
   {
    "duration": 55,
    "start_time": "2024-05-17T19:57:30.675Z"
   },
   {
    "duration": 1456,
    "start_time": "2024-05-17T19:57:41.859Z"
   },
   {
    "duration": 45,
    "start_time": "2024-05-17T19:57:43.320Z"
   },
   {
    "duration": 23,
    "start_time": "2024-05-17T19:57:43.367Z"
   },
   {
    "duration": 49,
    "start_time": "2024-05-17T19:57:43.393Z"
   },
   {
    "duration": 10,
    "start_time": "2024-05-17T19:57:43.447Z"
   },
   {
    "duration": 22,
    "start_time": "2024-05-17T19:57:43.461Z"
   },
   {
    "duration": 59,
    "start_time": "2024-05-17T19:57:43.486Z"
   },
   {
    "duration": 18,
    "start_time": "2024-05-17T19:57:43.548Z"
   },
   {
    "duration": 17,
    "start_time": "2024-05-17T19:57:43.570Z"
   },
   {
    "duration": 47,
    "start_time": "2024-05-17T19:57:43.590Z"
   },
   {
    "duration": 10,
    "start_time": "2024-05-17T19:57:43.640Z"
   },
   {
    "duration": 489,
    "start_time": "2024-05-17T19:57:43.653Z"
   },
   {
    "duration": 12,
    "start_time": "2024-05-17T19:57:44.145Z"
   },
   {
    "duration": 10,
    "start_time": "2024-05-17T19:57:44.165Z"
   },
   {
    "duration": 50,
    "start_time": "2024-05-17T19:57:44.178Z"
   },
   {
    "duration": 9,
    "start_time": "2024-05-17T19:57:44.231Z"
   },
   {
    "duration": 120,
    "start_time": "2024-05-17T19:57:44.243Z"
   },
   {
    "duration": 6,
    "start_time": "2024-05-17T19:57:44.366Z"
   },
   {
    "duration": 296,
    "start_time": "2024-05-17T19:57:44.376Z"
   },
   {
    "duration": 13,
    "start_time": "2024-05-17T19:57:44.675Z"
   },
   {
    "duration": 35,
    "start_time": "2024-05-17T19:57:44.691Z"
   },
   {
    "duration": 7,
    "start_time": "2024-05-17T19:57:44.729Z"
   },
   {
    "duration": 7,
    "start_time": "2024-05-17T19:57:44.739Z"
   },
   {
    "duration": 6,
    "start_time": "2024-05-17T19:57:44.749Z"
   },
   {
    "duration": 8,
    "start_time": "2024-05-17T19:57:44.758Z"
   },
   {
    "duration": 59,
    "start_time": "2024-05-17T19:57:44.769Z"
   },
   {
    "duration": 11,
    "start_time": "2024-05-17T19:57:44.831Z"
   },
   {
    "duration": 854,
    "start_time": "2024-05-17T19:57:44.845Z"
   },
   {
    "duration": 22,
    "start_time": "2024-05-17T19:57:45.702Z"
   },
   {
    "duration": 938,
    "start_time": "2024-05-17T19:57:45.727Z"
   },
   {
    "duration": 11,
    "start_time": "2024-05-17T19:57:46.668Z"
   },
   {
    "duration": 354,
    "start_time": "2024-05-17T19:57:46.683Z"
   },
   {
    "duration": 717,
    "start_time": "2024-05-17T19:57:47.040Z"
   },
   {
    "duration": 25,
    "start_time": "2024-05-17T19:57:47.761Z"
   },
   {
    "duration": 47,
    "start_time": "2024-05-17T19:57:47.790Z"
   },
   {
    "duration": 9,
    "start_time": "2024-05-17T19:57:47.841Z"
   },
   {
    "duration": 6,
    "start_time": "2024-05-17T19:57:47.853Z"
   },
   {
    "duration": 18,
    "start_time": "2024-05-17T19:57:47.863Z"
   },
   {
    "duration": 495,
    "start_time": "2024-05-17T19:57:47.885Z"
   },
   {
    "duration": 8,
    "start_time": "2024-05-17T19:57:48.383Z"
   },
   {
    "duration": 48,
    "start_time": "2024-05-17T19:57:48.402Z"
   },
   {
    "duration": 13,
    "start_time": "2024-05-17T19:57:48.456Z"
   },
   {
    "duration": 20,
    "start_time": "2024-05-17T19:57:48.472Z"
   },
   {
    "duration": 16,
    "start_time": "2024-05-17T19:57:48.527Z"
   },
   {
    "duration": 11,
    "start_time": "2024-05-17T19:57:48.547Z"
   },
   {
    "duration": 18,
    "start_time": "2024-05-17T19:57:48.562Z"
   },
   {
    "duration": 57,
    "start_time": "2024-05-17T19:57:48.584Z"
   },
   {
    "duration": 9,
    "start_time": "2024-05-17T19:57:48.644Z"
   },
   {
    "duration": 15,
    "start_time": "2024-05-17T19:57:48.656Z"
   },
   {
    "duration": 13,
    "start_time": "2024-05-17T19:57:48.675Z"
   },
   {
    "duration": 12,
    "start_time": "2024-05-17T19:57:48.728Z"
   },
   {
    "duration": 15,
    "start_time": "2024-05-17T19:57:48.744Z"
   },
   {
    "duration": 1441,
    "start_time": "2024-05-18T08:26:55.201Z"
   },
   {
    "duration": 65,
    "start_time": "2024-05-18T08:26:56.646Z"
   },
   {
    "duration": 21,
    "start_time": "2024-05-18T08:26:56.714Z"
   },
   {
    "duration": 18,
    "start_time": "2024-05-18T08:26:56.740Z"
   },
   {
    "duration": 8,
    "start_time": "2024-05-18T08:26:56.761Z"
   },
   {
    "duration": 55,
    "start_time": "2024-05-18T08:26:56.772Z"
   },
   {
    "duration": 22,
    "start_time": "2024-05-18T08:26:56.830Z"
   },
   {
    "duration": 17,
    "start_time": "2024-05-18T08:26:56.855Z"
   },
   {
    "duration": 17,
    "start_time": "2024-05-18T08:26:56.908Z"
   },
   {
    "duration": 16,
    "start_time": "2024-05-18T08:26:56.934Z"
   },
   {
    "duration": 10,
    "start_time": "2024-05-18T08:26:56.953Z"
   },
   {
    "duration": 490,
    "start_time": "2024-05-18T08:26:56.966Z"
   },
   {
    "duration": 13,
    "start_time": "2024-05-18T08:26:57.459Z"
   },
   {
    "duration": 35,
    "start_time": "2024-05-18T08:26:57.475Z"
   },
   {
    "duration": 21,
    "start_time": "2024-05-18T08:26:57.512Z"
   },
   {
    "duration": 8,
    "start_time": "2024-05-18T08:26:57.537Z"
   },
   {
    "duration": 64,
    "start_time": "2024-05-18T08:26:57.548Z"
   },
   {
    "duration": 6,
    "start_time": "2024-05-18T08:26:57.615Z"
   },
   {
    "duration": 348,
    "start_time": "2024-05-18T08:26:57.624Z"
   },
   {
    "duration": 13,
    "start_time": "2024-05-18T08:26:57.977Z"
   },
   {
    "duration": 26,
    "start_time": "2024-05-18T08:26:57.993Z"
   },
   {
    "duration": 7,
    "start_time": "2024-05-18T08:26:58.023Z"
   },
   {
    "duration": 8,
    "start_time": "2024-05-18T08:26:58.035Z"
   },
   {
    "duration": 7,
    "start_time": "2024-05-18T08:26:58.049Z"
   },
   {
    "duration": 53,
    "start_time": "2024-05-18T08:26:58.059Z"
   },
   {
    "duration": 7,
    "start_time": "2024-05-18T08:26:58.115Z"
   },
   {
    "duration": 10,
    "start_time": "2024-05-18T08:26:58.126Z"
   },
   {
    "duration": 802,
    "start_time": "2024-05-18T08:26:58.144Z"
   },
   {
    "duration": 20,
    "start_time": "2024-05-18T08:26:58.950Z"
   },
   {
    "duration": 922,
    "start_time": "2024-05-18T08:26:58.974Z"
   },
   {
    "duration": 20,
    "start_time": "2024-05-18T08:26:59.899Z"
   },
   {
    "duration": 331,
    "start_time": "2024-05-18T08:26:59.922Z"
   },
   {
    "duration": 659,
    "start_time": "2024-05-18T08:27:00.258Z"
   },
   {
    "duration": 24,
    "start_time": "2024-05-18T08:27:00.920Z"
   },
   {
    "duration": 16,
    "start_time": "2024-05-18T08:27:00.948Z"
   },
   {
    "duration": 42,
    "start_time": "2024-05-18T08:27:00.967Z"
   },
   {
    "duration": 5,
    "start_time": "2024-05-18T08:27:01.012Z"
   },
   {
    "duration": 17,
    "start_time": "2024-05-18T08:27:01.019Z"
   },
   {
    "duration": 462,
    "start_time": "2024-05-18T08:27:01.040Z"
   },
   {
    "duration": 7,
    "start_time": "2024-05-18T08:27:01.508Z"
   },
   {
    "duration": 24,
    "start_time": "2024-05-18T08:27:01.517Z"
   },
   {
    "duration": 10,
    "start_time": "2024-05-18T08:27:01.544Z"
   },
   {
    "duration": 14,
    "start_time": "2024-05-18T08:27:01.560Z"
   },
   {
    "duration": 13,
    "start_time": "2024-05-18T08:27:01.610Z"
   },
   {
    "duration": 9,
    "start_time": "2024-05-18T08:27:01.626Z"
   },
   {
    "duration": 15,
    "start_time": "2024-05-18T08:27:01.638Z"
   },
   {
    "duration": 57,
    "start_time": "2024-05-18T08:27:01.655Z"
   },
   {
    "duration": 9,
    "start_time": "2024-05-18T08:27:01.716Z"
   },
   {
    "duration": 15,
    "start_time": "2024-05-18T08:27:01.728Z"
   },
   {
    "duration": 12,
    "start_time": "2024-05-18T08:27:01.747Z"
   },
   {
    "duration": 53,
    "start_time": "2024-05-18T08:27:01.763Z"
   },
   {
    "duration": 11,
    "start_time": "2024-05-18T08:27:01.820Z"
   },
   {
    "duration": 1492,
    "start_time": "2024-05-18T17:02:13.610Z"
   },
   {
    "duration": 58,
    "start_time": "2024-05-18T17:02:15.107Z"
   },
   {
    "duration": 24,
    "start_time": "2024-05-18T17:02:15.168Z"
   },
   {
    "duration": 29,
    "start_time": "2024-05-18T17:02:15.198Z"
   },
   {
    "duration": 8,
    "start_time": "2024-05-18T17:02:15.231Z"
   },
   {
    "duration": 27,
    "start_time": "2024-05-18T17:02:15.243Z"
   },
   {
    "duration": 59,
    "start_time": "2024-05-18T17:02:15.274Z"
   },
   {
    "duration": 19,
    "start_time": "2024-05-18T17:02:15.336Z"
   },
   {
    "duration": 21,
    "start_time": "2024-05-18T17:02:15.363Z"
   },
   {
    "duration": 16,
    "start_time": "2024-05-18T17:02:15.417Z"
   },
   {
    "duration": 10,
    "start_time": "2024-05-18T17:02:15.436Z"
   },
   {
    "duration": 473,
    "start_time": "2024-05-18T17:02:15.449Z"
   },
   {
    "duration": 14,
    "start_time": "2024-05-18T17:02:15.926Z"
   },
   {
    "duration": 16,
    "start_time": "2024-05-18T17:02:15.943Z"
   },
   {
    "duration": 51,
    "start_time": "2024-05-18T17:02:15.962Z"
   },
   {
    "duration": 8,
    "start_time": "2024-05-18T17:02:16.015Z"
   },
   {
    "duration": 32,
    "start_time": "2024-05-18T17:02:16.026Z"
   },
   {
    "duration": 6,
    "start_time": "2024-05-18T17:02:16.061Z"
   },
   {
    "duration": 348,
    "start_time": "2024-05-18T17:02:16.112Z"
   },
   {
    "duration": 18,
    "start_time": "2024-05-18T17:02:16.463Z"
   },
   {
    "duration": 33,
    "start_time": "2024-05-18T17:02:16.484Z"
   },
   {
    "duration": 7,
    "start_time": "2024-05-18T17:02:16.520Z"
   },
   {
    "duration": 6,
    "start_time": "2024-05-18T17:02:16.531Z"
   },
   {
    "duration": 8,
    "start_time": "2024-05-18T17:02:16.541Z"
   },
   {
    "duration": 12,
    "start_time": "2024-05-18T17:02:16.552Z"
   },
   {
    "duration": 51,
    "start_time": "2024-05-18T17:02:16.568Z"
   },
   {
    "duration": 12,
    "start_time": "2024-05-18T17:02:16.623Z"
   },
   {
    "duration": 1011,
    "start_time": "2024-05-18T17:02:16.644Z"
   },
   {
    "duration": 76,
    "start_time": "2024-05-18T17:02:17.658Z"
   },
   {
    "duration": 2006,
    "start_time": "2024-05-18T17:02:17.739Z"
   },
   {
    "duration": 11,
    "start_time": "2024-05-18T17:02:19.749Z"
   },
   {
    "duration": 912,
    "start_time": "2024-05-18T17:02:19.814Z"
   },
   {
    "duration": 2299,
    "start_time": "2024-05-18T17:02:20.730Z"
   },
   {
    "duration": 97,
    "start_time": "2024-05-18T17:02:23.032Z"
   },
   {
    "duration": 84,
    "start_time": "2024-05-18T17:02:23.135Z"
   },
   {
    "duration": 18,
    "start_time": "2024-05-18T17:02:23.227Z"
   },
   {
    "duration": 66,
    "start_time": "2024-05-18T17:02:23.249Z"
   },
   {
    "duration": 25,
    "start_time": "2024-05-18T17:02:23.322Z"
   },
   {
    "duration": 961,
    "start_time": "2024-05-18T17:02:23.415Z"
   },
   {
    "duration": 8,
    "start_time": "2024-05-18T17:02:24.380Z"
   },
   {
    "duration": 48,
    "start_time": "2024-05-18T17:02:24.392Z"
   },
   {
    "duration": 32,
    "start_time": "2024-05-18T17:02:24.444Z"
   },
   {
    "duration": 42,
    "start_time": "2024-05-18T17:02:24.480Z"
   },
   {
    "duration": 21,
    "start_time": "2024-05-18T17:02:24.526Z"
   },
   {
    "duration": 65,
    "start_time": "2024-05-18T17:02:24.551Z"
   },
   {
    "duration": 19,
    "start_time": "2024-05-18T17:02:24.620Z"
   },
   {
    "duration": 74,
    "start_time": "2024-05-18T17:02:24.643Z"
   },
   {
    "duration": 15,
    "start_time": "2024-05-18T17:02:24.721Z"
   },
   {
    "duration": 77,
    "start_time": "2024-05-18T17:02:24.739Z"
   },
   {
    "duration": 15,
    "start_time": "2024-05-18T17:02:24.820Z"
   },
   {
    "duration": 14,
    "start_time": "2024-05-18T17:02:24.838Z"
   },
   {
    "duration": 22,
    "start_time": "2024-05-18T17:02:24.914Z"
   },
   {
    "duration": 13,
    "start_time": "2024-05-18T17:03:15.936Z"
   },
   {
    "duration": 1376,
    "start_time": "2024-05-18T17:03:24.208Z"
   },
   {
    "duration": 45,
    "start_time": "2024-05-18T17:03:25.588Z"
   },
   {
    "duration": 20,
    "start_time": "2024-05-18T17:03:25.636Z"
   },
   {
    "duration": 18,
    "start_time": "2024-05-18T17:03:25.659Z"
   },
   {
    "duration": 35,
    "start_time": "2024-05-18T17:03:25.680Z"
   },
   {
    "duration": 23,
    "start_time": "2024-05-18T17:03:25.718Z"
   },
   {
    "duration": 23,
    "start_time": "2024-05-18T17:03:25.745Z"
   },
   {
    "duration": 52,
    "start_time": "2024-05-18T17:03:25.771Z"
   },
   {
    "duration": 15,
    "start_time": "2024-05-18T17:03:25.826Z"
   },
   {
    "duration": 17,
    "start_time": "2024-05-18T17:03:25.848Z"
   },
   {
    "duration": 51,
    "start_time": "2024-05-18T17:03:25.868Z"
   },
   {
    "duration": 8,
    "start_time": "2024-05-18T17:03:25.922Z"
   },
   {
    "duration": 449,
    "start_time": "2024-05-18T17:03:25.933Z"
   },
   {
    "duration": 13,
    "start_time": "2024-05-18T17:03:26.384Z"
   },
   {
    "duration": 10,
    "start_time": "2024-05-18T17:03:26.412Z"
   },
   {
    "duration": 19,
    "start_time": "2024-05-18T17:03:26.425Z"
   },
   {
    "duration": 8,
    "start_time": "2024-05-18T17:03:26.446Z"
   },
   {
    "duration": 65,
    "start_time": "2024-05-18T17:03:26.457Z"
   },
   {
    "duration": 6,
    "start_time": "2024-05-18T17:03:26.525Z"
   },
   {
    "duration": 341,
    "start_time": "2024-05-18T17:03:26.534Z"
   },
   {
    "duration": 14,
    "start_time": "2024-05-18T17:03:26.878Z"
   },
   {
    "duration": 29,
    "start_time": "2024-05-18T17:03:26.894Z"
   },
   {
    "duration": 6,
    "start_time": "2024-05-18T17:03:26.926Z"
   },
   {
    "duration": 6,
    "start_time": "2024-05-18T17:03:26.935Z"
   },
   {
    "duration": 6,
    "start_time": "2024-05-18T17:03:26.944Z"
   },
   {
    "duration": 7,
    "start_time": "2024-05-18T17:03:26.953Z"
   },
   {
    "duration": 51,
    "start_time": "2024-05-18T17:03:26.963Z"
   },
   {
    "duration": 10,
    "start_time": "2024-05-18T17:03:27.025Z"
   },
   {
    "duration": 791,
    "start_time": "2024-05-18T17:03:27.037Z"
   },
   {
    "duration": 22,
    "start_time": "2024-05-18T17:03:27.831Z"
   },
   {
    "duration": 914,
    "start_time": "2024-05-18T17:03:27.857Z"
   },
   {
    "duration": 10,
    "start_time": "2024-05-18T17:03:28.774Z"
   },
   {
    "duration": 364,
    "start_time": "2024-05-18T17:03:28.788Z"
   },
   {
    "duration": 652,
    "start_time": "2024-05-18T17:03:29.155Z"
   },
   {
    "duration": 27,
    "start_time": "2024-05-18T17:03:29.814Z"
   },
   {
    "duration": 14,
    "start_time": "2024-05-18T17:03:29.844Z"
   },
   {
    "duration": 9,
    "start_time": "2024-05-18T17:03:29.861Z"
   },
   {
    "duration": 5,
    "start_time": "2024-05-18T17:03:29.911Z"
   },
   {
    "duration": 17,
    "start_time": "2024-05-18T17:03:29.920Z"
   },
   {
    "duration": 456,
    "start_time": "2024-05-18T17:03:29.940Z"
   },
   {
    "duration": 13,
    "start_time": "2024-05-18T17:03:30.399Z"
   },
   {
    "duration": 23,
    "start_time": "2024-05-18T17:03:30.415Z"
   },
   {
    "duration": 9,
    "start_time": "2024-05-18T17:03:30.441Z"
   },
   {
    "duration": 14,
    "start_time": "2024-05-18T17:03:30.453Z"
   },
   {
    "duration": 47,
    "start_time": "2024-05-18T17:03:30.471Z"
   },
   {
    "duration": 9,
    "start_time": "2024-05-18T17:03:30.521Z"
   },
   {
    "duration": 14,
    "start_time": "2024-05-18T17:03:30.533Z"
   },
   {
    "duration": 61,
    "start_time": "2024-05-18T17:03:30.551Z"
   },
   {
    "duration": 9,
    "start_time": "2024-05-18T17:03:30.615Z"
   },
   {
    "duration": 14,
    "start_time": "2024-05-18T17:03:30.628Z"
   },
   {
    "duration": 12,
    "start_time": "2024-05-18T17:03:30.645Z"
   },
   {
    "duration": 11,
    "start_time": "2024-05-18T17:03:30.660Z"
   },
   {
    "duration": 13,
    "start_time": "2024-05-18T17:03:30.713Z"
   },
   {
    "duration": 326,
    "start_time": "2024-05-18T17:39:11.252Z"
   },
   {
    "duration": 5112,
    "start_time": "2024-05-18T17:39:16.649Z"
   },
   {
    "duration": 65,
    "start_time": "2024-05-18T17:39:21.766Z"
   },
   {
    "duration": 21,
    "start_time": "2024-05-18T17:39:21.833Z"
   },
   {
    "duration": 20,
    "start_time": "2024-05-18T17:39:21.858Z"
   },
   {
    "duration": 58,
    "start_time": "2024-05-18T17:39:21.883Z"
   },
   {
    "duration": 8,
    "start_time": "2024-05-18T17:39:21.944Z"
   },
   {
    "duration": 21,
    "start_time": "2024-05-18T17:39:21.955Z"
   },
   {
    "duration": 72,
    "start_time": "2024-05-18T17:39:21.979Z"
   },
   {
    "duration": 18,
    "start_time": "2024-05-18T17:39:22.054Z"
   },
   {
    "duration": 16,
    "start_time": "2024-05-18T17:39:22.076Z"
   },
   {
    "duration": 46,
    "start_time": "2024-05-18T17:39:22.095Z"
   },
   {
    "duration": 8,
    "start_time": "2024-05-18T17:39:22.144Z"
   },
   {
    "duration": 488,
    "start_time": "2024-05-18T17:39:22.155Z"
   },
   {
    "duration": 12,
    "start_time": "2024-05-18T17:39:22.650Z"
   },
   {
    "duration": 16,
    "start_time": "2024-05-18T17:39:22.666Z"
   },
   {
    "duration": 58,
    "start_time": "2024-05-18T17:39:22.685Z"
   },
   {
    "duration": 8,
    "start_time": "2024-05-18T17:39:22.745Z"
   },
   {
    "duration": 30,
    "start_time": "2024-05-18T17:39:22.756Z"
   },
   {
    "duration": 43,
    "start_time": "2024-05-18T17:39:22.790Z"
   },
   {
    "duration": 292,
    "start_time": "2024-05-18T17:39:22.838Z"
   },
   {
    "duration": 14,
    "start_time": "2024-05-18T17:39:23.134Z"
   },
   {
    "duration": 12,
    "start_time": "2024-05-18T17:39:23.151Z"
   },
   {
    "duration": 6,
    "start_time": "2024-05-18T17:39:23.167Z"
   },
   {
    "duration": 54,
    "start_time": "2024-05-18T17:39:23.177Z"
   },
   {
    "duration": 5,
    "start_time": "2024-05-18T17:39:23.234Z"
   },
   {
    "duration": 7,
    "start_time": "2024-05-18T17:39:23.242Z"
   },
   {
    "duration": 7,
    "start_time": "2024-05-18T17:39:23.253Z"
   },
   {
    "duration": 10,
    "start_time": "2024-05-18T17:39:23.263Z"
   },
   {
    "duration": 825,
    "start_time": "2024-05-18T17:39:23.276Z"
   },
   {
    "duration": 35,
    "start_time": "2024-05-18T17:39:24.105Z"
   },
   {
    "duration": 1003,
    "start_time": "2024-05-18T17:39:24.144Z"
   },
   {
    "duration": 10,
    "start_time": "2024-05-18T17:39:25.150Z"
   },
   {
    "duration": 362,
    "start_time": "2024-05-18T17:39:25.163Z"
   },
   {
    "duration": 699,
    "start_time": "2024-05-18T17:39:25.531Z"
   },
   {
    "duration": 24,
    "start_time": "2024-05-18T17:39:26.233Z"
   },
   {
    "duration": 16,
    "start_time": "2024-05-18T17:39:26.260Z"
   },
   {
    "duration": 9,
    "start_time": "2024-05-18T17:39:26.279Z"
   },
   {
    "duration": 5,
    "start_time": "2024-05-18T17:39:26.330Z"
   },
   {
    "duration": 20,
    "start_time": "2024-05-18T17:39:26.339Z"
   },
   {
    "duration": 381,
    "start_time": "2024-05-18T17:39:26.364Z"
   },
   {
    "duration": 8,
    "start_time": "2024-05-18T17:39:26.754Z"
   },
   {
    "duration": 23,
    "start_time": "2024-05-18T17:39:26.765Z"
   },
   {
    "duration": 41,
    "start_time": "2024-05-18T17:39:26.791Z"
   },
   {
    "duration": 15,
    "start_time": "2024-05-18T17:39:26.835Z"
   },
   {
    "duration": 13,
    "start_time": "2024-05-18T17:39:26.854Z"
   },
   {
    "duration": 9,
    "start_time": "2024-05-18T17:39:26.870Z"
   },
   {
    "duration": 14,
    "start_time": "2024-05-18T17:39:26.931Z"
   },
   {
    "duration": 14,
    "start_time": "2024-05-18T17:39:26.949Z"
   },
   {
    "duration": 9,
    "start_time": "2024-05-18T17:39:26.966Z"
   },
   {
    "duration": 60,
    "start_time": "2024-05-18T17:39:26.979Z"
   },
   {
    "duration": 15,
    "start_time": "2024-05-18T17:39:27.042Z"
   },
   {
    "duration": 17,
    "start_time": "2024-05-18T17:39:27.060Z"
   },
   {
    "duration": 58,
    "start_time": "2024-05-18T17:39:27.080Z"
   },
   {
    "duration": 16,
    "start_time": "2024-05-18T17:39:45.436Z"
   },
   {
    "duration": 351,
    "start_time": "2024-05-21T18:13:30.052Z"
   },
   {
    "duration": 5311,
    "start_time": "2024-05-21T18:13:44.795Z"
   },
   {
    "duration": 57,
    "start_time": "2024-05-21T18:13:50.112Z"
   },
   {
    "duration": 22,
    "start_time": "2024-05-21T18:13:50.172Z"
   },
   {
    "duration": 38,
    "start_time": "2024-05-21T18:13:50.198Z"
   },
   {
    "duration": 17,
    "start_time": "2024-05-21T18:13:50.240Z"
   },
   {
    "duration": 29,
    "start_time": "2024-05-21T18:13:50.260Z"
   },
   {
    "duration": 7,
    "start_time": "2024-05-21T18:13:50.327Z"
   },
   {
    "duration": 18,
    "start_time": "2024-05-21T18:13:50.338Z"
   },
   {
    "duration": 22,
    "start_time": "2024-05-21T18:13:50.360Z"
   },
   {
    "duration": 55,
    "start_time": "2024-05-21T18:13:50.385Z"
   },
   {
    "duration": 19,
    "start_time": "2024-05-21T18:13:50.443Z"
   },
   {
    "duration": 453,
    "start_time": "2024-05-21T18:13:50.467Z"
   },
   {
    "duration": 0,
    "start_time": "2024-05-21T18:13:50.932Z"
   },
   {
    "duration": 0,
    "start_time": "2024-05-21T18:13:50.934Z"
   },
   {
    "duration": 0,
    "start_time": "2024-05-21T18:13:50.937Z"
   },
   {
    "duration": 0,
    "start_time": "2024-05-21T18:13:50.939Z"
   },
   {
    "duration": 0,
    "start_time": "2024-05-21T18:13:50.941Z"
   },
   {
    "duration": 0,
    "start_time": "2024-05-21T18:13:50.943Z"
   },
   {
    "duration": 0,
    "start_time": "2024-05-21T18:13:50.946Z"
   },
   {
    "duration": 0,
    "start_time": "2024-05-21T18:13:50.948Z"
   },
   {
    "duration": 0,
    "start_time": "2024-05-21T18:13:50.951Z"
   },
   {
    "duration": 0,
    "start_time": "2024-05-21T18:13:50.953Z"
   },
   {
    "duration": 0,
    "start_time": "2024-05-21T18:13:50.955Z"
   },
   {
    "duration": 0,
    "start_time": "2024-05-21T18:13:50.958Z"
   },
   {
    "duration": 0,
    "start_time": "2024-05-21T18:13:50.960Z"
   },
   {
    "duration": 0,
    "start_time": "2024-05-21T18:13:50.963Z"
   },
   {
    "duration": 0,
    "start_time": "2024-05-21T18:13:50.965Z"
   },
   {
    "duration": 0,
    "start_time": "2024-05-21T18:13:50.967Z"
   },
   {
    "duration": 0,
    "start_time": "2024-05-21T18:13:50.969Z"
   },
   {
    "duration": 0,
    "start_time": "2024-05-21T18:13:51.027Z"
   },
   {
    "duration": 0,
    "start_time": "2024-05-21T18:13:51.030Z"
   },
   {
    "duration": 0,
    "start_time": "2024-05-21T18:13:51.033Z"
   },
   {
    "duration": 0,
    "start_time": "2024-05-21T18:13:51.035Z"
   },
   {
    "duration": 0,
    "start_time": "2024-05-21T18:13:51.037Z"
   },
   {
    "duration": 0,
    "start_time": "2024-05-21T18:13:51.040Z"
   },
   {
    "duration": 0,
    "start_time": "2024-05-21T18:13:51.042Z"
   },
   {
    "duration": 0,
    "start_time": "2024-05-21T18:13:51.045Z"
   },
   {
    "duration": 0,
    "start_time": "2024-05-21T18:13:51.047Z"
   },
   {
    "duration": 0,
    "start_time": "2024-05-21T18:13:51.050Z"
   },
   {
    "duration": 0,
    "start_time": "2024-05-21T18:13:51.052Z"
   },
   {
    "duration": 0,
    "start_time": "2024-05-21T18:13:51.054Z"
   },
   {
    "duration": 0,
    "start_time": "2024-05-21T18:13:51.058Z"
   },
   {
    "duration": 0,
    "start_time": "2024-05-21T18:13:51.061Z"
   },
   {
    "duration": 0,
    "start_time": "2024-05-21T18:13:51.064Z"
   },
   {
    "duration": 0,
    "start_time": "2024-05-21T18:13:51.067Z"
   },
   {
    "duration": 0,
    "start_time": "2024-05-21T18:13:51.068Z"
   },
   {
    "duration": 0,
    "start_time": "2024-05-21T18:13:51.127Z"
   },
   {
    "duration": 0,
    "start_time": "2024-05-21T18:13:51.129Z"
   },
   {
    "duration": 0,
    "start_time": "2024-05-21T18:13:51.131Z"
   },
   {
    "duration": 0,
    "start_time": "2024-05-21T18:13:51.132Z"
   },
   {
    "duration": 0,
    "start_time": "2024-05-21T18:13:51.135Z"
   },
   {
    "duration": 0,
    "start_time": "2024-05-21T18:13:51.138Z"
   },
   {
    "duration": 0,
    "start_time": "2024-05-21T18:13:51.140Z"
   },
   {
    "duration": 0,
    "start_time": "2024-05-21T18:13:51.143Z"
   },
   {
    "duration": 0,
    "start_time": "2024-05-21T18:13:51.145Z"
   },
   {
    "duration": 10,
    "start_time": "2024-05-21T18:14:11.858Z"
   },
   {
    "duration": 21,
    "start_time": "2024-05-21T18:14:35.504Z"
   },
   {
    "duration": 1556,
    "start_time": "2024-05-21T18:15:17.145Z"
   },
   {
    "duration": 51,
    "start_time": "2024-05-21T18:15:18.705Z"
   },
   {
    "duration": 22,
    "start_time": "2024-05-21T18:15:18.759Z"
   },
   {
    "duration": 19,
    "start_time": "2024-05-21T18:15:18.784Z"
   },
   {
    "duration": 17,
    "start_time": "2024-05-21T18:15:18.831Z"
   },
   {
    "duration": 26,
    "start_time": "2024-05-21T18:15:18.851Z"
   },
   {
    "duration": 7,
    "start_time": "2024-05-21T18:15:18.880Z"
   },
   {
    "duration": 19,
    "start_time": "2024-05-21T18:15:18.925Z"
   },
   {
    "duration": 23,
    "start_time": "2024-05-21T18:15:18.947Z"
   },
   {
    "duration": 54,
    "start_time": "2024-05-21T18:15:18.973Z"
   },
   {
    "duration": 19,
    "start_time": "2024-05-21T18:15:19.030Z"
   },
   {
    "duration": 5,
    "start_time": "2024-05-21T18:15:19.052Z"
   },
   {
    "duration": 14,
    "start_time": "2024-05-21T18:15:19.060Z"
   },
   {
    "duration": 48,
    "start_time": "2024-05-21T18:15:19.080Z"
   },
   {
    "duration": 498,
    "start_time": "2024-05-21T18:15:19.131Z"
   },
   {
    "duration": 13,
    "start_time": "2024-05-21T18:15:19.632Z"
   },
   {
    "duration": 12,
    "start_time": "2024-05-21T18:15:19.649Z"
   },
   {
    "duration": 20,
    "start_time": "2024-05-21T18:15:19.664Z"
   },
   {
    "duration": 7,
    "start_time": "2024-05-21T18:15:19.727Z"
   },
   {
    "duration": 32,
    "start_time": "2024-05-21T18:15:19.737Z"
   },
   {
    "duration": 6,
    "start_time": "2024-05-21T18:15:19.772Z"
   },
   {
    "duration": 397,
    "start_time": "2024-05-21T18:15:19.781Z"
   },
   {
    "duration": 14,
    "start_time": "2024-05-21T18:15:20.181Z"
   },
   {
    "duration": 33,
    "start_time": "2024-05-21T18:15:20.198Z"
   },
   {
    "duration": 8,
    "start_time": "2024-05-21T18:15:20.233Z"
   },
   {
    "duration": 8,
    "start_time": "2024-05-21T18:15:20.244Z"
   },
   {
    "duration": 5,
    "start_time": "2024-05-21T18:15:20.258Z"
   },
   {
    "duration": 7,
    "start_time": "2024-05-21T18:15:20.266Z"
   },
   {
    "duration": 56,
    "start_time": "2024-05-21T18:15:20.276Z"
   },
   {
    "duration": 11,
    "start_time": "2024-05-21T18:15:20.336Z"
   },
   {
    "duration": 749,
    "start_time": "2024-05-21T18:15:20.350Z"
   },
   {
    "duration": 20,
    "start_time": "2024-05-21T18:15:21.102Z"
   },
   {
    "duration": 931,
    "start_time": "2024-05-21T18:15:21.125Z"
   },
   {
    "duration": 14,
    "start_time": "2024-05-21T18:15:22.059Z"
   },
   {
    "duration": 344,
    "start_time": "2024-05-21T18:15:22.076Z"
   },
   {
    "duration": 604,
    "start_time": "2024-05-21T18:15:22.427Z"
   },
   {
    "duration": 23,
    "start_time": "2024-05-21T18:15:23.035Z"
   },
   {
    "duration": 16,
    "start_time": "2024-05-21T18:15:23.062Z"
   },
   {
    "duration": 46,
    "start_time": "2024-05-21T18:15:23.080Z"
   },
   {
    "duration": 5,
    "start_time": "2024-05-21T18:15:23.130Z"
   },
   {
    "duration": 16,
    "start_time": "2024-05-21T18:15:23.146Z"
   },
   {
    "duration": 396,
    "start_time": "2024-05-21T18:15:23.166Z"
   },
   {
    "duration": 8,
    "start_time": "2024-05-21T18:15:23.565Z"
   },
   {
    "duration": 22,
    "start_time": "2024-05-21T18:15:23.577Z"
   },
   {
    "duration": 10,
    "start_time": "2024-05-21T18:15:23.627Z"
   },
   {
    "duration": 15,
    "start_time": "2024-05-21T18:15:23.640Z"
   },
   {
    "duration": 14,
    "start_time": "2024-05-21T18:15:23.659Z"
   },
   {
    "duration": 50,
    "start_time": "2024-05-21T18:15:23.676Z"
   },
   {
    "duration": 15,
    "start_time": "2024-05-21T18:15:23.729Z"
   },
   {
    "duration": 13,
    "start_time": "2024-05-21T18:15:23.747Z"
   },
   {
    "duration": 10,
    "start_time": "2024-05-21T18:15:23.763Z"
   },
   {
    "duration": 61,
    "start_time": "2024-05-21T18:15:23.777Z"
   },
   {
    "duration": 14,
    "start_time": "2024-05-21T18:15:23.841Z"
   },
   {
    "duration": 120,
    "start_time": "2024-05-21T18:15:23.858Z"
   },
   {
    "duration": 14,
    "start_time": "2024-05-21T18:15:23.982Z"
   },
   {
    "duration": 1161,
    "start_time": "2024-05-21T18:20:11.515Z"
   },
   {
    "duration": 84,
    "start_time": "2024-05-21T18:22:38.450Z"
   },
   {
    "duration": 8,
    "start_time": "2024-05-21T18:22:50.154Z"
   },
   {
    "duration": 7,
    "start_time": "2024-05-21T18:24:36.170Z"
   },
   {
    "duration": 422,
    "start_time": "2024-05-21T18:25:43.232Z"
   },
   {
    "duration": 27,
    "start_time": "2024-05-21T18:26:08.859Z"
   },
   {
    "duration": 10,
    "start_time": "2024-05-21T18:26:23.949Z"
   },
   {
    "duration": 29,
    "start_time": "2024-05-21T18:28:14.271Z"
   },
   {
    "duration": 13,
    "start_time": "2024-05-21T18:28:18.058Z"
   },
   {
    "duration": 666,
    "start_time": "2024-05-21T18:29:07.388Z"
   },
   {
    "duration": 510,
    "start_time": "2024-05-21T18:29:34.622Z"
   },
   {
    "duration": 485,
    "start_time": "2024-05-21T18:29:42.501Z"
   },
   {
    "duration": 672,
    "start_time": "2024-05-21T18:30:01.248Z"
   },
   {
    "duration": 644,
    "start_time": "2024-05-21T18:30:50.575Z"
   },
   {
    "duration": 761,
    "start_time": "2024-05-21T18:31:48.790Z"
   },
   {
    "duration": 686,
    "start_time": "2024-05-21T18:32:06.578Z"
   },
   {
    "duration": 728,
    "start_time": "2024-05-21T18:32:33.782Z"
   },
   {
    "duration": 1187,
    "start_time": "2024-05-21T18:36:56.676Z"
   },
   {
    "duration": 707,
    "start_time": "2024-05-21T18:38:06.957Z"
   },
   {
    "duration": 1232,
    "start_time": "2024-05-21T18:38:12.455Z"
   },
   {
    "duration": 10,
    "start_time": "2024-05-21T18:51:00.017Z"
   },
   {
    "duration": 381,
    "start_time": "2024-05-21T18:51:08.123Z"
   },
   {
    "duration": 13,
    "start_time": "2024-05-21T18:55:08.082Z"
   },
   {
    "duration": 56,
    "start_time": "2024-05-21T18:55:15.202Z"
   },
   {
    "duration": 10,
    "start_time": "2024-05-21T18:55:40.814Z"
   },
   {
    "duration": 53,
    "start_time": "2024-05-21T18:55:45.373Z"
   },
   {
    "duration": 10,
    "start_time": "2024-05-21T18:56:24.545Z"
   },
   {
    "duration": 52,
    "start_time": "2024-05-21T18:56:28.944Z"
   },
   {
    "duration": 10,
    "start_time": "2024-05-21T18:57:23.009Z"
   },
   {
    "duration": 363,
    "start_time": "2024-05-21T18:57:26.586Z"
   },
   {
    "duration": 13,
    "start_time": "2024-05-21T18:57:54.282Z"
   },
   {
    "duration": 1029,
    "start_time": "2024-05-21T18:57:58.782Z"
   },
   {
    "duration": 1437,
    "start_time": "2024-05-21T18:59:08.885Z"
   },
   {
    "duration": 42,
    "start_time": "2024-05-21T18:59:10.328Z"
   },
   {
    "duration": 20,
    "start_time": "2024-05-21T18:59:10.373Z"
   },
   {
    "duration": 40,
    "start_time": "2024-05-21T18:59:10.399Z"
   },
   {
    "duration": 17,
    "start_time": "2024-05-21T18:59:10.443Z"
   },
   {
    "duration": 25,
    "start_time": "2024-05-21T18:59:10.463Z"
   },
   {
    "duration": 7,
    "start_time": "2024-05-21T18:59:10.525Z"
   },
   {
    "duration": 19,
    "start_time": "2024-05-21T18:59:10.536Z"
   },
   {
    "duration": 23,
    "start_time": "2024-05-21T18:59:10.558Z"
   },
   {
    "duration": 49,
    "start_time": "2024-05-21T18:59:10.587Z"
   },
   {
    "duration": 18,
    "start_time": "2024-05-21T18:59:10.640Z"
   },
   {
    "duration": 6,
    "start_time": "2024-05-21T18:59:10.662Z"
   },
   {
    "duration": 54,
    "start_time": "2024-05-21T18:59:10.673Z"
   },
   {
    "duration": 8,
    "start_time": "2024-05-21T18:59:10.730Z"
   },
   {
    "duration": 490,
    "start_time": "2024-05-21T18:59:10.741Z"
   },
   {
    "duration": 14,
    "start_time": "2024-05-21T18:59:11.234Z"
   },
   {
    "duration": 12,
    "start_time": "2024-05-21T18:59:11.251Z"
   },
   {
    "duration": 20,
    "start_time": "2024-05-21T18:59:11.265Z"
   },
   {
    "duration": 44,
    "start_time": "2024-05-21T18:59:11.288Z"
   },
   {
    "duration": 29,
    "start_time": "2024-05-21T18:59:11.335Z"
   },
   {
    "duration": 7,
    "start_time": "2024-05-21T18:59:11.367Z"
   },
   {
    "duration": 369,
    "start_time": "2024-05-21T18:59:11.378Z"
   },
   {
    "duration": 15,
    "start_time": "2024-05-21T18:59:11.749Z"
   },
   {
    "duration": 12,
    "start_time": "2024-05-21T18:59:11.767Z"
   },
   {
    "duration": 6,
    "start_time": "2024-05-21T18:59:11.783Z"
   },
   {
    "duration": 7,
    "start_time": "2024-05-21T18:59:11.828Z"
   },
   {
    "duration": 8,
    "start_time": "2024-05-21T18:59:11.838Z"
   },
   {
    "duration": 7,
    "start_time": "2024-05-21T18:59:11.855Z"
   },
   {
    "duration": 7,
    "start_time": "2024-05-21T18:59:11.866Z"
   },
   {
    "duration": 57,
    "start_time": "2024-05-21T18:59:11.876Z"
   },
   {
    "duration": 747,
    "start_time": "2024-05-21T18:59:11.936Z"
   },
   {
    "duration": 20,
    "start_time": "2024-05-21T18:59:12.686Z"
   },
   {
    "duration": 931,
    "start_time": "2024-05-21T18:59:12.710Z"
   },
   {
    "duration": 10,
    "start_time": "2024-05-21T18:59:13.645Z"
   },
   {
    "duration": 359,
    "start_time": "2024-05-21T18:59:13.659Z"
   },
   {
    "duration": 612,
    "start_time": "2024-05-21T18:59:14.020Z"
   },
   {
    "duration": 25,
    "start_time": "2024-05-21T18:59:14.635Z"
   },
   {
    "duration": 16,
    "start_time": "2024-05-21T18:59:14.664Z"
   },
   {
    "duration": 43,
    "start_time": "2024-05-21T18:59:14.684Z"
   },
   {
    "duration": 6,
    "start_time": "2024-05-21T18:59:14.732Z"
   },
   {
    "duration": 18,
    "start_time": "2024-05-21T18:59:14.741Z"
   },
   {
    "duration": 472,
    "start_time": "2024-05-21T18:59:14.763Z"
   },
   {
    "duration": 957,
    "start_time": "2024-05-21T18:59:15.238Z"
   },
   {
    "duration": 14,
    "start_time": "2024-05-21T18:59:16.198Z"
   },
   {
    "duration": 24,
    "start_time": "2024-05-21T18:59:16.225Z"
   },
   {
    "duration": 9,
    "start_time": "2024-05-21T18:59:16.252Z"
   },
   {
    "duration": 15,
    "start_time": "2024-05-21T18:59:16.264Z"
   },
   {
    "duration": 1096,
    "start_time": "2024-05-21T18:59:16.282Z"
   },
   {
    "duration": 9,
    "start_time": "2024-05-21T18:59:17.381Z"
   },
   {
    "duration": 35,
    "start_time": "2024-05-21T18:59:17.393Z"
   },
   {
    "duration": 1064,
    "start_time": "2024-05-21T18:59:17.432Z"
   },
   {
    "duration": 9,
    "start_time": "2024-05-21T18:59:18.500Z"
   },
   {
    "duration": 18,
    "start_time": "2024-05-21T18:59:18.529Z"
   },
   {
    "duration": 1163,
    "start_time": "2024-05-21T18:59:18.550Z"
   },
   {
    "duration": 16,
    "start_time": "2024-05-21T18:59:19.717Z"
   },
   {
    "duration": 12,
    "start_time": "2024-05-21T18:59:19.736Z"
   },
   {
    "duration": 7,
    "start_time": "2024-05-21T19:03:48.572Z"
   },
   {
    "duration": 1496,
    "start_time": "2024-05-21T19:13:12.114Z"
   },
   {
    "duration": 46,
    "start_time": "2024-05-21T19:13:13.614Z"
   },
   {
    "duration": 21,
    "start_time": "2024-05-21T19:13:13.663Z"
   },
   {
    "duration": 45,
    "start_time": "2024-05-21T19:13:13.687Z"
   },
   {
    "duration": 16,
    "start_time": "2024-05-21T19:13:13.738Z"
   },
   {
    "duration": 27,
    "start_time": "2024-05-21T19:13:13.757Z"
   },
   {
    "duration": 7,
    "start_time": "2024-05-21T19:13:13.825Z"
   },
   {
    "duration": 18,
    "start_time": "2024-05-21T19:13:13.838Z"
   },
   {
    "duration": 23,
    "start_time": "2024-05-21T19:13:13.859Z"
   },
   {
    "duration": 45,
    "start_time": "2024-05-21T19:13:13.885Z"
   },
   {
    "duration": 17,
    "start_time": "2024-05-21T19:13:13.933Z"
   },
   {
    "duration": 5,
    "start_time": "2024-05-21T19:13:13.953Z"
   },
   {
    "duration": 14,
    "start_time": "2024-05-21T19:13:13.961Z"
   },
   {
    "duration": 9,
    "start_time": "2024-05-21T19:13:14.026Z"
   },
   {
    "duration": 468,
    "start_time": "2024-05-21T19:13:14.037Z"
   },
   {
    "duration": 20,
    "start_time": "2024-05-21T19:13:14.508Z"
   },
   {
    "duration": 11,
    "start_time": "2024-05-21T19:13:14.531Z"
   },
   {
    "duration": 20,
    "start_time": "2024-05-21T19:13:14.544Z"
   },
   {
    "duration": 7,
    "start_time": "2024-05-21T19:13:14.568Z"
   },
   {
    "duration": 75,
    "start_time": "2024-05-21T19:13:14.578Z"
   },
   {
    "duration": 7,
    "start_time": "2024-05-21T19:13:14.655Z"
   },
   {
    "duration": 355,
    "start_time": "2024-05-21T19:13:14.665Z"
   },
   {
    "duration": 15,
    "start_time": "2024-05-21T19:13:15.027Z"
   },
   {
    "duration": 12,
    "start_time": "2024-05-21T19:13:15.044Z"
   },
   {
    "duration": 7,
    "start_time": "2024-05-21T19:13:15.060Z"
   },
   {
    "duration": 7,
    "start_time": "2024-05-21T19:13:15.070Z"
   },
   {
    "duration": 49,
    "start_time": "2024-05-21T19:13:15.080Z"
   },
   {
    "duration": 7,
    "start_time": "2024-05-21T19:13:15.132Z"
   },
   {
    "duration": 8,
    "start_time": "2024-05-21T19:13:15.142Z"
   },
   {
    "duration": 9,
    "start_time": "2024-05-21T19:13:15.153Z"
   },
   {
    "duration": 750,
    "start_time": "2024-05-21T19:13:15.165Z"
   },
   {
    "duration": 20,
    "start_time": "2024-05-21T19:13:15.919Z"
   },
   {
    "duration": 921,
    "start_time": "2024-05-21T19:13:15.942Z"
   },
   {
    "duration": 11,
    "start_time": "2024-05-21T19:13:16.866Z"
   },
   {
    "duration": 345,
    "start_time": "2024-05-21T19:13:16.881Z"
   },
   {
    "duration": 620,
    "start_time": "2024-05-21T19:13:17.229Z"
   },
   {
    "duration": 23,
    "start_time": "2024-05-21T19:13:17.853Z"
   },
   {
    "duration": 16,
    "start_time": "2024-05-21T19:13:17.880Z"
   },
   {
    "duration": 10,
    "start_time": "2024-05-21T19:13:17.927Z"
   },
   {
    "duration": 5,
    "start_time": "2024-05-21T19:13:17.942Z"
   },
   {
    "duration": 16,
    "start_time": "2024-05-21T19:13:17.958Z"
   },
   {
    "duration": 413,
    "start_time": "2024-05-21T19:13:17.978Z"
   },
   {
    "duration": 1005,
    "start_time": "2024-05-21T19:13:18.395Z"
   },
   {
    "duration": 23,
    "start_time": "2024-05-21T19:13:19.404Z"
   },
   {
    "duration": 24,
    "start_time": "2024-05-21T19:13:19.431Z"
   },
   {
    "duration": 9,
    "start_time": "2024-05-21T19:13:19.458Z"
   },
   {
    "duration": 10,
    "start_time": "2024-05-21T19:13:19.470Z"
   },
   {
    "duration": 15,
    "start_time": "2024-05-21T19:13:19.525Z"
   },
   {
    "duration": 1070,
    "start_time": "2024-05-21T19:13:19.543Z"
   },
   {
    "duration": 9,
    "start_time": "2024-05-21T19:13:20.625Z"
   },
   {
    "duration": 15,
    "start_time": "2024-05-21T19:13:20.638Z"
   },
   {
    "duration": 1059,
    "start_time": "2024-05-21T19:13:20.656Z"
   },
   {
    "duration": 14,
    "start_time": "2024-05-21T19:13:21.718Z"
   },
   {
    "duration": 15,
    "start_time": "2024-05-21T19:13:21.736Z"
   },
   {
    "duration": 1199,
    "start_time": "2024-05-21T19:13:21.754Z"
   },
   {
    "duration": 13,
    "start_time": "2024-05-21T19:13:22.957Z"
   },
   {
    "duration": 11,
    "start_time": "2024-05-21T19:13:22.974Z"
   },
   {
    "duration": 1438,
    "start_time": "2024-05-21T19:37:46.289Z"
   },
   {
    "duration": 40,
    "start_time": "2024-05-21T19:37:47.731Z"
   },
   {
    "duration": 41,
    "start_time": "2024-05-21T19:37:47.773Z"
   },
   {
    "duration": 19,
    "start_time": "2024-05-21T19:37:47.819Z"
   },
   {
    "duration": 15,
    "start_time": "2024-05-21T19:37:47.841Z"
   },
   {
    "duration": 62,
    "start_time": "2024-05-21T19:37:47.858Z"
   },
   {
    "duration": 7,
    "start_time": "2024-05-21T19:37:47.923Z"
   },
   {
    "duration": 18,
    "start_time": "2024-05-21T19:37:47.933Z"
   },
   {
    "duration": 21,
    "start_time": "2024-05-21T19:37:47.954Z"
   },
   {
    "duration": 16,
    "start_time": "2024-05-21T19:37:48.018Z"
   },
   {
    "duration": 16,
    "start_time": "2024-05-21T19:37:48.036Z"
   },
   {
    "duration": 7,
    "start_time": "2024-05-21T19:37:48.055Z"
   },
   {
    "duration": 54,
    "start_time": "2024-05-21T19:37:48.064Z"
   },
   {
    "duration": 8,
    "start_time": "2024-05-21T19:37:48.121Z"
   },
   {
    "duration": 456,
    "start_time": "2024-05-21T19:37:48.132Z"
   },
   {
    "duration": 22,
    "start_time": "2024-05-21T19:37:48.592Z"
   },
   {
    "duration": 9,
    "start_time": "2024-05-21T19:37:48.617Z"
   },
   {
    "duration": 19,
    "start_time": "2024-05-21T19:37:48.629Z"
   },
   {
    "duration": 7,
    "start_time": "2024-05-21T19:37:48.652Z"
   },
   {
    "duration": 71,
    "start_time": "2024-05-21T19:37:48.662Z"
   },
   {
    "duration": 5,
    "start_time": "2024-05-21T19:37:48.736Z"
   },
   {
    "duration": 343,
    "start_time": "2024-05-21T19:37:48.745Z"
   },
   {
    "duration": 21,
    "start_time": "2024-05-21T19:37:49.091Z"
   },
   {
    "duration": 12,
    "start_time": "2024-05-21T19:37:49.115Z"
   },
   {
    "duration": 6,
    "start_time": "2024-05-21T19:37:49.131Z"
   },
   {
    "duration": 5,
    "start_time": "2024-05-21T19:37:49.141Z"
   },
   {
    "duration": 5,
    "start_time": "2024-05-21T19:37:49.150Z"
   },
   {
    "duration": 7,
    "start_time": "2024-05-21T19:37:49.211Z"
   },
   {
    "duration": 10,
    "start_time": "2024-05-21T19:37:49.221Z"
   },
   {
    "duration": 10,
    "start_time": "2024-05-21T19:37:49.234Z"
   },
   {
    "duration": 701,
    "start_time": "2024-05-21T19:37:49.248Z"
   },
   {
    "duration": 20,
    "start_time": "2024-05-21T19:37:49.952Z"
   },
   {
    "duration": 914,
    "start_time": "2024-05-21T19:37:49.976Z"
   },
   {
    "duration": 22,
    "start_time": "2024-05-21T19:37:50.892Z"
   },
   {
    "duration": 335,
    "start_time": "2024-05-21T19:37:50.917Z"
   },
   {
    "duration": 619,
    "start_time": "2024-05-21T19:37:51.255Z"
   },
   {
    "duration": 37,
    "start_time": "2024-05-21T19:37:51.877Z"
   },
   {
    "duration": 14,
    "start_time": "2024-05-21T19:37:51.917Z"
   },
   {
    "duration": 8,
    "start_time": "2024-05-21T19:37:51.934Z"
   },
   {
    "duration": 5,
    "start_time": "2024-05-21T19:37:51.945Z"
   },
   {
    "duration": 17,
    "start_time": "2024-05-21T19:37:51.953Z"
   },
   {
    "duration": 439,
    "start_time": "2024-05-21T19:37:52.014Z"
   },
   {
    "duration": 938,
    "start_time": "2024-05-21T19:37:52.456Z"
   },
   {
    "duration": 18,
    "start_time": "2024-05-21T19:37:53.397Z"
   },
   {
    "duration": 38,
    "start_time": "2024-05-21T19:37:53.418Z"
   },
   {
    "duration": 9,
    "start_time": "2024-05-21T19:37:53.459Z"
   },
   {
    "duration": 9,
    "start_time": "2024-05-21T19:37:53.471Z"
   },
   {
    "duration": 16,
    "start_time": "2024-05-21T19:37:53.511Z"
   },
   {
    "duration": 1065,
    "start_time": "2024-05-21T19:37:53.530Z"
   },
   {
    "duration": 18,
    "start_time": "2024-05-21T19:37:54.598Z"
   },
   {
    "duration": 15,
    "start_time": "2024-05-21T19:37:54.618Z"
   },
   {
    "duration": 1034,
    "start_time": "2024-05-21T19:37:54.636Z"
   },
   {
    "duration": 8,
    "start_time": "2024-05-21T19:37:55.674Z"
   },
   {
    "duration": 31,
    "start_time": "2024-05-21T19:37:55.685Z"
   },
   {
    "duration": 1098,
    "start_time": "2024-05-21T19:37:55.719Z"
   },
   {
    "duration": 11,
    "start_time": "2024-05-21T19:37:56.820Z"
   },
   {
    "duration": 11,
    "start_time": "2024-05-21T19:37:56.834Z"
   }
  ],
  "kernelspec": {
   "display_name": "Python 3 (ipykernel)",
   "language": "python",
   "name": "python3"
  },
  "language_info": {
   "codemirror_mode": {
    "name": "ipython",
    "version": 3
   },
   "file_extension": ".py",
   "mimetype": "text/x-python",
   "name": "python",
   "nbconvert_exporter": "python",
   "pygments_lexer": "ipython3",
   "version": "3.11.7"
  },
  "toc": {
   "base_numbering": 1,
   "nav_menu": {},
   "number_sections": true,
   "sideBar": true,
   "skip_h1_title": true,
   "title_cell": "Table of Contents",
   "title_sidebar": "Contents",
   "toc_cell": false,
   "toc_position": {},
   "toc_section_display": true,
   "toc_window_display": false
  }
 },
 "nbformat": 4,
 "nbformat_minor": 5
}
