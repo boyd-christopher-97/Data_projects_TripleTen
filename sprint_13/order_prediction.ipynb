{
 "cells": [
  {
   "cell_type": "markdown",
   "metadata": {},
   "source": [
    "# Project description\n",
    "\n",
    "Sweet Lift Taxi company has collected historical data on taxi orders at airports. To attract more drivers during peak hours, we need to predict the amount of taxi orders for the next hour. Build a model for such a prediction.\n",
    "\n",
    "The RMSE metric on the test set should not be more than 48.\n",
    "\n",
    "## Project instructions\n",
    "\n",
    "1. Download the data and resample it by one hour.\n",
    "2. Analyze the data.\n",
    "3. Train different models with different hyperparameters. The test sample should be 10% of the initial dataset. \n",
    "4. Test the data using the test sample and provide a conclusion.\n",
    "\n",
    "## Data description\n",
    "\n",
    "The data is stored in file `taxi.csv`. The number of orders is in the '*num_orders*' column."
   ]
  },
  {
   "cell_type": "markdown",
   "metadata": {},
   "source": [
    "# Forecasting Hourly Orders for Sweet Lift Taxi Company"
   ]
  },
  {
   "cell_type": "code",
   "execution_count": 1,
   "metadata": {},
   "outputs": [
    {
     "name": "stdout",
     "output_type": "stream",
     "text": [
      "Requirement already satisfied: prophet in /opt/conda/lib/python3.10/site-packages (1.1.5)\n",
      "Requirement already satisfied: importlib-resources in /opt/conda/lib/python3.10/site-packages (from prophet) (5.10.2)\n",
      "Requirement already satisfied: cmdstanpy>=1.0.4 in /opt/conda/lib/python3.10/site-packages (from prophet) (1.2.4)\n",
      "Requirement already satisfied: holidays>=0.25 in /opt/conda/lib/python3.10/site-packages (from prophet) (0.55)\n",
      "Requirement already satisfied: tqdm>=4.36.1 in /opt/conda/lib/python3.10/site-packages (from prophet) (4.64.1)\n",
      "Requirement already satisfied: pandas>=1.0.4 in /opt/conda/lib/python3.10/site-packages (from prophet) (2.2.2)\n",
      "Requirement already satisfied: matplotlib>=2.0.0 in /opt/conda/lib/python3.10/site-packages (from prophet) (3.9.2)\n",
      "Requirement already satisfied: numpy>=1.15.4 in /opt/conda/lib/python3.10/site-packages (from prophet) (2.1.0)\n",
      "Requirement already satisfied: stanio<2.0.0,>=0.4.0 in /opt/conda/lib/python3.10/site-packages (from cmdstanpy>=1.0.4->prophet) (0.5.1)\n",
      "Requirement already satisfied: python-dateutil in /opt/conda/lib/python3.10/site-packages (from holidays>=0.25->prophet) (2.8.2)\n",
      "Requirement already satisfied: kiwisolver>=1.3.1 in /opt/conda/lib/python3.10/site-packages (from matplotlib>=2.0.0->prophet) (1.4.5)\n",
      "Requirement already satisfied: packaging>=20.0 in /opt/conda/lib/python3.10/site-packages (from matplotlib>=2.0.0->prophet) (23.0)\n",
      "Requirement already satisfied: pillow>=8 in /opt/conda/lib/python3.10/site-packages (from matplotlib>=2.0.0->prophet) (10.4.0)\n",
      "Requirement already satisfied: fonttools>=4.22.0 in /opt/conda/lib/python3.10/site-packages (from matplotlib>=2.0.0->prophet) (4.53.1)\n",
      "Requirement already satisfied: pyparsing>=2.3.1 in /opt/conda/lib/python3.10/site-packages (from matplotlib>=2.0.0->prophet) (3.1.2)\n",
      "Requirement already satisfied: contourpy>=1.0.1 in /opt/conda/lib/python3.10/site-packages (from matplotlib>=2.0.0->prophet) (1.2.1)\n",
      "Requirement already satisfied: cycler>=0.10 in /opt/conda/lib/python3.10/site-packages (from matplotlib>=2.0.0->prophet) (0.12.1)\n",
      "Requirement already satisfied: tzdata>=2022.7 in /opt/conda/lib/python3.10/site-packages (from pandas>=1.0.4->prophet) (2024.1)\n",
      "Requirement already satisfied: pytz>=2020.1 in /opt/conda/lib/python3.10/site-packages (from pandas>=1.0.4->prophet) (2022.7.1)\n",
      "Requirement already satisfied: six>=1.5 in /opt/conda/lib/python3.10/site-packages (from python-dateutil->holidays>=0.25->prophet) (1.16.0)\n",
      "\u001b[33mWARNING: Ignoring invalid distribution - (/opt/conda/envs/python3/lib/python3.9/site-packages)\u001b[0m\u001b[33m\n",
      "\u001b[0m\u001b[33mWARNING: Ignoring invalid distribution -olidays (/opt/conda/envs/python3/lib/python3.9/site-packages)\u001b[0m\u001b[33m\n",
      "\u001b[0mRequirement already satisfied: prophet in /home/jovyan/.local/lib/python3.9/site-packages (1.1.5)\n",
      "Requirement already satisfied: cmdstanpy>=1.0.4 in /home/jovyan/.local/lib/python3.9/site-packages (from prophet) (1.2.4)\n",
      "Requirement already satisfied: numpy>=1.15.4 in /opt/conda/envs/python3/lib/python3.9/site-packages (from prophet) (1.21.2)\n",
      "Requirement already satisfied: matplotlib>=2.0.0 in /opt/conda/envs/python3/lib/python3.9/site-packages (from prophet) (3.3.4)\n",
      "Requirement already satisfied: pandas>=1.0.4 in /opt/conda/envs/python3/lib/python3.9/site-packages (from prophet) (1.2.4)\n",
      "Requirement already satisfied: holidays>=0.25 in /home/jovyan/.local/lib/python3.9/site-packages (from prophet) (0.55)\n",
      "Requirement already satisfied: tqdm>=4.36.1 in /opt/conda/envs/python3/lib/python3.9/site-packages (from prophet) (4.66.4)\n",
      "Requirement already satisfied: importlib-resources in /opt/conda/envs/python3/lib/python3.9/site-packages (from prophet) (6.4.0)\n",
      "Requirement already satisfied: stanio<2.0.0,>=0.4.0 in /opt/conda/envs/python3/lib/python3.9/site-packages (from cmdstanpy>=1.0.4->prophet) (0.5.1)\n",
      "Requirement already satisfied: python-dateutil in /opt/conda/envs/python3/lib/python3.9/site-packages (from holidays>=0.25->prophet) (2.9.0)\n",
      "Requirement already satisfied: cycler>=0.10 in /opt/conda/envs/python3/lib/python3.9/site-packages (from matplotlib>=2.0.0->prophet) (0.12.1)\n",
      "Requirement already satisfied: kiwisolver>=1.0.1 in /opt/conda/envs/python3/lib/python3.9/site-packages (from matplotlib>=2.0.0->prophet) (1.4.5)\n",
      "Requirement already satisfied: pillow>=6.2.0 in /opt/conda/envs/python3/lib/python3.9/site-packages (from matplotlib>=2.0.0->prophet) (8.4.0)\n",
      "Requirement already satisfied: pyparsing!=2.0.4,!=2.1.2,!=2.1.6,>=2.0.3 in /opt/conda/envs/python3/lib/python3.9/site-packages (from matplotlib>=2.0.0->prophet) (3.1.2)\n",
      "Requirement already satisfied: pytz>=2017.3 in /opt/conda/envs/python3/lib/python3.9/site-packages (from pandas>=1.0.4->prophet) (2024.1)\n",
      "Requirement already satisfied: zipp>=3.1.0 in /opt/conda/envs/python3/lib/python3.9/site-packages (from importlib-resources->prophet) (3.17.0)\n",
      "Requirement already satisfied: six>=1.5 in /opt/conda/envs/python3/lib/python3.9/site-packages (from python-dateutil->holidays>=0.25->prophet) (1.16.0)\n",
      "\u001b[33mWARNING: Ignoring invalid distribution - (/opt/conda/envs/python3/lib/python3.9/site-packages)\u001b[0m\u001b[33m\n",
      "\u001b[0m\u001b[33mWARNING: Ignoring invalid distribution -olidays (/opt/conda/envs/python3/lib/python3.9/site-packages)\u001b[0m\u001b[33m\n",
      "\u001b[0mNote: you may need to restart the kernel to use updated packages.\n"
     ]
    }
   ],
   "source": [
    "!pip install --user prophet\n",
    "%pip install --user prophet"
   ]
  },
  {
   "cell_type": "markdown",
   "metadata": {},
   "source": [
    "## Preparation"
   ]
  },
  {
   "cell_type": "code",
   "execution_count": 2,
   "metadata": {},
   "outputs": [],
   "source": [
    "import pandas as pd\n",
    "import numpy as np\n",
    "from statsmodels.tsa.arima.model import ARIMA\n",
    "from prophet import Prophet\n",
    "from prophet.diagnostics import cross_validation, performance_metrics\n",
    "from sklearn.model_selection import train_test_split\n",
    "from statsmodels.tsa.stattools import adfuller\n",
    "from statsmodels.tsa.stattools import arma_order_select_ic\n",
    "from pmdarima import auto_arima\n",
    "from statsmodels.tsa.seasonal import seasonal_decompose\n",
    "from sklearn.metrics import mean_squared_error\n",
    "from statsmodels.tsa.ar_model import AutoReg, ar_select_order\n",
    "from matplotlib import pyplot as plt\n",
    "from sklearn.linear_model import LinearRegression\n",
    "from sklearn.metrics import make_scorer\n",
    "from sklearn.model_selection import cross_val_score\n",
    "from sklearn.model_selection import TimeSeriesSplit\n",
    "from statsmodels.graphics.tsaplots import plot_acf"
   ]
  },
  {
   "cell_type": "code",
   "execution_count": 3,
   "metadata": {},
   "outputs": [],
   "source": [
    "try:\n",
    "    df = pd.read_csv('/datasets/taxi.csv', parse_dates=['datetime'], index_col=[0])\n",
    "\n",
    "except FileNotFoundError:\n",
    "    \n",
    "    print(\"The file was not found\")"
   ]
  },
  {
   "cell_type": "code",
   "execution_count": 4,
   "metadata": {},
   "outputs": [
    {
     "name": "stdout",
     "output_type": "stream",
     "text": [
      "<class 'pandas.core.frame.DataFrame'>\n",
      "DatetimeIndex: 26496 entries, 2018-03-01 00:00:00 to 2018-08-31 23:50:00\n",
      "Data columns (total 1 columns):\n",
      " #   Column      Non-Null Count  Dtype\n",
      "---  ------      --------------  -----\n",
      " 0   num_orders  26496 non-null  int64\n",
      "dtypes: int64(1)\n",
      "memory usage: 414.0 KB\n"
     ]
    }
   ],
   "source": [
    "df.info()"
   ]
  },
  {
   "cell_type": "code",
   "execution_count": 5,
   "metadata": {},
   "outputs": [
    {
     "data": {
      "text/plain": [
       "True"
      ]
     },
     "execution_count": 5,
     "metadata": {},
     "output_type": "execute_result"
    }
   ],
   "source": [
    "df.sort_index(inplace=True)\n",
    "#Newer version of Python requires increasing\n",
    "df.index.is_monotonic_increasing"
   ]
  },
  {
   "cell_type": "markdown",
   "metadata": {},
   "source": [
    "* Data is in order"
   ]
  },
  {
   "cell_type": "code",
   "execution_count": 6,
   "metadata": {},
   "outputs": [],
   "source": [
    "#Copy later used for prophet\n",
    "original = df.copy()"
   ]
  },
  {
   "cell_type": "code",
   "execution_count": 7,
   "metadata": {},
   "outputs": [
    {
     "data": {
      "text/html": [
       "<div>\n",
       "<style scoped>\n",
       "    .dataframe tbody tr th:only-of-type {\n",
       "        vertical-align: middle;\n",
       "    }\n",
       "\n",
       "    .dataframe tbody tr th {\n",
       "        vertical-align: top;\n",
       "    }\n",
       "\n",
       "    .dataframe thead th {\n",
       "        text-align: right;\n",
       "    }\n",
       "</style>\n",
       "<table border=\"1\" class=\"dataframe\">\n",
       "  <thead>\n",
       "    <tr style=\"text-align: right;\">\n",
       "      <th></th>\n",
       "      <th>num_orders</th>\n",
       "    </tr>\n",
       "    <tr>\n",
       "      <th>datetime</th>\n",
       "      <th></th>\n",
       "    </tr>\n",
       "  </thead>\n",
       "  <tbody>\n",
       "    <tr>\n",
       "      <th>2018-03-01 00:00:00</th>\n",
       "      <td>124</td>\n",
       "    </tr>\n",
       "    <tr>\n",
       "      <th>2018-03-01 01:00:00</th>\n",
       "      <td>85</td>\n",
       "    </tr>\n",
       "    <tr>\n",
       "      <th>2018-03-01 02:00:00</th>\n",
       "      <td>71</td>\n",
       "    </tr>\n",
       "    <tr>\n",
       "      <th>2018-03-01 03:00:00</th>\n",
       "      <td>66</td>\n",
       "    </tr>\n",
       "    <tr>\n",
       "      <th>2018-03-01 04:00:00</th>\n",
       "      <td>43</td>\n",
       "    </tr>\n",
       "  </tbody>\n",
       "</table>\n",
       "</div>"
      ],
      "text/plain": [
       "                     num_orders\n",
       "datetime                       \n",
       "2018-03-01 00:00:00         124\n",
       "2018-03-01 01:00:00          85\n",
       "2018-03-01 02:00:00          71\n",
       "2018-03-01 03:00:00          66\n",
       "2018-03-01 04:00:00          43"
      ]
     },
     "execution_count": 7,
     "metadata": {},
     "output_type": "execute_result"
    }
   ],
   "source": [
    "#Resample it by one hour\n",
    "df = df.resample('1H').sum()\n",
    "df.head(5)"
   ]
  },
  {
   "cell_type": "code",
   "execution_count": 8,
   "metadata": {},
   "outputs": [
    {
     "data": {
      "text/html": [
       "<div>\n",
       "<style scoped>\n",
       "    .dataframe tbody tr th:only-of-type {\n",
       "        vertical-align: middle;\n",
       "    }\n",
       "\n",
       "    .dataframe tbody tr th {\n",
       "        vertical-align: top;\n",
       "    }\n",
       "\n",
       "    .dataframe thead th {\n",
       "        text-align: right;\n",
       "    }\n",
       "</style>\n",
       "<table border=\"1\" class=\"dataframe\">\n",
       "  <thead>\n",
       "    <tr style=\"text-align: right;\">\n",
       "      <th></th>\n",
       "      <th>num_orders</th>\n",
       "    </tr>\n",
       "    <tr>\n",
       "      <th>datetime</th>\n",
       "      <th></th>\n",
       "    </tr>\n",
       "  </thead>\n",
       "  <tbody>\n",
       "    <tr>\n",
       "      <th>2018-08-31 19:00:00</th>\n",
       "      <td>136</td>\n",
       "    </tr>\n",
       "    <tr>\n",
       "      <th>2018-08-31 20:00:00</th>\n",
       "      <td>154</td>\n",
       "    </tr>\n",
       "    <tr>\n",
       "      <th>2018-08-31 21:00:00</th>\n",
       "      <td>159</td>\n",
       "    </tr>\n",
       "    <tr>\n",
       "      <th>2018-08-31 22:00:00</th>\n",
       "      <td>223</td>\n",
       "    </tr>\n",
       "    <tr>\n",
       "      <th>2018-08-31 23:00:00</th>\n",
       "      <td>205</td>\n",
       "    </tr>\n",
       "  </tbody>\n",
       "</table>\n",
       "</div>"
      ],
      "text/plain": [
       "                     num_orders\n",
       "datetime                       \n",
       "2018-08-31 19:00:00         136\n",
       "2018-08-31 20:00:00         154\n",
       "2018-08-31 21:00:00         159\n",
       "2018-08-31 22:00:00         223\n",
       "2018-08-31 23:00:00         205"
      ]
     },
     "execution_count": 8,
     "metadata": {},
     "output_type": "execute_result"
    }
   ],
   "source": [
    "df.tail(5)"
   ]
  },
  {
   "cell_type": "code",
   "execution_count": 9,
   "metadata": {},
   "outputs": [],
   "source": [
    "def make_features(data, max_lag, rolling_mean_size):\n",
    "    #data['year'] = data.index.year -> Data does not provide useful information \n",
    "    data['month'] = data.index.month\n",
    "    data['day'] = data.index.day\n",
    "    data['dayofweek'] = data.index.dayofweek\n",
    "    #Added in hr\n",
    "    data['hour'] = data.index.hour\n",
    "    \n",
    "    for lag in range(1, max_lag + 1):\n",
    "        data['lag_{}'.format(lag)] = data['num_orders'].shift(lag)\n",
    "\n",
    "    data['rolling_mean'] = data['num_orders'].shift().rolling(rolling_mean_size).mean()\n",
    "    \n",
    "#max lag = 2 and 24 hr time frame for rolling mean size\n",
    "make_features(df, 2, 24)\n",
    "\n",
    "train, test = train_test_split(df, shuffle=False, test_size=0.1)\n",
    "train = train.dropna()\n",
    "\n",
    "features_train = train.iloc[:, 1:]\n",
    "target_train = train.iloc[:, 0]\n",
    "features_test = test.iloc[:, 1:]\n",
    "target_test = test.iloc[:, 0]"
   ]
  },
  {
   "cell_type": "code",
   "execution_count": 10,
   "metadata": {},
   "outputs": [
    {
     "name": "stdout",
     "output_type": "stream",
     "text": [
      "<class 'pandas.core.frame.DataFrame'>\n",
      "DatetimeIndex: 4416 entries, 2018-03-01 00:00:00 to 2018-08-31 23:00:00\n",
      "Freq: H\n",
      "Data columns (total 8 columns):\n",
      " #   Column        Non-Null Count  Dtype  \n",
      "---  ------        --------------  -----  \n",
      " 0   num_orders    4416 non-null   int64  \n",
      " 1   month         4416 non-null   int64  \n",
      " 2   day           4416 non-null   int64  \n",
      " 3   dayofweek     4416 non-null   int64  \n",
      " 4   hour          4416 non-null   int64  \n",
      " 5   lag_1         4415 non-null   float64\n",
      " 6   lag_2         4414 non-null   float64\n",
      " 7   rolling_mean  4392 non-null   float64\n",
      "dtypes: float64(3), int64(5)\n",
      "memory usage: 310.5 KB\n"
     ]
    }
   ],
   "source": [
    "df.info()"
   ]
  },
  {
   "cell_type": "code",
   "execution_count": 11,
   "metadata": {},
   "outputs": [
    {
     "name": "stdout",
     "output_type": "stream",
     "text": [
      "<class 'pandas.core.frame.DataFrame'>\n",
      "DatetimeIndex: 3950 entries, 2018-03-02 00:00:00 to 2018-08-13 13:00:00\n",
      "Freq: H\n",
      "Data columns (total 8 columns):\n",
      " #   Column        Non-Null Count  Dtype  \n",
      "---  ------        --------------  -----  \n",
      " 0   num_orders    3950 non-null   int64  \n",
      " 1   month         3950 non-null   int64  \n",
      " 2   day           3950 non-null   int64  \n",
      " 3   dayofweek     3950 non-null   int64  \n",
      " 4   hour          3950 non-null   int64  \n",
      " 5   lag_1         3950 non-null   float64\n",
      " 6   lag_2         3950 non-null   float64\n",
      " 7   rolling_mean  3950 non-null   float64\n",
      "dtypes: float64(3), int64(5)\n",
      "memory usage: 277.7 KB\n"
     ]
    }
   ],
   "source": [
    "train.info()"
   ]
  },
  {
   "cell_type": "code",
   "execution_count": 12,
   "metadata": {},
   "outputs": [
    {
     "name": "stdout",
     "output_type": "stream",
     "text": [
      "<class 'pandas.core.frame.DataFrame'>\n",
      "DatetimeIndex: 442 entries, 2018-08-13 14:00:00 to 2018-08-31 23:00:00\n",
      "Freq: H\n",
      "Data columns (total 8 columns):\n",
      " #   Column        Non-Null Count  Dtype  \n",
      "---  ------        --------------  -----  \n",
      " 0   num_orders    442 non-null    int64  \n",
      " 1   month         442 non-null    int64  \n",
      " 2   day           442 non-null    int64  \n",
      " 3   dayofweek     442 non-null    int64  \n",
      " 4   hour          442 non-null    int64  \n",
      " 5   lag_1         442 non-null    float64\n",
      " 6   lag_2         442 non-null    float64\n",
      " 7   rolling_mean  442 non-null    float64\n",
      "dtypes: float64(3), int64(5)\n",
      "memory usage: 31.1 KB\n"
     ]
    }
   ],
   "source": [
    "test.info()"
   ]
  },
  {
   "cell_type": "markdown",
   "metadata": {},
   "source": [
    "# Analysis"
   ]
  },
  {
   "cell_type": "code",
   "execution_count": 13,
   "metadata": {},
   "outputs": [
    {
     "data": {
      "image/png": "[encoded data removed]",
      "text/plain": [
       "<Figure size 640x480 with 4 Axes>"
      ]
     },
     "metadata": {},
     "output_type": "display_data"
    }
   ],
   "source": [
    "decomposition = seasonal_decompose(train['num_orders'])\n",
    "decomposition.plot()\n",
    "plt.show()"
   ]
  },
  {
   "cell_type": "code",
   "execution_count": 14,
   "metadata": {},
   "outputs": [
    {
     "data": {
      "text/plain": [
       "<AxesSubplot:xlabel='datetime'>"
      ]
     },
     "execution_count": 14,
     "metadata": {},
     "output_type": "execute_result"
    },
    {
     "data": {
      "image/png": "[encoded data removed]",
      "text/plain": [
       "<Figure size 640x480 with 1 Axes>"
      ]
     },
     "metadata": {},
     "output_type": "display_data"
    }
   ],
   "source": [
    "data = train['2018-03':'2018-05'].resample('1D').sum()\n",
    "data['mean'] = data['num_orders'].rolling(15).mean()\n",
    "data['std'] = data['num_orders'].rolling(15).std()\n",
    "data.plot()"
   ]
  },
  {
   "cell_type": "code",
   "execution_count": 15,
   "metadata": {},
   "outputs": [
    {
     "data": {
      "image/png": "[encoded data removed]",
      "text/plain": [
       "<Figure size 1000x600 with 1 Axes>"
      ]
     },
     "metadata": {},
     "output_type": "display_data"
    }
   ],
   "source": [
    "data = train['2018-03-01':'2018-03-08'].resample('1H').sum()\n",
    "data['num_orders'].plot(figsize=(10, 6), title='Number of Orders per Hour', legend=True)\n",
    "plt.xlabel('Datetime')\n",
    "plt.ylabel('Number of Orders')\n",
    "plt.show()"
   ]
  },
  {
   "cell_type": "code",
   "execution_count": 16,
   "metadata": {},
   "outputs": [
    {
     "data": {
      "image/png": "[encoded data removed]",
      "text/plain": [
       "<Figure size 1600x1000 with 8 Axes>"
      ]
     },
     "metadata": {},
     "output_type": "display_data"
    }
   ],
   "source": [
    "orders = train.copy()\n",
    "orders['hour'] = train.index.hour\n",
    "orders['dayofweek'] = train.index.dayofweek\n",
    "\n",
    "# Prepare subplots\n",
    "fig, axes = plt.subplots(nrows=2, ncols=4, figsize=(16, 10), sharey=True)\n",
    "fig.suptitle('Number of Orders by Hour for Each Day of the Week', fontsize=16)\n",
    "\n",
    "# Days of the week labels\n",
    "day_labels = ['Monday', 'Tuesday', 'Wednesday', 'Thursday', 'Friday', 'Saturday', 'Sunday']\n",
    "\n",
    "# Plot each day of the week\n",
    "for i, ax in enumerate(axes.flatten()[:-1]):\n",
    "    orders_day = orders[orders['dayofweek'] == i].groupby('hour')['num_orders'].sum()\n",
    "    orders_day.plot(kind='bar', ax=ax, title=day_labels[i], color='skyblue')\n",
    "    ax.set_xlabel('Hour')\n",
    "    ax.set_ylabel('Number of Orders')\n",
    "    ax.set_xticks(range(24))\n",
    "    ax.set_xticklabels(range(24), rotation=0)\n",
    "\n",
    "# Hide the last empty subplot\n",
    "axes.flatten()[-1].axis('off')\n",
    "\n",
    "plt.tight_layout(rect=[0, 0, 1, 0.96])\n",
    "plt.show()"
   ]
  },
  {
   "cell_type": "markdown",
   "metadata": {},
   "source": [
    "* Repeating daily pattern\n",
    "* Seasonal plot is cyclical meaning seasonality does exits and is repeated consistently over the whole dataset. Data was collected over 6 months\n",
    "on a daily basis. \n",
    "* Oth hour always has the highest amount of orders then they all seem to decrease by the 6th and 7th hour abd face another peak around the 15th to 16th hour. Friday nights are different with more taxi orders at night."
   ]
  },
  {
   "cell_type": "markdown",
   "metadata": {},
   "source": [
    "# Forecasting Accuracy"
   ]
  },
  {
   "cell_type": "code",
   "execution_count": 17,
   "metadata": {},
   "outputs": [
    {
     "name": "stdout",
     "output_type": "stream",
     "text": [
      "RMSE: 58.856486242815066\n"
     ]
    }
   ],
   "source": [
    "pred_previous = test['num_orders'].shift()\n",
    "pred_previous.iloc[0] = train['num_orders'].iloc[-1]\n",
    "rmse = np.sqrt(mean_squared_error(test['num_orders'], pred_previous))\n",
    "print('RMSE:', rmse)"
   ]
  },
  {
   "cell_type": "markdown",
   "metadata": {},
   "source": [
    "* Baseline model gives an RMSE of 58. Not good enough"
   ]
  },
  {
   "cell_type": "code",
   "execution_count": 18,
   "metadata": {},
   "outputs": [
    {
     "data": {
      "image/png": "[encoded data removed]",
      "text/plain": [
       "<Figure size 640x480 with 1 Axes>"
      ]
     },
     "metadata": {},
     "output_type": "display_data"
    }
   ],
   "source": [
    "lags_to_check = 50\n",
    "acf = plot_acf(x=train['num_orders'], lags=lags_to_check)\n",
    "\n",
    "plt.xlabel(\"Lags\")\n",
    "plt.ylabel(\"ACF\")\n",
    "plt.show()"
   ]
  },
  {
   "cell_type": "code",
   "execution_count": 19,
   "metadata": {},
   "outputs": [
    {
     "data": {
      "image/png": "[encoded data removed]",
      "text/plain": [
       "<Figure size 640x480 with 1 Axes>"
      ]
     },
     "metadata": {},
     "output_type": "display_data"
    }
   ],
   "source": [
    "from statsmodels.graphics.tsaplots import plot_pacf\n",
    "lags_to_check = 50\n",
    "pacf = plot_pacf(x=train['num_orders'], lags=lags_to_check)  # fill in arguments here\n",
    "\n",
    "plt.xlabel(\"Lags\")\n",
    "plt.ylabel(\"PACF\")\n",
    "plt.show()"
   ]
  },
  {
   "cell_type": "markdown",
   "metadata": {},
   "source": [
    "* 3rd lag falls within the confidence interval and, therefore, stops our count at two. This value is hard coded in the previous make features function\n",
    "  call"
   ]
  },
  {
   "cell_type": "markdown",
   "metadata": {},
   "source": [
    "# Training"
   ]
  },
  {
   "cell_type": "markdown",
   "metadata": {},
   "source": [
    "# Auto Regression"
   ]
  },
  {
   "cell_type": "code",
   "execution_count": 20,
   "metadata": {},
   "outputs": [
    {
     "name": "stdout",
     "output_type": "stream",
     "text": [
      "Training RMSE: 20.13539655926256\n"
     ]
    }
   ],
   "source": [
    "# Select AR order using ar_select_order\n",
    "mod = ar_select_order(endog=train['num_orders'], maxlag=200)\n",
    "ar_order = mod.ar_lags\n",
    "\n",
    "# Create and fit the AR model using the training set\n",
    "ar_model = AutoReg(train['num_orders'], lags=ar_order, seasonal=True)\n",
    "ar_model = ar_model.fit()\n",
    "\n",
    "# Make predictions on the training set\n",
    "train_pred = ar_model.predict(start=ar_order[-1], end=len(train) - 1, dynamic=False)\n",
    "\n",
    "# Evaluate model using RMSE on the training set\n",
    "train_rmse_value = np.sqrt(mean_squared_error(train['num_orders'][ar_order[-1]:], train_pred))\n",
    "print(\"Training RMSE:\", train_rmse_value)"
   ]
  },
  {
   "cell_type": "markdown",
   "metadata": {},
   "source": [
    "# Moving Average"
   ]
  },
  {
   "cell_type": "code",
   "execution_count": 21,
   "metadata": {},
   "outputs": [
    {
     "name": "stdout",
     "output_type": "stream",
     "text": [
      "Output of the arma_order_select_ic() function is: (0, 8)\n",
      "Training RMSE: 31.281870992414913\n"
     ]
    }
   ],
   "source": [
    "res = arma_order_select_ic(y=train['num_orders'], max_ar=0, max_ma=10)\n",
    "ma_order = res.bic_min_order[1]  # Extract MA order from res\n",
    "print(\"Output of the arma_order_select_ic() function is:\", res.bic_min_order)\n",
    "\n",
    "# Step 2: Create and fit the MA model using the training set\n",
    "ma_model = ARIMA(train['num_orders'], order=(0, 0, ma_order))  # Specify order for MA model\n",
    "ma_model = ma_model.fit()\n",
    "\n",
    "# Step 3: Make predictions on the training set\n",
    "train_pred = ma_model.predict(start=ma_order, end=len(train) - 1, dynamic=False)\n",
    "\n",
    "# Step 4: Evaluate model using RMSE on the training set\n",
    "train_rmse_value = np.sqrt(mean_squared_error(train['num_orders'][ma_order:], train_pred))\n",
    "print(\"Training RMSE:\", train_rmse_value)"
   ]
  },
  {
   "cell_type": "markdown",
   "metadata": {},
   "source": [
    "# Autoregressive Moving Average model"
   ]
  },
  {
   "cell_type": "code",
   "execution_count": 22,
   "metadata": {},
   "outputs": [],
   "source": [
    "#def rmse(y_true, y_pred):\n",
    "#    return np.sqrt(mean_squared_error(y_true, y_pred))\n",
    "#rmse_score = make_scorer(rmse)"
   ]
  },
  {
   "cell_type": "code",
   "execution_count": 23,
   "metadata": {},
   "outputs": [],
   "source": [
    "#model = auto_arima(train['num_orders'], seasonal=True, m=24, scoring= rmse_score)"
   ]
  },
  {
   "cell_type": "code",
   "execution_count": 24,
   "metadata": {
    "scrolled": true
   },
   "outputs": [],
   "source": [
    "#train_pred = model.predict_in_sample()\n",
    "#rmse_train = np.sqrt(mean_squared_error(train['num_orders'], train_pred))\n",
    "#print(\"Training RMSE:\", rmse_train)"
   ]
  },
  {
   "cell_type": "code",
   "execution_count": 25,
   "metadata": {},
   "outputs": [],
   "source": [
    "#model.summary()"
   ]
  },
  {
   "cell_type": "markdown",
   "metadata": {},
   "source": [
    "* Sarima by far has the best RMSE on training set. "
   ]
  },
  {
   "cell_type": "markdown",
   "metadata": {},
   "source": [
    "# Prophet"
   ]
  },
  {
   "cell_type": "code",
   "execution_count": 26,
   "metadata": {},
   "outputs": [
    {
     "data": {
      "text/plain": [
       "442"
      ]
     },
     "execution_count": 26,
     "metadata": {},
     "output_type": "execute_result"
    }
   ],
   "source": [
    "#Check len of test for input in prophet\n",
    "len(test)"
   ]
  },
  {
   "cell_type": "code",
   "execution_count": 27,
   "metadata": {},
   "outputs": [
    {
     "name": "stdout",
     "output_type": "stream",
     "text": [
      "<class 'pandas.core.frame.DataFrame'>\n",
      "DatetimeIndex: 26496 entries, 2018-03-01 00:00:00 to 2018-08-31 23:50:00\n",
      "Data columns (total 1 columns):\n",
      " #   Column      Non-Null Count  Dtype\n",
      "---  ------      --------------  -----\n",
      " 0   num_orders  26496 non-null  int64\n",
      "dtypes: int64(1)\n",
      "memory usage: 414.0 KB\n"
     ]
    }
   ],
   "source": [
    "original.info()"
   ]
  },
  {
   "cell_type": "code",
   "execution_count": 28,
   "metadata": {
    "scrolled": true
   },
   "outputs": [
    {
     "name": "stderr",
     "output_type": "stream",
     "text": [
      "20:12:26 - cmdstanpy - INFO - Chain [1] start processing\n",
      "20:12:31 - cmdstanpy - INFO - Chain [1] done processing\n"
     ]
    },
    {
     "name": "stdout",
     "output_type": "stream",
     "text": [
      "Training RMSE: 6.85862124936025\n"
     ]
    }
   ],
   "source": [
    "prophet_df = pd.DataFrame({\n",
    "    'ds': original.index,\n",
    "    'y': original['num_orders']\n",
    "})\n",
    "\n",
    "train = prophet_df[:-442]  # Train on all but the last 442 points\n",
    "\n",
    "#Initialize and fit the Prophet model\n",
    "model = Prophet()\n",
    "model.fit(train)\n",
    "\n",
    "#Make predictions on the training set\n",
    "train_forecast = model.predict(train[['ds']])  # Use the dates from the training set for prediction\n",
    "\n",
    "# Step 5: Calculate RMSE on the training set\n",
    "rmse_train = np.sqrt(mean_squared_error(train['y'], train_forecast['yhat']))\n",
    "print('Training RMSE:', rmse_train)"
   ]
  },
  {
   "cell_type": "markdown",
   "metadata": {},
   "source": [
    "* RMSE is lowest on prophet model. Time for testing. "
   ]
  },
  {
   "cell_type": "markdown",
   "metadata": {},
   "source": [
    "# Testing"
   ]
  },
  {
   "cell_type": "code",
   "execution_count": 29,
   "metadata": {},
   "outputs": [
    {
     "name": "stdout",
     "output_type": "stream",
     "text": [
      "RMSE: 14.502231109774659\n"
     ]
    }
   ],
   "source": [
    "test = prophet_df[-442:]   # Test on the last 442 points\n",
    "\n",
    "# Create a DataFrame for future predictions (442 periods into the future)\n",
    "future = model.make_future_dataframe(periods=442, freq='H')  #'H' for hourly\n",
    "\n",
    "# Generate forecasts\n",
    "forecast = model.predict(future)\n",
    "\n",
    "# Slice the forecast to only include the predictions matching y_test\n",
    "forecast_test = forecast[-442:]  # Last 442 predictions\n",
    "\n",
    "rmse = np.sqrt(mean_squared_error(test['y'], forecast_test['yhat']))\n",
    "print('RMSE:', rmse)"
   ]
  },
  {
   "cell_type": "markdown",
   "metadata": {},
   "source": [
    "# Conclusion"
   ]
  },
  {
   "cell_type": "markdown",
   "metadata": {},
   "source": [
    "Prophet is a robust forecasting library that effectively handles outliers and missing data, which contributes to its strong performance in terms of RMSE. In our analysis, we observed significant fluctuations towards the end of the dataset, particularly within the 6-month cycle, which the Prophet model captured well. Given these factors, I recommend that Sweet Lift Taxi use the Prophet model to predict the number of taxi orders for the next hour."
   ]
  }
 ],
 "metadata": {
  "ExecuteTimeLog": [
   {
    "duration": 1401,
    "start_time": "2024-08-22T07:18:17.088Z"
   },
   {
    "duration": 0,
    "start_time": "2024-08-22T07:18:18.493Z"
   },
   {
    "duration": 0,
    "start_time": "2024-08-22T07:18:18.497Z"
   },
   {
    "duration": 0,
    "start_time": "2024-08-22T07:18:18.499Z"
   },
   {
    "duration": 0,
    "start_time": "2024-08-22T07:18:18.502Z"
   },
   {
    "duration": 0,
    "start_time": "2024-08-22T07:18:18.504Z"
   },
   {
    "duration": 0,
    "start_time": "2024-08-22T07:18:18.506Z"
   },
   {
    "duration": 0,
    "start_time": "2024-08-22T07:18:18.509Z"
   },
   {
    "duration": 1,
    "start_time": "2024-08-22T07:18:18.534Z"
   },
   {
    "duration": 0,
    "start_time": "2024-08-22T07:18:18.537Z"
   },
   {
    "duration": 0,
    "start_time": "2024-08-22T07:18:18.539Z"
   },
   {
    "duration": 0,
    "start_time": "2024-08-22T07:18:18.541Z"
   },
   {
    "duration": 0,
    "start_time": "2024-08-22T07:18:18.544Z"
   },
   {
    "duration": 0,
    "start_time": "2024-08-22T07:18:18.546Z"
   },
   {
    "duration": 0,
    "start_time": "2024-08-22T07:18:18.548Z"
   },
   {
    "duration": 0,
    "start_time": "2024-08-22T07:18:18.550Z"
   },
   {
    "duration": 0,
    "start_time": "2024-08-22T07:18:18.552Z"
   },
   {
    "duration": 0,
    "start_time": "2024-08-22T07:18:18.554Z"
   },
   {
    "duration": 0,
    "start_time": "2024-08-22T07:18:18.556Z"
   },
   {
    "duration": 0,
    "start_time": "2024-08-22T07:18:18.558Z"
   },
   {
    "duration": 0,
    "start_time": "2024-08-22T07:18:18.560Z"
   },
   {
    "duration": 0,
    "start_time": "2024-08-22T07:18:18.561Z"
   },
   {
    "duration": 0,
    "start_time": "2024-08-22T07:18:18.564Z"
   },
   {
    "duration": 0,
    "start_time": "2024-08-22T07:18:18.566Z"
   },
   {
    "duration": 304,
    "start_time": "2024-08-22T18:51:59.738Z"
   },
   {
    "duration": 20859,
    "start_time": "2024-08-22T18:52:22.784Z"
   },
   {
    "duration": 1373,
    "start_time": "2024-08-22T18:55:20.841Z"
   },
   {
    "duration": 0,
    "start_time": "2024-08-22T18:55:22.218Z"
   },
   {
    "duration": 0,
    "start_time": "2024-08-22T18:55:22.220Z"
   },
   {
    "duration": 0,
    "start_time": "2024-08-22T18:55:22.224Z"
   },
   {
    "duration": 0,
    "start_time": "2024-08-22T18:55:22.226Z"
   },
   {
    "duration": 0,
    "start_time": "2024-08-22T18:55:22.228Z"
   },
   {
    "duration": 0,
    "start_time": "2024-08-22T18:55:22.230Z"
   },
   {
    "duration": 0,
    "start_time": "2024-08-22T18:55:22.232Z"
   },
   {
    "duration": 0,
    "start_time": "2024-08-22T18:55:22.234Z"
   },
   {
    "duration": 0,
    "start_time": "2024-08-22T18:55:22.236Z"
   },
   {
    "duration": 0,
    "start_time": "2024-08-22T18:55:22.239Z"
   },
   {
    "duration": 0,
    "start_time": "2024-08-22T18:55:22.240Z"
   },
   {
    "duration": 0,
    "start_time": "2024-08-22T18:55:22.242Z"
   },
   {
    "duration": 0,
    "start_time": "2024-08-22T18:55:22.244Z"
   },
   {
    "duration": 0,
    "start_time": "2024-08-22T18:55:22.245Z"
   },
   {
    "duration": 0,
    "start_time": "2024-08-22T18:55:22.246Z"
   },
   {
    "duration": 0,
    "start_time": "2024-08-22T18:55:22.248Z"
   },
   {
    "duration": 0,
    "start_time": "2024-08-22T18:55:22.250Z"
   },
   {
    "duration": 0,
    "start_time": "2024-08-22T18:55:22.253Z"
   },
   {
    "duration": 0,
    "start_time": "2024-08-22T18:55:22.254Z"
   },
   {
    "duration": 0,
    "start_time": "2024-08-22T18:55:22.258Z"
   },
   {
    "duration": 0,
    "start_time": "2024-08-22T18:55:22.316Z"
   },
   {
    "duration": 0,
    "start_time": "2024-08-22T18:55:22.318Z"
   },
   {
    "duration": 0,
    "start_time": "2024-08-22T18:55:22.321Z"
   },
   {
    "duration": 0,
    "start_time": "2024-08-22T18:55:22.323Z"
   },
   {
    "duration": 0,
    "start_time": "2024-08-22T18:55:22.326Z"
   },
   {
    "duration": 1330,
    "start_time": "2024-08-22T18:55:53.457Z"
   },
   {
    "duration": 0,
    "start_time": "2024-08-22T18:55:54.792Z"
   },
   {
    "duration": 0,
    "start_time": "2024-08-22T18:55:54.795Z"
   },
   {
    "duration": 0,
    "start_time": "2024-08-22T18:55:54.796Z"
   },
   {
    "duration": 0,
    "start_time": "2024-08-22T18:55:54.799Z"
   },
   {
    "duration": 0,
    "start_time": "2024-08-22T18:55:54.813Z"
   },
   {
    "duration": 0,
    "start_time": "2024-08-22T18:55:54.815Z"
   },
   {
    "duration": 0,
    "start_time": "2024-08-22T18:55:54.817Z"
   },
   {
    "duration": 0,
    "start_time": "2024-08-22T18:55:54.818Z"
   },
   {
    "duration": 0,
    "start_time": "2024-08-22T18:55:54.821Z"
   },
   {
    "duration": 0,
    "start_time": "2024-08-22T18:55:54.823Z"
   },
   {
    "duration": 0,
    "start_time": "2024-08-22T18:55:54.825Z"
   },
   {
    "duration": 0,
    "start_time": "2024-08-22T18:55:54.827Z"
   },
   {
    "duration": 1,
    "start_time": "2024-08-22T18:55:54.829Z"
   },
   {
    "duration": 0,
    "start_time": "2024-08-22T18:55:54.832Z"
   },
   {
    "duration": 0,
    "start_time": "2024-08-22T18:55:54.834Z"
   },
   {
    "duration": 0,
    "start_time": "2024-08-22T18:55:54.837Z"
   },
   {
    "duration": 0,
    "start_time": "2024-08-22T18:55:54.839Z"
   },
   {
    "duration": 0,
    "start_time": "2024-08-22T18:55:54.841Z"
   },
   {
    "duration": 0,
    "start_time": "2024-08-22T18:55:54.843Z"
   },
   {
    "duration": 0,
    "start_time": "2024-08-22T18:55:54.845Z"
   },
   {
    "duration": 0,
    "start_time": "2024-08-22T18:55:54.848Z"
   },
   {
    "duration": 0,
    "start_time": "2024-08-22T18:55:54.850Z"
   },
   {
    "duration": 0,
    "start_time": "2024-08-22T18:55:54.911Z"
   },
   {
    "duration": 0,
    "start_time": "2024-08-22T18:55:54.914Z"
   },
   {
    "duration": 0,
    "start_time": "2024-08-22T18:55:54.916Z"
   },
   {
    "duration": 2615,
    "start_time": "2024-08-22T18:55:59.404Z"
   },
   {
    "duration": 2585,
    "start_time": "2024-08-22T18:56:38.669Z"
   },
   {
    "duration": 1338,
    "start_time": "2024-08-22T18:56:41.257Z"
   },
   {
    "duration": 0,
    "start_time": "2024-08-22T18:56:42.600Z"
   },
   {
    "duration": 0,
    "start_time": "2024-08-22T18:56:42.602Z"
   },
   {
    "duration": 0,
    "start_time": "2024-08-22T18:56:42.604Z"
   },
   {
    "duration": 0,
    "start_time": "2024-08-22T18:56:42.612Z"
   },
   {
    "duration": 0,
    "start_time": "2024-08-22T18:56:42.615Z"
   },
   {
    "duration": 0,
    "start_time": "2024-08-22T18:56:42.617Z"
   },
   {
    "duration": 0,
    "start_time": "2024-08-22T18:56:42.621Z"
   },
   {
    "duration": 0,
    "start_time": "2024-08-22T18:56:42.623Z"
   },
   {
    "duration": 0,
    "start_time": "2024-08-22T18:56:42.626Z"
   },
   {
    "duration": 0,
    "start_time": "2024-08-22T18:56:42.629Z"
   },
   {
    "duration": 0,
    "start_time": "2024-08-22T18:56:42.631Z"
   },
   {
    "duration": 0,
    "start_time": "2024-08-22T18:56:42.633Z"
   },
   {
    "duration": 0,
    "start_time": "2024-08-22T18:56:42.635Z"
   },
   {
    "duration": 0,
    "start_time": "2024-08-22T18:56:42.638Z"
   },
   {
    "duration": 0,
    "start_time": "2024-08-22T18:56:42.640Z"
   },
   {
    "duration": 0,
    "start_time": "2024-08-22T18:56:42.642Z"
   },
   {
    "duration": 0,
    "start_time": "2024-08-22T18:56:42.644Z"
   },
   {
    "duration": 0,
    "start_time": "2024-08-22T18:56:42.646Z"
   },
   {
    "duration": 0,
    "start_time": "2024-08-22T18:56:42.648Z"
   },
   {
    "duration": 0,
    "start_time": "2024-08-22T18:56:42.650Z"
   },
   {
    "duration": 0,
    "start_time": "2024-08-22T18:56:42.713Z"
   },
   {
    "duration": 0,
    "start_time": "2024-08-22T18:56:42.715Z"
   },
   {
    "duration": 0,
    "start_time": "2024-08-22T18:56:42.717Z"
   },
   {
    "duration": 0,
    "start_time": "2024-08-22T18:56:42.719Z"
   },
   {
    "duration": 2616,
    "start_time": "2024-08-22T18:57:42.675Z"
   },
   {
    "duration": 1363,
    "start_time": "2024-08-22T18:57:45.295Z"
   },
   {
    "duration": 0,
    "start_time": "2024-08-22T18:57:46.663Z"
   },
   {
    "duration": 0,
    "start_time": "2024-08-22T18:57:46.665Z"
   },
   {
    "duration": 0,
    "start_time": "2024-08-22T18:57:46.667Z"
   },
   {
    "duration": 1,
    "start_time": "2024-08-22T18:57:46.669Z"
   },
   {
    "duration": 0,
    "start_time": "2024-08-22T18:57:46.672Z"
   },
   {
    "duration": 0,
    "start_time": "2024-08-22T18:57:46.674Z"
   },
   {
    "duration": 1,
    "start_time": "2024-08-22T18:57:46.676Z"
   },
   {
    "duration": 0,
    "start_time": "2024-08-22T18:57:46.679Z"
   },
   {
    "duration": 0,
    "start_time": "2024-08-22T18:57:46.712Z"
   },
   {
    "duration": 0,
    "start_time": "2024-08-22T18:57:46.714Z"
   },
   {
    "duration": 0,
    "start_time": "2024-08-22T18:57:46.716Z"
   },
   {
    "duration": 0,
    "start_time": "2024-08-22T18:57:46.718Z"
   },
   {
    "duration": 0,
    "start_time": "2024-08-22T18:57:46.721Z"
   },
   {
    "duration": 0,
    "start_time": "2024-08-22T18:57:46.723Z"
   },
   {
    "duration": 0,
    "start_time": "2024-08-22T18:57:46.725Z"
   },
   {
    "duration": 0,
    "start_time": "2024-08-22T18:57:46.728Z"
   },
   {
    "duration": 0,
    "start_time": "2024-08-22T18:57:46.729Z"
   },
   {
    "duration": 0,
    "start_time": "2024-08-22T18:57:46.732Z"
   },
   {
    "duration": 0,
    "start_time": "2024-08-22T18:57:46.735Z"
   },
   {
    "duration": 0,
    "start_time": "2024-08-22T18:57:46.737Z"
   },
   {
    "duration": 0,
    "start_time": "2024-08-22T18:57:46.739Z"
   },
   {
    "duration": 0,
    "start_time": "2024-08-22T18:57:46.742Z"
   },
   {
    "duration": 0,
    "start_time": "2024-08-22T18:57:46.745Z"
   },
   {
    "duration": 0,
    "start_time": "2024-08-22T18:57:46.747Z"
   },
   {
    "duration": 28,
    "start_time": "2024-08-22T18:58:29.569Z"
   },
   {
    "duration": 2590,
    "start_time": "2024-08-22T18:58:35.427Z"
   },
   {
    "duration": 1419,
    "start_time": "2024-08-22T18:58:38.021Z"
   },
   {
    "duration": 0,
    "start_time": "2024-08-22T18:58:39.445Z"
   },
   {
    "duration": 0,
    "start_time": "2024-08-22T18:58:39.446Z"
   },
   {
    "duration": 0,
    "start_time": "2024-08-22T18:58:39.448Z"
   },
   {
    "duration": 0,
    "start_time": "2024-08-22T18:58:39.452Z"
   },
   {
    "duration": 0,
    "start_time": "2024-08-22T18:58:39.453Z"
   },
   {
    "duration": 0,
    "start_time": "2024-08-22T18:58:39.456Z"
   },
   {
    "duration": 0,
    "start_time": "2024-08-22T18:58:39.457Z"
   },
   {
    "duration": 0,
    "start_time": "2024-08-22T18:58:39.459Z"
   },
   {
    "duration": 0,
    "start_time": "2024-08-22T18:58:39.460Z"
   },
   {
    "duration": 0,
    "start_time": "2024-08-22T18:58:39.463Z"
   },
   {
    "duration": 0,
    "start_time": "2024-08-22T18:58:39.465Z"
   },
   {
    "duration": 0,
    "start_time": "2024-08-22T18:58:39.466Z"
   },
   {
    "duration": 0,
    "start_time": "2024-08-22T18:58:39.468Z"
   },
   {
    "duration": 0,
    "start_time": "2024-08-22T18:58:39.469Z"
   },
   {
    "duration": 0,
    "start_time": "2024-08-22T18:58:39.471Z"
   },
   {
    "duration": 0,
    "start_time": "2024-08-22T18:58:39.473Z"
   },
   {
    "duration": 0,
    "start_time": "2024-08-22T18:58:39.512Z"
   },
   {
    "duration": 0,
    "start_time": "2024-08-22T18:58:39.514Z"
   },
   {
    "duration": 0,
    "start_time": "2024-08-22T18:58:39.517Z"
   },
   {
    "duration": 0,
    "start_time": "2024-08-22T18:58:39.519Z"
   },
   {
    "duration": 0,
    "start_time": "2024-08-22T18:58:39.522Z"
   },
   {
    "duration": 0,
    "start_time": "2024-08-22T18:58:39.523Z"
   },
   {
    "duration": 0,
    "start_time": "2024-08-22T18:58:39.525Z"
   },
   {
    "duration": 0,
    "start_time": "2024-08-22T18:58:39.527Z"
   },
   {
    "duration": 32,
    "start_time": "2024-08-22T18:58:44.508Z"
   },
   {
    "duration": 28,
    "start_time": "2024-08-22T18:58:49.249Z"
   },
   {
    "duration": 4,
    "start_time": "2024-08-22T18:59:16.607Z"
   },
   {
    "duration": 3143,
    "start_time": "2024-08-22T18:59:48.032Z"
   },
   {
    "duration": 2605,
    "start_time": "2024-08-22T19:01:28.728Z"
   },
   {
    "duration": 2987,
    "start_time": "2024-08-22T19:01:31.338Z"
   },
   {
    "duration": 5,
    "start_time": "2024-08-22T19:01:34.327Z"
   },
   {
    "duration": 1427,
    "start_time": "2024-08-22T19:01:34.337Z"
   },
   {
    "duration": 0,
    "start_time": "2024-08-22T19:01:35.769Z"
   },
   {
    "duration": 0,
    "start_time": "2024-08-22T19:01:35.771Z"
   },
   {
    "duration": 0,
    "start_time": "2024-08-22T19:01:35.773Z"
   },
   {
    "duration": 0,
    "start_time": "2024-08-22T19:01:35.776Z"
   },
   {
    "duration": 0,
    "start_time": "2024-08-22T19:01:35.781Z"
   },
   {
    "duration": 0,
    "start_time": "2024-08-22T19:01:35.784Z"
   },
   {
    "duration": 0,
    "start_time": "2024-08-22T19:01:35.786Z"
   },
   {
    "duration": 0,
    "start_time": "2024-08-22T19:01:35.813Z"
   },
   {
    "duration": 0,
    "start_time": "2024-08-22T19:01:35.815Z"
   },
   {
    "duration": 0,
    "start_time": "2024-08-22T19:01:35.818Z"
   },
   {
    "duration": 0,
    "start_time": "2024-08-22T19:01:35.820Z"
   },
   {
    "duration": 0,
    "start_time": "2024-08-22T19:01:35.822Z"
   },
   {
    "duration": 0,
    "start_time": "2024-08-22T19:01:35.824Z"
   },
   {
    "duration": 0,
    "start_time": "2024-08-22T19:01:35.826Z"
   },
   {
    "duration": 0,
    "start_time": "2024-08-22T19:01:35.829Z"
   },
   {
    "duration": 0,
    "start_time": "2024-08-22T19:01:35.830Z"
   },
   {
    "duration": 0,
    "start_time": "2024-08-22T19:01:35.832Z"
   },
   {
    "duration": 0,
    "start_time": "2024-08-22T19:01:35.835Z"
   },
   {
    "duration": 0,
    "start_time": "2024-08-22T19:01:35.837Z"
   },
   {
    "duration": 0,
    "start_time": "2024-08-22T19:01:35.840Z"
   },
   {
    "duration": 0,
    "start_time": "2024-08-22T19:01:35.842Z"
   },
   {
    "duration": 0,
    "start_time": "2024-08-22T19:01:35.844Z"
   },
   {
    "duration": 0,
    "start_time": "2024-08-22T19:01:35.846Z"
   },
   {
    "duration": 0,
    "start_time": "2024-08-22T19:01:35.848Z"
   },
   {
    "duration": 4454,
    "start_time": "2024-08-22T19:01:57.312Z"
   },
   {
    "duration": 38,
    "start_time": "2024-08-22T19:02:02.217Z"
   },
   {
    "duration": 27,
    "start_time": "2024-08-22T19:02:03.384Z"
   },
   {
    "duration": 26,
    "start_time": "2024-08-22T19:02:04.413Z"
   },
   {
    "duration": 2920,
    "start_time": "2024-08-22T19:02:45.089Z"
   },
   {
    "duration": 4,
    "start_time": "2024-08-22T19:02:48.013Z"
   },
   {
    "duration": 1469,
    "start_time": "2024-08-22T19:02:48.021Z"
   },
   {
    "duration": 0,
    "start_time": "2024-08-22T19:02:49.495Z"
   },
   {
    "duration": 0,
    "start_time": "2024-08-22T19:02:49.497Z"
   },
   {
    "duration": 0,
    "start_time": "2024-08-22T19:02:49.503Z"
   },
   {
    "duration": 0,
    "start_time": "2024-08-22T19:02:49.512Z"
   },
   {
    "duration": 0,
    "start_time": "2024-08-22T19:02:49.514Z"
   },
   {
    "duration": 0,
    "start_time": "2024-08-22T19:02:49.517Z"
   },
   {
    "duration": 0,
    "start_time": "2024-08-22T19:02:49.518Z"
   },
   {
    "duration": 0,
    "start_time": "2024-08-22T19:02:49.521Z"
   },
   {
    "duration": 0,
    "start_time": "2024-08-22T19:02:49.523Z"
   },
   {
    "duration": 0,
    "start_time": "2024-08-22T19:02:49.526Z"
   },
   {
    "duration": 0,
    "start_time": "2024-08-22T19:02:49.528Z"
   },
   {
    "duration": 0,
    "start_time": "2024-08-22T19:02:49.530Z"
   },
   {
    "duration": 0,
    "start_time": "2024-08-22T19:02:49.533Z"
   },
   {
    "duration": 0,
    "start_time": "2024-08-22T19:02:49.535Z"
   },
   {
    "duration": 0,
    "start_time": "2024-08-22T19:02:49.537Z"
   },
   {
    "duration": 1,
    "start_time": "2024-08-22T19:02:49.538Z"
   },
   {
    "duration": 0,
    "start_time": "2024-08-22T19:02:49.540Z"
   },
   {
    "duration": 0,
    "start_time": "2024-08-22T19:02:49.542Z"
   },
   {
    "duration": 0,
    "start_time": "2024-08-22T19:02:49.544Z"
   },
   {
    "duration": 0,
    "start_time": "2024-08-22T19:02:49.546Z"
   },
   {
    "duration": 0,
    "start_time": "2024-08-22T19:02:49.548Z"
   },
   {
    "duration": 0,
    "start_time": "2024-08-22T19:02:49.550Z"
   },
   {
    "duration": 0,
    "start_time": "2024-08-22T19:02:49.553Z"
   },
   {
    "duration": 0,
    "start_time": "2024-08-22T19:02:49.613Z"
   },
   {
    "duration": 2573,
    "start_time": "2024-08-22T19:03:12.824Z"
   },
   {
    "duration": 33,
    "start_time": "2024-08-22T19:03:18.097Z"
   },
   {
    "duration": 28,
    "start_time": "2024-08-22T19:03:57.374Z"
   },
   {
    "duration": 24451,
    "start_time": "2024-08-22T19:04:03.077Z"
   },
   {
    "duration": 5419,
    "start_time": "2024-08-22T19:04:27.532Z"
   },
   {
    "duration": 6,
    "start_time": "2024-08-22T19:04:32.954Z"
   },
   {
    "duration": 349,
    "start_time": "2024-08-22T19:04:32.964Z"
   },
   {
    "duration": 0,
    "start_time": "2024-08-22T19:04:33.320Z"
   },
   {
    "duration": 0,
    "start_time": "2024-08-22T19:04:33.325Z"
   },
   {
    "duration": 0,
    "start_time": "2024-08-22T19:04:33.327Z"
   },
   {
    "duration": 0,
    "start_time": "2024-08-22T19:04:33.331Z"
   },
   {
    "duration": 0,
    "start_time": "2024-08-22T19:04:33.333Z"
   },
   {
    "duration": 0,
    "start_time": "2024-08-22T19:04:33.336Z"
   },
   {
    "duration": 0,
    "start_time": "2024-08-22T19:04:33.339Z"
   },
   {
    "duration": 0,
    "start_time": "2024-08-22T19:04:33.341Z"
   },
   {
    "duration": 0,
    "start_time": "2024-08-22T19:04:33.344Z"
   },
   {
    "duration": 0,
    "start_time": "2024-08-22T19:04:33.346Z"
   },
   {
    "duration": 0,
    "start_time": "2024-08-22T19:04:33.349Z"
   },
   {
    "duration": 0,
    "start_time": "2024-08-22T19:04:33.351Z"
   },
   {
    "duration": 0,
    "start_time": "2024-08-22T19:04:33.354Z"
   },
   {
    "duration": 0,
    "start_time": "2024-08-22T19:04:33.358Z"
   },
   {
    "duration": 0,
    "start_time": "2024-08-22T19:04:33.413Z"
   },
   {
    "duration": 0,
    "start_time": "2024-08-22T19:04:33.417Z"
   },
   {
    "duration": 0,
    "start_time": "2024-08-22T19:04:33.419Z"
   },
   {
    "duration": 0,
    "start_time": "2024-08-22T19:04:33.422Z"
   },
   {
    "duration": 0,
    "start_time": "2024-08-22T19:04:33.424Z"
   },
   {
    "duration": 0,
    "start_time": "2024-08-22T19:04:33.427Z"
   },
   {
    "duration": 0,
    "start_time": "2024-08-22T19:04:33.428Z"
   },
   {
    "duration": 0,
    "start_time": "2024-08-22T19:04:33.431Z"
   },
   {
    "duration": 0,
    "start_time": "2024-08-22T19:04:33.433Z"
   },
   {
    "duration": 0,
    "start_time": "2024-08-22T19:04:33.435Z"
   },
   {
    "duration": 3091,
    "start_time": "2024-08-22T19:04:42.316Z"
   },
   {
    "duration": 2858,
    "start_time": "2024-08-22T19:07:51.812Z"
   },
   {
    "duration": 305,
    "start_time": "2024-08-22T19:07:54.675Z"
   },
   {
    "duration": 0,
    "start_time": "2024-08-22T19:07:54.986Z"
   },
   {
    "duration": 0,
    "start_time": "2024-08-22T19:07:54.988Z"
   },
   {
    "duration": 0,
    "start_time": "2024-08-22T19:07:54.990Z"
   },
   {
    "duration": 0,
    "start_time": "2024-08-22T19:07:54.993Z"
   },
   {
    "duration": 0,
    "start_time": "2024-08-22T19:07:55.012Z"
   },
   {
    "duration": 0,
    "start_time": "2024-08-22T19:07:55.014Z"
   },
   {
    "duration": 0,
    "start_time": "2024-08-22T19:07:55.016Z"
   },
   {
    "duration": 0,
    "start_time": "2024-08-22T19:07:55.019Z"
   },
   {
    "duration": 0,
    "start_time": "2024-08-22T19:07:55.021Z"
   },
   {
    "duration": 0,
    "start_time": "2024-08-22T19:07:55.023Z"
   },
   {
    "duration": 0,
    "start_time": "2024-08-22T19:07:55.026Z"
   },
   {
    "duration": 0,
    "start_time": "2024-08-22T19:07:55.028Z"
   },
   {
    "duration": 1,
    "start_time": "2024-08-22T19:07:55.030Z"
   },
   {
    "duration": 0,
    "start_time": "2024-08-22T19:07:55.034Z"
   },
   {
    "duration": 0,
    "start_time": "2024-08-22T19:07:55.036Z"
   },
   {
    "duration": 0,
    "start_time": "2024-08-22T19:07:55.038Z"
   },
   {
    "duration": 0,
    "start_time": "2024-08-22T19:07:55.040Z"
   },
   {
    "duration": 0,
    "start_time": "2024-08-22T19:07:55.042Z"
   },
   {
    "duration": 0,
    "start_time": "2024-08-22T19:07:55.044Z"
   },
   {
    "duration": 0,
    "start_time": "2024-08-22T19:07:55.046Z"
   },
   {
    "duration": 0,
    "start_time": "2024-08-22T19:07:55.048Z"
   },
   {
    "duration": 0,
    "start_time": "2024-08-22T19:07:55.052Z"
   },
   {
    "duration": 0,
    "start_time": "2024-08-22T19:07:55.114Z"
   },
   {
    "duration": 0,
    "start_time": "2024-08-22T19:07:55.118Z"
   },
   {
    "duration": 1199,
    "start_time": "2024-08-22T19:08:14.813Z"
   },
   {
    "duration": 7218,
    "start_time": "2024-08-22T19:09:16.833Z"
   },
   {
    "duration": 6718,
    "start_time": "2024-08-22T19:09:34.228Z"
   },
   {
    "duration": 1441,
    "start_time": "2024-08-22T19:09:40.951Z"
   },
   {
    "duration": 0,
    "start_time": "2024-08-22T19:09:42.396Z"
   },
   {
    "duration": 0,
    "start_time": "2024-08-22T19:09:42.398Z"
   },
   {
    "duration": 0,
    "start_time": "2024-08-22T19:09:42.413Z"
   },
   {
    "duration": 0,
    "start_time": "2024-08-22T19:09:42.416Z"
   },
   {
    "duration": 0,
    "start_time": "2024-08-22T19:09:42.418Z"
   },
   {
    "duration": 0,
    "start_time": "2024-08-22T19:09:42.420Z"
   },
   {
    "duration": 0,
    "start_time": "2024-08-22T19:09:42.422Z"
   },
   {
    "duration": 0,
    "start_time": "2024-08-22T19:09:42.424Z"
   },
   {
    "duration": 0,
    "start_time": "2024-08-22T19:09:42.426Z"
   },
   {
    "duration": 0,
    "start_time": "2024-08-22T19:09:42.428Z"
   },
   {
    "duration": 0,
    "start_time": "2024-08-22T19:09:42.430Z"
   },
   {
    "duration": 0,
    "start_time": "2024-08-22T19:09:42.433Z"
   },
   {
    "duration": 0,
    "start_time": "2024-08-22T19:09:42.434Z"
   },
   {
    "duration": 0,
    "start_time": "2024-08-22T19:09:42.436Z"
   },
   {
    "duration": 0,
    "start_time": "2024-08-22T19:09:42.438Z"
   },
   {
    "duration": 0,
    "start_time": "2024-08-22T19:09:42.441Z"
   },
   {
    "duration": 0,
    "start_time": "2024-08-22T19:09:42.443Z"
   },
   {
    "duration": 0,
    "start_time": "2024-08-22T19:09:42.445Z"
   },
   {
    "duration": 0,
    "start_time": "2024-08-22T19:09:42.446Z"
   },
   {
    "duration": 0,
    "start_time": "2024-08-22T19:09:42.448Z"
   },
   {
    "duration": 0,
    "start_time": "2024-08-22T19:09:42.449Z"
   },
   {
    "duration": 0,
    "start_time": "2024-08-22T19:09:42.450Z"
   },
   {
    "duration": 0,
    "start_time": "2024-08-22T19:09:42.453Z"
   },
   {
    "duration": 0,
    "start_time": "2024-08-22T19:09:42.514Z"
   },
   {
    "duration": 8042,
    "start_time": "2024-08-22T19:10:21.972Z"
   },
   {
    "duration": 37,
    "start_time": "2024-08-22T19:10:41.398Z"
   },
   {
    "duration": 6128,
    "start_time": "2024-08-22T19:10:47.367Z"
   },
   {
    "duration": 5555,
    "start_time": "2024-08-22T19:10:53.500Z"
   },
   {
    "duration": 48,
    "start_time": "2024-08-22T19:10:59.057Z"
   },
   {
    "duration": 16,
    "start_time": "2024-08-22T19:10:59.108Z"
   },
   {
    "duration": 7,
    "start_time": "2024-08-22T19:10:59.127Z"
   },
   {
    "duration": 4,
    "start_time": "2024-08-22T19:10:59.137Z"
   },
   {
    "duration": 18,
    "start_time": "2024-08-22T19:10:59.145Z"
   },
   {
    "duration": 49,
    "start_time": "2024-08-22T19:10:59.166Z"
   },
   {
    "duration": 21,
    "start_time": "2024-08-22T19:10:59.219Z"
   },
   {
    "duration": 14,
    "start_time": "2024-08-22T19:10:59.245Z"
   },
   {
    "duration": 53,
    "start_time": "2024-08-22T19:10:59.262Z"
   },
   {
    "duration": 15,
    "start_time": "2024-08-22T19:10:59.318Z"
   },
   {
    "duration": 809,
    "start_time": "2024-08-22T19:10:59.336Z"
   },
   {
    "duration": 7,
    "start_time": "2024-08-22T19:11:00.148Z"
   },
   {
    "duration": 306,
    "start_time": "2024-08-22T19:11:00.159Z"
   },
   {
    "duration": 440,
    "start_time": "2024-08-22T19:11:00.469Z"
   },
   {
    "duration": 35115,
    "start_time": "2024-08-22T19:11:00.913Z"
   },
   {
    "duration": 147581,
    "start_time": "2024-08-22T19:11:36.031Z"
   },
   {
    "duration": 4,
    "start_time": "2024-08-22T19:14:03.615Z"
   },
   {
    "duration": 6220,
    "start_time": "2024-08-22T19:23:53.735Z"
   },
   {
    "duration": 1896,
    "start_time": "2024-08-22T19:23:59.960Z"
   },
   {
    "duration": 40,
    "start_time": "2024-08-22T19:24:01.859Z"
   },
   {
    "duration": 23,
    "start_time": "2024-08-22T19:24:01.903Z"
   },
   {
    "duration": 7,
    "start_time": "2024-08-22T19:24:01.929Z"
   },
   {
    "duration": 4,
    "start_time": "2024-08-22T19:24:01.939Z"
   },
   {
    "duration": 17,
    "start_time": "2024-08-22T19:24:01.947Z"
   },
   {
    "duration": 48,
    "start_time": "2024-08-22T19:24:01.967Z"
   },
   {
    "duration": 22,
    "start_time": "2024-08-22T19:24:02.018Z"
   },
   {
    "duration": 14,
    "start_time": "2024-08-22T19:24:02.046Z"
   },
   {
    "duration": 51,
    "start_time": "2024-08-22T19:24:02.063Z"
   },
   {
    "duration": 14,
    "start_time": "2024-08-22T19:24:02.117Z"
   },
   {
    "duration": 783,
    "start_time": "2024-08-22T19:24:02.134Z"
   },
   {
    "duration": 1424,
    "start_time": "2024-08-22T19:24:02.920Z"
   },
   {
    "duration": 0,
    "start_time": "2024-08-22T19:24:04.347Z"
   },
   {
    "duration": 0,
    "start_time": "2024-08-22T19:24:04.349Z"
   },
   {
    "duration": 0,
    "start_time": "2024-08-22T19:24:04.351Z"
   },
   {
    "duration": 0,
    "start_time": "2024-08-22T19:24:04.353Z"
   },
   {
    "duration": 0,
    "start_time": "2024-08-22T19:24:04.355Z"
   },
   {
    "duration": 0,
    "start_time": "2024-08-22T19:24:04.356Z"
   },
   {
    "duration": 0,
    "start_time": "2024-08-22T19:24:04.358Z"
   },
   {
    "duration": 0,
    "start_time": "2024-08-22T19:24:04.360Z"
   },
   {
    "duration": 1,
    "start_time": "2024-08-22T19:24:04.362Z"
   },
   {
    "duration": 0,
    "start_time": "2024-08-22T19:24:04.365Z"
   },
   {
    "duration": 0,
    "start_time": "2024-08-22T19:24:04.367Z"
   },
   {
    "duration": 0,
    "start_time": "2024-08-22T19:24:04.369Z"
   },
   {
    "duration": 0,
    "start_time": "2024-08-22T19:24:04.411Z"
   },
   {
    "duration": 8,
    "start_time": "2024-08-22T19:24:33.951Z"
   },
   {
    "duration": 417,
    "start_time": "2024-08-22T19:24:38.874Z"
   },
   {
    "duration": 18,
    "start_time": "2024-08-22T19:28:12.924Z"
   },
   {
    "duration": 432,
    "start_time": "2024-08-22T19:28:17.551Z"
   },
   {
    "duration": 464,
    "start_time": "2024-08-22T19:29:28.574Z"
   },
   {
    "duration": 616,
    "start_time": "2024-08-22T19:29:40.411Z"
   },
   {
    "duration": 720,
    "start_time": "2024-08-22T19:29:54.671Z"
   },
   {
    "duration": 5,
    "start_time": "2024-08-22T19:31:02.003Z"
   },
   {
    "duration": 32,
    "start_time": "2024-08-22T19:31:25.184Z"
   },
   {
    "duration": 30,
    "start_time": "2024-08-22T19:31:29.687Z"
   },
   {
    "duration": 35,
    "start_time": "2024-08-22T19:31:36.261Z"
   },
   {
    "duration": 68,
    "start_time": "2024-08-22T19:31:44.411Z"
   },
   {
    "duration": 512,
    "start_time": "2024-08-22T19:31:51.581Z"
   },
   {
    "duration": 87,
    "start_time": "2024-08-22T19:33:06.974Z"
   },
   {
    "duration": 949,
    "start_time": "2024-08-22T19:46:22.132Z"
   },
   {
    "duration": 717,
    "start_time": "2024-08-22T19:46:34.387Z"
   },
   {
    "duration": 795,
    "start_time": "2024-08-22T19:47:04.285Z"
   },
   {
    "duration": 885,
    "start_time": "2024-08-22T19:47:36.261Z"
   },
   {
    "duration": 386,
    "start_time": "2024-08-22T19:47:55.033Z"
   },
   {
    "duration": 36,
    "start_time": "2024-08-22T19:50:02.147Z"
   },
   {
    "duration": 2282,
    "start_time": "2024-08-22T19:50:58.476Z"
   },
   {
    "duration": 6200,
    "start_time": "2024-08-22T19:55:30.468Z"
   },
   {
    "duration": 1846,
    "start_time": "2024-08-22T19:55:36.672Z"
   },
   {
    "duration": 36,
    "start_time": "2024-08-22T19:55:38.521Z"
   },
   {
    "duration": 16,
    "start_time": "2024-08-22T19:55:38.561Z"
   },
   {
    "duration": 32,
    "start_time": "2024-08-22T19:55:38.583Z"
   },
   {
    "duration": 4,
    "start_time": "2024-08-22T19:55:38.618Z"
   },
   {
    "duration": 18,
    "start_time": "2024-08-22T19:55:38.625Z"
   },
   {
    "duration": 8,
    "start_time": "2024-08-22T19:55:38.647Z"
   },
   {
    "duration": 63,
    "start_time": "2024-08-22T19:55:38.659Z"
   },
   {
    "duration": 15,
    "start_time": "2024-08-22T19:55:38.725Z"
   },
   {
    "duration": 15,
    "start_time": "2024-08-22T19:55:38.743Z"
   },
   {
    "duration": 52,
    "start_time": "2024-08-22T19:55:38.761Z"
   },
   {
    "duration": 780,
    "start_time": "2024-08-22T19:55:38.817Z"
   },
   {
    "duration": 800,
    "start_time": "2024-08-22T19:55:39.603Z"
   },
   {
    "duration": 2339,
    "start_time": "2024-08-22T19:55:40.413Z"
   },
   {
    "duration": 7,
    "start_time": "2024-08-22T19:55:42.755Z"
   },
   {
    "duration": 368,
    "start_time": "2024-08-22T19:55:42.766Z"
   },
   {
    "duration": 484,
    "start_time": "2024-08-22T19:55:43.138Z"
   },
   {
    "duration": 35387,
    "start_time": "2024-08-22T19:55:43.626Z"
   },
   {
    "duration": 148197,
    "start_time": "2024-08-22T19:56:19.015Z"
   },
   {
    "duration": 5,
    "start_time": "2024-08-22T19:58:47.215Z"
   },
   {
    "duration": 13,
    "start_time": "2024-08-22T20:03:57.128Z"
   },
   {
    "duration": 6,
    "start_time": "2024-08-22T20:04:37.454Z"
   },
   {
    "duration": 6172,
    "start_time": "2024-08-22T20:04:50.577Z"
   },
   {
    "duration": 1861,
    "start_time": "2024-08-22T20:04:56.752Z"
   },
   {
    "duration": 38,
    "start_time": "2024-08-22T20:04:58.615Z"
   },
   {
    "duration": 15,
    "start_time": "2024-08-22T20:04:58.657Z"
   },
   {
    "duration": 37,
    "start_time": "2024-08-22T20:04:58.675Z"
   },
   {
    "duration": 4,
    "start_time": "2024-08-22T20:04:58.716Z"
   },
   {
    "duration": 21,
    "start_time": "2024-08-22T20:04:58.725Z"
   },
   {
    "duration": 12,
    "start_time": "2024-08-22T20:04:58.750Z"
   },
   {
    "duration": 57,
    "start_time": "2024-08-22T20:04:58.765Z"
   },
   {
    "duration": 14,
    "start_time": "2024-08-22T20:04:58.828Z"
   },
   {
    "duration": 16,
    "start_time": "2024-08-22T20:04:58.845Z"
   },
   {
    "duration": 52,
    "start_time": "2024-08-22T20:04:58.863Z"
   },
   {
    "duration": 768,
    "start_time": "2024-08-22T20:04:58.917Z"
   },
   {
    "duration": 800,
    "start_time": "2024-08-22T20:04:59.688Z"
   },
   {
    "duration": 2266,
    "start_time": "2024-08-22T20:05:00.491Z"
   },
   {
    "duration": 7,
    "start_time": "2024-08-22T20:05:02.761Z"
   },
   {
    "duration": 377,
    "start_time": "2024-08-22T20:05:02.771Z"
   },
   {
    "duration": 467,
    "start_time": "2024-08-22T20:05:03.151Z"
   },
   {
    "duration": 6125,
    "start_time": "2024-08-22T20:05:35.538Z"
   },
   {
    "duration": 1796,
    "start_time": "2024-08-22T20:05:41.666Z"
   },
   {
    "duration": 35,
    "start_time": "2024-08-22T20:05:43.465Z"
   },
   {
    "duration": 20,
    "start_time": "2024-08-22T20:05:43.503Z"
   },
   {
    "duration": 6,
    "start_time": "2024-08-22T20:05:43.528Z"
   },
   {
    "duration": 4,
    "start_time": "2024-08-22T20:05:43.538Z"
   },
   {
    "duration": 18,
    "start_time": "2024-08-22T20:05:43.544Z"
   },
   {
    "duration": 55,
    "start_time": "2024-08-22T20:05:43.565Z"
   },
   {
    "duration": 23,
    "start_time": "2024-08-22T20:05:43.624Z"
   },
   {
    "duration": 14,
    "start_time": "2024-08-22T20:05:43.650Z"
   },
   {
    "duration": 52,
    "start_time": "2024-08-22T20:05:43.668Z"
   },
   {
    "duration": 15,
    "start_time": "2024-08-22T20:05:43.724Z"
   },
   {
    "duration": 811,
    "start_time": "2024-08-22T20:05:43.742Z"
   },
   {
    "duration": 784,
    "start_time": "2024-08-22T20:05:44.560Z"
   },
   {
    "duration": 483,
    "start_time": "2024-08-22T20:05:45.348Z"
   },
   {
    "duration": 2346,
    "start_time": "2024-08-22T20:05:45.834Z"
   },
   {
    "duration": 7,
    "start_time": "2024-08-22T20:05:48.183Z"
   },
   {
    "duration": 344,
    "start_time": "2024-08-22T20:05:48.193Z"
   },
   {
    "duration": 413,
    "start_time": "2024-08-22T20:05:48.540Z"
   },
   {
    "duration": 35868,
    "start_time": "2024-08-22T20:05:48.957Z"
   },
   {
    "duration": 6641,
    "start_time": "2024-08-22T20:07:12.638Z"
   },
   {
    "duration": 1867,
    "start_time": "2024-08-22T20:07:19.283Z"
   },
   {
    "duration": 49,
    "start_time": "2024-08-22T20:07:21.153Z"
   },
   {
    "duration": 18,
    "start_time": "2024-08-22T20:07:21.214Z"
   },
   {
    "duration": 10,
    "start_time": "2024-08-22T20:07:21.236Z"
   },
   {
    "duration": 9,
    "start_time": "2024-08-22T20:07:21.250Z"
   },
   {
    "duration": 57,
    "start_time": "2024-08-22T20:07:21.262Z"
   },
   {
    "duration": 10,
    "start_time": "2024-08-22T20:07:21.322Z"
   },
   {
    "duration": 25,
    "start_time": "2024-08-22T20:07:21.335Z"
   },
   {
    "duration": 52,
    "start_time": "2024-08-22T20:07:21.365Z"
   },
   {
    "duration": 17,
    "start_time": "2024-08-22T20:07:21.421Z"
   },
   {
    "duration": 18,
    "start_time": "2024-08-22T20:07:21.441Z"
   },
   {
    "duration": 830,
    "start_time": "2024-08-22T20:07:21.463Z"
   },
   {
    "duration": 896,
    "start_time": "2024-08-22T20:07:22.297Z"
   },
   {
    "duration": 364,
    "start_time": "2024-08-22T20:07:23.198Z"
   },
   {
    "duration": 2322,
    "start_time": "2024-08-22T20:07:23.564Z"
   },
   {
    "duration": 23,
    "start_time": "2024-08-22T20:07:25.889Z"
   },
   {
    "duration": 328,
    "start_time": "2024-08-22T20:07:25.915Z"
   },
   {
    "duration": 925,
    "start_time": "2024-08-22T20:07:26.247Z"
   },
   {
    "duration": 45461,
    "start_time": "2024-08-22T20:07:27.175Z"
   },
   {
    "duration": 6445,
    "start_time": "2024-08-22T20:09:01.219Z"
   },
   {
    "duration": 1819,
    "start_time": "2024-08-22T20:09:07.669Z"
   },
   {
    "duration": 43,
    "start_time": "2024-08-22T20:09:09.491Z"
   },
   {
    "duration": 75,
    "start_time": "2024-08-22T20:09:09.538Z"
   },
   {
    "duration": 13,
    "start_time": "2024-08-22T20:09:09.620Z"
   },
   {
    "duration": 5,
    "start_time": "2024-08-22T20:09:09.637Z"
   },
   {
    "duration": 35,
    "start_time": "2024-08-22T20:09:09.647Z"
   },
   {
    "duration": 11,
    "start_time": "2024-08-22T20:09:09.714Z"
   },
   {
    "duration": 30,
    "start_time": "2024-08-22T20:09:09.728Z"
   },
   {
    "duration": 51,
    "start_time": "2024-08-22T20:09:09.761Z"
   },
   {
    "duration": 20,
    "start_time": "2024-08-22T20:09:09.816Z"
   },
   {
    "duration": 22,
    "start_time": "2024-08-22T20:09:09.839Z"
   },
   {
    "duration": 845,
    "start_time": "2024-08-22T20:09:09.864Z"
   },
   {
    "duration": 835,
    "start_time": "2024-08-22T20:09:10.717Z"
   },
   {
    "duration": 322,
    "start_time": "2024-08-22T20:09:11.555Z"
   },
   {
    "duration": 2373,
    "start_time": "2024-08-22T20:09:11.887Z"
   },
   {
    "duration": 8,
    "start_time": "2024-08-22T20:09:14.264Z"
   },
   {
    "duration": 407,
    "start_time": "2024-08-22T20:09:14.276Z"
   },
   {
    "duration": 963,
    "start_time": "2024-08-22T20:09:14.686Z"
   },
   {
    "duration": 40673,
    "start_time": "2024-08-22T20:09:15.653Z"
   },
   {
    "duration": 148199,
    "start_time": "2024-08-22T20:09:56.334Z"
   },
   {
    "duration": 77,
    "start_time": "2024-08-22T20:12:24.536Z"
   },
   {
    "duration": 3,
    "start_time": "2024-08-22T20:12:24.617Z"
   },
   {
    "duration": 4,
    "start_time": "2024-08-22T20:12:24.624Z"
   },
   {
    "duration": 4,
    "start_time": "2024-08-22T20:12:24.631Z"
   },
   {
    "duration": 6,
    "start_time": "2024-08-22T20:12:24.638Z"
   },
   {
    "duration": 12,
    "start_time": "2024-08-22T20:12:24.647Z"
   },
   {
    "duration": 11012,
    "start_time": "2024-08-22T20:12:24.713Z"
   },
   {
    "duration": 4756,
    "start_time": "2024-08-22T20:12:35.729Z"
   }
  ],
  "kernelspec": {
   "display_name": "Python 3 (ipykernel)",
   "language": "python",
   "name": "python3"
  },
  "language_info": {
   "codemirror_mode": {
    "name": "ipython",
    "version": 3
   },
   "file_extension": ".py",
   "mimetype": "text/x-python",
   "name": "python",
   "nbconvert_exporter": "python",
   "pygments_lexer": "ipython3",
   "version": "3.11.7"
  },
  "toc": {
   "base_numbering": 1,
   "nav_menu": {},
   "number_sections": true,
   "sideBar": true,
   "skip_h1_title": true,
   "title_cell": "Table of Contents",
   "title_sidebar": "Contents",
   "toc_cell": false,
   "toc_position": {},
   "toc_section_display": true,
   "toc_window_display": false
  }
 },
 "nbformat": 4,
 "nbformat_minor": 4
}
