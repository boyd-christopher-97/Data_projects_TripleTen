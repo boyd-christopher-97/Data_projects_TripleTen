{
 "cells": [
  {
   "cell_type": "markdown",
   "metadata": {},
   "source": [
    "Rusty Bargain used car sales service is developing an app to attract new customers. In that app, you can quickly find out the market value of your car. You have access to historical data: technical specifications, trim versions, and prices. You need to build the model to determine the value. \n",
    "\n",
    "Rusty Bargain is interested in:\n",
    "\n",
    "- the quality of the prediction;\n",
    "- the speed of the prediction;\n",
    "- the time required for training"
   ]
  },
  {
   "cell_type": "code",
   "execution_count": 3,
   "metadata": {},
   "outputs": [],
   "source": [
    "import pandas as pd\n",
    "import numpy as np\n",
    "import lightgbm as lgb\n",
    "import catboost as cb\n",
    "import xgboost as xgb\n",
    "import time\n",
    "from sklearn.preprocessing import OneHotEncoder\n",
    "from sklearn.preprocessing import MaxAbsScaler\n",
    "from sklearn.model_selection import train_test_split\n",
    "from sklearn.linear_model import LinearRegression\n",
    "from sklearn.metrics import mean_squared_error\n",
    "from sklearn.ensemble import RandomForestRegressor\t\n",
    "from sklearn.tree import DecisionTreeRegressor"
   ]
  },
  {
   "cell_type": "markdown",
   "metadata": {},
   "source": [
    "Features\n",
    "\n",
    "    DateCrawled — date profile was downloaded from the database\n",
    "    VehicleType — vehicle body type\n",
    "    RegistrationYear — vehicle registration year\n",
    "    Gearbox — gearbox type\n",
    "    Power — power (hp)\n",
    "    Model — vehicle model\n",
    "    Mileage — mileage (measured in km due to dataset's regional specifics)\n",
    "    RegistrationMonth — vehicle registration month\n",
    "    FuelType — fuel type\n",
    "    Brand — vehicle brand\n",
    "    NotRepaired — vehicle repaired or not\n",
    "    DateCreated — date of profile creation\n",
    "    NumberOfPictures — number of vehicle pictures\n",
    "    PostalCode — postal code of profile owner (user)\n",
    "    LastSeen — date of the last activity of the user\n",
    "Target\n",
    "\n",
    "    Price — price (Euro)"
   ]
  },
  {
   "cell_type": "markdown",
   "metadata": {},
   "source": [
    "## Data preparation"
   ]
  },
  {
   "cell_type": "code",
   "execution_count": 6,
   "metadata": {},
   "outputs": [],
   "source": [
    "try:\n",
    "    df = pd.read_csv('/datasets/car_data.csv')\n",
    "\n",
    "except FileNotFoundError:\n",
    "    df = pd.read_csv('/datasets/car_data.csv')"
   ]
  },
  {
   "cell_type": "code",
   "execution_count": 7,
   "metadata": {},
   "outputs": [
    {
     "name": "stdout",
     "output_type": "stream",
     "text": [
      "<class 'pandas.core.frame.DataFrame'>\n",
      "RangeIndex: 354369 entries, 0 to 354368\n",
      "Data columns (total 16 columns):\n",
      " #   Column             Non-Null Count   Dtype \n",
      "---  ------             --------------   ----- \n",
      " 0   DateCrawled        354369 non-null  object\n",
      " 1   Price              354369 non-null  int64 \n",
      " 2   VehicleType        316879 non-null  object\n",
      " 3   RegistrationYear   354369 non-null  int64 \n",
      " 4   Gearbox            334536 non-null  object\n",
      " 5   Power              354369 non-null  int64 \n",
      " 6   Model              334664 non-null  object\n",
      " 7   Mileage            354369 non-null  int64 \n",
      " 8   RegistrationMonth  354369 non-null  int64 \n",
      " 9   FuelType           321474 non-null  object\n",
      " 10  Brand              354369 non-null  object\n",
      " 11  NotRepaired        283215 non-null  object\n",
      " 12  DateCreated        354369 non-null  object\n",
      " 13  NumberOfPictures   354369 non-null  int64 \n",
      " 14  PostalCode         354369 non-null  int64 \n",
      " 15  LastSeen           354369 non-null  object\n",
      "dtypes: int64(7), object(9)\n",
      "memory usage: 43.3+ MB\n"
     ]
    }
   ],
   "source": [
    "df.info()"
   ]
  },
  {
   "cell_type": "code",
   "execution_count": 8,
   "metadata": {},
   "outputs": [],
   "source": [
    "# Drop the original datetime columns \n",
    "df.drop(columns=['DateCrawled', 'DateCreated', 'LastSeen'], inplace=True)"
   ]
  },
  {
   "cell_type": "code",
   "execution_count": 9,
   "metadata": {},
   "outputs": [
    {
     "data": {
      "text/html": [
       "<div>\n",
       "<style scoped>\n",
       "    .dataframe tbody tr th:only-of-type {\n",
       "        vertical-align: middle;\n",
       "    }\n",
       "\n",
       "    .dataframe tbody tr th {\n",
       "        vertical-align: top;\n",
       "    }\n",
       "\n",
       "    .dataframe thead th {\n",
       "        text-align: right;\n",
       "    }\n",
       "</style>\n",
       "<table border=\"1\" class=\"dataframe\">\n",
       "  <thead>\n",
       "    <tr style=\"text-align: right;\">\n",
       "      <th></th>\n",
       "      <th>Price</th>\n",
       "      <th>VehicleType</th>\n",
       "      <th>RegistrationYear</th>\n",
       "      <th>Gearbox</th>\n",
       "      <th>Power</th>\n",
       "      <th>Model</th>\n",
       "      <th>Mileage</th>\n",
       "      <th>RegistrationMonth</th>\n",
       "      <th>FuelType</th>\n",
       "      <th>Brand</th>\n",
       "      <th>NotRepaired</th>\n",
       "      <th>NumberOfPictures</th>\n",
       "      <th>PostalCode</th>\n",
       "    </tr>\n",
       "  </thead>\n",
       "  <tbody>\n",
       "    <tr>\n",
       "      <th>0</th>\n",
       "      <td>480</td>\n",
       "      <td>NaN</td>\n",
       "      <td>1993</td>\n",
       "      <td>manual</td>\n",
       "      <td>0</td>\n",
       "      <td>golf</td>\n",
       "      <td>150000</td>\n",
       "      <td>0</td>\n",
       "      <td>petrol</td>\n",
       "      <td>volkswagen</td>\n",
       "      <td>NaN</td>\n",
       "      <td>0</td>\n",
       "      <td>70435</td>\n",
       "    </tr>\n",
       "    <tr>\n",
       "      <th>1</th>\n",
       "      <td>18300</td>\n",
       "      <td>coupe</td>\n",
       "      <td>2011</td>\n",
       "      <td>manual</td>\n",
       "      <td>190</td>\n",
       "      <td>NaN</td>\n",
       "      <td>125000</td>\n",
       "      <td>5</td>\n",
       "      <td>gasoline</td>\n",
       "      <td>audi</td>\n",
       "      <td>yes</td>\n",
       "      <td>0</td>\n",
       "      <td>66954</td>\n",
       "    </tr>\n",
       "    <tr>\n",
       "      <th>2</th>\n",
       "      <td>9800</td>\n",
       "      <td>suv</td>\n",
       "      <td>2004</td>\n",
       "      <td>auto</td>\n",
       "      <td>163</td>\n",
       "      <td>grand</td>\n",
       "      <td>125000</td>\n",
       "      <td>8</td>\n",
       "      <td>gasoline</td>\n",
       "      <td>jeep</td>\n",
       "      <td>NaN</td>\n",
       "      <td>0</td>\n",
       "      <td>90480</td>\n",
       "    </tr>\n",
       "    <tr>\n",
       "      <th>3</th>\n",
       "      <td>1500</td>\n",
       "      <td>small</td>\n",
       "      <td>2001</td>\n",
       "      <td>manual</td>\n",
       "      <td>75</td>\n",
       "      <td>golf</td>\n",
       "      <td>150000</td>\n",
       "      <td>6</td>\n",
       "      <td>petrol</td>\n",
       "      <td>volkswagen</td>\n",
       "      <td>no</td>\n",
       "      <td>0</td>\n",
       "      <td>91074</td>\n",
       "    </tr>\n",
       "    <tr>\n",
       "      <th>4</th>\n",
       "      <td>3600</td>\n",
       "      <td>small</td>\n",
       "      <td>2008</td>\n",
       "      <td>manual</td>\n",
       "      <td>69</td>\n",
       "      <td>fabia</td>\n",
       "      <td>90000</td>\n",
       "      <td>7</td>\n",
       "      <td>gasoline</td>\n",
       "      <td>skoda</td>\n",
       "      <td>no</td>\n",
       "      <td>0</td>\n",
       "      <td>60437</td>\n",
       "    </tr>\n",
       "  </tbody>\n",
       "</table>\n",
       "</div>"
      ],
      "text/plain": [
       "   Price VehicleType  RegistrationYear Gearbox  Power  Model  Mileage  \\\n",
       "0    480         NaN              1993  manual      0   golf   150000   \n",
       "1  18300       coupe              2011  manual    190    NaN   125000   \n",
       "2   9800         suv              2004    auto    163  grand   125000   \n",
       "3   1500       small              2001  manual     75   golf   150000   \n",
       "4   3600       small              2008  manual     69  fabia    90000   \n",
       "\n",
       "   RegistrationMonth  FuelType       Brand NotRepaired  NumberOfPictures  \\\n",
       "0                  0    petrol  volkswagen         NaN                 0   \n",
       "1                  5  gasoline        audi         yes                 0   \n",
       "2                  8  gasoline        jeep         NaN                 0   \n",
       "3                  6    petrol  volkswagen          no                 0   \n",
       "4                  7  gasoline       skoda          no                 0   \n",
       "\n",
       "   PostalCode  \n",
       "0       70435  \n",
       "1       66954  \n",
       "2       90480  \n",
       "3       91074  \n",
       "4       60437  "
      ]
     },
     "execution_count": 9,
     "metadata": {},
     "output_type": "execute_result"
    }
   ],
   "source": [
    "df.head(5)"
   ]
  },
  {
   "cell_type": "code",
   "execution_count": 12,
   "metadata": {},
   "outputs": [
    {
     "data": {
      "text/plain": [
       "21333"
      ]
     },
     "execution_count": 12,
     "metadata": {},
     "output_type": "execute_result"
    }
   ],
   "source": [
    "df.duplicated().sum()"
   ]
  },
  {
   "cell_type": "code",
   "execution_count": 13,
   "metadata": {},
   "outputs": [],
   "source": [
    "df = df.drop_duplicates().reset_index(drop=True)"
   ]
  },
  {
   "cell_type": "code",
   "execution_count": 14,
   "metadata": {},
   "outputs": [
    {
     "data": {
      "text/plain": [
       "Price                    0\n",
       "VehicleType          36140\n",
       "RegistrationYear         0\n",
       "Gearbox              19015\n",
       "Power                    0\n",
       "Model                19023\n",
       "Mileage                  0\n",
       "RegistrationMonth        0\n",
       "FuelType             31902\n",
       "Brand                    0\n",
       "NotRepaired          68063\n",
       "NumberOfPictures         0\n",
       "PostalCode               0\n",
       "dtype: int64"
      ]
     },
     "execution_count": 14,
     "metadata": {},
     "output_type": "execute_result"
    }
   ],
   "source": [
    "df.isnull().sum()"
   ]
  },
  {
   "cell_type": "code",
   "execution_count": 15,
   "metadata": {},
   "outputs": [],
   "source": [
    "#All missing values are categorical, value was unspecified so fill with unknown\n",
    "df['VehicleType'].fillna('unknown', inplace=True)\n",
    "df['Gearbox'].fillna('unknown', inplace=True)\n",
    "df['Model'].fillna('unknown', inplace=True)\n",
    "df['FuelType'].fillna('unknown', inplace=True)\n",
    "df['NotRepaired'].fillna('unknown', inplace=True)"
   ]
  },
  {
   "cell_type": "code",
   "execution_count": 17,
   "metadata": {},
   "outputs": [
    {
     "data": {
      "text/plain": [
       "Price                0\n",
       "VehicleType          0\n",
       "RegistrationYear     0\n",
       "Gearbox              0\n",
       "Power                0\n",
       "Model                0\n",
       "Mileage              0\n",
       "RegistrationMonth    0\n",
       "FuelType             0\n",
       "Brand                0\n",
       "NotRepaired          0\n",
       "NumberOfPictures     0\n",
       "PostalCode           0\n",
       "dtype: int64"
      ]
     },
     "execution_count": 17,
     "metadata": {},
     "output_type": "execute_result"
    }
   ],
   "source": [
    "df.isnull().sum()"
   ]
  },
  {
   "cell_type": "code",
   "execution_count": 18,
   "metadata": {},
   "outputs": [
    {
     "name": "stdout",
     "output_type": "stream",
     "text": [
      "<class 'pandas.core.frame.DataFrame'>\n",
      "RangeIndex: 333036 entries, 0 to 333035\n",
      "Data columns (total 13 columns):\n",
      " #   Column             Non-Null Count   Dtype \n",
      "---  ------             --------------   ----- \n",
      " 0   Price              333036 non-null  int64 \n",
      " 1   VehicleType        333036 non-null  object\n",
      " 2   RegistrationYear   333036 non-null  int64 \n",
      " 3   Gearbox            333036 non-null  object\n",
      " 4   Power              333036 non-null  int64 \n",
      " 5   Model              333036 non-null  object\n",
      " 6   Mileage            333036 non-null  int64 \n",
      " 7   RegistrationMonth  333036 non-null  int64 \n",
      " 8   FuelType           333036 non-null  object\n",
      " 9   Brand              333036 non-null  object\n",
      " 10  NotRepaired        333036 non-null  object\n",
      " 11  NumberOfPictures   333036 non-null  int64 \n",
      " 12  PostalCode         333036 non-null  int64 \n",
      "dtypes: int64(7), object(6)\n",
      "memory usage: 33.0+ MB\n"
     ]
    }
   ],
   "source": [
    "df.info()"
   ]
  },
  {
   "cell_type": "markdown",
   "metadata": {},
   "source": [
    "## Model training"
   ]
  },
  {
   "cell_type": "code",
   "execution_count": 20,
   "metadata": {},
   "outputs": [],
   "source": [
    "def lr(X_train, y_train, X_test, y_test):\n",
    "    model = LinearRegression()\n",
    "    \n",
    "    start_time = time.time()\n",
    "    model.fit(X_train, y_train)\n",
    "    training_time = time.time() - start_time\n",
    "    \n",
    "    start_time = time.time()\n",
    "    y_pred_test = model.predict(X_test)\n",
    "    prediction_time = time.time() - start_time\n",
    "    \n",
    "    rmse_test = np.sqrt(mean_squared_error(y_test, y_pred_test))\n",
    "    print(f'Test RMSE: {rmse_test:.4f}')\n",
    "    print(f'Training Time: {training_time:.4f} seconds')\n",
    "    print(f'Prediction Time: {prediction_time:.4f} seconds')\n",
    "    \n",
    "def dt(X_train, y_train, X_test, y_test):\n",
    "    best_model = None\n",
    "    best_result = 10000\n",
    "    best_depth = 0\n",
    "    for depth in range(1, 6): # choose hyperparameter range\n",
    "        model = DecisionTreeRegressor(random_state=12345, max_depth= depth) # train model on training set\n",
    "        model.fit(X_train, y_train)\n",
    "        predictions_valid = model.predict(X_test) # get model predictions on validation set\n",
    "        result = mean_squared_error(y_test, predictions_valid)**0.5\n",
    "        if result < best_result:\n",
    "            best_model = model\n",
    "            best_result = result\n",
    "            best_depth = depth\n",
    "            \n",
    "            \n",
    "    model = best_model\n",
    "    start_time = time.time()\n",
    "    model.fit(X_train, y_train)\n",
    "    training_time = time.time() - start_time\n",
    "\n",
    "    start_time = time.time()\n",
    "    predictions_valid = best_model.predict(X_test)\n",
    "    prediction_time = time.time() - start_time\n",
    "\n",
    "    rmse_test = np.sqrt(mean_squared_error(y_test, predictions_valid))\n",
    "    \n",
    "    print(f\"RMSE of the best model on the validation set (max_depth = {best_depth}): {best_result}\")\n",
    "    print(f'Test RMSE: {rmse_test:.4f}')\n",
    "    print(f'Training Time: {training_time:.4f} seconds')\n",
    "    print(f'Prediction Time: {prediction_time:.4f} seconds')\n",
    "\n",
    "def rf(X_train, y_train, X_test, y_test):\n",
    "    best_model = None\n",
    "    best_result = 10000\n",
    "    best_est = 0\n",
    "    best_depth = 0\n",
    "    start_time = time.time()\n",
    "    for est in range(1, 10, 1):\n",
    "        for depth in range (1, 5):\n",
    "            model = RandomForestRegressor(random_state=12345, n_estimators=est, max_depth=depth)\n",
    "            model.fit(X_train, y_train)\n",
    "            predictions_valid = model.predict(X_test)\n",
    "            result = mean_squared_error(y_test, predictions_valid)**0.5\n",
    "            if result < best_result:\n",
    "                best_model = model\n",
    "                best_result = result\n",
    "                best_est = est\n",
    "                best_depth = depth\n",
    "    \n",
    "    model = best_model\n",
    "    start_time = time.time()\n",
    "    model.fit(X_train, y_train)\n",
    "    training_time = time.time() - start_time\n",
    "\n",
    "    start_time = time.time()\n",
    "    predictions_valid = best_model.predict(X_test)\n",
    "    prediction_time = time.time() - start_time\n",
    "\n",
    "    rmse_test = np.sqrt(mean_squared_error(y_test, predictions_valid))\n",
    "    \n",
    "    print(\"RMSE of the best model on the validation set:\", best_result, \"n_estimators:\", best_est, \"best_depth:\", depth)\n",
    "    print(f'Test RMSE: {rmse_test:.4f}')\n",
    "    print(f'Training Time: {training_time:.4f} seconds')\n",
    "    print(f'Prediction Time: {prediction_time:.4f} seconds')\n",
    "\n",
    "\n",
    "def light_gbm(X_train, y_train, X_test, y_test):\n",
    "    train_data = lgb.Dataset(X_train, label=y_train)\n",
    "\n",
    "    # Set parameters\n",
    "    params = {\n",
    "        'objective': 'regression',\n",
    "        'metric': 'rmse',\n",
    "        'learning_rate': 0.1,\n",
    "        'num_leaves': 100,\n",
    "        'feature_fraction': 0.9,\n",
    "        'bagging_fraction': 0.5,\n",
    "        'verbose': -1\n",
    "    }\n",
    "\n",
    "    # Train the model\n",
    "    start_time = time.time()\n",
    "    model = lgb.train(params, train_data, num_boost_round=100)\n",
    "    training_time = time.time() - start_time\n",
    "\n",
    "    # Make predictions\n",
    "    start_time = time.time()\n",
    "    y_pred = model.predict(X_test)\n",
    "    prediction_time = time.time() - start_time\n",
    "    \n",
    "    # Evaluate the model\n",
    "    rmse_test = np.sqrt(mean_squared_error(y_test, y_pred))\n",
    "    print(f'Test RMSE: {rmse_test:.4f}')\n",
    "    print(f'Training Time: {training_time:.4f} seconds')\n",
    "    print(f'Prediction Time: {prediction_time:.4f} seconds')\n",
    "\n",
    "def c_boost(X_train, y_train, X_test, y_test):\n",
    "    model = cb.CatBoostRegressor(\n",
    "        iterations=100,\n",
    "        learning_rate=0.1,\n",
    "        depth=10,  # Depth of the tree, similar to num_leaves in LightGBM\n",
    "        loss_function='RMSE',\n",
    "        verbose=0  # Set to 0 to disable output, use 1 for detailed output\n",
    "    )\n",
    "\n",
    "    # Train the model\n",
    "    start_time = time.time()\n",
    "    model.fit(X_train, y_train)\n",
    "    training_time = time.time() - start_time\n",
    "    \n",
    "    # Make predictions\n",
    "    start_time = time.time()\n",
    "    y_pred = model.predict(X_test)\n",
    "    prediction_time = time.time() - start_time\n",
    "\n",
    "    # Evaluate the model\n",
    "    rmse_test = np.sqrt(mean_squared_error(y_test, y_pred))\n",
    "    print(f'Test RMSE: {rmse_test:.4f}')\n",
    "    print(f'Training Time: {training_time:.4f} seconds')\n",
    "    print(f'Prediction Time: {prediction_time:.4f} seconds')\n",
    "\n",
    "def xgb_boost(X_train, y_train, X_test, y_test):\n",
    "\n",
    "    # Convert the dataset into DMatrix format, which is optimized for XGBoost\n",
    "    train_data = xgb.DMatrix(X_train, label=y_train)\n",
    "    test_data = xgb.DMatrix(X_test, label=y_test)\n",
    "    \n",
    "    # Set parameters\n",
    "    params = {\n",
    "        'objective': 'reg:squarederror',  # Objective for regression tasks\n",
    "        'eval_metric': 'rmse',  # Evaluation metric\n",
    "        'learning_rate': 0.1,\n",
    "        'max_depth': 6,  # Similar to 'depth' in CatBoost and 'num_leaves' in LightGBM\n",
    "        'colsample_bytree': 0.9,  # Similar to 'feature_fraction' in LightGBM\n",
    "        'subsample': 0.8,  # Similar to 'bagging_fraction' in LightGBM\n",
    "        'verbosity': 1  # Set to 0 to silence output\n",
    "    }\n",
    "    \n",
    "    # Train the model\n",
    "    start_time = time.time()\n",
    "    model = xgb.train(params, train_data, num_boost_round=100)\n",
    "    training_time = time.time() - start_time\n",
    "    \n",
    "    # Make predictions\n",
    "    start_time = time.time()\n",
    "    y_pred = model.predict(test_data)\n",
    "    prediction_time = time.time() - start_time\n",
    "    \n",
    "    # Evaluate the model\n",
    "    rmse_test = np.sqrt(mean_squared_error(y_test, y_pred))\n",
    "    print(f'Test RMSE: {rmse_test:.4f}')\n",
    "    print(f'Training Time: {training_time:.4f} seconds')\n",
    "    print(f'Prediction Time: {prediction_time:.4f} seconds')"
   ]
  },
  {
   "cell_type": "code",
   "execution_count": 21,
   "metadata": {},
   "outputs": [],
   "source": [
    "categorical_features = ['VehicleType', 'Gearbox', 'Model', 'FuelType', 'Brand', 'NotRepaired']\n",
    "# One-hot encoding the categorical features\n",
    "df_encoded = pd.get_dummies(df, columns=categorical_features, drop_first=True)\n",
    "features = df_encoded.drop(columns=['Price'])  # Features\n",
    "target = df_encoded['Price']                 # Target\n",
    "X_train, X_test, y_train, y_test = train_test_split(features, target, test_size=0.2, random_state=12345)\n",
    "scaler = MaxAbsScaler()\n",
    "X_train = scaler.fit_transform(X_train)\n",
    "X_test = scaler.fit_transform(X_test)"
   ]
  },
  {
   "cell_type": "code",
   "execution_count": 24,
   "metadata": {
    "scrolled": true
   },
   "outputs": [
    {
     "data": {
      "text/plain": [
       "count    333036.000000\n",
       "mean       4378.277586\n",
       "std        4502.534823\n",
       "min           0.000000\n",
       "25%        1000.000000\n",
       "50%        2699.000000\n",
       "75%        6299.250000\n",
       "max       20000.000000\n",
       "Name: Price, dtype: float64"
      ]
     },
     "execution_count": 24,
     "metadata": {},
     "output_type": "execute_result"
    }
   ],
   "source": [
    "df['Price'].describe()"
   ]
  },
  {
   "cell_type": "code",
   "execution_count": 25,
   "metadata": {},
   "outputs": [
    {
     "name": "stdout",
     "output_type": "stream",
     "text": [
      "Test RMSE: 3159.5750\n",
      "Training Time: 3.3398 seconds\n",
      "Prediction Time: 0.0540 seconds\n"
     ]
    }
   ],
   "source": [
    "lr(X_train, y_train, X_test, y_test)"
   ]
  },
  {
   "cell_type": "code",
   "execution_count": 26,
   "metadata": {},
   "outputs": [
    {
     "name": "stdout",
     "output_type": "stream",
     "text": [
      "RMSE of the best model on the validation set (max_depth = 5): 2583.9005957382897\n",
      "Test RMSE: 2583.9006\n",
      "Training Time: 2.6785 seconds\n",
      "Prediction Time: 0.0600 seconds\n"
     ]
    }
   ],
   "source": [
    "dt(X_train, y_train, X_test, y_test)"
   ]
  },
  {
   "cell_type": "code",
   "execution_count": 27,
   "metadata": {},
   "outputs": [
    {
     "name": "stdout",
     "output_type": "stream",
     "text": [
      "RMSE of the best model on the validation set: 2744.2724731667913 n_estimators: 9 best_depth: 4\n",
      "Test RMSE: 2744.2725\n",
      "Training Time: 13.1276 seconds\n",
      "Prediction Time: 0.0790 seconds\n"
     ]
    }
   ],
   "source": [
    "rf(X_train, y_train, X_test, y_test)"
   ]
  },
  {
   "cell_type": "code",
   "execution_count": 28,
   "metadata": {},
   "outputs": [
    {
     "name": "stdout",
     "output_type": "stream",
     "text": [
      "Test RMSE: 1790.4000\n",
      "Training Time: 1.9485 seconds\n",
      "Prediction Time: 0.1190 seconds\n"
     ]
    }
   ],
   "source": [
    "light_gbm(X_train, y_train, X_test, y_test)"
   ]
  },
  {
   "cell_type": "code",
   "execution_count": 29,
   "metadata": {},
   "outputs": [
    {
     "name": "stdout",
     "output_type": "stream",
     "text": [
      "Test RMSE: 1875.6100\n",
      "Training Time: 2.8121 seconds\n",
      "Prediction Time: 0.0164 seconds\n"
     ]
    }
   ],
   "source": [
    "c_boost(X_train, y_train, X_test, y_test)"
   ]
  },
  {
   "cell_type": "code",
   "execution_count": 30,
   "metadata": {},
   "outputs": [
    {
     "name": "stdout",
     "output_type": "stream",
     "text": [
      "Test RMSE: 1874.3630\n",
      "Training Time: 1.7199 seconds\n",
      "Prediction Time: 0.0180 seconds\n"
     ]
    }
   ],
   "source": [
    "xgb_boost(X_train, y_train, X_test, y_test)"
   ]
  },
  {
   "cell_type": "markdown",
   "metadata": {},
   "source": [
    "## Model analysis"
   ]
  },
  {
   "cell_type": "markdown",
   "metadata": {},
   "source": [
    "When comparing the model's training times, the gradient boosting methods demonstrate significantly faster performance compared to other models like Random Forest, Decision Tree, and Linear Regression. Among these, LightGBM not only offers the highest accuracy, but also has a great prediction speed. \n",
    "\n",
    "Although the prediction time for LightGBM is slightly slower compared to other models, the difference in time is marginal and does not significantly impact the overall performance. Therefore, given its accuracy and training speed, I recommend using the LightGBM model for this task."
   ]
  }
 ],
 "metadata": {
  "ExecuteTimeLog": [
   {
    "duration": 35,
    "start_time": "2024-08-17T18:37:24.054Z"
   },
   {
    "duration": 328,
    "start_time": "2024-08-19T02:00:13.119Z"
   },
   {
    "duration": 1450,
    "start_time": "2024-08-19T02:00:19.572Z"
   },
   {
    "duration": 813,
    "start_time": "2024-08-19T02:00:21.027Z"
   },
   {
    "duration": 170,
    "start_time": "2024-08-19T02:00:21.843Z"
   },
   {
    "duration": 51,
    "start_time": "2024-08-19T02:00:22.016Z"
   },
   {
    "duration": 42,
    "start_time": "2024-08-19T02:00:22.074Z"
   },
   {
    "duration": 281,
    "start_time": "2024-08-19T02:00:22.118Z"
   },
   {
    "duration": 349,
    "start_time": "2024-08-19T02:00:22.402Z"
   },
   {
    "duration": 95,
    "start_time": "2024-08-19T02:00:22.754Z"
   },
   {
    "duration": 102,
    "start_time": "2024-08-19T02:00:22.852Z"
   },
   {
    "duration": 90,
    "start_time": "2024-08-19T02:00:22.957Z"
   },
   {
    "duration": 124,
    "start_time": "2024-08-19T02:00:23.051Z"
   },
   {
    "duration": 37,
    "start_time": "2024-08-19T02:00:23.179Z"
   },
   {
    "duration": 1726,
    "start_time": "2024-08-19T02:00:23.219Z"
   },
   {
    "duration": 21,
    "start_time": "2024-08-19T02:00:24.951Z"
   },
   {
    "duration": 23356,
    "start_time": "2024-08-19T02:00:24.975Z"
   },
   {
    "duration": 11175,
    "start_time": "2024-08-19T02:00:48.335Z"
   },
   {
    "duration": 209313,
    "start_time": "2024-08-19T02:00:59.513Z"
   },
   {
    "duration": 1514,
    "start_time": "2024-08-19T02:07:14.571Z"
   },
   {
    "duration": 741,
    "start_time": "2024-08-19T02:07:16.088Z"
   },
   {
    "duration": 143,
    "start_time": "2024-08-19T02:07:16.832Z"
   },
   {
    "duration": 66,
    "start_time": "2024-08-19T02:07:16.980Z"
   },
   {
    "duration": 26,
    "start_time": "2024-08-19T02:07:17.049Z"
   },
   {
    "duration": 349,
    "start_time": "2024-08-19T02:07:17.078Z"
   },
   {
    "duration": 329,
    "start_time": "2024-08-19T02:07:17.432Z"
   },
   {
    "duration": 94,
    "start_time": "2024-08-19T02:07:17.764Z"
   },
   {
    "duration": 102,
    "start_time": "2024-08-19T02:07:17.864Z"
   },
   {
    "duration": 95,
    "start_time": "2024-08-19T02:07:17.972Z"
   },
   {
    "duration": 111,
    "start_time": "2024-08-19T02:07:18.075Z"
   },
   {
    "duration": 27,
    "start_time": "2024-08-19T02:07:18.192Z"
   },
   {
    "duration": 2226,
    "start_time": "2024-08-19T02:07:18.222Z"
   },
   {
    "duration": 0,
    "start_time": "2024-08-19T02:07:20.452Z"
   },
   {
    "duration": 0,
    "start_time": "2024-08-19T02:07:20.454Z"
   },
   {
    "duration": 0,
    "start_time": "2024-08-19T02:07:20.455Z"
   },
   {
    "duration": 0,
    "start_time": "2024-08-19T02:07:20.458Z"
   },
   {
    "duration": 0,
    "start_time": "2024-08-19T02:07:20.460Z"
   },
   {
    "duration": 0,
    "start_time": "2024-08-19T02:07:20.463Z"
   },
   {
    "duration": 0,
    "start_time": "2024-08-19T02:07:20.465Z"
   },
   {
    "duration": 1463,
    "start_time": "2024-08-19T02:07:56.805Z"
   },
   {
    "duration": 740,
    "start_time": "2024-08-19T02:07:58.272Z"
   },
   {
    "duration": 170,
    "start_time": "2024-08-19T02:07:59.015Z"
   },
   {
    "duration": 52,
    "start_time": "2024-08-19T02:07:59.188Z"
   },
   {
    "duration": 23,
    "start_time": "2024-08-19T02:07:59.245Z"
   },
   {
    "duration": 328,
    "start_time": "2024-08-19T02:07:59.271Z"
   },
   {
    "duration": 348,
    "start_time": "2024-08-19T02:07:59.610Z"
   },
   {
    "duration": 96,
    "start_time": "2024-08-19T02:07:59.961Z"
   },
   {
    "duration": 99,
    "start_time": "2024-08-19T02:08:00.060Z"
   },
   {
    "duration": 95,
    "start_time": "2024-08-19T02:08:00.162Z"
   },
   {
    "duration": 104,
    "start_time": "2024-08-19T02:08:00.260Z"
   },
   {
    "duration": 19,
    "start_time": "2024-08-19T02:08:00.366Z"
   },
   {
    "duration": 2151,
    "start_time": "2024-08-19T02:08:00.408Z"
   },
   {
    "duration": 0,
    "start_time": "2024-08-19T02:08:02.563Z"
   },
   {
    "duration": 0,
    "start_time": "2024-08-19T02:08:02.566Z"
   },
   {
    "duration": 0,
    "start_time": "2024-08-19T02:08:02.568Z"
   },
   {
    "duration": 0,
    "start_time": "2024-08-19T02:08:02.570Z"
   },
   {
    "duration": 0,
    "start_time": "2024-08-19T02:08:02.573Z"
   },
   {
    "duration": 0,
    "start_time": "2024-08-19T02:08:02.575Z"
   },
   {
    "duration": 0,
    "start_time": "2024-08-19T02:08:02.578Z"
   },
   {
    "duration": 1447,
    "start_time": "2024-08-19T02:08:34.263Z"
   },
   {
    "duration": 711,
    "start_time": "2024-08-19T02:08:35.714Z"
   },
   {
    "duration": 146,
    "start_time": "2024-08-19T02:08:36.428Z"
   },
   {
    "duration": 68,
    "start_time": "2024-08-19T02:08:36.577Z"
   },
   {
    "duration": 21,
    "start_time": "2024-08-19T02:08:36.650Z"
   },
   {
    "duration": 330,
    "start_time": "2024-08-19T02:08:36.673Z"
   },
   {
    "duration": 332,
    "start_time": "2024-08-19T02:08:37.007Z"
   },
   {
    "duration": 100,
    "start_time": "2024-08-19T02:08:37.341Z"
   },
   {
    "duration": 101,
    "start_time": "2024-08-19T02:08:37.444Z"
   },
   {
    "duration": 88,
    "start_time": "2024-08-19T02:08:37.548Z"
   },
   {
    "duration": 105,
    "start_time": "2024-08-19T02:08:37.639Z"
   },
   {
    "duration": 20,
    "start_time": "2024-08-19T02:08:37.747Z"
   },
   {
    "duration": 3083,
    "start_time": "2024-08-19T02:08:37.770Z"
   },
   {
    "duration": 20,
    "start_time": "2024-08-19T02:08:40.858Z"
   },
   {
    "duration": 1427,
    "start_time": "2024-08-19T02:10:36.255Z"
   },
   {
    "duration": 803,
    "start_time": "2024-08-19T02:10:37.685Z"
   },
   {
    "duration": 151,
    "start_time": "2024-08-19T02:10:38.490Z"
   },
   {
    "duration": 46,
    "start_time": "2024-08-19T02:10:38.644Z"
   },
   {
    "duration": 24,
    "start_time": "2024-08-19T02:10:38.710Z"
   },
   {
    "duration": 314,
    "start_time": "2024-08-19T02:10:38.737Z"
   },
   {
    "duration": 315,
    "start_time": "2024-08-19T02:10:39.055Z"
   },
   {
    "duration": 94,
    "start_time": "2024-08-19T02:10:39.373Z"
   },
   {
    "duration": 95,
    "start_time": "2024-08-19T02:10:39.469Z"
   },
   {
    "duration": 91,
    "start_time": "2024-08-19T02:10:39.567Z"
   },
   {
    "duration": 107,
    "start_time": "2024-08-19T02:10:39.661Z"
   },
   {
    "duration": 19,
    "start_time": "2024-08-19T02:10:39.771Z"
   },
   {
    "duration": 3030,
    "start_time": "2024-08-19T02:10:39.810Z"
   },
   {
    "duration": 20,
    "start_time": "2024-08-19T02:10:42.845Z"
   },
   {
    "duration": 1499,
    "start_time": "2024-08-19T02:39:13.369Z"
   },
   {
    "duration": 835,
    "start_time": "2024-08-19T02:39:14.876Z"
   },
   {
    "duration": 157,
    "start_time": "2024-08-19T02:39:15.716Z"
   },
   {
    "duration": 63,
    "start_time": "2024-08-19T02:39:15.877Z"
   },
   {
    "duration": 24,
    "start_time": "2024-08-19T02:39:15.946Z"
   },
   {
    "duration": 306,
    "start_time": "2024-08-19T02:39:15.975Z"
   },
   {
    "duration": 291,
    "start_time": "2024-08-19T02:39:16.284Z"
   },
   {
    "duration": 93,
    "start_time": "2024-08-19T02:39:16.578Z"
   },
   {
    "duration": 98,
    "start_time": "2024-08-19T02:39:16.673Z"
   },
   {
    "duration": 120,
    "start_time": "2024-08-19T02:39:16.774Z"
   },
   {
    "duration": 130,
    "start_time": "2024-08-19T02:39:16.897Z"
   },
   {
    "duration": 28,
    "start_time": "2024-08-19T02:39:17.031Z"
   },
   {
    "duration": 3162,
    "start_time": "2024-08-19T02:39:17.062Z"
   },
   {
    "duration": 22,
    "start_time": "2024-08-19T02:39:20.230Z"
   },
   {
    "duration": 309,
    "start_time": "2024-08-19T02:41:09.578Z"
   },
   {
    "duration": 1435,
    "start_time": "2024-08-19T02:41:17.552Z"
   },
   {
    "duration": 796,
    "start_time": "2024-08-19T02:41:18.991Z"
   },
   {
    "duration": 150,
    "start_time": "2024-08-19T02:41:19.790Z"
   },
   {
    "duration": 65,
    "start_time": "2024-08-19T02:41:19.943Z"
   },
   {
    "duration": 22,
    "start_time": "2024-08-19T02:41:20.012Z"
   },
   {
    "duration": 291,
    "start_time": "2024-08-19T02:41:20.038Z"
   },
   {
    "duration": 313,
    "start_time": "2024-08-19T02:41:20.331Z"
   },
   {
    "duration": 89,
    "start_time": "2024-08-19T02:41:20.646Z"
   },
   {
    "duration": 102,
    "start_time": "2024-08-19T02:41:20.739Z"
   },
   {
    "duration": 90,
    "start_time": "2024-08-19T02:41:20.844Z"
   },
   {
    "duration": 103,
    "start_time": "2024-08-19T02:41:20.937Z"
   },
   {
    "duration": 28,
    "start_time": "2024-08-19T02:41:21.043Z"
   },
   {
    "duration": 3055,
    "start_time": "2024-08-19T02:41:21.074Z"
   },
   {
    "duration": 20,
    "start_time": "2024-08-19T02:41:24.136Z"
   },
   {
    "duration": 11,
    "start_time": "2024-08-19T07:23:40.653Z"
   },
   {
    "duration": 1469,
    "start_time": "2024-08-19T15:29:58.380Z"
   },
   {
    "duration": 793,
    "start_time": "2024-08-19T15:29:59.853Z"
   },
   {
    "duration": 154,
    "start_time": "2024-08-19T15:30:00.649Z"
   },
   {
    "duration": 54,
    "start_time": "2024-08-19T15:30:00.806Z"
   },
   {
    "duration": 23,
    "start_time": "2024-08-19T15:30:00.865Z"
   },
   {
    "duration": 292,
    "start_time": "2024-08-19T15:30:00.893Z"
   },
   {
    "duration": 320,
    "start_time": "2024-08-19T15:30:01.188Z"
   },
   {
    "duration": 94,
    "start_time": "2024-08-19T15:30:01.511Z"
   },
   {
    "duration": 82,
    "start_time": "2024-08-19T15:30:01.622Z"
   },
   {
    "duration": 93,
    "start_time": "2024-08-19T15:30:01.707Z"
   },
   {
    "duration": 102,
    "start_time": "2024-08-19T15:30:01.803Z"
   },
   {
    "duration": 37,
    "start_time": "2024-08-19T15:30:01.909Z"
   },
   {
    "duration": 3053,
    "start_time": "2024-08-19T15:30:01.948Z"
   },
   {
    "duration": 32,
    "start_time": "2024-08-19T15:30:05.006Z"
   },
   {
    "duration": 322,
    "start_time": "2024-08-19T15:30:17.102Z"
   },
   {
    "duration": 1483,
    "start_time": "2024-08-19T15:30:35.726Z"
   },
   {
    "duration": 791,
    "start_time": "2024-08-19T15:30:37.212Z"
   },
   {
    "duration": 146,
    "start_time": "2024-08-19T15:30:38.006Z"
   },
   {
    "duration": 46,
    "start_time": "2024-08-19T15:30:38.156Z"
   },
   {
    "duration": 23,
    "start_time": "2024-08-19T15:30:38.222Z"
   },
   {
    "duration": 293,
    "start_time": "2024-08-19T15:30:38.248Z"
   },
   {
    "duration": 320,
    "start_time": "2024-08-19T15:30:38.544Z"
   },
   {
    "duration": 94,
    "start_time": "2024-08-19T15:30:38.867Z"
   },
   {
    "duration": 101,
    "start_time": "2024-08-19T15:30:38.963Z"
   },
   {
    "duration": 93,
    "start_time": "2024-08-19T15:30:39.067Z"
   },
   {
    "duration": 104,
    "start_time": "2024-08-19T15:30:39.162Z"
   },
   {
    "duration": 29,
    "start_time": "2024-08-19T15:30:39.268Z"
   },
   {
    "duration": 3081,
    "start_time": "2024-08-19T15:30:39.300Z"
   },
   {
    "duration": 38,
    "start_time": "2024-08-19T15:30:42.386Z"
   },
   {
    "duration": 324,
    "start_time": "2024-08-19T15:31:07.130Z"
   },
   {
    "duration": 1454,
    "start_time": "2024-08-19T15:31:14.819Z"
   },
   {
    "duration": 789,
    "start_time": "2024-08-19T15:31:16.450Z"
   },
   {
    "duration": 49,
    "start_time": "2024-08-19T15:31:23.286Z"
   },
   {
    "duration": 22,
    "start_time": "2024-08-19T15:31:24.322Z"
   },
   {
    "duration": 274,
    "start_time": "2024-08-19T15:31:26.523Z"
   },
   {
    "duration": 323,
    "start_time": "2024-08-19T15:31:28.596Z"
   },
   {
    "duration": 86,
    "start_time": "2024-08-19T15:31:32.141Z"
   },
   {
    "duration": 82,
    "start_time": "2024-08-19T15:31:34.062Z"
   },
   {
    "duration": 84,
    "start_time": "2024-08-19T15:31:36.294Z"
   },
   {
    "duration": 89,
    "start_time": "2024-08-19T15:31:38.450Z"
   },
   {
    "duration": 93,
    "start_time": "2024-08-19T15:31:40.457Z"
   },
   {
    "duration": 3033,
    "start_time": "2024-08-19T15:31:51.127Z"
   },
   {
    "duration": 21,
    "start_time": "2024-08-19T15:31:54.162Z"
   },
   {
    "duration": 307,
    "start_time": "2024-08-19T15:32:04.635Z"
   },
   {
    "duration": 21,
    "start_time": "2024-08-19T15:32:06.874Z"
   },
   {
    "duration": 1420,
    "start_time": "2024-08-19T15:32:16.648Z"
   },
   {
    "duration": 769,
    "start_time": "2024-08-19T15:32:18.071Z"
   },
   {
    "duration": 155,
    "start_time": "2024-08-19T15:32:18.843Z"
   },
   {
    "duration": 65,
    "start_time": "2024-08-19T15:32:19.001Z"
   },
   {
    "duration": 22,
    "start_time": "2024-08-19T15:32:19.072Z"
   },
   {
    "duration": 276,
    "start_time": "2024-08-19T15:32:19.096Z"
   },
   {
    "duration": 301,
    "start_time": "2024-08-19T15:32:19.375Z"
   },
   {
    "duration": 102,
    "start_time": "2024-08-19T15:32:19.678Z"
   },
   {
    "duration": 96,
    "start_time": "2024-08-19T15:32:19.785Z"
   },
   {
    "duration": 91,
    "start_time": "2024-08-19T15:32:19.883Z"
   },
   {
    "duration": 107,
    "start_time": "2024-08-19T15:32:19.977Z"
   },
   {
    "duration": 46,
    "start_time": "2024-08-19T15:32:20.087Z"
   },
   {
    "duration": 3064,
    "start_time": "2024-08-19T15:32:20.136Z"
   },
   {
    "duration": 28,
    "start_time": "2024-08-19T15:32:23.206Z"
   },
   {
    "duration": 1447,
    "start_time": "2024-08-19T15:33:13.158Z"
   },
   {
    "duration": 771,
    "start_time": "2024-08-19T15:33:14.609Z"
   },
   {
    "duration": 150,
    "start_time": "2024-08-19T15:33:15.383Z"
   },
   {
    "duration": 43,
    "start_time": "2024-08-19T15:33:15.537Z"
   },
   {
    "duration": 48,
    "start_time": "2024-08-19T15:33:15.583Z"
   },
   {
    "duration": 281,
    "start_time": "2024-08-19T15:33:15.634Z"
   },
   {
    "duration": 319,
    "start_time": "2024-08-19T15:33:15.926Z"
   },
   {
    "duration": 91,
    "start_time": "2024-08-19T15:33:16.248Z"
   },
   {
    "duration": 103,
    "start_time": "2024-08-19T15:33:16.341Z"
   },
   {
    "duration": 93,
    "start_time": "2024-08-19T15:33:16.449Z"
   },
   {
    "duration": 106,
    "start_time": "2024-08-19T15:33:16.545Z"
   },
   {
    "duration": 38,
    "start_time": "2024-08-19T15:33:16.654Z"
   },
   {
    "duration": 3075,
    "start_time": "2024-08-19T15:33:16.695Z"
   },
   {
    "duration": 22,
    "start_time": "2024-08-19T15:33:19.773Z"
   }
  ],
  "kernelspec": {
   "display_name": "Python 3 (ipykernel)",
   "language": "python",
   "name": "python3"
  },
  "language_info": {
   "codemirror_mode": {
    "name": "ipython",
    "version": 3
   },
   "file_extension": ".py",
   "mimetype": "text/x-python",
   "name": "python",
   "nbconvert_exporter": "python",
   "pygments_lexer": "ipython3",
   "version": "3.11.7"
  },
  "toc": {
   "base_numbering": 1,
   "nav_menu": {},
   "number_sections": true,
   "sideBar": true,
   "skip_h1_title": true,
   "title_cell": "Table of Contents",
   "title_sidebar": "Contents",
   "toc_cell": false,
   "toc_position": {},
   "toc_section_display": true,
   "toc_window_display": false
  }
 },
 "nbformat": 4,
 "nbformat_minor": 4
}
