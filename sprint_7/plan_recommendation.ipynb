{
 "cells": [
  {
   "cell_type": "markdown",
   "metadata": {},
   "source": [
    "Megaline wants to develop a model that analyzes subscriber behavior and recommends \n",
    "a Smart or Ultra plan. With access to behavior data about subscribers, we need to develop\n",
    "a model that picks the right plan. \n",
    "\n",
    "Goal: Develop a model with highest possible accuracy. The threshold for accuracy is 0.75. \n",
    "Check the accuracy using the test dataset. "
   ]
  },
  {
   "cell_type": "code",
   "execution_count": 1,
   "metadata": {},
   "outputs": [],
   "source": [
    "import pandas as pd\n",
    "from sklearn.linear_model import LogisticRegression\n",
    "from sklearn.ensemble import RandomForestClassifier\n",
    "from sklearn.ensemble import RandomForestRegressor\t\n",
    "from sklearn.model_selection import train_test_split\n",
    "from sklearn.tree import DecisionTreeClassifier\n",
    "from sklearn.metrics import accuracy_score\n",
    "from sklearn.metrics import mean_squared_error"
   ]
  },
  {
   "cell_type": "code",
   "execution_count": 2,
   "metadata": {},
   "outputs": [],
   "source": [
    "#Open and look through the data file. Path to the file:datasets/users_behavior.csv\n",
    "\n",
    "try:\n",
    "    df = pd.read_csv('/datasets/users_behavior.csv')\n",
    "\n",
    "except FileNotFoundError:\n",
    "    df = pd.read_csv('/datasets/users_behavior.csv')"
   ]
  },
  {
   "cell_type": "code",
   "execution_count": 3,
   "metadata": {
    "scrolled": true
   },
   "outputs": [
    {
     "name": "stdout",
     "output_type": "stream",
     "text": [
      "<class 'pandas.core.frame.DataFrame'>\n",
      "RangeIndex: 3214 entries, 0 to 3213\n",
      "Data columns (total 5 columns):\n",
      " #   Column    Non-Null Count  Dtype  \n",
      "---  ------    --------------  -----  \n",
      " 0   calls     3214 non-null   float64\n",
      " 1   minutes   3214 non-null   float64\n",
      " 2   messages  3214 non-null   float64\n",
      " 3   mb_used   3214 non-null   float64\n",
      " 4   is_ultra  3214 non-null   int64  \n",
      "dtypes: float64(4), int64(1)\n",
      "memory usage: 125.7 KB\n"
     ]
    }
   ],
   "source": [
    "df.info()"
   ]
  },
  {
   "cell_type": "code",
   "execution_count": 4,
   "metadata": {},
   "outputs": [
    {
     "data": {
      "text/html": [
       "<div>\n",
       "<style scoped>\n",
       "    .dataframe tbody tr th:only-of-type {\n",
       "        vertical-align: middle;\n",
       "    }\n",
       "\n",
       "    .dataframe tbody tr th {\n",
       "        vertical-align: top;\n",
       "    }\n",
       "\n",
       "    .dataframe thead th {\n",
       "        text-align: right;\n",
       "    }\n",
       "</style>\n",
       "<table border=\"1\" class=\"dataframe\">\n",
       "  <thead>\n",
       "    <tr style=\"text-align: right;\">\n",
       "      <th></th>\n",
       "      <th>calls</th>\n",
       "      <th>minutes</th>\n",
       "      <th>messages</th>\n",
       "      <th>mb_used</th>\n",
       "      <th>is_ultra</th>\n",
       "    </tr>\n",
       "  </thead>\n",
       "  <tbody>\n",
       "  </tbody>\n",
       "</table>\n",
       "</div>"
      ],
      "text/plain": [
       "Empty DataFrame\n",
       "Columns: [calls, minutes, messages, mb_used, is_ultra]\n",
       "Index: []"
      ]
     },
     "execution_count": 4,
     "metadata": {},
     "output_type": "execute_result"
    }
   ],
   "source": [
    "duplicates = df[df.duplicated()]\n",
    "duplicates"
   ]
  },
  {
   "cell_type": "code",
   "execution_count": 5,
   "metadata": {
    "scrolled": true
   },
   "outputs": [
    {
     "data": {
      "text/plain": [
       "array([0, 1])"
      ]
     },
     "execution_count": 5,
     "metadata": {},
     "output_type": "execute_result"
    }
   ],
   "source": [
    "df['is_ultra'].unique()"
   ]
  },
  {
   "cell_type": "markdown",
   "metadata": {},
   "source": [
    "Classification problem to determine wheter a plan is ultra"
   ]
  },
  {
   "cell_type": "code",
   "execution_count": 6,
   "metadata": {},
   "outputs": [],
   "source": [
    "#Grab dependent and independent variables\n",
    "features = df.drop(['is_ultra'], axis=1)\n",
    "target = df['is_ultra']"
   ]
  },
  {
   "cell_type": "code",
   "execution_count": 7,
   "metadata": {},
   "outputs": [
    {
     "name": "stdout",
     "output_type": "stream",
     "text": [
      "(1928, 4)\n",
      "(1928,)\n",
      "(643, 4)\n",
      "(643,)\n",
      "(643, 4)\n",
      "(643,)\n"
     ]
    }
   ],
   "source": [
    "#60% train and other 40% split into validation and test\n",
    "features_train, features_valid, target_train, target_valid = train_test_split(\n",
    "    features, target, test_size=0.40, random_state=12345) \n",
    "\n",
    "\n",
    "features_test, features_valid, target_test, target_valid = train_test_split(\n",
    "    features_valid, target_valid, test_size=0.50, random_state=12345) \n",
    "\n",
    "print(features_train.shape)\n",
    "print(target_train.shape)\n",
    "print(features_valid.shape)\n",
    "print(target_valid.shape)\n",
    "print(features_test.shape)\n",
    "print(target_test.shape)"
   ]
  },
  {
   "cell_type": "code",
   "execution_count": 8,
   "metadata": {},
   "outputs": [
    {
     "name": "stdout",
     "output_type": "stream",
     "text": [
      "Accuracy of the best model on the validation set (n_estimators = 47): 0.8149300155520995\n"
     ]
    }
   ],
   "source": [
    "best_score = 0\n",
    "best_est = 0\n",
    "for est in range(1, 50):\n",
    "    model = RandomForestClassifier(random_state=54321, n_estimators=est, max_depth=12)\n",
    "    model.fit(features_train, target_train)\n",
    "    score = model.score(features_valid, target_valid)\n",
    "    if score > best_score:\n",
    "        best_score = score\n",
    "        best_est = est\n",
    "\n",
    "print(\"Accuracy of the best model on the validation set (n_estimators = {}): {}\".format(best_est, best_score))"
   ]
  },
  {
   "cell_type": "code",
   "execution_count": 9,
   "metadata": {},
   "outputs": [
    {
     "name": "stdout",
     "output_type": "stream",
     "text": [
      "0.8009331259720062\n"
     ]
    }
   ],
   "source": [
    "print(model.score(features_test, target_test))"
   ]
  },
  {
   "cell_type": "markdown",
   "metadata": {},
   "source": [
    "Random forest classifier has a higher accuracy when compared to decision trees and logistic regression. Test accuracy decreased when compared to the validation set. "
   ]
  },
  {
   "cell_type": "code",
   "execution_count": 10,
   "metadata": {
    "scrolled": true
   },
   "outputs": [
    {
     "name": "stdout",
     "output_type": "stream",
     "text": [
      "Accuracy of the logistic regression model on the training set: 0.7505186721991701\n",
      "Accuracy of the logistic regression model on the validation set: 0.7402799377916018\n",
      "Accuracy of the logistic regression model on the test set: 0.7589424572317263\n"
     ]
    }
   ],
   "source": [
    "model = LogisticRegression(random_state=54321, solver='liblinear') # initialize logistic regression constructor with parameters random_state=54321 and solver='liblinear'\n",
    "model.fit(features_train, target_train)  # train model on training set\n",
    "score_train = model.score(features_train, target_train)  \n",
    "score_valid = model.score(features_valid, target_valid)  \n",
    "score_test = model.score(features_test, target_test)  \n",
    "\n",
    "print(\n",
    "    \"Accuracy of the logistic regression model on the training set:\",\n",
    "    score_train,\n",
    ")\n",
    "print(\n",
    "    \"Accuracy of the logistic regression model on the validation set:\",\n",
    "    score_valid,\n",
    ")\n",
    "\n",
    "print(\n",
    "    \"Accuracy of the logistic regression model on the test set:\",\n",
    "    score_test,\n",
    ")"
   ]
  },
  {
   "cell_type": "code",
   "execution_count": 11,
   "metadata": {},
   "outputs": [
    {
     "name": "stdout",
     "output_type": "stream",
     "text": [
      "Accuracy of the best model: 0.7993779160186625\n"
     ]
    }
   ],
   "source": [
    "best_model = None\n",
    "best_result = 0\n",
    "for depth in range(1, 15):\n",
    "\tmodel = DecisionTreeClassifier(random_state=12345, max_depth= depth) # create a model with the given depth\n",
    "\tmodel.fit(features_train, target_train) # train the model\n",
    "\tpredictions = model.predict(features_valid) # get the model's predictions\n",
    "\tresult = accuracy_score(target_valid, predictions) # calculate the accuracy\n",
    "\tif result > best_result:\n",
    "\t\tbest_model = model\n",
    "\t\tbest_result = result\n",
    "        \n",
    "print(\"Accuracy of the best model:\", best_result)"
   ]
  },
  {
   "cell_type": "code",
   "execution_count": 12,
   "metadata": {},
   "outputs": [
    {
     "name": "stdout",
     "output_type": "stream",
     "text": [
      "0.7822706065318819\n"
     ]
    }
   ],
   "source": [
    "predictions = best_model.predict(features_test)\n",
    "print(accuracy_score(target_test, predictions))"
   ]
  },
  {
   "cell_type": "markdown",
   "metadata": {},
   "source": [
    "Conclusion: \n",
    "    \n",
    "I've used three models: random forest, logistic regression, and a decision tree. Adjusting the random forest hyperparameter's max depth 12 achieves the highest accuracy. The original data set was converted into 60% training, 20% validation, and 20% test. Ultimately, I reached 80% accuracy on the test set."
   ]
  }
 ],
 "metadata": {
  "ExecuteTimeLog": [
   {
    "duration": 309,
    "start_time": "2024-06-14T20:19:08.146Z"
   },
   {
    "duration": 472,
    "start_time": "2024-06-14T20:19:27.124Z"
   },
   {
    "duration": 21,
    "start_time": "2024-06-14T20:19:28.802Z"
   },
   {
    "duration": 18,
    "start_time": "2024-06-14T20:19:35.764Z"
   },
   {
    "duration": 60,
    "start_time": "2024-06-14T20:19:44.252Z"
   },
   {
    "duration": 16,
    "start_time": "2024-06-14T20:19:47.706Z"
   },
   {
    "duration": 8,
    "start_time": "2024-06-14T20:20:39.515Z"
   },
   {
    "duration": 18,
    "start_time": "2024-06-14T20:20:45.142Z"
   },
   {
    "duration": 6,
    "start_time": "2024-06-14T20:21:08.235Z"
   },
   {
    "duration": 5,
    "start_time": "2024-06-14T20:25:56.091Z"
   },
   {
    "duration": 4,
    "start_time": "2024-06-14T20:26:57.781Z"
   },
   {
    "duration": 24,
    "start_time": "2024-06-14T20:28:36.369Z"
   },
   {
    "duration": 824,
    "start_time": "2024-06-14T20:30:50.154Z"
   },
   {
    "duration": 8,
    "start_time": "2024-06-14T20:30:52.862Z"
   },
   {
    "duration": 4,
    "start_time": "2024-06-14T20:32:24.517Z"
   },
   {
    "duration": 94,
    "start_time": "2024-06-14T20:32:59.145Z"
   },
   {
    "duration": 1222,
    "start_time": "2024-06-14T20:33:33.554Z"
   },
   {
    "duration": 14,
    "start_time": "2024-06-14T20:33:34.779Z"
   },
   {
    "duration": 26,
    "start_time": "2024-06-14T20:33:34.795Z"
   },
   {
    "duration": 19,
    "start_time": "2024-06-14T20:33:34.825Z"
   },
   {
    "duration": 6,
    "start_time": "2024-06-14T20:33:34.848Z"
   },
   {
    "duration": 5,
    "start_time": "2024-06-14T20:33:34.857Z"
   },
   {
    "duration": 53,
    "start_time": "2024-06-14T20:33:34.865Z"
   },
   {
    "duration": 435,
    "start_time": "2024-06-14T20:33:34.921Z"
   },
   {
    "duration": 30,
    "start_time": "2024-06-14T20:33:48.609Z"
   },
   {
    "duration": 4,
    "start_time": "2024-06-14T20:33:52.181Z"
   },
   {
    "duration": 7110,
    "start_time": "2024-06-14T20:33:54.567Z"
   },
   {
    "duration": 433,
    "start_time": "2024-06-14T20:35:32.915Z"
   },
   {
    "duration": 1344,
    "start_time": "2024-06-14T20:35:50.878Z"
   },
   {
    "duration": 1170,
    "start_time": "2024-06-15T16:44:11.677Z"
   },
   {
    "duration": 20,
    "start_time": "2024-06-15T16:44:12.850Z"
   },
   {
    "duration": 15,
    "start_time": "2024-06-15T16:44:12.873Z"
   },
   {
    "duration": 32,
    "start_time": "2024-06-15T16:44:12.891Z"
   },
   {
    "duration": 9,
    "start_time": "2024-06-15T16:44:12.928Z"
   },
   {
    "duration": 5,
    "start_time": "2024-06-15T16:44:12.941Z"
   },
   {
    "duration": 8,
    "start_time": "2024-06-15T16:44:12.950Z"
   },
   {
    "duration": 8438,
    "start_time": "2024-06-15T16:44:12.960Z"
   },
   {
    "duration": 1271,
    "start_time": "2024-06-15T16:47:33.829Z"
   },
   {
    "duration": 29,
    "start_time": "2024-06-15T16:47:35.105Z"
   },
   {
    "duration": 14,
    "start_time": "2024-06-15T16:47:35.141Z"
   },
   {
    "duration": 19,
    "start_time": "2024-06-15T16:47:35.158Z"
   },
   {
    "duration": 6,
    "start_time": "2024-06-15T16:47:35.182Z"
   },
   {
    "duration": 40,
    "start_time": "2024-06-15T16:47:35.192Z"
   },
   {
    "duration": 6,
    "start_time": "2024-06-15T16:47:35.238Z"
   },
   {
    "duration": 8329,
    "start_time": "2024-06-15T16:47:35.248Z"
   },
   {
    "duration": 58,
    "start_time": "2024-06-15T16:47:43.580Z"
   },
   {
    "duration": 403,
    "start_time": "2024-06-15T16:52:26.636Z"
   },
   {
    "duration": 1163,
    "start_time": "2024-06-15T16:52:45.289Z"
   },
   {
    "duration": 13,
    "start_time": "2024-06-15T16:52:46.456Z"
   },
   {
    "duration": 17,
    "start_time": "2024-06-15T16:52:46.471Z"
   },
   {
    "duration": 43,
    "start_time": "2024-06-15T16:52:46.490Z"
   },
   {
    "duration": 6,
    "start_time": "2024-06-15T16:52:46.539Z"
   },
   {
    "duration": 6,
    "start_time": "2024-06-15T16:52:46.548Z"
   },
   {
    "duration": 7,
    "start_time": "2024-06-15T16:52:46.557Z"
   },
   {
    "duration": 8323,
    "start_time": "2024-06-15T16:52:46.568Z"
   },
   {
    "duration": 36,
    "start_time": "2024-06-15T16:52:54.894Z"
   },
   {
    "duration": 559,
    "start_time": "2024-06-15T16:52:54.933Z"
   },
   {
    "duration": 1189,
    "start_time": "2024-06-15T16:53:22.871Z"
   },
   {
    "duration": 12,
    "start_time": "2024-06-15T16:53:24.063Z"
   },
   {
    "duration": 17,
    "start_time": "2024-06-15T16:53:24.079Z"
   },
   {
    "duration": 18,
    "start_time": "2024-06-15T16:53:24.122Z"
   },
   {
    "duration": 7,
    "start_time": "2024-06-15T16:53:24.142Z"
   },
   {
    "duration": 5,
    "start_time": "2024-06-15T16:53:24.152Z"
   },
   {
    "duration": 7,
    "start_time": "2024-06-15T16:53:24.160Z"
   },
   {
    "duration": 8264,
    "start_time": "2024-06-15T16:53:24.170Z"
   },
   {
    "duration": 23,
    "start_time": "2024-06-15T16:53:32.436Z"
   },
   {
    "duration": 187,
    "start_time": "2024-06-15T16:53:32.463Z"
   },
   {
    "duration": 45,
    "start_time": "2024-06-15T16:55:06.321Z"
   },
   {
    "duration": 130,
    "start_time": "2024-06-15T16:55:17.266Z"
   },
   {
    "duration": 172,
    "start_time": "2024-06-15T16:55:21.426Z"
   },
   {
    "duration": 1258,
    "start_time": "2024-06-15T18:00:44.935Z"
   },
   {
    "duration": 37,
    "start_time": "2024-06-15T18:00:46.201Z"
   },
   {
    "duration": 16,
    "start_time": "2024-06-15T18:00:46.241Z"
   },
   {
    "duration": 18,
    "start_time": "2024-06-15T18:00:46.260Z"
   },
   {
    "duration": 7,
    "start_time": "2024-06-15T18:00:46.282Z"
   },
   {
    "duration": 19,
    "start_time": "2024-06-15T18:00:46.291Z"
   },
   {
    "duration": 437,
    "start_time": "2024-06-15T18:00:46.312Z"
   },
   {
    "duration": 0,
    "start_time": "2024-06-15T18:00:46.752Z"
   },
   {
    "duration": 0,
    "start_time": "2024-06-15T18:00:46.755Z"
   },
   {
    "duration": 0,
    "start_time": "2024-06-15T18:00:46.758Z"
   },
   {
    "duration": 1158,
    "start_time": "2024-06-15T18:00:58.254Z"
   },
   {
    "duration": 19,
    "start_time": "2024-06-15T18:00:59.415Z"
   },
   {
    "duration": 16,
    "start_time": "2024-06-15T18:00:59.437Z"
   },
   {
    "duration": 18,
    "start_time": "2024-06-15T18:00:59.457Z"
   },
   {
    "duration": 29,
    "start_time": "2024-06-15T18:00:59.478Z"
   },
   {
    "duration": 7,
    "start_time": "2024-06-15T18:00:59.509Z"
   },
   {
    "duration": 7,
    "start_time": "2024-06-15T18:00:59.519Z"
   },
   {
    "duration": 8223,
    "start_time": "2024-06-15T18:00:59.529Z"
   },
   {
    "duration": 55,
    "start_time": "2024-06-15T18:01:07.755Z"
   },
   {
    "duration": 1259,
    "start_time": "2024-06-15T18:06:15.735Z"
   },
   {
    "duration": 14,
    "start_time": "2024-06-15T18:06:16.998Z"
   },
   {
    "duration": 15,
    "start_time": "2024-06-15T18:06:17.015Z"
   },
   {
    "duration": 19,
    "start_time": "2024-06-15T18:06:17.035Z"
   },
   {
    "duration": 45,
    "start_time": "2024-06-15T18:06:17.057Z"
   },
   {
    "duration": 4,
    "start_time": "2024-06-15T18:06:17.106Z"
   },
   {
    "duration": 11,
    "start_time": "2024-06-15T18:06:17.113Z"
   },
   {
    "duration": 6472,
    "start_time": "2024-06-15T18:06:17.126Z"
   },
   {
    "duration": 18,
    "start_time": "2024-06-15T18:06:23.601Z"
   },
   {
    "duration": 161,
    "start_time": "2024-06-15T18:06:23.623Z"
   },
   {
    "duration": 91,
    "start_time": "2024-06-15T18:08:32.491Z"
   },
   {
    "duration": 9,
    "start_time": "2024-06-15T19:01:13.155Z"
   },
   {
    "duration": 9,
    "start_time": "2024-06-15T19:01:37.590Z"
   },
   {
    "duration": 10,
    "start_time": "2024-06-15T19:03:56.577Z"
   },
   {
    "duration": 15,
    "start_time": "2024-06-15T19:04:36.710Z"
   },
   {
    "duration": 10,
    "start_time": "2024-06-15T19:05:22.127Z"
   },
   {
    "duration": 92,
    "start_time": "2024-06-15T19:05:53.608Z"
   },
   {
    "duration": 92,
    "start_time": "2024-06-15T19:06:36.616Z"
   },
   {
    "duration": 81,
    "start_time": "2024-06-15T19:07:48.830Z"
   },
   {
    "duration": 29,
    "start_time": "2024-06-15T19:11:32.334Z"
   },
   {
    "duration": 15,
    "start_time": "2024-06-15T19:12:36.570Z"
   },
   {
    "duration": 204,
    "start_time": "2024-06-15T19:13:32.808Z"
   },
   {
    "duration": 1229,
    "start_time": "2024-06-15T19:13:57.444Z"
   },
   {
    "duration": 14,
    "start_time": "2024-06-15T19:13:58.677Z"
   },
   {
    "duration": 21,
    "start_time": "2024-06-15T19:13:58.694Z"
   },
   {
    "duration": 18,
    "start_time": "2024-06-15T19:13:58.719Z"
   },
   {
    "duration": 6,
    "start_time": "2024-06-15T19:13:58.741Z"
   },
   {
    "duration": 5,
    "start_time": "2024-06-15T19:13:58.750Z"
   },
   {
    "duration": 13,
    "start_time": "2024-06-15T19:13:58.801Z"
   },
   {
    "duration": 6701,
    "start_time": "2024-06-15T19:13:58.816Z"
   },
   {
    "duration": 93,
    "start_time": "2024-06-15T19:14:05.520Z"
   },
   {
    "duration": 24,
    "start_time": "2024-06-15T19:14:05.617Z"
   },
   {
    "duration": 171,
    "start_time": "2024-06-15T19:14:05.644Z"
   },
   {
    "duration": 233,
    "start_time": "2024-06-15T19:14:05.818Z"
   },
   {
    "duration": 7,
    "start_time": "2024-06-15T19:14:31.554Z"
   },
   {
    "duration": 5374,
    "start_time": "2024-06-15T19:16:18.549Z"
   },
   {
    "duration": 6633,
    "start_time": "2024-06-15T19:16:30.348Z"
   },
   {
    "duration": 4910,
    "start_time": "2024-06-15T19:16:43.763Z"
   },
   {
    "duration": 4140,
    "start_time": "2024-06-15T19:16:54.037Z"
   },
   {
    "duration": 77,
    "start_time": "2024-06-15T19:17:13.693Z"
   },
   {
    "duration": 79,
    "start_time": "2024-06-15T19:17:17.626Z"
   },
   {
    "duration": 82,
    "start_time": "2024-06-15T19:17:21.279Z"
   },
   {
    "duration": 59,
    "start_time": "2024-06-15T19:17:25.617Z"
   },
   {
    "duration": 64,
    "start_time": "2024-06-15T19:17:28.345Z"
   },
   {
    "duration": 73,
    "start_time": "2024-06-15T19:17:31.360Z"
   },
   {
    "duration": 69,
    "start_time": "2024-06-15T19:17:35.863Z"
   },
   {
    "duration": 69,
    "start_time": "2024-06-15T19:17:39.041Z"
   },
   {
    "duration": 74,
    "start_time": "2024-06-15T19:17:42.310Z"
   },
   {
    "duration": 75,
    "start_time": "2024-06-15T19:17:46.855Z"
   },
   {
    "duration": 77,
    "start_time": "2024-06-15T19:17:50.383Z"
   },
   {
    "duration": 79,
    "start_time": "2024-06-15T19:17:53.914Z"
   },
   {
    "duration": 72,
    "start_time": "2024-06-15T19:17:57.371Z"
   },
   {
    "duration": 6654,
    "start_time": "2024-06-15T19:18:08.978Z"
   },
   {
    "duration": 69,
    "start_time": "2024-06-15T19:18:25.615Z"
   },
   {
    "duration": 12,
    "start_time": "2024-06-15T19:19:50.064Z"
   },
   {
    "duration": 4,
    "start_time": "2024-06-15T19:21:32.634Z"
   },
   {
    "duration": 12,
    "start_time": "2024-06-15T19:21:39.847Z"
   },
   {
    "duration": 6,
    "start_time": "2024-06-15T19:23:19.779Z"
   },
   {
    "duration": 2991,
    "start_time": "2024-06-15T19:25:41.563Z"
   },
   {
    "duration": 4044,
    "start_time": "2024-06-15T19:25:48.221Z"
   },
   {
    "duration": 4384,
    "start_time": "2024-06-15T19:25:55.319Z"
   },
   {
    "duration": 4937,
    "start_time": "2024-06-15T19:26:02.744Z"
   },
   {
    "duration": 5453,
    "start_time": "2024-06-15T19:26:17.907Z"
   },
   {
    "duration": 6293,
    "start_time": "2024-06-15T19:26:28.546Z"
   },
   {
    "duration": 5905,
    "start_time": "2024-06-15T19:26:38.450Z"
   },
   {
    "duration": 6200,
    "start_time": "2024-06-15T19:26:49.284Z"
   },
   {
    "duration": 23,
    "start_time": "2024-06-15T19:27:01.165Z"
   },
   {
    "duration": 1245,
    "start_time": "2024-06-15T20:13:03.539Z"
   },
   {
    "duration": 20,
    "start_time": "2024-06-15T20:13:04.788Z"
   },
   {
    "duration": 22,
    "start_time": "2024-06-15T20:13:04.811Z"
   },
   {
    "duration": 19,
    "start_time": "2024-06-15T20:13:04.836Z"
   },
   {
    "duration": 6,
    "start_time": "2024-06-15T20:13:04.859Z"
   },
   {
    "duration": 5,
    "start_time": "2024-06-15T20:13:04.869Z"
   },
   {
    "duration": 55,
    "start_time": "2024-06-15T20:13:04.877Z"
   },
   {
    "duration": 5987,
    "start_time": "2024-06-15T20:13:04.936Z"
   },
   {
    "duration": 16,
    "start_time": "2024-06-15T20:13:10.934Z"
   },
   {
    "duration": 25,
    "start_time": "2024-06-15T20:13:10.952Z"
   },
   {
    "duration": 172,
    "start_time": "2024-06-15T20:13:10.980Z"
   },
   {
    "duration": 8,
    "start_time": "2024-06-15T20:13:11.155Z"
   }
  ],
  "kernelspec": {
   "display_name": "Python 3 (ipykernel)",
   "language": "python",
   "name": "python3"
  },
  "language_info": {
   "codemirror_mode": {
    "name": "ipython",
    "version": 3
   },
   "file_extension": ".py",
   "mimetype": "text/x-python",
   "name": "python",
   "nbconvert_exporter": "python",
   "pygments_lexer": "ipython3",
   "version": "3.11.7"
  },
  "toc": {
   "base_numbering": 1,
   "nav_menu": {},
   "number_sections": true,
   "sideBar": true,
   "skip_h1_title": true,
   "title_cell": "Table of Contents",
   "title_sidebar": "Contents",
   "toc_cell": false,
   "toc_position": {},
   "toc_section_display": true,
   "toc_window_display": true
  }
 },
 "nbformat": 4,
 "nbformat_minor": 4
}
