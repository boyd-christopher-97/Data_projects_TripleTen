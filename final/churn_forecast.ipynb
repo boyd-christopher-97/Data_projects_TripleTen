{
 "cells": [
  {
   "cell_type": "markdown",
   "id": "3ab05ab1-6668-4eb6-a022-7bb7ee53ae8d",
   "metadata": {},
   "source": [
    "# Interconnect Churn Forecast"
   ]
  },
  {
   "cell_type": "markdown",
   "id": "eb9a1eac-bf9f-4796-a7fe-8372ab100914",
   "metadata": {},
   "source": [
    "The telecom operator Interconnect would like to be able to forecast their churn of clients. If it's discovered that a user is planning to leave, they will be offered promotional codes and special plan options. Interconnect's marketing team has collected some of their clientele's personal data, including information about their plans and contracts."
   ]
  },
  {
   "cell_type": "code",
   "execution_count": 1,
   "id": "9a9921aa-69d0-4e37-aff9-80366f4549fc",
   "metadata": {},
   "outputs": [],
   "source": [
    "import numpy as np\n",
    "import pandas as pd\n",
    "from sklearn.preprocessing import MaxAbsScaler\n",
    "import seaborn as sns\n",
    "import matplotlib.pyplot as plt\n",
    "from statsmodels.tsa.seasonal import seasonal_decompose\n",
    "import xgboost as xgb\n",
    "from sklearn.model_selection import GridSearchCV\n",
    "from sklearn.metrics import roc_auc_score, confusion_matrix\n",
    "from sklearn.model_selection import train_test_split"
   ]
  },
  {
   "cell_type": "code",
   "execution_count": 2,
   "id": "78499243-ec4f-484d-be8e-76d6c01c7480",
   "metadata": {},
   "outputs": [],
   "source": [
    "def check_duplicates(df):\n",
    "    # Check for any duplicate rows\n",
    "    duplicate_rows = df.duplicated().any()\n",
    "    # Check for duplicate customerIDs\n",
    "    duplicate_customerID = df['customerID'].duplicated().any()\n",
    "    print(f\"Duplicate rows: {duplicate_rows}, Duplicate customerID: {duplicate_customerID}\")"
   ]
  },
  {
   "cell_type": "markdown",
   "id": "3744d89b-abcd-478c-bef0-c654a2188d66",
   "metadata": {},
   "source": [
    "# Contract DF"
   ]
  },
  {
   "cell_type": "code",
   "execution_count": 3,
   "id": "a5c9356d-9331-44b5-9ea2-8c8eb6977a8a",
   "metadata": {},
   "outputs": [
    {
     "name": "stdout",
     "output_type": "stream",
     "text": [
      "Duplicate rows: False, Duplicate customerID: False\n"
     ]
    }
   ],
   "source": [
    "# File path on platform: /datasets/final_provider/\n",
    "contract = pd.read_csv('/datasets/final_provider/contract.csv')\n",
    "check_duplicates(contract)"
   ]
  },
  {
   "cell_type": "code",
   "execution_count": 4,
   "id": "34985c3d-4157-471d-bb30-bef07bbc684e",
   "metadata": {},
   "outputs": [
    {
     "name": "stdout",
     "output_type": "stream",
     "text": [
      "<class 'pandas.core.frame.DataFrame'>\n",
      "RangeIndex: 7043 entries, 0 to 7042\n",
      "Data columns (total 8 columns):\n",
      " #   Column            Non-Null Count  Dtype  \n",
      "---  ------            --------------  -----  \n",
      " 0   customerID        7043 non-null   object \n",
      " 1   BeginDate         7043 non-null   object \n",
      " 2   EndDate           7043 non-null   object \n",
      " 3   Type              7043 non-null   object \n",
      " 4   PaperlessBilling  7043 non-null   object \n",
      " 5   PaymentMethod     7043 non-null   object \n",
      " 6   MonthlyCharges    7043 non-null   float64\n",
      " 7   TotalCharges      7043 non-null   object \n",
      "dtypes: float64(1), object(7)\n",
      "memory usage: 440.3+ KB\n"
     ]
    }
   ],
   "source": [
    "contract.info()"
   ]
  },
  {
   "cell_type": "code",
   "execution_count": 5,
   "id": "b77b2794-5708-455f-9836-2b7bc8952565",
   "metadata": {},
   "outputs": [],
   "source": [
    "contract['BeginDate'] = pd.to_datetime(contract['BeginDate'], format='%Y-%m-%d')\n",
    "contract['Churn'] = np.where(contract['EndDate'] == 'No', 0, 1) #Assigns 1 if end date is met\n",
    "contract['EndDate'] = contract['EndDate'].replace('No', pd.NaT)\n",
    "# Convert valid 'EndDate' entries to datetime\n",
    "contract['EndDate'] = pd.to_datetime(contract['EndDate'], errors='coerce')\n",
    "\n",
    "contract['TotalCharges'] = pd.to_numeric(contract['TotalCharges'], errors='coerce')\n",
    "\n",
    "categorical_features = ['Type', 'PaperlessBilling', 'PaymentMethod']\n",
    "\n",
    "# One-hot encoding the categorical features and updating the original DataFrame\n",
    "contract = pd.get_dummies(contract, columns=categorical_features, drop_first=True)"
   ]
  },
  {
   "cell_type": "code",
   "execution_count": 6,
   "id": "f7d627af-7cb7-4511-a1f2-cf137695cb03",
   "metadata": {},
   "outputs": [
    {
     "data": {
      "text/html": [
       "<div>\n",
       "<style scoped>\n",
       "    .dataframe tbody tr th:only-of-type {\n",
       "        vertical-align: middle;\n",
       "    }\n",
       "\n",
       "    .dataframe tbody tr th {\n",
       "        vertical-align: top;\n",
       "    }\n",
       "\n",
       "    .dataframe thead th {\n",
       "        text-align: right;\n",
       "    }\n",
       "</style>\n",
       "<table border=\"1\" class=\"dataframe\">\n",
       "  <thead>\n",
       "    <tr style=\"text-align: right;\">\n",
       "      <th></th>\n",
       "      <th>customerID</th>\n",
       "      <th>BeginDate</th>\n",
       "      <th>EndDate</th>\n",
       "      <th>MonthlyCharges</th>\n",
       "      <th>TotalCharges</th>\n",
       "      <th>Churn</th>\n",
       "      <th>Type_One year</th>\n",
       "      <th>Type_Two year</th>\n",
       "      <th>PaperlessBilling_Yes</th>\n",
       "      <th>PaymentMethod_Credit card (automatic)</th>\n",
       "      <th>PaymentMethod_Electronic check</th>\n",
       "      <th>PaymentMethod_Mailed check</th>\n",
       "    </tr>\n",
       "  </thead>\n",
       "  <tbody>\n",
       "    <tr>\n",
       "      <th>0</th>\n",
       "      <td>7590-VHVEG</td>\n",
       "      <td>2020-01-01</td>\n",
       "      <td>NaT</td>\n",
       "      <td>29.85</td>\n",
       "      <td>29.85</td>\n",
       "      <td>0</td>\n",
       "      <td>0</td>\n",
       "      <td>0</td>\n",
       "      <td>1</td>\n",
       "      <td>0</td>\n",
       "      <td>1</td>\n",
       "      <td>0</td>\n",
       "    </tr>\n",
       "    <tr>\n",
       "      <th>1</th>\n",
       "      <td>5575-GNVDE</td>\n",
       "      <td>2017-04-01</td>\n",
       "      <td>NaT</td>\n",
       "      <td>56.95</td>\n",
       "      <td>1889.50</td>\n",
       "      <td>0</td>\n",
       "      <td>1</td>\n",
       "      <td>0</td>\n",
       "      <td>0</td>\n",
       "      <td>0</td>\n",
       "      <td>0</td>\n",
       "      <td>1</td>\n",
       "    </tr>\n",
       "    <tr>\n",
       "      <th>2</th>\n",
       "      <td>3668-QPYBK</td>\n",
       "      <td>2019-10-01</td>\n",
       "      <td>2019-12-01</td>\n",
       "      <td>53.85</td>\n",
       "      <td>108.15</td>\n",
       "      <td>1</td>\n",
       "      <td>0</td>\n",
       "      <td>0</td>\n",
       "      <td>1</td>\n",
       "      <td>0</td>\n",
       "      <td>0</td>\n",
       "      <td>1</td>\n",
       "    </tr>\n",
       "    <tr>\n",
       "      <th>3</th>\n",
       "      <td>7795-CFOCW</td>\n",
       "      <td>2016-05-01</td>\n",
       "      <td>NaT</td>\n",
       "      <td>42.30</td>\n",
       "      <td>1840.75</td>\n",
       "      <td>0</td>\n",
       "      <td>1</td>\n",
       "      <td>0</td>\n",
       "      <td>0</td>\n",
       "      <td>0</td>\n",
       "      <td>0</td>\n",
       "      <td>0</td>\n",
       "    </tr>\n",
       "    <tr>\n",
       "      <th>4</th>\n",
       "      <td>9237-HQITU</td>\n",
       "      <td>2019-09-01</td>\n",
       "      <td>2019-11-01</td>\n",
       "      <td>70.70</td>\n",
       "      <td>151.65</td>\n",
       "      <td>1</td>\n",
       "      <td>0</td>\n",
       "      <td>0</td>\n",
       "      <td>1</td>\n",
       "      <td>0</td>\n",
       "      <td>1</td>\n",
       "      <td>0</td>\n",
       "    </tr>\n",
       "  </tbody>\n",
       "</table>\n",
       "</div>"
      ],
      "text/plain": [
       "   customerID  BeginDate    EndDate  MonthlyCharges  TotalCharges  Churn  \\\n",
       "0  7590-VHVEG 2020-01-01        NaT           29.85         29.85      0   \n",
       "1  5575-GNVDE 2017-04-01        NaT           56.95       1889.50      0   \n",
       "2  3668-QPYBK 2019-10-01 2019-12-01           53.85        108.15      1   \n",
       "3  7795-CFOCW 2016-05-01        NaT           42.30       1840.75      0   \n",
       "4  9237-HQITU 2019-09-01 2019-11-01           70.70        151.65      1   \n",
       "\n",
       "   Type_One year  Type_Two year  PaperlessBilling_Yes  \\\n",
       "0              0              0                     1   \n",
       "1              1              0                     0   \n",
       "2              0              0                     1   \n",
       "3              1              0                     0   \n",
       "4              0              0                     1   \n",
       "\n",
       "   PaymentMethod_Credit card (automatic)  PaymentMethod_Electronic check  \\\n",
       "0                                      0                               1   \n",
       "1                                      0                               0   \n",
       "2                                      0                               0   \n",
       "3                                      0                               0   \n",
       "4                                      0                               1   \n",
       "\n",
       "   PaymentMethod_Mailed check  \n",
       "0                           0  \n",
       "1                           1  \n",
       "2                           1  \n",
       "3                           0  \n",
       "4                           0  "
      ]
     },
     "execution_count": 6,
     "metadata": {},
     "output_type": "execute_result"
    }
   ],
   "source": [
    "contract.head(5)"
   ]
  },
  {
   "cell_type": "code",
   "execution_count": 7,
   "id": "9a8748cc-bcb1-4744-adec-29029bdee3b5",
   "metadata": {},
   "outputs": [
    {
     "data": {
      "text/plain": [
       "0.2653698707936959"
      ]
     },
     "execution_count": 7,
     "metadata": {},
     "output_type": "execute_result"
    }
   ],
   "source": [
    "contract['Churn'].sum() / len(contract['Churn'])"
   ]
  },
  {
   "cell_type": "markdown",
   "id": "a1ff3441-d4d3-4cc9-a6e0-d1ee891d417f",
   "metadata": {},
   "source": [
    "* Data set is imbalanced\n",
    "* Boosting algorithms like XGBoost, LightGBM, and CatBoost work well with imbalanced data. "
   ]
  },
  {
   "cell_type": "code",
   "execution_count": 8,
   "id": "aca04264-9cab-4e5f-b3f1-c9e634c10d3d",
   "metadata": {},
   "outputs": [
    {
     "name": "stdout",
     "output_type": "stream",
     "text": [
      "<class 'pandas.core.frame.DataFrame'>\n",
      "RangeIndex: 7043 entries, 0 to 7042\n",
      "Data columns (total 12 columns):\n",
      " #   Column                                 Non-Null Count  Dtype         \n",
      "---  ------                                 --------------  -----         \n",
      " 0   customerID                             7043 non-null   object        \n",
      " 1   BeginDate                              7043 non-null   datetime64[ns]\n",
      " 2   EndDate                                1869 non-null   datetime64[ns]\n",
      " 3   MonthlyCharges                         7043 non-null   float64       \n",
      " 4   TotalCharges                           7032 non-null   float64       \n",
      " 5   Churn                                  7043 non-null   int64         \n",
      " 6   Type_One year                          7043 non-null   uint8         \n",
      " 7   Type_Two year                          7043 non-null   uint8         \n",
      " 8   PaperlessBilling_Yes                   7043 non-null   uint8         \n",
      " 9   PaymentMethod_Credit card (automatic)  7043 non-null   uint8         \n",
      " 10  PaymentMethod_Electronic check         7043 non-null   uint8         \n",
      " 11  PaymentMethod_Mailed check             7043 non-null   uint8         \n",
      "dtypes: datetime64[ns](2), float64(2), int64(1), object(1), uint8(6)\n",
      "memory usage: 371.5+ KB\n"
     ]
    }
   ],
   "source": [
    "contract.info()"
   ]
  },
  {
   "cell_type": "code",
   "execution_count": 9,
   "id": "510ddf7e-d1e6-4790-95ca-e11142518be0",
   "metadata": {},
   "outputs": [
    {
     "data": {
      "image/png": "[encoded data removed]",
      "text/plain": [
       "<Figure size 1200x600 with 2 Axes>"
      ]
     },
     "metadata": {},
     "output_type": "display_data"
    }
   ],
   "source": [
    "fig, axes = plt.subplots(1, 2, figsize=(12, 6))\n",
    "\n",
    "# Create a histogram on the first subplot\n",
    "sns.histplot(contract['MonthlyCharges'], ax=axes[0])\n",
    "axes[0].set_title(\"Histogram\")\n",
    "\n",
    "# Create a boxplot on the second subplot\n",
    "sns.boxplot(x=contract['MonthlyCharges'], ax=axes[1])\n",
    "axes[1].set_title(\"Boxplot\")\n",
    "\n",
    "# Display the plots\n",
    "plt.show()"
   ]
  },
  {
   "cell_type": "markdown",
   "id": "26207463-d4ba-4fd1-9ebf-e15b9dbe1997",
   "metadata": {},
   "source": [
    "* Most people pay within 0-30 per month\n",
    "* No noticable outliers"
   ]
  },
  {
   "cell_type": "code",
   "execution_count": 10,
   "id": "303e0f8d-13f8-480f-ac40-60430043ba2b",
   "metadata": {},
   "outputs": [
    {
     "data": {
      "image/png": "[encoded data removed]",
      "text/plain": [
       "<Figure size 1200x600 with 2 Axes>"
      ]
     },
     "metadata": {},
     "output_type": "display_data"
    }
   ],
   "source": [
    "fig, axes = plt.subplots(1, 2, figsize=(12, 6))\n",
    "\n",
    "# Create a histogram on the first subplot\n",
    "sns.histplot(contract['TotalCharges'], ax=axes[0])\n",
    "axes[0].set_title(\"Histogram\")\n",
    "\n",
    "# Create a boxplot on the second subplot\n",
    "sns.boxplot(x=contract['TotalCharges'], ax=axes[1])\n",
    "axes[1].set_title(\"Boxplot\")\n",
    "\n",
    "# Display the plots\n",
    "plt.show()"
   ]
  },
  {
   "cell_type": "markdown",
   "id": "d88797e5-05de-4591-ad7a-e13ae1bfd54e",
   "metadata": {},
   "source": [
    "* No noticable outliers"
   ]
  },
  {
   "cell_type": "code",
   "execution_count": 11,
   "id": "f37e8764-e535-48a1-acce-667725c316e3",
   "metadata": {},
   "outputs": [
    {
     "name": "stdout",
     "output_type": "stream",
     "text": [
      "Series([], dtype: float64)\n"
     ]
    }
   ],
   "source": [
    "bool_columns = contract.select_dtypes(include='bool')\n",
    "\n",
    "# Calculate the percentage of True values for each boolean column\n",
    "percentages = bool_columns.mean() * 100\n",
    "\n",
    "# Display the result\n",
    "print(percentages)"
   ]
  },
  {
   "cell_type": "markdown",
   "id": "f26fecab-81f8-45ae-8a2c-236cf749c585",
   "metadata": {},
   "source": [
    "# Internet DF"
   ]
  },
  {
   "cell_type": "code",
   "execution_count": 12,
   "id": "61c9a1ea-317a-4b0a-8b26-62d16adb4811",
   "metadata": {},
   "outputs": [
    {
     "name": "stdout",
     "output_type": "stream",
     "text": [
      "Duplicate rows: False, Duplicate customerID: False\n"
     ]
    }
   ],
   "source": [
    "internet = pd.read_csv('/datasets/final_provider/internet.csv')\n",
    "check_duplicates(internet)"
   ]
  },
  {
   "cell_type": "code",
   "execution_count": 13,
   "id": "be136836-a226-4e82-bac9-ea2a8a5a1933",
   "metadata": {},
   "outputs": [
    {
     "name": "stdout",
     "output_type": "stream",
     "text": [
      "<class 'pandas.core.frame.DataFrame'>\n",
      "RangeIndex: 5517 entries, 0 to 5516\n",
      "Data columns (total 8 columns):\n",
      " #   Column            Non-Null Count  Dtype \n",
      "---  ------            --------------  ----- \n",
      " 0   customerID        5517 non-null   object\n",
      " 1   InternetService   5517 non-null   object\n",
      " 2   OnlineSecurity    5517 non-null   object\n",
      " 3   OnlineBackup      5517 non-null   object\n",
      " 4   DeviceProtection  5517 non-null   object\n",
      " 5   TechSupport       5517 non-null   object\n",
      " 6   StreamingTV       5517 non-null   object\n",
      " 7   StreamingMovies   5517 non-null   object\n",
      "dtypes: object(8)\n",
      "memory usage: 344.9+ KB\n"
     ]
    }
   ],
   "source": [
    "internet.info()"
   ]
  },
  {
   "cell_type": "code",
   "execution_count": 14,
   "id": "77ee9ce0-20d6-4c59-a9ec-12308ed4289e",
   "metadata": {},
   "outputs": [
    {
     "name": "stdout",
     "output_type": "stream",
     "text": [
      "<class 'pandas.core.frame.DataFrame'>\n",
      "RangeIndex: 5517 entries, 0 to 5516\n",
      "Data columns (total 8 columns):\n",
      " #   Column                       Non-Null Count  Dtype \n",
      "---  ------                       --------------  ----- \n",
      " 0   customerID                   5517 non-null   object\n",
      " 1   InternetService_Fiber optic  5517 non-null   uint8 \n",
      " 2   OnlineSecurity_Yes           5517 non-null   uint8 \n",
      " 3   OnlineBackup_Yes             5517 non-null   uint8 \n",
      " 4   DeviceProtection_Yes         5517 non-null   uint8 \n",
      " 5   TechSupport_Yes              5517 non-null   uint8 \n",
      " 6   StreamingTV_Yes              5517 non-null   uint8 \n",
      " 7   StreamingMovies_Yes          5517 non-null   uint8 \n",
      "dtypes: object(1), uint8(7)\n",
      "memory usage: 80.9+ KB\n"
     ]
    }
   ],
   "source": [
    "categorical_features = ['InternetService', 'OnlineSecurity', 'OnlineBackup', 'DeviceProtection', 'TechSupport', 'StreamingTV', 'StreamingMovies'  ]\n",
    "\n",
    "# One-hot encoding the categorical features and updating the original DataFrame\n",
    "internet = pd.get_dummies(internet, columns=categorical_features, drop_first=True)\n",
    "internet.info()"
   ]
  },
  {
   "cell_type": "code",
   "execution_count": 15,
   "id": "80f3cd04-696b-483f-992f-32ccebcc40f7",
   "metadata": {},
   "outputs": [
    {
     "name": "stdout",
     "output_type": "stream",
     "text": [
      "Series([], dtype: float64)\n"
     ]
    }
   ],
   "source": [
    "bool_columns = internet.select_dtypes(include='bool')\n",
    "\n",
    "# Calculate the percentage of True values for each boolean column\n",
    "percentages = bool_columns.mean() * 100\n",
    "\n",
    "# Display the result\n",
    "print(percentages)"
   ]
  },
  {
   "cell_type": "markdown",
   "id": "749799b9-2af8-42a0-90ba-2595b5b360f1",
   "metadata": {},
   "source": [
    "# Personal DF"
   ]
  },
  {
   "cell_type": "code",
   "execution_count": 16,
   "id": "14808b88-4093-40fd-b13a-d5d1207a2f30",
   "metadata": {},
   "outputs": [
    {
     "name": "stdout",
     "output_type": "stream",
     "text": [
      "Duplicate rows: False, Duplicate customerID: False\n"
     ]
    }
   ],
   "source": [
    "personal = pd.read_csv('/datasets/final_provider/personal.csv')\n",
    "check_duplicates(internet)"
   ]
  },
  {
   "cell_type": "code",
   "execution_count": 17,
   "id": "64a2f650-8976-47de-8af7-61d2b85004c4",
   "metadata": {},
   "outputs": [
    {
     "name": "stdout",
     "output_type": "stream",
     "text": [
      "<class 'pandas.core.frame.DataFrame'>\n",
      "RangeIndex: 7043 entries, 0 to 7042\n",
      "Data columns (total 5 columns):\n",
      " #   Column         Non-Null Count  Dtype \n",
      "---  ------         --------------  ----- \n",
      " 0   customerID     7043 non-null   object\n",
      " 1   gender         7043 non-null   object\n",
      " 2   SeniorCitizen  7043 non-null   int64 \n",
      " 3   Partner        7043 non-null   object\n",
      " 4   Dependents     7043 non-null   object\n",
      "dtypes: int64(1), object(4)\n",
      "memory usage: 275.2+ KB\n"
     ]
    }
   ],
   "source": [
    "personal.info()"
   ]
  },
  {
   "cell_type": "code",
   "execution_count": 18,
   "id": "17572f71-0840-4379-8def-317852be2d7e",
   "metadata": {},
   "outputs": [
    {
     "name": "stdout",
     "output_type": "stream",
     "text": [
      "<class 'pandas.core.frame.DataFrame'>\n",
      "RangeIndex: 7043 entries, 0 to 7042\n",
      "Data columns (total 5 columns):\n",
      " #   Column           Non-Null Count  Dtype \n",
      "---  ------           --------------  ----- \n",
      " 0   customerID       7043 non-null   object\n",
      " 1   gender_Male      7043 non-null   uint8 \n",
      " 2   SeniorCitizen_1  7043 non-null   uint8 \n",
      " 3   Partner_Yes      7043 non-null   uint8 \n",
      " 4   Dependents_Yes   7043 non-null   uint8 \n",
      "dtypes: object(1), uint8(4)\n",
      "memory usage: 82.7+ KB\n"
     ]
    }
   ],
   "source": [
    "categorical_features = ['gender', 'SeniorCitizen', 'Partner', 'Dependents']\n",
    "\n",
    "# One-hot encoding the categorical features and updating the original DataFrame\n",
    "personal = pd.get_dummies(personal, columns=categorical_features, drop_first=True)\n",
    "personal.info()"
   ]
  },
  {
   "cell_type": "code",
   "execution_count": 19,
   "id": "9f49c6db-0f9d-48c9-913f-99b6b3219af3",
   "metadata": {},
   "outputs": [
    {
     "name": "stdout",
     "output_type": "stream",
     "text": [
      "Series([], dtype: float64)\n"
     ]
    }
   ],
   "source": [
    "bool_columns = personal.select_dtypes(include='bool')\n",
    "\n",
    "# Calculate the percentage of True values for each boolean column\n",
    "percentages = bool_columns.mean() * 100\n",
    "\n",
    "# Display the result\n",
    "print(percentages)"
   ]
  },
  {
   "cell_type": "markdown",
   "id": "13432504-3009-4247-b0f7-7ab61b0fe856",
   "metadata": {},
   "source": [
    "# Phone DF"
   ]
  },
  {
   "cell_type": "code",
   "execution_count": 20,
   "id": "4576add8-3094-4001-9e57-9ae4c4fa8514",
   "metadata": {},
   "outputs": [
    {
     "name": "stdout",
     "output_type": "stream",
     "text": [
      "Duplicate rows: False, Duplicate customerID: False\n"
     ]
    }
   ],
   "source": [
    "phone = pd.read_csv('/datasets/final_provider/phone.csv')\n",
    "check_duplicates(phone)"
   ]
  },
  {
   "cell_type": "code",
   "execution_count": 21,
   "id": "01966baa-5079-437f-bc65-88019828f0b0",
   "metadata": {},
   "outputs": [
    {
     "name": "stdout",
     "output_type": "stream",
     "text": [
      "<class 'pandas.core.frame.DataFrame'>\n",
      "RangeIndex: 6361 entries, 0 to 6360\n",
      "Data columns (total 2 columns):\n",
      " #   Column         Non-Null Count  Dtype \n",
      "---  ------         --------------  ----- \n",
      " 0   customerID     6361 non-null   object\n",
      " 1   MultipleLines  6361 non-null   object\n",
      "dtypes: object(2)\n",
      "memory usage: 99.5+ KB\n"
     ]
    }
   ],
   "source": [
    "phone.info()"
   ]
  },
  {
   "cell_type": "code",
   "execution_count": 22,
   "id": "b6886c27-0cb9-4ceb-aecb-cda7de14d32b",
   "metadata": {},
   "outputs": [
    {
     "name": "stdout",
     "output_type": "stream",
     "text": [
      "<class 'pandas.core.frame.DataFrame'>\n",
      "RangeIndex: 6361 entries, 0 to 6360\n",
      "Data columns (total 2 columns):\n",
      " #   Column             Non-Null Count  Dtype \n",
      "---  ------             --------------  ----- \n",
      " 0   customerID         6361 non-null   object\n",
      " 1   MultipleLines_Yes  6361 non-null   uint8 \n",
      "dtypes: object(1), uint8(1)\n",
      "memory usage: 56.0+ KB\n"
     ]
    }
   ],
   "source": [
    "phone = pd.get_dummies(phone, columns=['MultipleLines'], drop_first=True)\n",
    "phone.info()"
   ]
  },
  {
   "cell_type": "code",
   "execution_count": 23,
   "id": "f237003e-e25f-482e-8aee-4a48e338012b",
   "metadata": {},
   "outputs": [
    {
     "data": {
      "text/plain": [
       "0    53.293507\n",
       "1    46.706493\n",
       "Name: MultipleLines_Yes, dtype: float64"
      ]
     },
     "execution_count": 23,
     "metadata": {},
     "output_type": "execute_result"
    }
   ],
   "source": [
    "phone['MultipleLines_Yes'].value_counts(normalize=True) * 100"
   ]
  },
  {
   "cell_type": "markdown",
   "id": "faf9f1f1-978a-4682-b807-bf5136c97fbb",
   "metadata": {},
   "source": [
    "# Combined DF"
   ]
  },
  {
   "cell_type": "code",
   "execution_count": 24,
   "id": "44574d64-5a7e-4096-9a22-938ae941ac9b",
   "metadata": {},
   "outputs": [
    {
     "name": "stdout",
     "output_type": "stream",
     "text": [
      "   customerID  BeginDate    EndDate  MonthlyCharges  TotalCharges  Churn  \\\n",
      "0  7590-VHVEG 2020-01-01        NaT           29.85         29.85      0   \n",
      "1  5575-GNVDE 2017-04-01        NaT           56.95       1889.50      0   \n",
      "2  3668-QPYBK 2019-10-01 2019-12-01           53.85        108.15      1   \n",
      "3  7795-CFOCW 2016-05-01        NaT           42.30       1840.75      0   \n",
      "4  9237-HQITU 2019-09-01 2019-11-01           70.70        151.65      1   \n",
      "\n",
      "   Type_One year  Type_Two year  PaperlessBilling_Yes  \\\n",
      "0              0              0                     1   \n",
      "1              1              0                     0   \n",
      "2              0              0                     1   \n",
      "3              1              0                     0   \n",
      "4              0              0                     1   \n",
      "\n",
      "   PaymentMethod_Credit card (automatic)  ...  OnlineBackup_Yes  \\\n",
      "0                                      0  ...               1.0   \n",
      "1                                      0  ...               0.0   \n",
      "2                                      0  ...               1.0   \n",
      "3                                      0  ...               0.0   \n",
      "4                                      0  ...               0.0   \n",
      "\n",
      "   DeviceProtection_Yes  TechSupport_Yes  StreamingTV_Yes  \\\n",
      "0                   0.0              0.0              0.0   \n",
      "1                   1.0              0.0              0.0   \n",
      "2                   0.0              0.0              0.0   \n",
      "3                   1.0              1.0              0.0   \n",
      "4                   0.0              0.0              0.0   \n",
      "\n",
      "   StreamingMovies_Yes  gender_Male  SeniorCitizen_1  Partner_Yes  \\\n",
      "0                  0.0            0                0            1   \n",
      "1                  0.0            1                0            0   \n",
      "2                  0.0            1                0            0   \n",
      "3                  0.0            1                0            0   \n",
      "4                  0.0            0                0            0   \n",
      "\n",
      "   Dependents_Yes  MultipleLines_Yes  \n",
      "0               0                NaN  \n",
      "1               0                0.0  \n",
      "2               0                0.0  \n",
      "3               0                NaN  \n",
      "4               0                0.0  \n",
      "\n",
      "[5 rows x 24 columns]\n"
     ]
    }
   ],
   "source": [
    "# Merging the DataFrames based on 'customerID'\n",
    "combined_df = contract.merge(internet, on='customerID', how='left')\\\n",
    "                 .merge(personal, on='customerID', how='left')\\\n",
    "                 .merge(phone, on='customerID', how='left')\n",
    "\n",
    "# Display the combined DataFrame\n",
    "print(combined_df.head())"
   ]
  },
  {
   "cell_type": "code",
   "execution_count": 25,
   "id": "7174b3fc-82f3-49a2-9e29-973f21cb97ab",
   "metadata": {},
   "outputs": [
    {
     "name": "stdout",
     "output_type": "stream",
     "text": [
      "<class 'pandas.core.frame.DataFrame'>\n",
      "Int64Index: 7043 entries, 0 to 7042\n",
      "Data columns (total 24 columns):\n",
      " #   Column                                 Non-Null Count  Dtype         \n",
      "---  ------                                 --------------  -----         \n",
      " 0   customerID                             7043 non-null   object        \n",
      " 1   BeginDate                              7043 non-null   datetime64[ns]\n",
      " 2   EndDate                                1869 non-null   datetime64[ns]\n",
      " 3   MonthlyCharges                         7043 non-null   float64       \n",
      " 4   TotalCharges                           7032 non-null   float64       \n",
      " 5   Churn                                  7043 non-null   int64         \n",
      " 6   Type_One year                          7043 non-null   uint8         \n",
      " 7   Type_Two year                          7043 non-null   uint8         \n",
      " 8   PaperlessBilling_Yes                   7043 non-null   uint8         \n",
      " 9   PaymentMethod_Credit card (automatic)  7043 non-null   uint8         \n",
      " 10  PaymentMethod_Electronic check         7043 non-null   uint8         \n",
      " 11  PaymentMethod_Mailed check             7043 non-null   uint8         \n",
      " 12  InternetService_Fiber optic            5517 non-null   float64       \n",
      " 13  OnlineSecurity_Yes                     5517 non-null   float64       \n",
      " 14  OnlineBackup_Yes                       5517 non-null   float64       \n",
      " 15  DeviceProtection_Yes                   5517 non-null   float64       \n",
      " 16  TechSupport_Yes                        5517 non-null   float64       \n",
      " 17  StreamingTV_Yes                        5517 non-null   float64       \n",
      " 18  StreamingMovies_Yes                    5517 non-null   float64       \n",
      " 19  gender_Male                            7043 non-null   uint8         \n",
      " 20  SeniorCitizen_1                        7043 non-null   uint8         \n",
      " 21  Partner_Yes                            7043 non-null   uint8         \n",
      " 22  Dependents_Yes                         7043 non-null   uint8         \n",
      " 23  MultipleLines_Yes                      6361 non-null   float64       \n",
      "dtypes: datetime64[ns](2), float64(10), int64(1), object(1), uint8(10)\n",
      "memory usage: 894.1+ KB\n"
     ]
    }
   ],
   "source": [
    "combined_df.info()"
   ]
  },
  {
   "cell_type": "code",
   "execution_count": 26,
   "id": "1e05b984-11a9-45ee-a510-abaaa4813110",
   "metadata": {},
   "outputs": [],
   "source": [
    "object_columns = ['OnlineSecurity_Yes', 'OnlineBackup_Yes', 'DeviceProtection_Yes', 'TechSupport_Yes', 'StreamingTV_Yes', 'StreamingMovies_Yes', 'MultipleLines_Yes', 'InternetService_Fiber optic']\n",
    "combined_df[object_columns] = combined_df[object_columns].replace({'True': True, 'False': False}).astype(bool)"
   ]
  },
  {
   "cell_type": "markdown",
   "id": "484997da-1b09-4dcd-9303-22ae93c30e66",
   "metadata": {},
   "source": [
    "# Checking for Seasonality"
   ]
  },
  {
   "cell_type": "code",
   "execution_count": 27,
   "id": "c67f97ed-de0b-40ec-b8a4-26185fa2df17",
   "metadata": {},
   "outputs": [
    {
     "name": "stdout",
     "output_type": "stream",
     "text": [
      "Date range in the dataset is from 2013-10-01 00:00:00 to 2020-02-01 00:00:00\n"
     ]
    }
   ],
   "source": [
    "min_date = combined_df['BeginDate'].min()\n",
    "max_date = combined_df['BeginDate'].max()\n",
    "\n",
    "print(f\"Date range in the dataset is from {min_date} to {max_date}\")"
   ]
  },
  {
   "cell_type": "code",
   "execution_count": 28,
   "id": "433b7f70-1178-4b1f-8480-7b054cacc436",
   "metadata": {},
   "outputs": [
    {
     "data": {
      "image/png": "[encoded data removed]",
      "text/plain": [
       "<Figure size 640x480 with 1 Axes>"
      ]
     },
     "metadata": {},
     "output_type": "display_data"
    }
   ],
   "source": [
    "df = combined_df.set_index('BeginDate')\n",
    "\n",
    "# Resample the data to monthly frequency, summing up 'MonthlyCharges'\n",
    "df_resampled = df['MonthlyCharges'].resample('1M').sum()\n",
    "\n",
    "# Perform seasonal decomposition on the resampled data\n",
    "decomposed = seasonal_decompose(df_resampled, model='additive', period=12)  # Period of 12 for yearly seasonality\n",
    "\n",
    "# Plot the seasonal component for a specific date range\n",
    "decomposed.seasonal.plot()\n",
    "\n",
    "# Show the plot\n",
    "plt.title('Seasonal Component of Monthly Charges (Monthly Resampled)')\n",
    "plt.show()"
   ]
  },
  {
   "cell_type": "markdown",
   "id": "46a8f035-b96e-48d3-8644-ab75bcfebb5a",
   "metadata": {},
   "source": [
    "* Seasonality exists\n",
    "* Add features to aid with boosting methods"
   ]
  },
  {
   "cell_type": "code",
   "execution_count": 29,
   "id": "c20052c4-e87d-4e9e-b874-abc1ed85b433",
   "metadata": {},
   "outputs": [],
   "source": [
    "max_date = max(contract['BeginDate'].max(), contract['EndDate'].max())\n",
    "\n",
    "# Fill missing 'EndDate' values with the maximum date\n",
    "combined_df['EndDate'].fillna(max_date, inplace=True)\n",
    "# Calculate total days active (using max_date if EndDate is missing)\n",
    "combined_df['days_active'] = (combined_df['EndDate'].fillna(max_date) - combined_df['BeginDate']).dt.days\n",
    "# Calculate months active\n",
    "combined_df['months_active'] = combined_df['days_active'] // 30  # Approximate to months\n",
    "combined_df = combined_df.drop(columns=['EndDate'])"
   ]
  },
  {
   "cell_type": "code",
   "execution_count": 30,
   "id": "592a2062-3049-4892-983d-56dbd017bd43",
   "metadata": {},
   "outputs": [
    {
     "name": "stdout",
     "output_type": "stream",
     "text": [
      "<class 'pandas.core.frame.DataFrame'>\n",
      "Int64Index: 7043 entries, 0 to 7042\n",
      "Data columns (total 25 columns):\n",
      " #   Column                                 Non-Null Count  Dtype         \n",
      "---  ------                                 --------------  -----         \n",
      " 0   customerID                             7043 non-null   object        \n",
      " 1   BeginDate                              7043 non-null   datetime64[ns]\n",
      " 2   MonthlyCharges                         7043 non-null   float64       \n",
      " 3   TotalCharges                           7032 non-null   float64       \n",
      " 4   Churn                                  7043 non-null   int64         \n",
      " 5   Type_One year                          7043 non-null   uint8         \n",
      " 6   Type_Two year                          7043 non-null   uint8         \n",
      " 7   PaperlessBilling_Yes                   7043 non-null   uint8         \n",
      " 8   PaymentMethod_Credit card (automatic)  7043 non-null   uint8         \n",
      " 9   PaymentMethod_Electronic check         7043 non-null   uint8         \n",
      " 10  PaymentMethod_Mailed check             7043 non-null   uint8         \n",
      " 11  InternetService_Fiber optic            7043 non-null   bool          \n",
      " 12  OnlineSecurity_Yes                     7043 non-null   bool          \n",
      " 13  OnlineBackup_Yes                       7043 non-null   bool          \n",
      " 14  DeviceProtection_Yes                   7043 non-null   bool          \n",
      " 15  TechSupport_Yes                        7043 non-null   bool          \n",
      " 16  StreamingTV_Yes                        7043 non-null   bool          \n",
      " 17  StreamingMovies_Yes                    7043 non-null   bool          \n",
      " 18  gender_Male                            7043 non-null   uint8         \n",
      " 19  SeniorCitizen_1                        7043 non-null   uint8         \n",
      " 20  Partner_Yes                            7043 non-null   uint8         \n",
      " 21  Dependents_Yes                         7043 non-null   uint8         \n",
      " 22  MultipleLines_Yes                      7043 non-null   bool          \n",
      " 23  days_active                            7043 non-null   int64         \n",
      " 24  months_active                          7043 non-null   int64         \n",
      "dtypes: bool(8), datetime64[ns](1), float64(2), int64(3), object(1), uint8(10)\n",
      "memory usage: 564.0+ KB\n"
     ]
    }
   ],
   "source": [
    "combined_df.info()"
   ]
  },
  {
   "cell_type": "markdown",
   "id": "13029e41-8a5a-4479-ad09-5fbdaf6bbd34",
   "metadata": {},
   "source": [
    "# Proposed Work Plan: \n",
    "1. Download Data\n",
    "2. Explore Data\n",
    "   * The dataset contains 7043 entries, with 26.5% of the entries representing customers who have churned (indicating class imbalance).\n",
    "   * Outliers are not present in the data set and data set data types have been adjusted for modeling.\n",
    "   * All seperate dataframes have been combined into one and features have been added. Specifically, begin date and end date columns have been modified\n",
    "     in order to aid the model in identifying whether or not a customer is likely to churn.\n",
    "3. Apply machine learning models such as XGBoost, LightGBM, and CatBoost to predict customer churn.\n",
    "4. Tune model hyperparameters using methods such as grid search or random search to optimize performance.\n",
    "   * Modify or add features to improve the model's performance and aim to achieve an AUC-ROC score of ≥ 0.88.\n",
    "5. Successfully identify whether a customer is likely to churn.\n",
    "   * Use model predictions to inform business decisions, such as offering promotional codes or special plan options. "
   ]
  },
  {
   "cell_type": "markdown",
   "id": "c41bbb05-e36d-4ccb-8edd-3e56ffc87a47",
   "metadata": {},
   "source": [
    "# Solution Code"
   ]
  },
  {
   "cell_type": "code",
   "execution_count": 33,
   "id": "90a64b8f-e4f6-447f-abb6-4690d0a871d1",
   "metadata": {
    "scrolled": true
   },
   "outputs": [],
   "source": [
    "features = combined_df.drop(columns=['Churn', 'customerID', 'BeginDate'])  # Features\n",
    "target = combined_df['Churn']                 # Target\n",
    "X_train, X_test, y_train, y_test = train_test_split(features, target, test_size=0.2, random_state=12345)"
   ]
  },
  {
   "cell_type": "code",
   "execution_count": 34,
   "id": "f3d8bc5a-c97b-428d-a6df-4e8706e432c6",
   "metadata": {},
   "outputs": [
    {
     "name": "stdout",
     "output_type": "stream",
     "text": [
      "Fitting 3 folds for each of 32 candidates, totalling 96 fits\n",
      "Best parameters found:  {'colsample_bytree': 1, 'learning_rate': 0.1, 'max_depth': 6, 'n_estimators': 200, 'subsample': 1}\n",
      "Best ROC AUC score:  0.887950496622879\n",
      "Confusion Matrix:\n",
      "[[977  53]\n",
      " [136 243]]\n",
      "Test ROC AUC: 0.9018\n"
     ]
    }
   ],
   "source": [
    "from sklearn.metrics import confusion_matrix, roc_auc_score\n",
    "\n",
    "# Define the parameter grid\n",
    "param_grid = {\n",
    "    'learning_rate': [0.01, 0.1],\n",
    "    'max_depth': [3, 6],\n",
    "    'n_estimators': [100, 200],\n",
    "    'colsample_bytree': [0.7, 1],\n",
    "    'subsample': [0.8, 1],\n",
    "}\n",
    "\n",
    "# Create the model\n",
    "xgb_model = xgb.XGBClassifier(use_label_encoder=False, eval_metric='auc')\n",
    "\n",
    "# GridSearchCV\n",
    "grid_search = GridSearchCV(\n",
    "    estimator=xgb_model,\n",
    "    param_grid=param_grid,\n",
    "    scoring='roc_auc',\n",
    "    cv=3,\n",
    "    verbose=1,\n",
    "    n_jobs=-1\n",
    ")\n",
    "\n",
    "# Fit GridSearchCV\n",
    "grid_search.fit(X_train, y_train)\n",
    "\n",
    "# Print best parameters\n",
    "print(\"Best parameters found: \", grid_search.best_params_)\n",
    "print(\"Best ROC AUC score: \", grid_search.best_score_)\n",
    "\n",
    "# Use the best model for prediction\n",
    "best_model = grid_search.best_estimator_\n",
    "y_pred_prob = best_model.predict_proba(X_test)[:, 1]\n",
    "\n",
    "# Convert probabilities to binary predictions (0 or 1)\n",
    "y_pred = [1 if prob > 0.5 else 0 for prob in y_pred_prob]\n",
    "\n",
    "# Calculate confusion matrix\n",
    "conf_matrix = confusion_matrix(y_test, y_pred)\n",
    "print(\"Confusion Matrix:\")\n",
    "print(conf_matrix)\n",
    "\n",
    "# Calculate ROC AUC score on test data\n",
    "roc_auc = roc_auc_score(y_test, y_pred_prob)\n",
    "print(f'Test ROC AUC: {roc_auc:.4f}')"
   ]
  },
  {
   "cell_type": "markdown",
   "id": "7e5f5832",
   "metadata": {},
   "source": [
    "1. What steps of the plan were performed and what steps were skipped (explain why)?\n",
    "* All steps of the plan were performed, including data preprocessing, feature engineering, model selection, hyperparameter tuning, and evaluation. No steps were skipped\n",
    "2. What difficulties did you encounter and how did you manage to solve them?\n",
    "* The only difficulty I encountered was target leakage and I dropped the begindate column and included the days_active param and  months_active.\n",
    "3. What were some of the key steps to solving the task?\n",
    "* Feature engineering and one hot encoding are key steps and allowed me to reach a high ROC AUC score. \n",
    "4. What is your final model and what quality score does it have?\n",
    "* The final model is XGBoost, which was optimized using GridSearchCV over 3 folds. The best parameters found were: colsample_bytree: 1, learning_rate: 0.1, max_depth: 6, n_estimators: 200, and subsample: 1. Test ROC AUC came in at 90%. "
   ]
  }
 ],
 "metadata": {
  "ExecuteTimeLog": [
   {
    "duration": 2723,
    "start_time": "2024-09-17T19:39:30.767Z"
   },
   {
    "duration": 3,
    "start_time": "2024-09-17T19:39:33.492Z"
   },
   {
    "duration": 579,
    "start_time": "2024-09-17T19:39:33.497Z"
   },
   {
    "duration": 0,
    "start_time": "2024-09-17T19:39:34.079Z"
   },
   {
    "duration": 0,
    "start_time": "2024-09-17T19:39:34.080Z"
   },
   {
    "duration": 0,
    "start_time": "2024-09-17T19:39:34.082Z"
   },
   {
    "duration": 0,
    "start_time": "2024-09-17T19:39:34.083Z"
   },
   {
    "duration": 0,
    "start_time": "2024-09-17T19:39:34.084Z"
   },
   {
    "duration": 0,
    "start_time": "2024-09-17T19:39:34.085Z"
   },
   {
    "duration": 0,
    "start_time": "2024-09-17T19:39:34.086Z"
   },
   {
    "duration": 0,
    "start_time": "2024-09-17T19:39:34.087Z"
   },
   {
    "duration": 0,
    "start_time": "2024-09-17T19:39:34.088Z"
   },
   {
    "duration": 0,
    "start_time": "2024-09-17T19:39:34.089Z"
   },
   {
    "duration": 0,
    "start_time": "2024-09-17T19:39:34.090Z"
   },
   {
    "duration": 0,
    "start_time": "2024-09-17T19:39:34.092Z"
   },
   {
    "duration": 0,
    "start_time": "2024-09-17T19:39:34.093Z"
   },
   {
    "duration": 0,
    "start_time": "2024-09-17T19:39:34.094Z"
   },
   {
    "duration": 0,
    "start_time": "2024-09-17T19:39:34.095Z"
   },
   {
    "duration": 0,
    "start_time": "2024-09-17T19:39:34.097Z"
   },
   {
    "duration": 0,
    "start_time": "2024-09-17T19:39:34.098Z"
   },
   {
    "duration": 0,
    "start_time": "2024-09-17T19:39:34.099Z"
   },
   {
    "duration": 0,
    "start_time": "2024-09-17T19:39:34.101Z"
   },
   {
    "duration": 0,
    "start_time": "2024-09-17T19:39:34.103Z"
   },
   {
    "duration": 0,
    "start_time": "2024-09-17T19:39:34.104Z"
   },
   {
    "duration": 0,
    "start_time": "2024-09-17T19:39:34.106Z"
   },
   {
    "duration": 0,
    "start_time": "2024-09-17T19:39:34.107Z"
   },
   {
    "duration": 0,
    "start_time": "2024-09-17T19:39:34.109Z"
   },
   {
    "duration": 0,
    "start_time": "2024-09-17T19:39:34.111Z"
   },
   {
    "duration": 0,
    "start_time": "2024-09-17T19:39:34.112Z"
   },
   {
    "duration": 0,
    "start_time": "2024-09-17T19:39:34.114Z"
   },
   {
    "duration": 0,
    "start_time": "2024-09-17T19:39:34.170Z"
   },
   {
    "duration": 0,
    "start_time": "2024-09-17T19:39:34.172Z"
   },
   {
    "duration": 26,
    "start_time": "2024-09-17T19:40:18.063Z"
   },
   {
    "duration": 974,
    "start_time": "2024-09-17T19:40:42.563Z"
   },
   {
    "duration": 3,
    "start_time": "2024-09-17T19:40:43.539Z"
   },
   {
    "duration": 28,
    "start_time": "2024-09-17T19:40:43.543Z"
   },
   {
    "duration": 10,
    "start_time": "2024-09-17T19:40:43.573Z"
   },
   {
    "duration": 14,
    "start_time": "2024-09-17T19:40:43.586Z"
   },
   {
    "duration": 10,
    "start_time": "2024-09-17T19:40:43.602Z"
   },
   {
    "duration": 4,
    "start_time": "2024-09-17T19:40:43.614Z"
   },
   {
    "duration": 9,
    "start_time": "2024-09-17T19:40:43.620Z"
   },
   {
    "duration": 232,
    "start_time": "2024-09-17T19:40:43.631Z"
   },
   {
    "duration": 205,
    "start_time": "2024-09-17T19:40:43.869Z"
   },
   {
    "duration": 6,
    "start_time": "2024-09-17T19:40:44.076Z"
   },
   {
    "duration": 17,
    "start_time": "2024-09-17T19:40:44.083Z"
   },
   {
    "duration": 10,
    "start_time": "2024-09-17T19:40:44.102Z"
   },
   {
    "duration": 17,
    "start_time": "2024-09-17T19:40:44.116Z"
   },
   {
    "duration": 34,
    "start_time": "2024-09-17T19:40:44.137Z"
   },
   {
    "duration": 14,
    "start_time": "2024-09-17T19:40:44.173Z"
   },
   {
    "duration": 10,
    "start_time": "2024-09-17T19:40:44.188Z"
   },
   {
    "duration": 13,
    "start_time": "2024-09-17T19:40:44.199Z"
   },
   {
    "duration": 5,
    "start_time": "2024-09-17T19:40:44.213Z"
   },
   {
    "duration": 11,
    "start_time": "2024-09-17T19:40:44.220Z"
   },
   {
    "duration": 37,
    "start_time": "2024-09-17T19:40:44.233Z"
   },
   {
    "duration": 10,
    "start_time": "2024-09-17T19:40:44.272Z"
   },
   {
    "duration": 5,
    "start_time": "2024-09-17T19:40:44.284Z"
   },
   {
    "duration": 21,
    "start_time": "2024-09-17T19:40:44.290Z"
   },
   {
    "duration": 10,
    "start_time": "2024-09-17T19:40:44.313Z"
   },
   {
    "duration": 6,
    "start_time": "2024-09-17T19:40:44.324Z"
   },
   {
    "duration": 4,
    "start_time": "2024-09-17T19:40:44.331Z"
   },
   {
    "duration": 204,
    "start_time": "2024-09-17T19:40:44.371Z"
   },
   {
    "duration": 8,
    "start_time": "2024-09-17T19:40:44.577Z"
   },
   {
    "duration": 10,
    "start_time": "2024-09-17T19:40:44.587Z"
   },
   {
    "duration": 6,
    "start_time": "2024-09-17T19:40:44.598Z"
   },
   {
    "duration": 978,
    "start_time": "2024-09-17T19:40:44.606Z"
   },
   {
    "duration": 6,
    "start_time": "2024-09-17T19:41:19.023Z"
   },
   {
    "duration": 170133,
    "start_time": "2024-09-17T19:41:20.239Z"
   }
  ],
  "kernelspec": {
   "display_name": "Python 3 (ipykernel)",
   "language": "python",
   "name": "python3"
  },
  "language_info": {
   "codemirror_mode": {
    "name": "ipython",
    "version": 3
   },
   "file_extension": ".py",
   "mimetype": "text/x-python",
   "name": "python",
   "nbconvert_exporter": "python",
   "pygments_lexer": "ipython3",
   "version": "3.11.7"
  },
  "toc": {
   "base_numbering": 1,
   "nav_menu": {},
   "number_sections": true,
   "sideBar": true,
   "skip_h1_title": true,
   "title_cell": "Table of Contents",
   "title_sidebar": "Contents",
   "toc_cell": false,
   "toc_position": {},
   "toc_section_display": true,
   "toc_window_display": false
  }
 },
 "nbformat": 4,
 "nbformat_minor": 5
}
